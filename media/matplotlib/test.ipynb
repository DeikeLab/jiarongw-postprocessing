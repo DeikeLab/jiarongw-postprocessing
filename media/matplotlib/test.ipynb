{
 "cells": [
  {
   "cell_type": "code",
   "execution_count": 1,
   "metadata": {},
   "outputs": [
    {
     "data": {
      "text/html": [
       "<div style='column-count: 2;'><p>Andale Mono: <span style='font-family:Andale Mono; font-size: 24px;'>Andale Mono</p>\n",
       "<p>Arial: <span style='font-family:Arial; font-size: 24px;'>Arial</p>\n",
       "<p>Arial Black: <span style='font-family:Arial Black; font-size: 24px;'>Arial Black</p>\n",
       "<p>Comic Sans MS: <span style='font-family:Comic Sans MS; font-size: 24px;'>Comic Sans MS</p>\n",
       "<p>Courier New: <span style='font-family:Courier New; font-size: 24px;'>Courier New</p>\n",
       "<p>DejaVu Sans: <span style='font-family:DejaVu Sans; font-size: 24px;'>DejaVu Sans</p>\n",
       "<p>DejaVu Sans Display: <span style='font-family:DejaVu Sans Display; font-size: 24px;'>DejaVu Sans Display</p>\n",
       "<p>DejaVu Sans Mono: <span style='font-family:DejaVu Sans Mono; font-size: 24px;'>DejaVu Sans Mono</p>\n",
       "<p>DejaVu Serif: <span style='font-family:DejaVu Serif; font-size: 24px;'>DejaVu Serif</p>\n",
       "<p>DejaVu Serif Display: <span style='font-family:DejaVu Serif Display; font-size: 24px;'>DejaVu Serif Display</p>\n",
       "<p>Georgia: <span style='font-family:Georgia; font-size: 24px;'>Georgia</p>\n",
       "<p>Impact: <span style='font-family:Impact; font-size: 24px;'>Impact</p>\n",
       "<p>STIXGeneral: <span style='font-family:STIXGeneral; font-size: 24px;'>STIXGeneral</p>\n",
       "<p>STIXNonUnicode: <span style='font-family:STIXNonUnicode; font-size: 24px;'>STIXNonUnicode</p>\n",
       "<p>STIXSizeFiveSym: <span style='font-family:STIXSizeFiveSym; font-size: 24px;'>STIXSizeFiveSym</p>\n",
       "<p>STIXSizeFourSym: <span style='font-family:STIXSizeFourSym; font-size: 24px;'>STIXSizeFourSym</p>\n",
       "<p>STIXSizeOneSym: <span style='font-family:STIXSizeOneSym; font-size: 24px;'>STIXSizeOneSym</p>\n",
       "<p>STIXSizeThreeSym: <span style='font-family:STIXSizeThreeSym; font-size: 24px;'>STIXSizeThreeSym</p>\n",
       "<p>STIXSizeTwoSym: <span style='font-family:STIXSizeTwoSym; font-size: 24px;'>STIXSizeTwoSym</p>\n",
       "<p>Times New Roman: <span style='font-family:Times New Roman; font-size: 24px;'>Times New Roman</p>\n",
       "<p>Trebuchet MS: <span style='font-family:Trebuchet MS; font-size: 24px;'>Trebuchet MS</p>\n",
       "<p>Verdana: <span style='font-family:Verdana; font-size: 24px;'>Verdana</p>\n",
       "<p>Webdings: <span style='font-family:Webdings; font-size: 24px;'>Webdings</p>\n",
       "<p>cmb10: <span style='font-family:cmb10; font-size: 24px;'>cmb10</p>\n",
       "<p>cmex10: <span style='font-family:cmex10; font-size: 24px;'>cmex10</p>\n",
       "<p>cmmi10: <span style='font-family:cmmi10; font-size: 24px;'>cmmi10</p>\n",
       "<p>cmr10: <span style='font-family:cmr10; font-size: 24px;'>cmr10</p>\n",
       "<p>cmss10: <span style='font-family:cmss10; font-size: 24px;'>cmss10</p>\n",
       "<p>cmsy10: <span style='font-family:cmsy10; font-size: 24px;'>cmsy10</p>\n",
       "<p>cmtt10: <span style='font-family:cmtt10; font-size: 24px;'>cmtt10</p>\n",
       "<p>esint10: <span style='font-family:esint10; font-size: 24px;'>esint10</p>\n",
       "<p>eufm10: <span style='font-family:eufm10; font-size: 24px;'>eufm10</p>\n",
       "<p>msam10: <span style='font-family:msam10; font-size: 24px;'>msam10</p>\n",
       "<p>msbm10: <span style='font-family:msbm10; font-size: 24px;'>msbm10</p>\n",
       "<p>rsfs10: <span style='font-family:rsfs10; font-size: 24px;'>rsfs10</p>\n",
       "<p>stmary10: <span style='font-family:stmary10; font-size: 24px;'>stmary10</p>\n",
       "<p>wasy10: <span style='font-family:wasy10; font-size: 24px;'>wasy10</p></div>"
      ],
      "text/plain": [
       "<IPython.core.display.HTML object>"
      ]
     },
     "execution_count": 1,
     "metadata": {},
     "output_type": "execute_result"
    }
   ],
   "source": [
    "# List all the fonts available\n",
    "import matplotlib.font_manager\n",
    "from IPython.core.display import HTML\n",
    "\n",
    "def make_html(fontname):\n",
    "    return \"<p>{font}: <span style='font-family:{font}; font-size: 24px;'>{font}</p>\".format(font=fontname)\n",
    "\n",
    "code = \"\\n\".join([make_html(font) for font in sorted(set([f.name for f in matplotlib.font_manager.fontManager.ttflist]))])\n",
    "\n",
    "HTML(\"<div style='column-count: 2;'>{}</div>\".format(code))"
   ]
  },
  {
   "cell_type": "code",
   "execution_count": null,
   "metadata": {},
   "outputs": [],
   "source": []
  }
 ],
 "metadata": {
  "kernelspec": {
   "display_name": "gp",
   "language": "python",
   "name": "gp"
  },
  "language_info": {
   "codemirror_mode": {
    "name": "ipython",
    "version": 3
   },
   "file_extension": ".py",
   "mimetype": "text/x-python",
   "name": "python",
   "nbconvert_exporter": "python",
   "pygments_lexer": "ipython3",
   "version": "3.10.4"
  }
 },
 "nbformat": 4,
 "nbformat_minor": 4
}
