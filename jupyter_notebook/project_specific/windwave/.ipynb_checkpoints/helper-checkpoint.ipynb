{
 "cells": [
  {
   "cell_type": "code",
   "execution_count": 27,
   "metadata": {},
   "outputs": [],
   "source": [
    "import numpy as np\n",
    "import math\n",
    "from matplotlib import pyplot as plt\n",
    "from scipy.optimize import fsolve"
   ]
  },
  {
   "cell_type": "code",
   "execution_count": 17,
   "metadata": {},
   "outputs": [],
   "source": [
    "'''\n",
    "###############################################################################\n",
    "# A class for wave properties\n",
    "# Requirements:\n",
    "# from scipy.optimize import fsolve\n",
    "###############################################################################\n",
    "\n",
    "'''\n",
    "\n",
    "class RealWave:\n",
    "    '''\n",
    "    Class for calculating a set of physical properties and non-dimensional numbers\n",
    "    of a monochromic wave given some quantities. All the quantities \n",
    "    are in SI units.\n",
    "    '''\n",
    "    \n",
    "    def __init__(self, g = 9.8, sigma = 0.074, rho = 1000, rho_air = 1.225, \n",
    "                 mu = 8.9e-4, mu_air = 17.4e-6):\n",
    "        '''\n",
    "        Parameters\n",
    "        ----------\n",
    "\n",
    "        g : gravity acceleration (m/s^2)  \n",
    "        sigma : surface tension of water/air interface (N/m)\n",
    "        rho : density of water (kg/m^3)\n",
    "        rho_air : density of air\n",
    "        \n",
    "        self.k : wave number (1/m)\n",
    "        self.omega : wave frequency (1/s)\n",
    "        self.c : phase speed (m/s)\n",
    "        self.wl : wavelength (m)\n",
    "        self.Bo : Bond number \n",
    "        \n",
    "        '''\n",
    "        self.g, self.sigma, self.rho, self.rho_air, self.mu, self.mu_air = \\\n",
    "        g, sigma, rho, rho_air, mu, mu_air\n",
    "        self.k, self.omega, self.c, self.wl, self.Bo, self.Re_wave, self.Re_air = 0, 0, 0, 0, 0, 0, 0\n",
    "        \n",
    "    def k2omega(self,k):\n",
    "        self.k = k\n",
    "        # Gravity-capillary wave dispersion relation\n",
    "        self.omega = (self.g*self.k + self.sigma*self.k**3/self.rho)**0.5\n",
    "        self.c = self.omega/self.k\n",
    "        self.wl = 2*np.pi/self.k\n",
    "        self.Bo =  (self.rho-self.rho_air)*self.g/self.sigma/self.k**2\n",
    "        print(\"Given k = %g (1/m), calculated omega = %g (1/s), period = %g (s), phase speed c = %g (m/s), wavelength = %g (m), Bo = %g\" \n",
    "              %(self.k, self.omega, 2*np.pi/self.omega, self.c, self.wl, self.Bo))\n",
    "\n",
    "    # Implicit function of w(k)\n",
    "    def omega2k(self,omega):\n",
    "        self.omega = omega\n",
    "        k = fsolve(lambda k : (self.g*k + self.sigma*k**3/self.rho)**0.5 - omega, 0)\n",
    "        self.k = k[0]\n",
    "        self.c = self.omega/self.k\n",
    "        self.wl = 2*np.pi/self.k\n",
    "        self.Bo =  (self.rho-self.rho_air)*self.g/self.sigma/self.k**2\n",
    "        print(\"Given omega = %g (1/s), calculated k = %g (1/m), phase speed c = %g (m/s), wavelength = %g (m), Bo = %g\" \n",
    "              %(self.omega, self.k, self.c, self.wl, self.Bo))\n",
    "              \n",
    "    # If Bond number is given instead of k\n",
    "    def Bo2k(self,Bo):\n",
    "        self.Bo = Bo\n",
    "        self.k = ((self.rho-self.rho_air)*self.g/Bo/self.sigma)**0.5\n",
    "        self.wl = 2*np.pi/self.k\n",
    "        self.omega = (self.g*self.k + self.sigma*self.k**3/self.rho)**0.5\n",
    "        self.c = self.omega/self.k\n",
    "        print(\"Given Bo = %g, calculated lambda = %g (m), k = %g (1/m), omega = %g (1/s), phase speed c = %g (m/s)\" \n",
    "              %(self.Bo, self.wl, self.k, self.omega, self.c))\n",
    "     \n",
    "    def Re(self, UstarRatio = 0, L0 = 1.):\n",
    "        self.Re_wave = self.rho*self.c*(2*np.pi/self.k)/self.mu\n",
    "        self.Re_air = self.rho_air*self.c*UstarRatio*(L0/2.)/self.mu_air\n",
    "        c_simu = (1/2/np.pi*(1+1/self.Bo))**0.5\n",
    "        self.Re_nominal = self.Re_wave/c_simu\n",
    "        print(\"Re_wave = %g, Re_air = %g, Re in older version = %g\" %(self.Re_wave, self.Re_air, self.Re_nominal))"
   ]
  },
  {
   "cell_type": "code",
   "execution_count": 10,
   "metadata": {},
   "outputs": [
    {
     "name": "stdout",
     "output_type": "stream",
     "text": [
      "Given k = 114.24 (1/m), calculated omega = 35.0696 (1/s), phase speed c = 0.306982 (m/s), wavelength = 0.055 (m), Bo = 10.1351\n",
      "Re_wave = 18970.8, Re_air = 4322.45, Re in older version = 45367.3\n"
     ]
    }
   ],
   "source": [
    "# Lin-log waves\n",
    "wave1 = RealWave(g = 9.8, sigma = 0.074, rho = 1000, rho_air = 1.225, mu = 8.9e-4, mu_air = 17.4e-6)\n",
    "wave1.k2omega(2*np.pi/0.055)\n",
    "wave1.Re(0.4, 1)"
   ]
  },
  {
   "cell_type": "code",
   "execution_count": 12,
   "metadata": {},
   "outputs": [
    {
     "name": "stdout",
     "output_type": "stream",
     "text": [
      "Given Bo = 10, calculated lambda = 0.0546322 (m), k = 115.009 (1/m), omega = 35.2088 (1/s), phase speed c = 0.30614 (m/s)\n"
     ]
    }
   ],
   "source": [
    "wave1.Bo2k(10)"
   ]
  },
  {
   "cell_type": "code",
   "execution_count": 11,
   "metadata": {},
   "outputs": [
    {
     "data": {
      "text/plain": [
       "0.17951958020513104"
      ]
     },
     "execution_count": 11,
     "metadata": {},
     "output_type": "execute_result"
    }
   ],
   "source": [
    "2*np.pi/35.2088"
   ]
  },
  {
   "cell_type": "code",
   "execution_count": 6,
   "metadata": {},
   "outputs": [
    {
     "name": "stdout",
     "output_type": "stream",
     "text": [
      "0.5158770817240729\n"
     ]
    }
   ],
   "source": [
    "ratio = 0.04/0.32\n",
    "ak = 1-(ratio*(2-ratio))**0.5\n",
    "print(ak)"
   ]
  },
  {
   "cell_type": "code",
   "execution_count": 63,
   "metadata": {},
   "outputs": [
    {
     "name": "stdout",
     "output_type": "stream",
     "text": [
      "Given k = 6.28319 (1/m), calculated omega = 2.62897 (1/s), period = 2.38998 (s), phase speed c = 0.418414 (m/s), wavelength = 1 (m), Bo = 9.98775\n"
     ]
    }
   ],
   "source": [
    "# Linear waves\n",
    "Bo = 10.; k = 2*np.pi; Re = 10000\n",
    "wave2 = RealWave(g = 1, sigma = 1/(Bo*k**2), rho = 1, rho_air = 1.225*10**(-3), mu = 1/Re, mu_air = 1/Re/8.9e-4*17.4e-6)\n",
    "wave2.k2omega(2*np.pi)"
   ]
  },
  {
   "cell_type": "code",
   "execution_count": 65,
   "metadata": {},
   "outputs": [
    {
     "data": {
      "text/plain": [
       "4184.14"
      ]
     },
     "execution_count": 65,
     "metadata": {},
     "output_type": "execute_result"
    }
   ],
   "source": [
    "# linear Re20000 = lin-log Re8368\n",
    "# linear Re10000 = lin-log Re4184\n",
    "10000*0.418414"
   ]
  },
  {
   "cell_type": "code",
   "execution_count": 59,
   "metadata": {},
   "outputs": [
    {
     "name": "stdout",
     "output_type": "stream",
     "text": [
      "sigma = 0.0739645\n",
      "nu1 = 0.000116054, nu2 = 0.00185218\n",
      "Given k = 4 (1/m), calculated omega = 2.95529 (1/s), period = 2.12608 (s), phase speed c = 0.738822 (m/s), wavelength = 1.5708 (m), Bo = 0.843965\n",
      "Re_wave = 10000, Re_air = 156.645, Re in older version = 16958\n"
     ]
    }
   ],
   "source": [
    "# Turbulence wave\n",
    "Bo = 0.845; k_ = 4; Re = 10000; g_ = 1; rho1_ = 1\n",
    "sigma_ = rho1_/(Bo*(k_)**2)\n",
    "c_ = (g_/k_+sigma_/rho1_*k_)**0.5\n",
    "mu1_ = (2.*np.pi/k_)*c_*rho1_/Re\n",
    "print('sigma = %g' %sigma_)\n",
    "print('nu1 = %g, nu2 = %g' %(mu1_/rho1_,mu1_/rho1_/8.9e-4*17.4e-6/1.225e-3))\n",
    "wave2 = RealWave(g = g_, sigma = sigma_, rho = rho1_, rho_air = 1.225e-3*rho1_, mu = mu1_, mu_air = mu1_/8.9e-4*17.4e-6)\n",
    "wave2.k2omega(4)\n",
    "# RE of air based on wave length\n",
    "wave2.Re(0.5, 2*np.pi/4)"
   ]
  },
  {
   "cell_type": "code",
   "execution_count": null,
   "metadata": {},
   "outputs": [],
   "source": []
  }
 ],
 "metadata": {
  "kernelspec": {
   "display_name": "Python 3",
   "language": "python",
   "name": "python3"
  },
  "language_info": {
   "codemirror_mode": {
    "name": "ipython",
    "version": 3
   },
   "file_extension": ".py",
   "mimetype": "text/x-python",
   "name": "python",
   "nbconvert_exporter": "python",
   "pygments_lexer": "ipython3",
   "version": "3.7.3"
  }
 },
 "nbformat": 4,
 "nbformat_minor": 2
}
