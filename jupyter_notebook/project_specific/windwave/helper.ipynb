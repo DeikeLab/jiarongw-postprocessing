{
 "cells": [
  {
   "cell_type": "code",
   "execution_count": 1,
   "metadata": {},
   "outputs": [],
   "source": [
    "import numpy as np\n",
    "import math\n",
    "from matplotlib import pyplot as plt\n",
    "from scipy.optimize import fsolve"
   ]
  },
  {
   "cell_type": "code",
   "execution_count": 5,
   "metadata": {},
   "outputs": [],
   "source": [
    "'''\n",
    "###############################################################################\n",
    "# A class for wave properties\n",
    "# Requirements:\n",
    "# from scipy.optimize import fsolve\n",
    "###############################################################################\n",
    "\n",
    "'''\n",
    "\n",
    "class RealWave:\n",
    "    '''\n",
    "    Class for calculating a set of physical properties and non-dimensional numbers\n",
    "    of a monochromic wave given some quantities. All the quantities \n",
    "    are in SI units.\n",
    "    '''\n",
    "    \n",
    "    def __init__(self, g = 9.8, sigma = 0.074, rho = 1000, rho_air = 1.225):\n",
    "        '''\n",
    "        Parameters\n",
    "        ----------\n",
    "\n",
    "        g : gravity acceleration (m/s^2)  \n",
    "        sigma : surface tension of water/air interface (N/m)\n",
    "        rho : density of water (kg/m^3)\n",
    "        rho_air : density of air\n",
    "        \n",
    "        self.k : wave number (1/m)\n",
    "        self.omega : wave frequency (1/s)\n",
    "        self.c : phase speed (m/s)\n",
    "        self.wl : wavelength (m)\n",
    "        self.Bo : Bond number \n",
    "        \n",
    "        '''\n",
    "        self.g, self.sigma, self.rho, self.rho_air = g, sigma, rho, rho_air\n",
    "        self.k, self.omega, self.c, self.wl, self.Bo = 0, 0, 0, 0, 0\n",
    "        \n",
    "    def k2omega(self,k):\n",
    "        self.k = k\n",
    "        # Gravity-capillary wave dispersion relation\n",
    "        self.omega = (self.g*self.k + self.sigma*self.k**3/self.rho)**0.5\n",
    "        self.c = self.omega/self.k\n",
    "        self.wl = 2*np.pi/self.k\n",
    "        self.Bo =  (self.rho-self.rho_air)*self.g/self.sigma/self.k**2\n",
    "        print(\"Given k = %g (1/m), calculated omega = %g (1/s), phase speed c = %g (m/s), wavelength = %g (m), Bo = %g\" \n",
    "              %(self.k, self.omega, self.c, self.wl, self.Bo))\n",
    "\n",
    "    # Implicit function of w(k)\n",
    "    def omega2k(self,omega):\n",
    "        self.omega = omega\n",
    "        k = fsolve(lambda k : (self.g*k + self.sigma*k**3/self.rho)**0.5 - omega, 0)\n",
    "        self.k = k[0]\n",
    "        self.c = self.omega/self.k\n",
    "        self.wl = 2*np.pi/self.k\n",
    "        self.Bo =  (self.rho-self.rho_air)*self.g/self.sigma/self.k**2\n",
    "        print(\"Given omega = %g (1/s), calculated k = %g (1/m), phase speed c = %g (m/s), wavelength = %g (m), Bo = %g\" \n",
    "              %(self.omega, self.k, self.c, self.wl, self.Bo))\n",
    "              \n",
    "    # If Bond number is given instead of k\n",
    "    def Bo2k(self,Bo):\n",
    "        self.Bo = Bo\n",
    "        self.k = ((self.rho-self.rho_air)*self.g/Bo/self.sigma)**0.5\n",
    "        self.wl = 2*np.pi/self.k\n",
    "        self.omega = (self.g*self.k + self.sigma*self.k**3/self.rho)**0.5\n",
    "        self.c = self.omega/self.k\n",
    "        viscosity = 8.9*10**(-7)\n",
    "        self.Re = self.c*self.wl/viscosity        \n",
    "        c_simu = (1/2/np.pi*(1+1/Bo))**0.5\n",
    "        self.Re_nominal = self.Re/c_simu\n",
    "        print(\"Given Bo = %g, calculated lambda = %g (m), k = %g (1/m), omega = %g (1/s), phase speed c = %g (m/s)\" \n",
    "              %(self.Bo, self.wl, self.k, self.omega, self.c))\n",
    "        print(\"Re = %g, c in simulation is %g. Reynolds number that should be passed in is %g\" %(self.Re, c_simu, self.Re_nominal))\n",
    "        "
   ]
  },
  {
   "cell_type": "code",
   "execution_count": 14,
   "metadata": {},
   "outputs": [
    {
     "name": "stdout",
     "output_type": "stream",
     "text": [
      "Given k = 0.01 (1/m), calculated omega = 0.31305 (1/s), phase speed c = 31.305 (m/s), wavelength = 628.319 (m), Bo = 1.3227e+09\n"
     ]
    }
   ],
   "source": [
    "wave1 = RealWave(g = 9.8, sigma = 0.074, rho = 1000, rho_air = 1.225)\n",
    "\n",
    "wave1.k2omega(0.01)"
   ]
  },
  {
   "cell_type": "code",
   "execution_count": null,
   "metadata": {},
   "outputs": [],
   "source": []
  }
 ],
 "metadata": {
  "kernelspec": {
   "display_name": "Python 3",
   "language": "python",
   "name": "python3"
  },
  "language_info": {
   "codemirror_mode": {
    "name": "ipython",
    "version": 3
   },
   "file_extension": ".py",
   "mimetype": "text/x-python",
   "name": "python",
   "nbconvert_exporter": "python",
   "pygments_lexer": "ipython3",
   "version": "3.7.3"
  }
 },
 "nbformat": 4,
 "nbformat_minor": 2
}
