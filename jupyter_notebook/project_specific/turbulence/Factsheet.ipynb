{
 "cells": [
  {
   "cell_type": "code",
   "execution_count": 6,
   "metadata": {},
   "outputs": [],
   "source": [
    "import numpy as np\n",
    "import pandas as pd\n",
    "import matplotlib as mpl\n",
    "from ipysheet import from_dataframe, to_dataframe\n",
    "from ipywidgets import FloatSlider, IntSlider, Image"
   ]
  },
  {
   "cell_type": "markdown",
   "metadata": {},
   "source": [
    "### Length scale"
   ]
  },
  {
   "cell_type": "code",
   "execution_count": 24,
   "metadata": {},
   "outputs": [
    {
     "name": "stdout",
     "output_type": "stream",
     "text": [
      "k\\delta_{nu} = 0.029351\n",
      "kz_0 = 0.00322861\n",
      "k\\Delta = 0.0245437\n",
      "a/\\Delta = \n",
      "[4.07436654 6.11154981 8.14873309]\n",
      "\\delta_{nu}/\\Delta = 1.19587\n",
      "\\lambda/\\Delta = 256\n",
      "0.029351029484331034\n"
     ]
    }
   ],
   "source": [
    "delta_nu = (2*np.pi-1)/720 # viscous len scale\n",
    "Delta = 2*np.pi/2**10 # grid size for LEVEL 10\n",
    "k = 4 # wave number\n",
    "z0 = 0.11*delta_nu\n",
    "a = np.array((0.1,0.15,0.2))/k\n",
    "print('k\\delta_{nu} = %g' %(k*delta_nu))\n",
    "print('kz_0 = %g' % (k*z0))\n",
    "print('k\\Delta = %g' %(k*Delta))\n",
    "\n",
    "print('a/\\Delta = ')\n",
    "print(a/Delta)\n",
    "print('\\delta_{nu}/\\Delta = %g' %(delta_nu/Delta))\n",
    "print('\\lambda/\\Delta = %g' %(2*np.pi/(k*Delta)))\n",
    "print(delta_nu*k)"
   ]
  },
  {
   "cell_type": "markdown",
   "metadata": {},
   "source": [
    "### Time scale"
   ]
  },
  {
   "cell_type": "code",
   "execution_count": 21,
   "metadata": {},
   "outputs": [
    {
     "name": "stdout",
     "output_type": "stream",
     "text": [
      "0.02928\n"
     ]
    }
   ],
   "source": [
    "nu_a = 0.00183\n",
    "ustar = 0.25\n",
    "t_nu = nu_a/ustar**2\n",
    "print(t_nu)"
   ]
  },
  {
   "cell_type": "code",
   "execution_count": 9,
   "metadata": {},
   "outputs": [
    {
     "data": {
      "application/vnd.jupyter.widget-view+json": {
       "model_id": "89d818dd93de4499a89cd2330ffe0a1f",
       "version_major": 2,
       "version_minor": 0
      },
      "text/plain": [
       "Sheet(cells=(Cell(choice=[], column_end=0, column_start=0, row_start=0, squeeze_row=False, type='numeric', val…"
      ]
     },
     "metadata": {},
     "output_type": "display_data"
    }
   ],
   "source": [
    "# Reference https://github.com/QuantStack/ipysheet/blob/master/examples/widget_cell.ipynb\n",
    "df2 = pd.DataFrame({'A': 1.,\n",
    "                    'B': pd.Timestamp('20130102'),\n",
    "                    'C': pd.Series(1, index=list(range(4)), dtype='float32'),\n",
    "                    'D': np.array([False, True, False, False], dtype='bool'),\n",
    "                    'E': pd.Categorical([\"test\", \"train\", \"test\", \"train\"]),\n",
    "                    'F': 'foo'})\n",
    "\n",
    "df2.loc[[0, 2], ['B']] = np.nan\n",
    "\n",
    "sheet2 = from_dataframe(df2)\n",
    "sheet2"
   ]
  },
  {
   "cell_type": "code",
   "execution_count": 24,
   "metadata": {},
   "outputs": [
    {
     "data": {
      "application/vnd.jupyter.widget-view+json": {
       "model_id": "8930f56521d44c719b6b59d6f5febfd6",
       "version_major": 2,
       "version_minor": 0
      },
      "text/plain": [
       "Sheet(cells=(Cell(choice=[], column_end=0, column_start=0, numeric_format='0[.]0', row_end=4, row_start=0, squ…"
      ]
     },
     "metadata": {},
     "output_type": "display_data"
    }
   ],
   "source": [
    "df = pd.DataFrame({'c/u*': (2,3,4,6,8),\n",
    "                   'g': (1,2.25,4,9,16),\n",
    "                   'omega': (2.005,3.007,4.010,6.015,8.020),\n",
    "                   'T/t_nu': (2*np.pi/np.array((2.005,3.007,4.010,6.015,8.020)))/0.0293,\n",
    "                   'E': 'boo',\n",
    "                   'F': 'foo'})\n",
    "\n",
    "sheet = from_dataframe(df)\n",
    "sheet"
   ]
  },
  {
   "cell_type": "code",
   "execution_count": null,
   "metadata": {},
   "outputs": [],
   "source": [
    "df_new = to_dataframe(sheet)\n",
    "df_new"
   ]
  },
  {
   "cell_type": "code",
   "execution_count": 16,
   "metadata": {},
   "outputs": [
    {
     "data": {
      "text/plain": [
       "array([  2.005  ,   6.76575,  16.04   ,  54.135  , 128.32   ])"
      ]
     },
     "execution_count": 16,
     "metadata": {},
     "output_type": "execute_result"
    }
   ],
   "source": [
    "np.array((1,2.25,4,9,16))*np.array((2.005,3.007,4.010,6.015,8.020))"
   ]
  },
  {
   "cell_type": "code",
   "execution_count": 5,
   "metadata": {},
   "outputs": [
    {
     "data": {
      "text/plain": [
       "array([106.95420676,  71.31466064,  53.47710338,  35.65140225,\n",
       "        26.73855169])"
      ]
     },
     "execution_count": 5,
     "metadata": {},
     "output_type": "execute_result"
    }
   ],
   "source": [
    "(2*np.pi/np.array((2.005,3.007,4.010,6.015,8.020)))/0.0293"
   ]
  },
  {
   "cell_type": "code",
   "execution_count": null,
   "metadata": {},
   "outputs": [],
   "source": []
  }
 ],
 "metadata": {
  "kernelspec": {
   "display_name": "Python 3",
   "language": "python",
   "name": "python3"
  },
  "language_info": {
   "codemirror_mode": {
    "name": "ipython",
    "version": 3
   },
   "file_extension": ".py",
   "mimetype": "text/x-python",
   "name": "python",
   "nbconvert_exporter": "python",
   "pygments_lexer": "ipython3",
   "version": "3.7.3"
  }
 },
 "nbformat": 4,
 "nbformat_minor": 4
}
