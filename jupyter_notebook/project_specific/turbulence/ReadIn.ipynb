{
 "cells": [
  {
   "cell_type": "markdown",
   "metadata": {},
   "source": [
    "## This sub notebook reads in all the cases (uses the kernel of Pressure.ipynb or processing notebooks of choice)"
   ]
  },
  {
   "cell_type": "code",
   "execution_count": 1,
   "metadata": {},
   "outputs": [],
   "source": [
    "from prepare import load_object, save_object\n",
    "from defs import Case, Interface2D\n",
    "from phase import extract_phase\n",
    "import numpy as np\n",
    "from tqdm import tqdm\n",
    "import os"
   ]
  },
  {
   "cell_type": "markdown",
   "metadata": {},
   "source": [
    "### Define cases (moving waves)"
   ]
  },
  {
   "cell_type": "code",
   "execution_count": 2,
   "metadata": {},
   "outputs": [
    {
     "name": "stdout",
     "output_type": "stream",
     "text": [
      "/projects/DEIKE/jiarongw/turbulence/curved_fixREtau_boundary_REtau720_BO200_g1_ak0.2_MU16_LEVEL10_emax0.3/\n",
      "mu1 = 7.67063e-06, rho1 = 1, mu2 = 2.24719e-06, rho2 = 0.001225, sigma = 0.0003125\n",
      "Given k = 4 (1/m), calculated omega = 2.00499 (1/s), period = 3.13377 (s), phase speed c = 0.501248 (m/s), wavelength = 1.5708 (m), Bo = 200\n",
      "g = 1, c = 0.501248, Ustar = 0.25, MURATIO = 0.01831, mu_w = 7.67063e-06, rho_w = 1, mu_a = 2.24719e-06, rho_a = 0.001225, sigma = 0.0003125, Bo = 200, RE = 102646, Re_tau = 720\n",
      "RELEASETIME = 57, uemax = 0.075 \n",
      "tiger-h19c2n6.28240Exhausted 1048576 MQ irecv request descriptors, which usually indicates a user program error or insufficient request descriptors (PSM2_MQ_RECVREQS_MAX=1048576)\n",
      "srun: Job step aborted: Waiting up to 47 seconds for job step to finish.\n",
      "slurmstepd: error: *** STEP 7188585.0 ON tiger-h19c2n6 CANCELLED AT 2021-09-21T01:12:00 DUE TO TIME LIMIT ***\n",
      "[warn] Epoll ADD(4) on fd 42 failed.  Old events were 0; read change was 0 (none); write change was 1 (add): Bad file descriptor\n",
      "\n",
      "/projects/DEIKE/jiarongw/turbulence/curved_fixREtau_boundary_REtau720_BO200_g4_ak0.2_MU8_LEVEL10_emax0.3/\n",
      "mu1 = 1.53413e-05, rho1 = 1, mu2 = 2.24719e-06, rho2 = 0.001225, sigma = 0.00125\n",
      "Given k = 4 (1/m), calculated omega = 4.00999 (1/s), period = 1.56688 (s), phase speed c = 1.0025 (m/s), wavelength = 1.5708 (m), Bo = 200\n",
      "g = 4, c = 1.0025, Ustar = 0.25, MURATIO = 0.01831, mu_w = 1.53413e-05, rho_w = 1, mu_a = 2.24719e-06, rho_a = 0.001225, sigma = 0.00125, Bo = 200, RE = 102646, Re_tau = 720\n",
      "RELEASETIME = 57, uemax = 0.075 \n",
      "srun: Job step aborted: Waiting up to 47 seconds for job step to finish.\n",
      "slurmstepd: error: *** STEP 6251153.0 ON tiger-h21c2n21 CANCELLED AT 2021-04-19T06:24:06 DUE TO TIME LIMIT ***\n",
      "\n",
      "/projects/DEIKE/jiarongw/turbulence/curved_fixREtau_boundary_REtau720_BO200_g16_ak0.2_MU4_LEVEL10_emax0.3/\n",
      "mu1 = 3.06825e-05, rho1 = 1, mu2 = 2.24719e-06, rho2 = 0.001225, sigma = 0.005\n",
      "Given k = 4 (1/m), calculated omega = 8.01998 (1/s), period = 0.783442 (s), phase speed c = 2.00499 (m/s), wavelength = 1.5708 (m), Bo = 200\n",
      "g = 16, c = 2.00499, Ustar = 0.25, MURATIO = 0.01831, mu_w = 3.06825e-05, rho_w = 1, mu_a = 2.24719e-06, rho_a = 0.001225, sigma = 0.005, Bo = 200, RE = 102646, Re_tau = 720\n",
      "RELEASETIME = 57, uemax = 0.075 \n",
      "srun: Job step aborted: Waiting up to 47 seconds for job step to finish.\n",
      "slurmstepd: error: *** STEP 7313935.0 ON tiger-h19c1n14 CANCELLED AT 2021-09-30T13:42:50 DUE TO TIME LIMIT ***\n",
      "\n",
      "/projects/DEIKE/jiarongw/turbulence/curved_fixREtau_boundary_REtau720_BO200_g1_ak0.1_MU16_LEVEL10_emax0.1/\n",
      "mu1 = 7.67063e-06, rho1 = 1, mu2 = 2.24719e-06, rho2 = 0.001225, sigma = 0.0003125\n",
      "Given k = 4 (1/m), calculated omega = 2.00499 (1/s), period = 3.13377 (s), phase speed c = 0.501248 (m/s), wavelength = 1.5708 (m), Bo = 200\n",
      "g = 1, c = 0.501248, Ustar = 0.25, MURATIO = 0.29296, mu_w = 7.67063e-06, rho_w = 1, mu_a = 2.24719e-06, rho_a = 0.001225, sigma = 0.0003125, Bo = 200, RE = 102646, Re_tau = 720\n",
      "RELEASETIME = 307, uemax = 0.025 \n",
      "\n",
      "/projects/DEIKE/jiarongw/turbulence/curved_fixREtau_boundary_REtau720_BO200_g4_ak0.1_MU8_LEVEL10_emax0.1/\n",
      "mu1 = 1.53413e-05, rho1 = 1, mu2 = 2.24719e-06, rho2 = 0.001225, sigma = 0.00125\n",
      "Given k = 4 (1/m), calculated omega = 4.00999 (1/s), period = 1.56688 (s), phase speed c = 1.0025 (m/s), wavelength = 1.5708 (m), Bo = 200\n",
      "g = 4, c = 1.0025, Ustar = 0.25, MURATIO = 0.14648, mu_w = 1.53413e-05, rho_w = 1, mu_a = 2.24719e-06, rho_a = 0.001225, sigma = 0.00125, Bo = 200, RE = 102646, Re_tau = 720\n",
      "RELEASETIME = 301.5, uemax = 0.025 \n",
      "\n",
      "/projects/DEIKE/jiarongw/turbulence/curved_fixREtau_boundary_REtau720_BO200_g16_ak0.1_MU4_LEVEL10_emax0.1/\n",
      "mu1 = 3.06825e-05, rho1 = 1, mu2 = 2.24719e-06, rho2 = 0.001225, sigma = 0.005\n",
      "Given k = 4 (1/m), calculated omega = 8.01998 (1/s), period = 0.783442 (s), phase speed c = 2.00499 (m/s), wavelength = 1.5708 (m), Bo = 200\n",
      "g = 16, c = 2.00499, Ustar = 0.25, MURATIO = 0.07324, mu_w = 3.06825e-05, rho_w = 1, mu_a = 2.24719e-06, rho_a = 0.001225, sigma = 0.005, Bo = 200, RE = 102646, Re_tau = 720\n",
      "RELEASETIME = 307, uemax = 0.025 \n",
      "\n",
      "/projects/DEIKE/jiarongw/turbulence/curved_fixREtau_boundary_REtau720_BO200_g1_ak0.15_MU16_LEVEL10_emax0.3/\n",
      "mu1 = 7.67063e-06, rho1 = 1, mu2 = 2.24719e-06, rho2 = 0.001225, sigma = 0.0003125\n",
      "Given k = 4 (1/m), calculated omega = 2.00499 (1/s), period = 3.13377 (s), phase speed c = 0.501248 (m/s), wavelength = 1.5708 (m), Bo = 200\n",
      "g = 1, c = 0.501248, Ustar = 0.25, MURATIO = 0.29296, mu_w = 7.67063e-06, rho_w = 1, mu_a = 2.24719e-06, rho_a = 0.001225, sigma = 0.0003125, Bo = 200, RE = 102646, Re_tau = 720\n",
      "RELEASETIME = 43, uemax = 0.075 \n",
      "\n",
      "/projects/DEIKE/jiarongw/turbulence/curved_fixREtau_boundary_REtau720_BO200_g2.25_ak0.15_MU10.666_LEVEL10_emax0.3/\n",
      "mu1 = 1.15067e-05, rho1 = 1, mu2 = 2.24719e-06, rho2 = 0.001225, sigma = 0.000703125\n",
      "Given k = 4 (1/m), calculated omega = 3.00749 (1/s), period = 2.08918 (s), phase speed c = 0.751873 (m/s), wavelength = 1.5708 (m), Bo = 200\n",
      "g = 2.25, c = 0.751873, Ustar = 0.25, MURATIO = 0.195294, mu_w = 1.15067e-05, rho_w = 1, mu_a = 2.24719e-06, rho_a = 0.001225, sigma = 0.000703125, Bo = 200, RE = 102640, Re_tau = 720\n",
      "RELEASETIME = 43, uemax = 0.075 \n",
      "\n",
      "/projects/DEIKE/jiarongw/turbulence/curved_fixREtau_boundary_REtau720_BO200_g4_ak0.15_MU8_LEVEL10_emax0.3/\n",
      "mu1 = 1.53413e-05, rho1 = 1, mu2 = 2.24719e-06, rho2 = 0.001225, sigma = 0.00125\n",
      "Given k = 4 (1/m), calculated omega = 4.00999 (1/s), period = 1.56688 (s), phase speed c = 1.0025 (m/s), wavelength = 1.5708 (m), Bo = 200\n",
      "g = 4, c = 1.0025, Ustar = 0.25, MURATIO = 0.14648, mu_w = 1.53413e-05, rho_w = 1, mu_a = 2.24719e-06, rho_a = 0.001225, sigma = 0.00125, Bo = 200, RE = 102646, Re_tau = 720\n",
      "RELEASETIME = 43, uemax = 0.075 \n",
      "\n",
      "/projects/DEIKE/jiarongw/turbulence/curved_fixREtau_boundary_REtau720_BO200_g9_ak0.15_MU5.333_LEVEL10_emax0.3/\n",
      "mu1 = 2.30133e-05, rho1 = 1, mu2 = 2.24719e-06, rho2 = 0.001225, sigma = 0.0028125\n",
      "Given k = 4 (1/m), calculated omega = 6.01498 (1/s), period = 1.04459 (s), phase speed c = 1.50375 (m/s), wavelength = 1.5708 (m), Bo = 200\n",
      "g = 9, c = 1.50375, Ustar = 0.25, MURATIO = 0.0976472, mu_w = 2.30133e-05, rho_w = 1, mu_a = 2.24719e-06, rho_a = 0.001225, sigma = 0.0028125, Bo = 200, RE = 102640, Re_tau = 720\n",
      "RELEASETIME = 43, uemax = 0.075 \n",
      "\n",
      "/projects/DEIKE/jiarongw/turbulence/curved_fixREtau_boundary_REtau720_BO200_g16_ak0.15_MU4_LEVEL10_emax0.3/\n",
      "mu1 = 3.06825e-05, rho1 = 1, mu2 = 2.24719e-06, rho2 = 0.001225, sigma = 0.005\n",
      "Given k = 4 (1/m), calculated omega = 8.01998 (1/s), period = 0.783442 (s), phase speed c = 2.00499 (m/s), wavelength = 1.5708 (m), Bo = 200\n",
      "g = 16, c = 2.00499, Ustar = 0.25, MURATIO = 0.07324, mu_w = 3.06825e-05, rho_w = 1, mu_a = 2.24719e-06, rho_a = 0.001225, sigma = 0.005, Bo = 200, RE = 102646, Re_tau = 720\n",
      "RELEASETIME = 43, uemax = 0.075 \n",
      "\n",
      "/projects/DEIKE/jiarongw/turbulence/curved_fixREtau_boundary_REtau720_BO200_g36_ak0.15_MU2.666_LEVEL10_emax0.3/\n",
      "mu1 = 4.60353e-05, rho1 = 1, mu2 = 2.24719e-06, rho2 = 0.001225, sigma = 0.01125\n",
      "Given k = 4 (1/m), calculated omega = 12.03 (1/s), period = 0.522295 (s), phase speed c = 3.00749 (m/s), wavelength = 1.5708 (m), Bo = 200\n",
      "g = 36, c = 3.00749, Ustar = 0.25, MURATIO = 0.0488145, mu_w = 4.60353e-05, rho_w = 1, mu_a = 2.24719e-06, rho_a = 0.001225, sigma = 0.01125, Bo = 200, RE = 102620, Re_tau = 720\n",
      "RELEASETIME = 43, uemax = 0.075 \n",
      "\n",
      "/projects/DEIKE/jiarongw/turbulence/curved_fixREtau_boundary_REtau720_BO200_g64_ak0.15_MU2_LEVEL10_emax0.3/\n",
      "mu1 = 6.13651e-05, rho1 = 1, mu2 = 2.24719e-06, rho2 = 0.001225, sigma = 0.02\n",
      "Given k = 4 (1/m), calculated omega = 16.04 (1/s), period = 0.391721 (s), phase speed c = 4.00999 (m/s), wavelength = 1.5708 (m), Bo = 200\n",
      "/var/spool/pbs/mom_priv/jobs/1355729.chadmin1.ib0.cheyenne.ucar.edu.SC: line 33: mpirun: command not found\n",
      "\n",
      "/projects/DEIKE/jiarongw/turbulence/curved_fixREtau_boundary_REtau720_BO200_g1_ak0.05_MU16_LEVEL10_emax0.3/\n",
      "mu1 = 7.67063e-06, rho1 = 1, mu2 = 2.24719e-06, rho2 = 0.001225, sigma = 0.0003125\n",
      "Given k = 4 (1/m), calculated omega = 2.00499 (1/s), period = 3.13377 (s), phase speed c = 0.501248 (m/s), wavelength = 1.5708 (m), Bo = 200\n",
      "g = 1, c = 0.501248, Ustar = 0.25, MURATIO = 0.29296, mu_w = 7.67063e-06, rho_w = 1, mu_a = 2.24719e-06, rho_a = 0.001225, sigma = 0.0003125, Bo = 200, RE = 102646, Re_tau = 720\n",
      "RELEASETIME = 66.5, uemax = 0.075 \n",
      "\n",
      "/projects/DEIKE/jiarongw/turbulence/curved_fixREtau_boundary_REtau720_BO200_g4_ak0.05_MU8_LEVEL10_emax0.3/\n",
      "mu1 = 1.53413e-05, rho1 = 1, mu2 = 2.24719e-06, rho2 = 0.001225, sigma = 0.00125\n",
      "Given k = 4 (1/m), calculated omega = 4.00999 (1/s), period = 1.56688 (s), phase speed c = 1.0025 (m/s), wavelength = 1.5708 (m), Bo = 200\n",
      "g = 4, c = 1.0025, Ustar = 0.25, MURATIO = 0.14648, mu_w = 1.53413e-05, rho_w = 1, mu_a = 2.24719e-06, rho_a = 0.001225, sigma = 0.00125, Bo = 200, RE = 102646, Re_tau = 720\n",
      "RELEASETIME = 66.5, uemax = 0.075 \n",
      "[r5i5n30:66647] Read -1, expected 6144, errno = 3\n",
      "[r5i5n30:66647] Read -1, expected 22080, errno = 3\n",
      "[r5i5n30:66647] Read -1, expected 8448, errno = 3\n",
      "[r5i5n30:66648] Read -1, expected 5376, errno = 3\n",
      "[r5i5n30:66647] Read -1, expected 33216, errno = 3\n",
      "\n",
      "/projects/DEIKE/jiarongw/turbulence/curved_fixREtau_boundary_REtau720_BO200_g1_ak0.25_MU16_LEVEL10_emax0.3/\n",
      "mu1 = 7.67063e-06, rho1 = 1, mu2 = 2.24719e-06, rho2 = 0.001225, sigma = 0.0003125\n",
      "Given k = 4 (1/m), calculated omega = 2.00499 (1/s), period = 3.13377 (s), phase speed c = 0.501248 (m/s), wavelength = 1.5708 (m), Bo = 200\n",
      "g = 1, c = 0.501248, Ustar = 0.25, MURATIO = 0.29296, mu_w = 7.67063e-06, rho_w = 1, mu_a = 2.24719e-06, rho_a = 0.001225, sigma = 0.0003125, Bo = 200, RE = 102646, Re_tau = 720\n",
      "RELEASETIME = 43, uemax = 0.075 \n",
      "\n",
      "/projects/DEIKE/jiarongw/turbulence/curved_fixREtau_boundary_REtau720_BO200_g4_ak0.25_MU8_LEVEL10_emax0.3/\n",
      "mu1 = 1.53413e-05, rho1 = 1, mu2 = 2.24719e-06, rho2 = 0.001225, sigma = 0.00125\n",
      "Given k = 4 (1/m), calculated omega = 4.00999 (1/s), period = 1.56688 (s), phase speed c = 1.0025 (m/s), wavelength = 1.5708 (m), Bo = 200\n",
      "g = 4, c = 1.0025, Ustar = 0.25, MURATIO = 0.14648, mu_w = 1.53413e-05, rho_w = 1, mu_a = 2.24719e-06, rho_a = 0.001225, sigma = 0.00125, Bo = 200, RE = 102646, Re_tau = 720\n",
      "RELEASETIME = 43, uemax = 0.075 \n",
      "\n",
      "/projects/DEIKE/jiarongw/turbulence/curved_fixREtau_boundary_REtau720_BO200_g16_ak0.25_MU4_LEVEL10_emax0.3/\n",
      "mu1 = 3.06825e-05, rho1 = 1, mu2 = 2.24719e-06, rho2 = 0.001225, sigma = 0.005\n",
      "Given k = 4 (1/m), calculated omega = 8.01998 (1/s), period = 0.783442 (s), phase speed c = 2.00499 (m/s), wavelength = 1.5708 (m), Bo = 200\n",
      "g = 16, c = 2.00499, Ustar = 0.25, MURATIO = 0.07324, mu_w = 3.06825e-05, rho_w = 1, mu_a = 2.24719e-06, rho_a = 0.001225, sigma = 0.005, Bo = 200, RE = 102646, Re_tau = 720\n",
      "RELEASETIME = 43, uemax = 0.075 \n",
      "\n",
      "/projects/DEIKE/jiarongw/turbulence/curved_fixREtau_boundary_REtau720_BO200_g9_ak0.1_MU5.333_LEVEL10_emax0.1/\n",
      "mu1 = 2.30133e-05, rho1 = 1, mu2 = 2.24719e-06, rho2 = 0.001225, sigma = 0.0028125\n",
      "Given k = 4 (1/m), calculated omega = 6.01498 (1/s), period = 1.04459 (s), phase speed c = 1.50375 (m/s), wavelength = 1.5708 (m), Bo = 200\n",
      "g = 9, c = 1.50375, Ustar = 0.25, MURATIO = 0.0976472, mu_w = 2.30133e-05, rho_w = 1, mu_a = 2.24719e-06, rho_a = 0.001225, sigma = 0.0028125, Bo = 200, RE = 102640, Re_tau = 720\n",
      "RELEASETIME = 307, uemax = 0.025 \n",
      "\n",
      "/projects/DEIKE/jiarongw/turbulence/curved_fixREtau_boundary_REtau720_BO200_g9_ak0.25_MU5.333_LEVEL10_emax0.3/\n",
      "mu1 = 2.30133e-05, rho1 = 1, mu2 = 2.24719e-06, rho2 = 0.001225, sigma = 0.0028125\n",
      "Given k = 4 (1/m), calculated omega = 6.01498 (1/s), period = 1.04459 (s), phase speed c = 1.50375 (m/s), wavelength = 1.5708 (m), Bo = 200\n",
      "g = 9, c = 1.50375, Ustar = 0.25, MURATIO = 0.0976472, mu_w = 2.30133e-05, rho_w = 1, mu_a = 2.24719e-06, rho_a = 0.001225, sigma = 0.0028125, Bo = 200, RE = 102640, Re_tau = 720\n",
      "RELEASETIME = 43, uemax = 0.075 \n",
      "\n",
      "/projects/DEIKE/jiarongw/turbulence/curved_fixREtau_boundary_REtau720_BO200_g9_ak0.2_MU5.333_LEVEL10_emax0.3/\n",
      "mu1 = 2.30133e-05, rho1 = 1, mu2 = 2.24719e-06, rho2 = 0.001225, sigma = 0.0028125\n",
      "Given k = 4 (1/m), calculated omega = 6.01498 (1/s), period = 1.04459 (s), phase speed c = 1.50375 (m/s), wavelength = 1.5708 (m), Bo = 200\n",
      "g = 9, c = 1.50375, Ustar = 0.25, MURATIO = 0.0976472, mu_w = 2.30133e-05, rho_w = 1, mu_a = 2.24719e-06, rho_a = 0.001225, sigma = 0.0028125, Bo = 200, RE = 102640, Re_tau = 720\n",
      "RELEASETIME = 57, uemax = 0.075 \n",
      "\n",
      "/projects/DEIKE/jiarongw/turbulence/convergence/curved_fixREtau_boundary_REtau720_BO200_g1_ak0.15_MU16_LEVEL11_emax0.3/\n",
      "mu1 = 7.67063e-06, rho1 = 1, mu2 = 2.24719e-06, rho2 = 0.001225, sigma = 0.0003125\n",
      "Given k = 4 (1/m), calculated omega = 2.00499 (1/s), period = 3.13377 (s), phase speed c = 0.501248 (m/s), wavelength = 1.5708 (m), Bo = 200\n",
      "g = 1, c = 0.501248, Ustar = 0.25, MURATIO = 0.29296, mu_w = 7.67063e-06, rho_w = 1, mu_a = 2.24719e-06, rho_a = 0.001225, sigma = 0.0003125, Bo = 200, RE = 102646, Re_tau = 720\n",
      "RELEASETIME = 43, uemax = 0.075 \n",
      "\n",
      "/projects/DEIKE/jiarongw/turbulence/convergence/curved_fixREtau_boundary_REtau720_BO500_g1_ak0.15_MU16_LEVEL10_emax0.3/\n",
      "mu1 = 7.67063e-06, rho1 = 1, mu2 = 2.24719e-06, rho2 = 0.001225, sigma = 0.000125\n",
      "Given k = 4 (1/m), calculated omega = 2.002 (1/s), period = 3.13846 (s), phase speed c = 0.5005 (m/s), wavelength = 1.5708 (m), Bo = 500\n",
      "g = 1, c = 0.5005, Ustar = 0.25, MURATIO = 0.29296, mu_w = 7.67063e-06, rho_w = 1, mu_a = 2.24719e-06, rho_a = 0.001225, sigma = 0.000125, Bo = 500, RE = 102493, Re_tau = 720\n",
      "RELEASETIME = 43, uemax = 0.075 \n",
      "\n",
      "/projects/DEIKE/jiarongw/turbulence/convergence/curved_fixREtau_boundary_REtau720_BO1000_g1_ak0.15_MU16_LEVEL10_emax0.3/\n",
      "mu1 = 7.67063e-06, rho1 = 1, mu2 = 2.24719e-06, rho2 = 0.001225, sigma = 6.25e-05\n",
      "Given k = 4 (1/m), calculated omega = 2.001 (1/s), period = 3.14002 (s), phase speed c = 0.50025 (m/s), wavelength = 1.5708 (m), Bo = 1000\n",
      "g = 1, c = 0.50025, Ustar = 0.25, MURATIO = 0.29296, mu_w = 7.67063e-06, rho_w = 1, mu_a = 2.24719e-06, rho_a = 0.001225, sigma = 6.25e-05, Bo = 1000, RE = 102441, Re_tau = 720\n",
      "RELEASETIME = 43, uemax = 0.075 \n",
      "\n"
     ]
    }
   ],
   "source": [
    "case1 = Case(ustar=0.25, Retau=720, Bo=200, g=1, ak=0.2, LEVEL=10, emax=0.3, alterMU=16, NOMATCH=True, \n",
    "             PRINTWAVE=True, OUTLEVEL=9, working_dir='/projects/DEIKE/jiarongw/turbulence/', prefix='curved_fixREtau_boundary_')\n",
    "case1.tstart = 57\n",
    "case2 = Case(ustar=0.25, Retau=720, Bo=200, g=4, ak=0.2, LEVEL=10, emax=0.3, alterMU=8, NOMATCH=True, \n",
    "             PRINTWAVE=True, OUTLEVEL=9, working_dir='/projects/DEIKE/jiarongw/turbulence/', prefix='curved_fixREtau_boundary_')\n",
    "case2.tstart = 57\n",
    "case3 = Case(ustar=0.25, Retau=720, Bo=200, g=16, ak=0.2, LEVEL=10, emax=0.3, alterMU=4, NOMATCH=True, \n",
    "             PRINTWAVE=True, OUTLEVEL=9, working_dir='/projects/DEIKE/jiarongw/turbulence/', prefix='curved_fixREtau_boundary_')\n",
    "case3.tstart = 57\n",
    "case4 = Case(ustar=0.25, Retau=720, Bo=200, g=1, ak=0.1, LEVEL=10, emax=0.1, alterMU=16, NOMATCH=True, \n",
    "             PRINTWAVE=True, OUTLEVEL=9, working_dir='/projects/DEIKE/jiarongw/turbulence/', prefix='curved_fixREtau_boundary_')\n",
    "case4.tstart = 307\n",
    "case5 = Case(ustar=0.25, Retau=720, Bo=200, g=4, ak=0.1, LEVEL=10, emax=0.1, alterMU=8, NOMATCH=True, \n",
    "             PRINTWAVE=True, OUTLEVEL=9, working_dir='/projects/DEIKE/jiarongw/turbulence/', prefix='curved_fixREtau_boundary_')\n",
    "case5.tstart = 301.5\n",
    "case6 = Case(ustar=0.25, Retau=720, Bo=200, g=16, ak=0.1, LEVEL=10, emax=0.1, alterMU=4, NOMATCH=True, \n",
    "             PRINTWAVE=True, OUTLEVEL=9, working_dir='/projects/DEIKE/jiarongw/turbulence/', prefix='curved_fixREtau_boundary_')\n",
    "case6.tstart = 307\n",
    "case7 = Case(ustar=0.25, Retau=720, Bo=200, g=1, ak=0.15, LEVEL=10, emax=0.3, alterMU=16, NOMATCH=True, \n",
    "             PRINTWAVE=True, OUTLEVEL=9, working_dir='/projects/DEIKE/jiarongw/turbulence/', prefix='curved_fixREtau_boundary_')\n",
    "case7.tstart = 43\n",
    "case8 = Case(ustar=0.25, Retau=720, Bo=200, g=2.25, ak=0.15, LEVEL=10, emax=0.3, alterMU=10.666, NOMATCH=True, \n",
    "             PRINTWAVE=True, OUTLEVEL=9, working_dir='/projects/DEIKE/jiarongw/turbulence/', prefix='curved_fixREtau_boundary_')\n",
    "case8.tstart = 43\n",
    "case9 = Case(ustar=0.25, Retau=720, Bo=200, g=4, ak=0.15, LEVEL=10, emax=0.3, alterMU=8, NOMATCH=True, \n",
    "             PRINTWAVE=True, OUTLEVEL=9, working_dir='/projects/DEIKE/jiarongw/turbulence/', prefix='curved_fixREtau_boundary_')\n",
    "case9.tstart = 43\n",
    "case10 = Case(ustar=0.25, Retau=720, Bo=200, g=9, ak=0.15, LEVEL=10, emax=0.3, alterMU=5.333, NOMATCH=True, \n",
    "             PRINTWAVE=True, OUTLEVEL=9, working_dir='/projects/DEIKE/jiarongw/turbulence/', prefix='curved_fixREtau_boundary_')\n",
    "case10.tstart = 43\n",
    "case11 = Case(ustar=0.25, Retau=720, Bo=200, g=16, ak=0.15, LEVEL=10, emax=0.3, alterMU=4, NOMATCH=True, \n",
    "             PRINTWAVE=True, OUTLEVEL=9, working_dir='/projects/DEIKE/jiarongw/turbulence/', prefix='curved_fixREtau_boundary_')\n",
    "case11.tstart = 43\n",
    "case12 = Case(ustar=0.25, Retau=720, Bo=200, g=36, ak=0.15, LEVEL=10, emax=0.3, alterMU=2.666, NOMATCH=True, \n",
    "             PRINTWAVE=True, OUTLEVEL=9, working_dir='/projects/DEIKE/jiarongw/turbulence/', prefix='curved_fixREtau_boundary_')\n",
    "case12.tstart = 43\n",
    "case13 = Case(ustar=0.25, Retau=720, Bo=200, g=64, ak=0.15, LEVEL=10, emax=0.3, alterMU=2, NOMATCH=True, \n",
    "             PRINTWAVE=True, OUTLEVEL=9, working_dir='/projects/DEIKE/jiarongw/turbulence/', prefix='curved_fixREtau_boundary_')\n",
    "case13.tstart = 43\n",
    "\n",
    "\n",
    "case14 = Case(ustar=0.25, Retau=720, Bo=200, g=1, ak=0.05, LEVEL=10, emax=0.3, alterMU=16, NOMATCH=True, \n",
    "               PRINTWAVE=True, OUTLEVEL=9, working_dir='/projects/DEIKE/jiarongw/turbulence/', prefix='curved_fixREtau_boundary_')\n",
    "case14.tstart = 66.5\n",
    "case15 = Case(ustar=0.25, Retau=720, Bo=200, g=4, ak=0.05, LEVEL=10, emax=0.3, alterMU=8, NOMATCH=True, \n",
    "               PRINTWAVE=True, OUTLEVEL=9, working_dir='/projects/DEIKE/jiarongw/turbulence/', prefix='curved_fixREtau_boundary_')\n",
    "case15.tstart = 66.5\n",
    "case14 = Case(ustar=0.25, Retau=720, Bo=200, g=1, ak=0.25, LEVEL=10, emax=0.3, alterMU=16, NOMATCH=True, \n",
    "               PRINTWAVE=True, OUTLEVEL=9, working_dir='/projects/DEIKE/jiarongw/turbulence/', prefix='curved_fixREtau_boundary_')\n",
    "case14.tstart = 43\n",
    "case15 = Case(ustar=0.25, Retau=720, Bo=200, g=4, ak=0.25, LEVEL=10, emax=0.3, alterMU=8, NOMATCH=True, \n",
    "               PRINTWAVE=True, OUTLEVEL=9, working_dir='/projects/DEIKE/jiarongw/turbulence/', prefix='curved_fixREtau_boundary_')\n",
    "case15.tstart = 43\n",
    "case16 = Case(ustar=0.25, Retau=720, Bo=200, g=16, ak=0.25, LEVEL=10, emax=0.3, alterMU=4, NOMATCH=True, \n",
    "               PRINTWAVE=True, OUTLEVEL=9, working_dir='/projects/DEIKE/jiarongw/turbulence/', prefix='curved_fixREtau_boundary_')\n",
    "case16.tstart = 43\n",
    "\n",
    "case17 = Case(ustar=0.25, Retau=720, Bo=200, g=9, ak=0.1, LEVEL=10, emax=0.1, alterMU=5.333, NOMATCH=True, \n",
    "              PRINTWAVE=True, OUTLEVEL=9, working_dir='/projects/DEIKE/jiarongw/turbulence/', prefix='curved_fixREtau_boundary_')\n",
    "case17.tstart = 307\n",
    "case18 = Case(ustar=0.25, Retau=720, Bo=200, g=9, ak=0.25, LEVEL=10, emax=0.3, alterMU=5.333, NOMATCH=True, \n",
    "               PRINTWAVE=True, OUTLEVEL=9, working_dir='/projects/DEIKE/jiarongw/turbulence/', prefix='curved_fixREtau_boundary_')\n",
    "case18.tstart = 43\n",
    "case19 = Case(ustar=0.25, Retau=720, Bo=200, g=9, ak=0.2, LEVEL=10, emax=0.3, alterMU=5.333, NOMATCH=True, \n",
    "               PRINTWAVE=True, OUTLEVEL=9, working_dir='/projects/DEIKE/jiarongw/turbulence/', prefix='curved_fixREtau_boundary_')\n",
    "case19.tstart = 57\n",
    "\n",
    "case_con1 = Case(ustar=0.25, Retau=720, Bo=200, g=1, ak=0.15, LEVEL=11, emax=0.3, alterMU=16, NOMATCH=True, \n",
    "                 PRINTWAVE=True, OUTLEVEL=9, working_dir='/projects/DEIKE/jiarongw/turbulence/convergence/', prefix='curved_fixREtau_boundary_')\n",
    "case_con1.tstart = 43\n",
    "\n",
    "case_con2 = Case(ustar=0.25, Retau=720, Bo=500, g=1, ak=0.15, LEVEL=10, emax=0.3, alterMU=16, NOMATCH=True, \n",
    "                 PRINTWAVE=True, OUTLEVEL=9, working_dir='/projects/DEIKE/jiarongw/turbulence/convergence/', prefix='curved_fixREtau_boundary_')\n",
    "case_con2.tstart = 43\n",
    "\n",
    "case_con3 = Case(ustar=0.25, Retau=720, Bo=1000, g=1, ak=0.15, LEVEL=10, emax=0.3, alterMU=16, NOMATCH=True, \n",
    "                 PRINTWAVE=True, OUTLEVEL=9, working_dir='/projects/DEIKE/jiarongw/turbulence/convergence/', prefix='curved_fixREtau_boundary_')\n",
    "case_con3.tstart = 43"
   ]
  },
  {
   "cell_type": "code",
   "execution_count": 3,
   "metadata": {},
   "outputs": [
    {
     "name": "stdout",
     "output_type": "stream",
     "text": [
      "/projects/DEIKE/jiarongw/turbulence/curved_fixREtau_boundary_REtau720_BO200_g128_ak0.15_MU1_LEVEL10_emax0.3/\n",
      "mu1 = 0.00012273, rho1 = 1, mu2 = 2.24719e-06, rho2 = 0.001225, sigma = 0.04\n",
      "Given k = 4 (1/m), calculated omega = 22.6839 (1/s), period = 0.276989 (s), phase speed c = 5.67098 (m/s), wavelength = 1.5708 (m), Bo = 200\n",
      "g = 128, c = 5.67098, Ustar = 0.25, MURATIO = 0.01831, mu_w = 0.00012273, rho_w = 1, mu_a = 2.24719e-06, rho_a = 0.001225, sigma = 0.04, Bo = 200, RE = 72581.6, Re_tau = 720\n",
      "RELEASETIME = 43, uemax = 0.075 \n",
      "\n"
     ]
    }
   ],
   "source": [
    "case_swell = Case(ustar=0.25, Retau=720, Bo=200, g=128, ak=0.15, LEVEL=10, emax=0.3, alterMU=1, NOMATCH=True, \n",
    "                  PRINTWAVE=True, OUTLEVEL=9, working_dir='/projects/DEIKE/jiarongw/turbulence/', prefix='curved_fixREtau_boundary_')\n",
    "case_swell.tstart = 43"
   ]
  },
  {
   "cell_type": "markdown",
   "metadata": {},
   "source": [
    "### Define cases (precursors)"
   ]
  },
  {
   "cell_type": "code",
   "execution_count": null,
   "metadata": {},
   "outputs": [],
   "source": [
    "case_pre1 = Case(ustar=0.25, Retau=720, Bo=None, g=None, ak=0.2, LEVEL=10, emax=0.3, OUTLEVEL=9, PRECURSOR=True,\n",
    "                 working_dir='/projects/DEIKE/jiarongw/turbulence/', prefix='curved_fixREtau_precursor_')\n",
    "case_pre1.tstart = 53\n",
    "\n",
    "case_pre3 = Case(ustar=0.25, Retau=720, Bo=None, g=None, ak=0.1, LEVEL=10, emax=0.1, OUTLEVEL=9, PRECURSOR=True,\n",
    "                 working_dir='/projects/DEIKE/jiarongw/turbulence/', prefix='curved_fixREtau_precursor_')\n",
    "\n",
    "case_pre3.tstart = 300"
   ]
  },
  {
   "cell_type": "markdown",
   "metadata": {},
   "source": [
    "### Read in phase from scratch "
   ]
  },
  {
   "cell_type": "code",
   "execution_count": 39,
   "metadata": {},
   "outputs": [
    {
     "name": "stdout",
     "output_type": "stream",
     "text": [
      "pickle restored!\n",
      "pickle restored!\n",
      "pickle restored!\n"
     ]
    }
   ],
   "source": [
    "# case = case1\n",
    "# case.tsimu = np.arange(58,108,1)\n",
    "# extract_phase(case, case.tsimu)\n",
    "\n",
    "# case = case2\n",
    "# case.tsimu = np.arange(58,101,1)\n",
    "# extract_phase(case, case.tsimu)\n",
    "\n",
    "# case = case3\n",
    "# case.tsimu = np.arange(58,73,1)\n",
    "# extract_phase(case, case.tsimu)\n",
    "\n",
    "# case = case4\n",
    "# case.tsimu = np.arange(308,346,1)\n",
    "# extract_phase(case, case.tsimu)\n",
    "\n",
    "# case = case5\n",
    "# case.tsimu = np.arange(302,342,1)\n",
    "# extract_phase(case, case.tsimu)\n",
    "\n",
    "# case = case6\n",
    "# case.tsimu = np.arange(308,321,1)\n",
    "# extract_phase(case, case.tsimu)\n",
    "\n",
    "# case = case7\n",
    "# case.tsimu = np.arange(43.1,83.4,0.1)\n",
    "# extract_phase(case, case.tsimu)\n",
    "\n",
    "# case = case8\n",
    "# case.tsimu = np.arange(43.1,52.1,0.1)\n",
    "# extract_phase(case, case.tsimu)\n",
    "\n",
    "# case = case9\n",
    "# case.tsimu = np.arange(43.1,77.1,0.1)\n",
    "# extract_phase(case, case.tsimu)\n",
    "\n",
    "# case = case10\n",
    "# case.tsimu = np.arange(43.1,58.1,0.1)\n",
    "# extract_phase(case, case.tsimu)\n",
    "\n",
    "# case = case11\n",
    "# case.tsimu = np.arange(43.1,55.1,0.1)\n",
    "# extract_phase(case, case.tsimu)\n",
    "\n",
    "# case = case12\n",
    "# case.tsimu = np.arange(43.1,54.3,0.1)\n",
    "# extract_phase(case, case.tsimu)\n",
    "\n",
    "# case = case13\n",
    "# case.tsimu = np.arange(43.1,53.1,0.1)\n",
    "# extract_phase(case, case.tsimu)\n",
    "\n",
    "# case = case14\n",
    "# case.tsimu = np.arange(43.1,59.5,0.1)\n",
    "# extract_phase(case, case.tsimu)\n",
    "\n",
    "# case = case15\n",
    "# case.tsimu = np.arange(43.1,56.6,0.1)\n",
    "# extract_phase(case, case.tsimu)\n",
    "\n",
    "# case = case16\n",
    "# case.tsimu = np.arange(43.1,53.6,0.1)\n",
    "# extract_phase(case, case.tsimu)\n",
    "\n",
    "# case = case17\n",
    "# case.tsimu = np.arange(308,321,0.1)\n",
    "# extract_phase(case, case.tsimu)\n",
    "\n",
    "# case = case18\n",
    "# case.tsimu = np.arange(43.1,54,0.1)\n",
    "# extract_phase(case, case.tsimu)\n",
    "\n",
    "# case = case19\n",
    "# case.tsimu = np.arange(57.1,68.1,0.1)\n",
    "# extract_phase(case, case.tsimu)\n",
    "\n",
    "# case = case_swell\n",
    "# case.tsimu = np.arange(43.1,49.5,0.1)\n",
    "# extract_phase(case, case.tsimu)\n",
    "\n",
    "case = case_con1\n",
    "case.tsimu = np.arange(43,49,1)\n",
    "extract_phase(case, case.tsimu)\n",
    "\n",
    "case = case_con2\n",
    "case.tsimu = np.arange(44,53,1)\n",
    "extract_phase(case, case.tsimu)\n",
    "\n",
    "case = case_con3\n",
    "case.tsimu = np.arange(44,53,1)\n",
    "extract_phase(case, case.tsimu)\n",
    "\n",
    "# # Precursors \n",
    "# case = case_pre1\n",
    "# case.tsimu = np.arange(53,64)\n",
    "# extract_phase(case, case.tsimu, PRE=True)\n",
    "\n",
    "# case = case_pre3\n",
    "# case.tsimu = np.arange(300,307)\n",
    "# extract_phase(case, case.tsimu, PRE=True)"
   ]
  },
  {
   "cell_type": "markdown",
   "metadata": {},
   "source": [
    "### Read in pressure from scratch "
   ]
  },
  {
   "cell_type": "code",
   "execution_count": 40,
   "metadata": {
    "scrolled": true
   },
   "outputs": [
    {
     "name": "stderr",
     "output_type": "stream",
     "text": [
      "  0%|          | 0/6 [00:00<?, ?it/s]"
     ]
    },
    {
     "name": "stdout",
     "output_type": "stream",
     "text": [
      "43\n",
      "pickle restored!\n"
     ]
    },
    {
     "name": "stderr",
     "output_type": "stream",
     "text": [
      " 17%|█▋        | 1/6 [00:01<00:05,  1.18s/it]"
     ]
    },
    {
     "name": "stdout",
     "output_type": "stream",
     "text": [
      "44\n",
      "pickle restored!\n"
     ]
    },
    {
     "name": "stderr",
     "output_type": "stream",
     "text": [
      " 33%|███▎      | 2/6 [00:02<00:04,  1.13s/it]"
     ]
    },
    {
     "name": "stdout",
     "output_type": "stream",
     "text": [
      "45\n",
      "pickle restored!\n"
     ]
    },
    {
     "name": "stderr",
     "output_type": "stream",
     "text": [
      " 50%|█████     | 3/6 [00:03<00:03,  1.09s/it]"
     ]
    },
    {
     "name": "stdout",
     "output_type": "stream",
     "text": [
      "46\n",
      "pickle restored!\n"
     ]
    },
    {
     "name": "stderr",
     "output_type": "stream",
     "text": [
      " 67%|██████▋   | 4/6 [00:04<00:02,  1.09s/it]"
     ]
    },
    {
     "name": "stdout",
     "output_type": "stream",
     "text": [
      "47\n",
      "pickle restored!\n"
     ]
    },
    {
     "name": "stderr",
     "output_type": "stream",
     "text": [
      " 83%|████████▎ | 5/6 [00:05<00:01,  1.09s/it]"
     ]
    },
    {
     "name": "stdout",
     "output_type": "stream",
     "text": [
      "48\n",
      "pickle restored!\n"
     ]
    },
    {
     "name": "stderr",
     "output_type": "stream",
     "text": [
      "100%|██████████| 6/6 [00:06<00:00,  1.11s/it]\n",
      "  0%|          | 0/9 [00:00<?, ?it/s]"
     ]
    },
    {
     "name": "stdout",
     "output_type": "stream",
     "text": [
      "44\n",
      "pickle restored!\n"
     ]
    },
    {
     "name": "stderr",
     "output_type": "stream",
     "text": [
      " 11%|█         | 1/9 [00:01<00:09,  1.17s/it]"
     ]
    },
    {
     "name": "stdout",
     "output_type": "stream",
     "text": [
      "45\n",
      "pickle restored!\n"
     ]
    },
    {
     "name": "stderr",
     "output_type": "stream",
     "text": [
      " 22%|██▏       | 2/9 [00:02<00:07,  1.12s/it]"
     ]
    },
    {
     "name": "stdout",
     "output_type": "stream",
     "text": [
      "46\n",
      "pickle restored!\n"
     ]
    },
    {
     "name": "stderr",
     "output_type": "stream",
     "text": [
      " 33%|███▎      | 3/9 [00:03<00:05,  1.03it/s]"
     ]
    },
    {
     "name": "stdout",
     "output_type": "stream",
     "text": [
      "47\n",
      "pickle restored!\n"
     ]
    },
    {
     "name": "stderr",
     "output_type": "stream",
     "text": [
      " 44%|████▍     | 4/9 [00:03<00:04,  1.10it/s]"
     ]
    },
    {
     "name": "stdout",
     "output_type": "stream",
     "text": [
      "48\n",
      "pickle restored!\n"
     ]
    },
    {
     "name": "stderr",
     "output_type": "stream",
     "text": [
      " 56%|█████▌    | 5/9 [00:04<00:03,  1.04it/s]"
     ]
    },
    {
     "name": "stdout",
     "output_type": "stream",
     "text": [
      "49\n",
      "pickle restored!\n"
     ]
    },
    {
     "name": "stderr",
     "output_type": "stream",
     "text": [
      " 67%|██████▋   | 6/9 [00:05<00:02,  1.03it/s]"
     ]
    },
    {
     "name": "stdout",
     "output_type": "stream",
     "text": [
      "50\n",
      "pickle restored!\n"
     ]
    },
    {
     "name": "stderr",
     "output_type": "stream",
     "text": [
      " 78%|███████▊  | 7/9 [00:06<00:01,  1.02it/s]"
     ]
    },
    {
     "name": "stdout",
     "output_type": "stream",
     "text": [
      "51\n",
      "pickle restored!\n"
     ]
    },
    {
     "name": "stderr",
     "output_type": "stream",
     "text": [
      " 89%|████████▉ | 8/9 [00:08<00:01,  1.02s/it]"
     ]
    },
    {
     "name": "stdout",
     "output_type": "stream",
     "text": [
      "52\n",
      "pickle restored!\n"
     ]
    },
    {
     "name": "stderr",
     "output_type": "stream",
     "text": [
      "100%|██████████| 9/9 [00:09<00:00,  1.00s/it]\n",
      "  0%|          | 0/9 [00:00<?, ?it/s]"
     ]
    },
    {
     "name": "stdout",
     "output_type": "stream",
     "text": [
      "44\n",
      "pickle restored!\n"
     ]
    },
    {
     "name": "stderr",
     "output_type": "stream",
     "text": [
      " 11%|█         | 1/9 [00:01<00:09,  1.16s/it]"
     ]
    },
    {
     "name": "stdout",
     "output_type": "stream",
     "text": [
      "45\n",
      "pickle restored!\n"
     ]
    },
    {
     "name": "stderr",
     "output_type": "stream",
     "text": [
      " 22%|██▏       | 2/9 [00:02<00:07,  1.11s/it]"
     ]
    },
    {
     "name": "stdout",
     "output_type": "stream",
     "text": [
      "46\n",
      "pickle restored!\n"
     ]
    },
    {
     "name": "stderr",
     "output_type": "stream",
     "text": [
      " 33%|███▎      | 3/9 [00:03<00:06,  1.13s/it]"
     ]
    },
    {
     "name": "stdout",
     "output_type": "stream",
     "text": [
      "47\n",
      "pickle restored!\n"
     ]
    },
    {
     "name": "stderr",
     "output_type": "stream",
     "text": [
      " 44%|████▍     | 4/9 [00:04<00:05,  1.10s/it]"
     ]
    },
    {
     "name": "stdout",
     "output_type": "stream",
     "text": [
      "48\n",
      "pickle restored!\n"
     ]
    },
    {
     "name": "stderr",
     "output_type": "stream",
     "text": [
      " 56%|█████▌    | 5/9 [00:05<00:04,  1.12s/it]"
     ]
    },
    {
     "name": "stdout",
     "output_type": "stream",
     "text": [
      "49\n",
      "pickle restored!\n"
     ]
    },
    {
     "name": "stderr",
     "output_type": "stream",
     "text": [
      " 67%|██████▋   | 6/9 [00:06<00:03,  1.14s/it]"
     ]
    },
    {
     "name": "stdout",
     "output_type": "stream",
     "text": [
      "50\n",
      "pickle restored!\n"
     ]
    },
    {
     "name": "stderr",
     "output_type": "stream",
     "text": [
      " 78%|███████▊  | 7/9 [00:07<00:02,  1.15s/it]"
     ]
    },
    {
     "name": "stdout",
     "output_type": "stream",
     "text": [
      "51\n",
      "pickle restored!\n"
     ]
    },
    {
     "name": "stderr",
     "output_type": "stream",
     "text": [
      " 89%|████████▉ | 8/9 [00:12<00:02,  2.23s/it]"
     ]
    },
    {
     "name": "stdout",
     "output_type": "stream",
     "text": [
      "52\n",
      "pickle restored!\n"
     ]
    },
    {
     "name": "stderr",
     "output_type": "stream",
     "text": [
      "100%|██████████| 9/9 [00:13<00:00,  1.52s/it]\n"
     ]
    }
   ],
   "source": [
    "\"\"\" READIN: Pressure vertical profile. Add p_2D time series to the case (based on case.phase['t']). \n",
    "    Attributes: \n",
    "        p['t']\n",
    "        p['p_2D']: instantaneous pressure in x-z plane, already averaged spanwise.\n",
    "        p['phat'], p['amp']: phase and amplitude of the pressure signal\n",
    "\"\"\"\n",
    "\n",
    "def read_p (case):\n",
    "    case.p_2D = []\n",
    "    NSLICE = 256\n",
    "    NGRID = 512\n",
    "\n",
    "    for i in tqdm(range(0, np.size(case.p['t']))):    \n",
    "        pair_3D = {'name':'pair', 'value':[]}\n",
    "        f_3D = {'name':'f', 'value': []}\n",
    "        tsimu = case.p['t'][i] + case.tstart\n",
    "        print(tsimu)\n",
    "        phasei = np.where(np.isclose(np.array(case.phase['t']), case.p['t'][i]))[0][0] # Because t is a float\n",
    "        idx = case.phase['idx'][phasei]\n",
    "\n",
    "        # Read in the fields either from pickle or from slice data\n",
    "        field = pair_3D\n",
    "        \"\"\"NOTICE: to accomodate different pickle versions\"\"\"\n",
    "        picklename = case.path + 'field/' + 'pickle_tiger/' + field['name']+'_t%g' % tsimu +'.pkl'\n",
    "    #             picklename = working_dir + 'field/' + 'pickle_desktop/' + field['name']+'_t%g' % t +'.pkl'\n",
    "        exists = os.path.exists(picklename)\n",
    "        # If the pickle is there read in the pickles\n",
    "        if exists:\n",
    "            field['value'] = load_object(picklename)\n",
    "            print('pickle restored!')\n",
    "        # If no pickle read in from the slice files and pickle dump\n",
    "        if not exists:\n",
    "            for sn in range (0, NSLICE-1):\n",
    "                filename = case.path + 'field/'+field['name']+'_run'+'_t%g_slice%g' % (tsimu,sn)\n",
    "                snapshot = np.loadtxt(filename, dtype = np.str, delimiter='\\t')\n",
    "                snapshot.reshape([NGRID,NGRID+1])\n",
    "                field['value'].append(snapshot[:,0:NGRID].astype(np.float))\n",
    "            field['value'] = np.array(field['value'])\n",
    "            save_object(field['value'], picklename) \n",
    "        field['value'] = np.roll(field['value'], -idx, axis=1)\n",
    "\n",
    "        case.p['p_2D'].append(np.average(pair_3D['value'], axis=0))\n",
    "\n",
    "# Easier cases, pressure and phase are dumped at the same rate \n",
    "# for case in (case1,case2,case3,case4,case5,case6):\n",
    "#     case.p = {\"t\":[], \"p_2D\":[], 'phat':[], 'dphase':[]}\n",
    "#     case.p['t'] = case.phase['t']\n",
    "#     read_p(case)\n",
    "\n",
    "# Special cases, not the same rate\n",
    "# case = case7\n",
    "# case.p = {\"t\":[], \"p_2D\":[], 'phat':[], 'dphase':[]}\n",
    "# # case.p['t'] = np.concatenate((np.arange(44,54,1), np.arange(55,66,0.2))) - case.tstart\n",
    "# case.p['t'] = np.arange(44,84,1) - case.tstart\n",
    "# read_p(case)\n",
    "\n",
    "# case = case8\n",
    "# case.p = {\"t\":[], \"p_2D\":[], 'phat':[], 'dphase':[]}\n",
    "# case.p['t'] = np.arange(43.2,52.2,0.2) - case.tstart\n",
    "# read_p(case)\n",
    "\n",
    "# case = case9\n",
    "# case.p = {\"t\":[], \"p_2D\":[], 'phat':[], 'dphase':[]}\n",
    "# # case.p['t'] = np.concatenate((np.arange(44,54,1), np.arange(55,63,0.2))) - case.tstart\n",
    "# case.p['t'] = np.arange(44,78,1) - case.tstart\n",
    "# read_p(case)\n",
    "\n",
    "# case = case10\n",
    "# case.p = {\"t\":[], \"p_2D\":[], 'phat':[], 'dphase':[]}\n",
    "# case.p['t'] = np.arange(43.2,58.2,0.2) - case.tstart\n",
    "# read_p(case)\n",
    "\n",
    "# case = case11\n",
    "# case.p = {\"t\":[], \"p_2D\":[], 'phat':[], 'dphase':[]}\n",
    "# case.p['t'] = np.arange(44,56,1) - case.tstart\n",
    "# read_p(case)\n",
    "\n",
    "# case = case12\n",
    "# case.p = {\"t\":[], \"p_2D\":[], 'phat':[], 'dphase':[]}\n",
    "# case.p['t'] = np.arange(43.2,54.2,0.2) - case.tstart\n",
    "# read_p(case)\n",
    "\n",
    "# case = case13\n",
    "# case.p = {\"t\":[], \"p_2D\":[], 'phat':[], 'dphase':[]}\n",
    "# case.p['t'] = np.arange(43.2,53.2,0.2) - case.tstart\n",
    "# read_p(case)\n",
    "\n",
    "# case = case14\n",
    "# case.p = {\"t\":[], \"p_2D\":[], 'phat':[], 'dphase':[]}\n",
    "# case.p['t'] = np.arange(43.2,59.6,0.2) - case.tstart\n",
    "# read_p(case)\n",
    "\n",
    "# case = case15\n",
    "# case.p = {\"t\":[], \"p_2D\":[], 'phat':[], 'dphase':[]}\n",
    "# case.p['t'] = np.arange(43.2,56.6,0.2) - case.tstart\n",
    "# read_p(case)\n",
    "\n",
    "# case = case16\n",
    "# case.p = {\"t\":[], \"p_2D\":[], 'phat':[], 'dphase':[]}\n",
    "# case.p['t'] = np.arange(43.2,53.6,0.2) - case.tstart\n",
    "# read_p(case)\n",
    "\n",
    "# case = case17\n",
    "# case.p = {\"t\":[], \"p_2D\":[], 'phat':[], 'dphase':[]}\n",
    "# case.p['t'] = np.arange(308,321,1) - case.tstart\n",
    "# read_p(case)\n",
    "\n",
    "# case = case18\n",
    "# case.p = {\"t\":[], \"p_2D\":[], 'phat':[], 'dphase':[]}\n",
    "# case.p['t'] = np.arange(44,54,1) - case.tstart\n",
    "# read_p(case)\n",
    "\n",
    "# case = case19\n",
    "# case.p = {\"t\":[], \"p_2D\":[], 'phat':[], 'dphase':[]}\n",
    "# case.p['t'] = np.arange(57.2,68.2,0.2) - case.tstart\n",
    "# read_p(case)\n",
    "\n",
    "# case = case_swell\n",
    "# case.p = {\"t\":[], \"p_2D\":[], 'phat':[], 'dphase':[]}\n",
    "# case.p['t'] = np.arange(43.2,49.6,0.2) - case.tstart\n",
    "# read_p(case)\n",
    "\n",
    "case = case_con1\n",
    "case.p = {\"t\":[], \"p_2D\":[], 'phat':[], 'dphase':[]}\n",
    "case.p['t'] = np.arange(43,49,1) - case.tstart\n",
    "read_p(case)\n",
    "\n",
    "case = case_con2\n",
    "case.p = {\"t\":[], \"p_2D\":[], 'phat':[], 'dphase':[]}\n",
    "case.p['t'] = np.arange(44,53,1) - case.tstart\n",
    "read_p(case)\n",
    "\n",
    "case = case_con3\n",
    "case.p = {\"t\":[], \"p_2D\":[], 'phat':[], 'dphase':[]}\n",
    "case.p['t'] = np.arange(44,53,1) - case.tstart\n",
    "read_p(case)"
   ]
  },
  {
   "cell_type": "markdown",
   "metadata": {},
   "source": [
    "### Read in other fields from scratch"
   ]
  },
  {
   "cell_type": "code",
   "execution_count": 41,
   "metadata": {},
   "outputs": [
    {
     "name": "stderr",
     "output_type": "stream",
     "text": [
      "  0%|          | 0/6 [00:00<?, ?it/s]"
     ]
    },
    {
     "name": "stdout",
     "output_type": "stream",
     "text": [
      "43\n",
      "pickle restored!\n",
      "pickle restored!\n",
      "pickle restored!\n"
     ]
    },
    {
     "name": "stderr",
     "output_type": "stream",
     "text": [
      " 17%|█▋        | 1/6 [00:03<00:16,  3.33s/it]"
     ]
    },
    {
     "name": "stdout",
     "output_type": "stream",
     "text": [
      "44\n",
      "pickle restored!\n",
      "pickle restored!\n",
      "pickle restored!\n"
     ]
    },
    {
     "name": "stderr",
     "output_type": "stream",
     "text": [
      " 33%|███▎      | 2/6 [00:06<00:13,  3.34s/it]"
     ]
    },
    {
     "name": "stdout",
     "output_type": "stream",
     "text": [
      "45\n",
      "pickle restored!\n",
      "pickle restored!\n",
      "pickle restored!\n"
     ]
    },
    {
     "name": "stderr",
     "output_type": "stream",
     "text": [
      " 50%|█████     | 3/6 [00:09<00:09,  3.32s/it]"
     ]
    },
    {
     "name": "stdout",
     "output_type": "stream",
     "text": [
      "46\n",
      "pickle restored!\n",
      "pickle restored!\n",
      "pickle restored!\n"
     ]
    },
    {
     "name": "stderr",
     "output_type": "stream",
     "text": [
      " 67%|██████▋   | 4/6 [00:13<00:06,  3.33s/it]"
     ]
    },
    {
     "name": "stdout",
     "output_type": "stream",
     "text": [
      "47\n",
      "pickle restored!\n",
      "pickle restored!\n",
      "pickle restored!\n"
     ]
    },
    {
     "name": "stderr",
     "output_type": "stream",
     "text": [
      " 83%|████████▎ | 5/6 [00:16<00:03,  3.28s/it]"
     ]
    },
    {
     "name": "stdout",
     "output_type": "stream",
     "text": [
      "48\n",
      "pickle restored!\n",
      "pickle restored!\n",
      "pickle restored!\n"
     ]
    },
    {
     "name": "stderr",
     "output_type": "stream",
     "text": [
      "100%|██████████| 6/6 [00:19<00:00,  3.30s/it]\n",
      "  0%|          | 0/9 [00:00<?, ?it/s]"
     ]
    },
    {
     "name": "stdout",
     "output_type": "stream",
     "text": [
      "44\n",
      "pickle restored!\n",
      "pickle restored!\n",
      "pickle restored!\n"
     ]
    },
    {
     "name": "stderr",
     "output_type": "stream",
     "text": [
      " 11%|█         | 1/9 [00:02<00:23,  2.91s/it]"
     ]
    },
    {
     "name": "stdout",
     "output_type": "stream",
     "text": [
      "45\n",
      "pickle restored!\n",
      "pickle restored!\n",
      "pickle restored!\n"
     ]
    },
    {
     "name": "stderr",
     "output_type": "stream",
     "text": [
      " 22%|██▏       | 2/9 [00:05<00:20,  2.98s/it]"
     ]
    },
    {
     "name": "stdout",
     "output_type": "stream",
     "text": [
      "46\n",
      "pickle restored!\n",
      "pickle restored!\n",
      "pickle restored!\n"
     ]
    },
    {
     "name": "stderr",
     "output_type": "stream",
     "text": [
      " 33%|███▎      | 3/9 [00:09<00:18,  3.07s/it]"
     ]
    },
    {
     "name": "stdout",
     "output_type": "stream",
     "text": [
      "47\n",
      "pickle restored!\n",
      "pickle restored!\n",
      "pickle restored!\n"
     ]
    },
    {
     "name": "stderr",
     "output_type": "stream",
     "text": [
      " 44%|████▍     | 4/9 [00:12<00:16,  3.21s/it]"
     ]
    },
    {
     "name": "stdout",
     "output_type": "stream",
     "text": [
      "48\n",
      "pickle restored!\n",
      "pickle restored!\n",
      "pickle restored!\n"
     ]
    },
    {
     "name": "stderr",
     "output_type": "stream",
     "text": [
      " 56%|█████▌    | 5/9 [00:15<00:13,  3.27s/it]"
     ]
    },
    {
     "name": "stdout",
     "output_type": "stream",
     "text": [
      "49\n",
      "pickle restored!\n",
      "pickle restored!\n",
      "pickle restored!\n"
     ]
    },
    {
     "name": "stderr",
     "output_type": "stream",
     "text": [
      " 67%|██████▋   | 6/9 [00:19<00:10,  3.35s/it]"
     ]
    },
    {
     "name": "stdout",
     "output_type": "stream",
     "text": [
      "50\n",
      "pickle restored!\n",
      "pickle restored!\n",
      "pickle restored!\n"
     ]
    },
    {
     "name": "stderr",
     "output_type": "stream",
     "text": [
      " 78%|███████▊  | 7/9 [00:24<00:08,  4.05s/it]"
     ]
    },
    {
     "name": "stdout",
     "output_type": "stream",
     "text": [
      "51\n",
      "pickle restored!\n",
      "pickle restored!\n",
      "pickle restored!\n"
     ]
    },
    {
     "name": "stderr",
     "output_type": "stream",
     "text": [
      " 89%|████████▉ | 8/9 [00:29<00:04,  4.27s/it]"
     ]
    },
    {
     "name": "stdout",
     "output_type": "stream",
     "text": [
      "52\n",
      "pickle restored!\n",
      "pickle restored!\n",
      "pickle restored!\n"
     ]
    },
    {
     "name": "stderr",
     "output_type": "stream",
     "text": [
      "100%|██████████| 9/9 [00:32<00:00,  3.62s/it]\n",
      "  0%|          | 0/9 [00:00<?, ?it/s]"
     ]
    },
    {
     "name": "stdout",
     "output_type": "stream",
     "text": [
      "44\n",
      "pickle restored!\n",
      "pickle restored!\n",
      "pickle restored!\n"
     ]
    },
    {
     "name": "stderr",
     "output_type": "stream",
     "text": [
      " 11%|█         | 1/9 [00:02<00:22,  2.86s/it]"
     ]
    },
    {
     "name": "stdout",
     "output_type": "stream",
     "text": [
      "45\n",
      "pickle restored!\n",
      "pickle restored!\n",
      "pickle restored!\n"
     ]
    },
    {
     "name": "stderr",
     "output_type": "stream",
     "text": [
      " 22%|██▏       | 2/9 [00:06<00:21,  3.13s/it]"
     ]
    },
    {
     "name": "stdout",
     "output_type": "stream",
     "text": [
      "46\n",
      "pickle restored!\n",
      "pickle restored!\n",
      "pickle restored!\n"
     ]
    },
    {
     "name": "stderr",
     "output_type": "stream",
     "text": [
      " 33%|███▎      | 3/9 [00:09<00:20,  3.35s/it]"
     ]
    },
    {
     "name": "stdout",
     "output_type": "stream",
     "text": [
      "47\n",
      "pickle restored!\n",
      "pickle restored!\n",
      "pickle restored!\n"
     ]
    },
    {
     "name": "stderr",
     "output_type": "stream",
     "text": [
      " 44%|████▍     | 4/9 [00:15<00:22,  4.43s/it]"
     ]
    },
    {
     "name": "stdout",
     "output_type": "stream",
     "text": [
      "48\n",
      "pickle restored!\n",
      "pickle restored!\n",
      "pickle restored!\n"
     ]
    },
    {
     "name": "stderr",
     "output_type": "stream",
     "text": [
      " 56%|█████▌    | 5/9 [00:19<00:16,  4.11s/it]"
     ]
    },
    {
     "name": "stdout",
     "output_type": "stream",
     "text": [
      "49\n",
      "pickle restored!\n",
      "pickle restored!\n",
      "pickle restored!\n"
     ]
    },
    {
     "name": "stderr",
     "output_type": "stream",
     "text": [
      " 67%|██████▋   | 6/9 [00:22<00:11,  3.92s/it]"
     ]
    },
    {
     "name": "stdout",
     "output_type": "stream",
     "text": [
      "50\n",
      "pickle restored!\n",
      "pickle restored!\n",
      "pickle restored!\n"
     ]
    },
    {
     "name": "stderr",
     "output_type": "stream",
     "text": [
      " 78%|███████▊  | 7/9 [00:26<00:07,  3.91s/it]"
     ]
    },
    {
     "name": "stdout",
     "output_type": "stream",
     "text": [
      "51\n",
      "pickle restored!\n",
      "pickle restored!\n",
      "pickle restored!\n"
     ]
    },
    {
     "name": "stderr",
     "output_type": "stream",
     "text": [
      " 89%|████████▉ | 8/9 [00:33<00:04,  4.68s/it]"
     ]
    },
    {
     "name": "stdout",
     "output_type": "stream",
     "text": [
      "52\n",
      "pickle restored!\n",
      "pickle restored!\n",
      "pickle restored!\n"
     ]
    },
    {
     "name": "stderr",
     "output_type": "stream",
     "text": [
      "100%|██████████| 9/9 [00:36<00:00,  4.07s/it]\n"
     ]
    }
   ],
   "source": [
    "\"\"\" Already knowing the phase at each time, align them\n",
    "    Read in other fields. \"\"\"\n",
    "\n",
    "def read_fields (case):\n",
    "    case.ux_2D = []\n",
    "    case.uy_2D = []\n",
    "    case.f_2D = []\n",
    "\n",
    "    for i in tqdm(range(0,np.size(case.field_t))):\n",
    "\n",
    "        NSLICE = 256    \n",
    "        NGRID = 512\n",
    "        ux_3D = {'name':'ux', 'value':[]} # axis0 in z, axis1 in x, axis2 in y  (in the code)\n",
    "        uy_3D = {'name':'uy', 'value':[]}\n",
    "        f_3D = {'name':'f', 'value':[]}\n",
    "        tsimu = case.field_t[i] + case.tstart\n",
    "        print(tsimu)\n",
    "        phasei = np.where(np.isclose(np.array(case.phase['t']), case.field_t[i]))[0][0]\n",
    "        idx = case.phase['idx'][phasei]\n",
    "\n",
    "        # Read in the fields either from pickle or from slice data\n",
    "        for field in (ux_3D,uy_3D,f_3D):         \n",
    "            \"\"\"NOTICE: to accomodate different pickle versions\"\"\"\n",
    "            picklename = case.path + 'field/' + 'pickle_tiger/' + field['name']+'_t%g' % tsimu +'.pkl'\n",
    "    #             picklename = working_dir + 'field/' + 'pickle_desktop/' + field['name']+'_t%g' % t +'.pkl'\n",
    "            exists = os.path.exists(picklename)\n",
    "            # If the pickle is there read in the pickles\n",
    "            if exists:\n",
    "                field['value'] = load_object(picklename)\n",
    "                print('pickle restored!')\n",
    "            # If no pickle read in from the slice files and pickle dump\n",
    "            if not exists:\n",
    "                for sn in range (0, NSLICE-1):\n",
    "                    filename = case.path + 'field/'+field['name']+'_t%g_slice%g' % (tsimu,sn)\n",
    "                    snapshot = np.loadtxt(filename, dtype = np.str, delimiter='\\t')\n",
    "                    snapshot.reshape([NGRID,NGRID+1])\n",
    "                    field['value'].append(snapshot[:,0:NGRID].astype(np.float))\n",
    "                field['value'] = np.array(field['value'])\n",
    "                save_object(field['value'], picklename)\n",
    "\n",
    "            # Shift the values along x axis\n",
    "            field['value'] = np.roll(field['value'], -idx, axis=1)\n",
    "\n",
    "        case.ux_2D.append(np.average(ux_3D['value'], axis=0))\n",
    "        case.uy_2D.append(np.average(uy_3D['value'], axis=0))\n",
    "        case.f_2D.append(np.average(f_3D['value'], axis=0))\n",
    "\n",
    "        \n",
    "# Easier cases\n",
    "# for case in (case1,case2,case3,case4,case5,case6):\n",
    "#     case.field_t = case.phase['t']\n",
    "#     read_fields(case)\n",
    "\n",
    "# case = case7\n",
    "# # case.field_t = np.arange(43.5,66.5,0.5) - case.tstart\n",
    "# case.field_t = np.arange(44,84,1) - case.tstart\n",
    "# read_fields(case)\n",
    "\n",
    "# case = case8\n",
    "# case.field_t = np.arange(43.5,52.5,0.5) - case.tstart\n",
    "# read_fields(case)\n",
    "\n",
    "# case = case9\n",
    "# case.field_t = np.arange(44,77,1) - case.tstart\n",
    "# read_fields(case)\n",
    "\n",
    "# case = case10\n",
    "# case.field_t = np.arange(43.5,58.5,0.5) - case.tstart\n",
    "# read_fields(case)\n",
    "\n",
    "# case = case11\n",
    "# case.field_t = np.arange(43.5,55.5,0.5) - case.tstart\n",
    "# read_fields(case)\n",
    "\n",
    "# case = case12\n",
    "# case.field_t = np.arange(43.5,54.5,0.5) - case.tstart\n",
    "# read_fields(case)\n",
    "\n",
    "# case = case13\n",
    "# case.field_t = np.arange(43.5,53.5,0.5) - case.tstart\n",
    "# read_fields(case)\n",
    "\n",
    "# case = case14\n",
    "# case.field_t = np.arange(43.5,59.5,0.5) - case.tstart\n",
    "# read_fields(case)\n",
    "\n",
    "# case = case15\n",
    "# case.field_t = np.arange(43.5,57,0.5) - case.tstart\n",
    "# read_fields(case)\n",
    "\n",
    "# case = case16\n",
    "# case.field_t = np.arange(43.5,53.5,0.5) - case.tstart\n",
    "# read_fields(case)\n",
    "\n",
    "# case = case_swell\n",
    "# case.field_t = np.arange(43.5,49.5,0.5) - case.tstart\n",
    "# read_fields(case)\n",
    "\n",
    "# case = case_con1\n",
    "# case.field_t = np.arange(44,53,1) - case.tstart\n",
    "# read_fields(case)\n",
    "\n",
    "# case = case14\n",
    "# case.field_t = np.arange(67,76,1) - case.tstart\n",
    "# read_fields(case)\n",
    "\n",
    "# case = case15\n",
    "# case.field_t = np.arange(67,74,1) - case.tstart\n",
    "# read_fields(case)\n",
    "\n",
    "# case = case17\n",
    "# case.field_t = np.arange(308,321,1) - case.tstart\n",
    "# read_fields(case)\n",
    "\n",
    "# case = case18\n",
    "# case.field_t = np.arange(44,54,1) - case.tstart\n",
    "# read_fields(case)\n",
    "\n",
    "# case = case19\n",
    "# case.field_t = np.arange(58,69,1) - case.tstart\n",
    "# read_fields(case)\n",
    "\n",
    "case = case_con1\n",
    "case.field_t = np.arange(43,49,1) - case.tstart\n",
    "read_fields(case)\n",
    "\n",
    "case = case_con2\n",
    "case.field_t = np.arange(44,53,1) - case.tstart\n",
    "read_fields(case)\n",
    "\n",
    "case = case_con3\n",
    "case.field_t = np.arange(44,53,1) - case.tstart\n",
    "read_fields(case)"
   ]
  },
  {
   "cell_type": "markdown",
   "metadata": {},
   "source": [
    "### Restore cases (moving waves)"
   ]
  },
  {
   "cell_type": "markdown",
   "metadata": {},
   "source": [
    "#### Dump pickle"
   ]
  },
  {
   "cell_type": "code",
   "execution_count": 45,
   "metadata": {},
   "outputs": [],
   "source": [
    "\"\"\" DATA: dump the cases \"\"\" \n",
    "version = '_tiger'\n",
    "for case in (case1,case2,case3,case4,case5,case6,case7,case8,case9,case10,case11,case12,case13,case14,case15,case16,case17,case18,case19):\n",
    "    picklename = case.path + 'case_main' + version + '.pkl'\n",
    "    save_object(case, picklename)\n",
    "for case in (case_con1,case_con2,case_con3):\n",
    "    picklename = case.path + 'case_main' + version + '.pkl'\n",
    "    save_object(case, picklename)"
   ]
  },
  {
   "cell_type": "markdown",
   "metadata": {},
   "source": [
    "#### Restore pickle"
   ]
  },
  {
   "cell_type": "code",
   "execution_count": 3,
   "metadata": {},
   "outputs": [],
   "source": [
    "\"\"\" DATA: restore the cases \"\"\" \n",
    "version = '_tiger'\n",
    "picklename = case1.path + 'case_main' + version + '.pkl'\n",
    "case1 = load_object(picklename)\n",
    "\n",
    "picklename = case2.path + 'case_main' + version + '.pkl'\n",
    "case2 = load_object(picklename)\n",
    "\n",
    "picklename = case3.path + 'case_main' + version + '.pkl'\n",
    "case3 = load_object(picklename)\n",
    "\n",
    "picklename = case4.path + 'case_main' + version + '.pkl'\n",
    "case4 = load_object(picklename)\n",
    "\n",
    "picklename = case5.path + 'case_main' + version + '.pkl'\n",
    "case5 = load_object(picklename)\n",
    "\n",
    "picklename = case6.path + 'case_main' + version + '.pkl'\n",
    "case6 = load_object(picklename)\n",
    "\n",
    "picklename = case7.path + 'case_main' + version + '.pkl'\n",
    "case7 = load_object(picklename)\n",
    "\n",
    "picklename = case8.path + 'case_main' + version + '.pkl'\n",
    "case8 = load_object(picklename)\n",
    "\n",
    "picklename = case9.path + 'case_main' + version + '.pkl'\n",
    "case9 = load_object(picklename)\n",
    "\n",
    "picklename = case10.path + 'case_main' + version + '.pkl'\n",
    "case10 = load_object(picklename)\n",
    "\n",
    "picklename = case11.path + 'case_main' + version + '.pkl'\n",
    "case11 = load_object(picklename)\n",
    "\n",
    "picklename = case12.path + 'case_main' + version + '.pkl'\n",
    "case12 = load_object(picklename)\n",
    "\n",
    "picklename = case13.path + 'case_main' + version + '.pkl'\n",
    "case13 = load_object(picklename)\n",
    "\n",
    "picklename = case14.path + 'case_main' + version + '.pkl'\n",
    "case14 = load_object(picklename)\n",
    "\n",
    "picklename = case15.path + 'case_main' + version + '.pkl'\n",
    "case15 = load_object(picklename)\n",
    "\n",
    "picklename = case16.path + 'case_main' + version + '.pkl'\n",
    "case16 = load_object(picklename)\n",
    "\n",
    "picklename = case17.path + 'case_main' + version + '.pkl'\n",
    "case17 = load_object(picklename)\n",
    "\n",
    "picklename = case18.path + 'case_main' + version + '.pkl'\n",
    "case18 = load_object(picklename)\n",
    "\n",
    "picklename = case19.path + 'case_main' + version + '.pkl'\n",
    "case19 = load_object(picklename)"
   ]
  },
  {
   "cell_type": "code",
   "execution_count": null,
   "metadata": {},
   "outputs": [],
   "source": [
    "version = '_tiger'\n",
    "picklename = case_con1.path + 'case_main' + version + '.pkl'\n",
    "case_con1 = load_object(picklename)"
   ]
  },
  {
   "cell_type": "code",
   "execution_count": 70,
   "metadata": {},
   "outputs": [
    {
     "data": {
      "text/plain": [
       "86.21473191978271"
      ]
     },
     "execution_count": 70,
     "metadata": {},
     "output_type": "execute_result"
    }
   ],
   "source": [
    "case1.wave.omega*(100-57)"
   ]
  },
  {
   "cell_type": "code",
   "execution_count": null,
   "metadata": {},
   "outputs": [],
   "source": []
  }
 ],
 "metadata": {
  "kernelspec": {
   "display_name": "gp",
   "language": "python",
   "name": "gp"
  },
  "language_info": {
   "codemirror_mode": {
    "name": "ipython",
    "version": 3
   },
   "file_extension": ".py",
   "mimetype": "text/x-python",
   "name": "python",
   "nbconvert_exporter": "python",
   "pygments_lexer": "ipython3",
   "version": "3.10.0"
  }
 },
 "nbformat": 4,
 "nbformat_minor": 4
}
