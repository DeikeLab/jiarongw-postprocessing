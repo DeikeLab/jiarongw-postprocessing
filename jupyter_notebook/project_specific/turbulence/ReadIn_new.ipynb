{
 "cells": [
  {
   "cell_type": "code",
   "execution_count": 1,
   "metadata": {},
   "outputs": [],
   "source": [
    "import numpy as np\n",
    "from defs import Case, Interface2D\n",
    "from phase import extract_phase\n",
    "from prepare import load_object, save_object\n",
    "from prepare import read_p, read_fields"
   ]
  },
  {
   "cell_type": "markdown",
   "metadata": {},
   "source": [
    "### Define cases"
   ]
  },
  {
   "cell_type": "code",
   "execution_count": 2,
   "metadata": {
    "scrolled": true
   },
   "outputs": [
    {
     "name": "stdout",
     "output_type": "stream",
     "text": [
      "/projects/DEIKE/jiarongw/turbulence/curved_fixREtau_boundary_REtau720_BO200_g1_ak0.2_MU16_LEVEL10_emax0.3/\n",
      "mu1 = 7.67063e-06, rho1 = 1, mu2 = 2.24719e-06, rho2 = 0.001225, sigma = 0.0003125\n",
      "Given k = 4 (1/m), calculated omega = 2.00499 (1/s), period = 3.13377 (s), phase speed c = 0.501248 (m/s), wavelength = 1.5708 (m), Bo = 200\n",
      "g = 1, c = 0.501248, Ustar = 0.25, MURATIO = 0.01831, mu_w = 7.67063e-06, rho_w = 1, mu_a = 2.24719e-06, rho_a = 0.001225, sigma = 0.0003125, Bo = 200, RE = 102646, Re_tau = 720\n",
      "RELEASETIME = 57, uemax = 0.075 \n",
      "tiger-h19c2n6.28240Exhausted 1048576 MQ irecv request descriptors, which usually indicates a user program error or insufficient request descriptors (PSM2_MQ_RECVREQS_MAX=1048576)\n",
      "srun: Job step aborted: Waiting up to 47 seconds for job step to finish.\n",
      "slurmstepd: error: *** STEP 7188585.0 ON tiger-h19c2n6 CANCELLED AT 2021-09-21T01:12:00 DUE TO TIME LIMIT ***\n",
      "[warn] Epoll ADD(4) on fd 42 failed.  Old events were 0; read change was 0 (none); write change was 1 (add): Bad file descriptor\n",
      "\n",
      "/projects/DEIKE/jiarongw/turbulence/curved_fixREtau_boundary_REtau720_BO200_g4_ak0.2_MU8_LEVEL10_emax0.3/\n",
      "mu1 = 1.53413e-05, rho1 = 1, mu2 = 2.24719e-06, rho2 = 0.001225, sigma = 0.00125\n",
      "Given k = 4 (1/m), calculated omega = 4.00999 (1/s), period = 1.56688 (s), phase speed c = 1.0025 (m/s), wavelength = 1.5708 (m), Bo = 200\n",
      "g = 4, c = 1.0025, Ustar = 0.25, MURATIO = 0.01831, mu_w = 1.53413e-05, rho_w = 1, mu_a = 2.24719e-06, rho_a = 0.001225, sigma = 0.00125, Bo = 200, RE = 102646, Re_tau = 720\n",
      "RELEASETIME = 57, uemax = 0.075 \n",
      "srun: Job step aborted: Waiting up to 47 seconds for job step to finish.\n",
      "slurmstepd: error: *** STEP 6251153.0 ON tiger-h21c2n21 CANCELLED AT 2021-04-19T06:24:06 DUE TO TIME LIMIT ***\n",
      "\n",
      "/projects/DEIKE/jiarongw/turbulence/curved_fixREtau_boundary_REtau720_BO200_g16_ak0.2_MU4_LEVEL10_emax0.3/\n",
      "mu1 = 3.06825e-05, rho1 = 1, mu2 = 2.24719e-06, rho2 = 0.001225, sigma = 0.005\n",
      "Given k = 4 (1/m), calculated omega = 8.01998 (1/s), period = 0.783442 (s), phase speed c = 2.00499 (m/s), wavelength = 1.5708 (m), Bo = 200\n",
      "g = 16, c = 2.00499, Ustar = 0.25, MURATIO = 0.01831, mu_w = 3.06825e-05, rho_w = 1, mu_a = 2.24719e-06, rho_a = 0.001225, sigma = 0.005, Bo = 200, RE = 102646, Re_tau = 720\n",
      "RELEASETIME = 57, uemax = 0.075 \n",
      "srun: Job step aborted: Waiting up to 47 seconds for job step to finish.\n",
      "slurmstepd: error: *** STEP 7313935.0 ON tiger-h19c1n14 CANCELLED AT 2021-09-30T13:42:50 DUE TO TIME LIMIT ***\n",
      "\n",
      "/projects/DEIKE/jiarongw/turbulence/curved_fixREtau_boundary_REtau720_BO200_g1_ak0.1_MU16_LEVEL10_emax0.1/\n",
      "mu1 = 7.67063e-06, rho1 = 1, mu2 = 2.24719e-06, rho2 = 0.001225, sigma = 0.0003125\n",
      "Given k = 4 (1/m), calculated omega = 2.00499 (1/s), period = 3.13377 (s), phase speed c = 0.501248 (m/s), wavelength = 1.5708 (m), Bo = 200\n",
      "g = 1, c = 0.501248, Ustar = 0.25, MURATIO = 0.29296, mu_w = 7.67063e-06, rho_w = 1, mu_a = 2.24719e-06, rho_a = 0.001225, sigma = 0.0003125, Bo = 200, RE = 102646, Re_tau = 720\n",
      "RELEASETIME = 307, uemax = 0.025 \n",
      "\n",
      "/projects/DEIKE/jiarongw/turbulence/curved_fixREtau_boundary_REtau720_BO200_g4_ak0.1_MU8_LEVEL10_emax0.1/\n",
      "mu1 = 1.53413e-05, rho1 = 1, mu2 = 2.24719e-06, rho2 = 0.001225, sigma = 0.00125\n",
      "Given k = 4 (1/m), calculated omega = 4.00999 (1/s), period = 1.56688 (s), phase speed c = 1.0025 (m/s), wavelength = 1.5708 (m), Bo = 200\n",
      "g = 4, c = 1.0025, Ustar = 0.25, MURATIO = 0.14648, mu_w = 1.53413e-05, rho_w = 1, mu_a = 2.24719e-06, rho_a = 0.001225, sigma = 0.00125, Bo = 200, RE = 102646, Re_tau = 720\n",
      "RELEASETIME = 301.5, uemax = 0.025 \n",
      "\n",
      "/projects/DEIKE/jiarongw/turbulence/curved_fixREtau_boundary_REtau720_BO200_g16_ak0.1_MU4_LEVEL10_emax0.1/\n",
      "mu1 = 3.06825e-05, rho1 = 1, mu2 = 2.24719e-06, rho2 = 0.001225, sigma = 0.005\n",
      "Given k = 4 (1/m), calculated omega = 8.01998 (1/s), period = 0.783442 (s), phase speed c = 2.00499 (m/s), wavelength = 1.5708 (m), Bo = 200\n",
      "g = 16, c = 2.00499, Ustar = 0.25, MURATIO = 0.07324, mu_w = 3.06825e-05, rho_w = 1, mu_a = 2.24719e-06, rho_a = 0.001225, sigma = 0.005, Bo = 200, RE = 102646, Re_tau = 720\n",
      "RELEASETIME = 307, uemax = 0.025 \n",
      "\n",
      "/projects/DEIKE/jiarongw/turbulence/curved_fixREtau_boundary_REtau720_BO200_g1_ak0.15_MU16_LEVEL10_emax0.3/\n",
      "mu1 = 7.67063e-06, rho1 = 1, mu2 = 2.24719e-06, rho2 = 0.001225, sigma = 0.0003125\n",
      "Given k = 4 (1/m), calculated omega = 2.00499 (1/s), period = 3.13377 (s), phase speed c = 0.501248 (m/s), wavelength = 1.5708 (m), Bo = 200\n",
      "g = 1, c = 0.501248, Ustar = 0.25, MURATIO = 0.29296, mu_w = 7.67063e-06, rho_w = 1, mu_a = 2.24719e-06, rho_a = 0.001225, sigma = 0.0003125, Bo = 200, RE = 102646, Re_tau = 720\n",
      "RELEASETIME = 44, uemax = 0.075 \n",
      "\n",
      "/projects/DEIKE/jiarongw/turbulence/curved_fixREtau_boundary_REtau720_BO200_g2.25_ak0.15_MU10.666_LEVEL10_emax0.3/\n",
      "mu1 = 1.15067e-05, rho1 = 1, mu2 = 2.24719e-06, rho2 = 0.001225, sigma = 0.000703125\n",
      "Given k = 4 (1/m), calculated omega = 3.00749 (1/s), period = 2.08918 (s), phase speed c = 0.751873 (m/s), wavelength = 1.5708 (m), Bo = 200\n",
      "g = 2.25, c = 0.751873, Ustar = 0.25, MURATIO = 0.195294, mu_w = 1.15067e-05, rho_w = 1, mu_a = 2.24719e-06, rho_a = 0.001225, sigma = 0.000703125, Bo = 200, RE = 102640, Re_tau = 720\n",
      "RELEASETIME = 43, uemax = 0.075 \n",
      "\n",
      "/projects/DEIKE/jiarongw/turbulence/curved_fixREtau_boundary_REtau720_BO200_g4_ak0.15_MU8_LEVEL10_emax0.3/\n",
      "mu1 = 1.53413e-05, rho1 = 1, mu2 = 2.24719e-06, rho2 = 0.001225, sigma = 0.00125\n",
      "Given k = 4 (1/m), calculated omega = 4.00999 (1/s), period = 1.56688 (s), phase speed c = 1.0025 (m/s), wavelength = 1.5708 (m), Bo = 200\n",
      "g = 4, c = 1.0025, Ustar = 0.25, MURATIO = 0.14648, mu_w = 1.53413e-05, rho_w = 1, mu_a = 2.24719e-06, rho_a = 0.001225, sigma = 0.00125, Bo = 200, RE = 102646, Re_tau = 720\n",
      "RELEASETIME = 44, uemax = 0.075 \n",
      "\n",
      "/projects/DEIKE/jiarongw/turbulence/curved_fixREtau_boundary_REtau720_BO200_g9_ak0.15_MU5.333_LEVEL10_emax0.3/\n",
      "mu1 = 2.30133e-05, rho1 = 1, mu2 = 2.24719e-06, rho2 = 0.001225, sigma = 0.0028125\n",
      "Given k = 4 (1/m), calculated omega = 6.01498 (1/s), period = 1.04459 (s), phase speed c = 1.50375 (m/s), wavelength = 1.5708 (m), Bo = 200\n",
      "g = 9, c = 1.50375, Ustar = 0.25, MURATIO = 0.0976472, mu_w = 2.30133e-05, rho_w = 1, mu_a = 2.24719e-06, rho_a = 0.001225, sigma = 0.0028125, Bo = 200, RE = 102640, Re_tau = 720\n",
      "RELEASETIME = 43, uemax = 0.075 \n",
      "\n",
      "/projects/DEIKE/jiarongw/turbulence/curved_fixREtau_boundary_REtau720_BO200_g16_ak0.15_MU4_LEVEL10_emax0.3/\n",
      "mu1 = 3.06825e-05, rho1 = 1, mu2 = 2.24719e-06, rho2 = 0.001225, sigma = 0.005\n",
      "Given k = 4 (1/m), calculated omega = 8.01998 (1/s), period = 0.783442 (s), phase speed c = 2.00499 (m/s), wavelength = 1.5708 (m), Bo = 200\n",
      "g = 16, c = 2.00499, Ustar = 0.25, MURATIO = 0.07324, mu_w = 3.06825e-05, rho_w = 1, mu_a = 2.24719e-06, rho_a = 0.001225, sigma = 0.005, Bo = 200, RE = 102646, Re_tau = 720\n",
      "RELEASETIME = 44, uemax = 0.075 \n",
      "\n",
      "/projects/DEIKE/jiarongw/turbulence/curved_fixREtau_boundary_REtau720_BO200_g36_ak0.15_MU2.666_LEVEL10_emax0.3/\n",
      "mu1 = 4.60353e-05, rho1 = 1, mu2 = 2.24719e-06, rho2 = 0.001225, sigma = 0.01125\n",
      "Given k = 4 (1/m), calculated omega = 12.03 (1/s), period = 0.522295 (s), phase speed c = 3.00749 (m/s), wavelength = 1.5708 (m), Bo = 200\n",
      "g = 36, c = 3.00749, Ustar = 0.25, MURATIO = 0.0488145, mu_w = 4.60353e-05, rho_w = 1, mu_a = 2.24719e-06, rho_a = 0.001225, sigma = 0.01125, Bo = 200, RE = 102620, Re_tau = 720\n",
      "RELEASETIME = 43, uemax = 0.075 \n",
      "\n",
      "/projects/DEIKE/jiarongw/turbulence/curved_fixREtau_boundary_REtau720_BO200_g64_ak0.15_MU2_LEVEL10_emax0.3/\n",
      "mu1 = 6.13651e-05, rho1 = 1, mu2 = 2.24719e-06, rho2 = 0.001225, sigma = 0.02\n",
      "Given k = 4 (1/m), calculated omega = 16.04 (1/s), period = 0.391721 (s), phase speed c = 4.00999 (m/s), wavelength = 1.5708 (m), Bo = 200\n",
      "/var/spool/pbs/mom_priv/jobs/1355729.chadmin1.ib0.cheyenne.ucar.edu.SC: line 33: mpirun: command not found\n",
      "\n",
      "/projects/DEIKE/jiarongw/turbulence/curved_fixREtau_boundary_REtau720_BO200_g1_ak0.05_MU16_LEVEL10_emax0.3/\n",
      "mu1 = 7.67063e-06, rho1 = 1, mu2 = 2.24719e-06, rho2 = 0.001225, sigma = 0.0003125\n",
      "Given k = 4 (1/m), calculated omega = 2.00499 (1/s), period = 3.13377 (s), phase speed c = 0.501248 (m/s), wavelength = 1.5708 (m), Bo = 200\n",
      "g = 1, c = 0.501248, Ustar = 0.25, MURATIO = 0.29296, mu_w = 7.67063e-06, rho_w = 1, mu_a = 2.24719e-06, rho_a = 0.001225, sigma = 0.0003125, Bo = 200, RE = 102646, Re_tau = 720\n",
      "RELEASETIME = 66.5, uemax = 0.075 \n",
      "\n",
      "/projects/DEIKE/jiarongw/turbulence/curved_fixREtau_boundary_REtau720_BO200_g4_ak0.05_MU8_LEVEL10_emax0.3/\n",
      "mu1 = 1.53413e-05, rho1 = 1, mu2 = 2.24719e-06, rho2 = 0.001225, sigma = 0.00125\n",
      "Given k = 4 (1/m), calculated omega = 4.00999 (1/s), period = 1.56688 (s), phase speed c = 1.0025 (m/s), wavelength = 1.5708 (m), Bo = 200\n",
      "g = 4, c = 1.0025, Ustar = 0.25, MURATIO = 0.14648, mu_w = 1.53413e-05, rho_w = 1, mu_a = 2.24719e-06, rho_a = 0.001225, sigma = 0.00125, Bo = 200, RE = 102646, Re_tau = 720\n",
      "RELEASETIME = 66.5, uemax = 0.075 \n",
      "[r5i5n30:66647] Read -1, expected 6144, errno = 3\n",
      "[r5i5n30:66647] Read -1, expected 22080, errno = 3\n",
      "[r5i5n30:66647] Read -1, expected 8448, errno = 3\n",
      "[r5i5n30:66648] Read -1, expected 5376, errno = 3\n",
      "[r5i5n30:66647] Read -1, expected 33216, errno = 3\n",
      "\n",
      "/projects/DEIKE/jiarongw/turbulence/curved_fixREtau_boundary_REtau720_BO200_g1_ak0.25_MU16_LEVEL10_emax0.3/\n",
      "mu1 = 7.67063e-06, rho1 = 1, mu2 = 2.24719e-06, rho2 = 0.001225, sigma = 0.0003125\n",
      "Given k = 4 (1/m), calculated omega = 2.00499 (1/s), period = 3.13377 (s), phase speed c = 0.501248 (m/s), wavelength = 1.5708 (m), Bo = 200\n",
      "g = 1, c = 0.501248, Ustar = 0.25, MURATIO = 0.29296, mu_w = 7.67063e-06, rho_w = 1, mu_a = 2.24719e-06, rho_a = 0.001225, sigma = 0.0003125, Bo = 200, RE = 102646, Re_tau = 720\n",
      "RELEASETIME = 43, uemax = 0.075 \n",
      "\n",
      "/projects/DEIKE/jiarongw/turbulence/curved_fixREtau_boundary_REtau720_BO200_g4_ak0.25_MU8_LEVEL10_emax0.3/\n",
      "mu1 = 1.53413e-05, rho1 = 1, mu2 = 2.24719e-06, rho2 = 0.001225, sigma = 0.00125\n",
      "Given k = 4 (1/m), calculated omega = 4.00999 (1/s), period = 1.56688 (s), phase speed c = 1.0025 (m/s), wavelength = 1.5708 (m), Bo = 200\n",
      "g = 4, c = 1.0025, Ustar = 0.25, MURATIO = 0.14648, mu_w = 1.53413e-05, rho_w = 1, mu_a = 2.24719e-06, rho_a = 0.001225, sigma = 0.00125, Bo = 200, RE = 102646, Re_tau = 720\n",
      "RELEASETIME = 43, uemax = 0.075 \n",
      "\n",
      "/projects/DEIKE/jiarongw/turbulence/curved_fixREtau_boundary_REtau720_BO200_g16_ak0.25_MU4_LEVEL10_emax0.3/\n",
      "mu1 = 3.06825e-05, rho1 = 1, mu2 = 2.24719e-06, rho2 = 0.001225, sigma = 0.005\n",
      "Given k = 4 (1/m), calculated omega = 8.01998 (1/s), period = 0.783442 (s), phase speed c = 2.00499 (m/s), wavelength = 1.5708 (m), Bo = 200\n",
      "g = 16, c = 2.00499, Ustar = 0.25, MURATIO = 0.07324, mu_w = 3.06825e-05, rho_w = 1, mu_a = 2.24719e-06, rho_a = 0.001225, sigma = 0.005, Bo = 200, RE = 102646, Re_tau = 720\n",
      "RELEASETIME = 43, uemax = 0.075 \n",
      "\n",
      "/projects/DEIKE/jiarongw/turbulence/curved_fixREtau_boundary_REtau720_BO200_g9_ak0.1_MU5.333_LEVEL10_emax0.1/\n",
      "mu1 = 2.30133e-05, rho1 = 1, mu2 = 2.24719e-06, rho2 = 0.001225, sigma = 0.0028125\n",
      "Given k = 4 (1/m), calculated omega = 6.01498 (1/s), period = 1.04459 (s), phase speed c = 1.50375 (m/s), wavelength = 1.5708 (m), Bo = 200\n",
      "g = 9, c = 1.50375, Ustar = 0.25, MURATIO = 0.0976472, mu_w = 2.30133e-05, rho_w = 1, mu_a = 2.24719e-06, rho_a = 0.001225, sigma = 0.0028125, Bo = 200, RE = 102640, Re_tau = 720\n",
      "RELEASETIME = 307, uemax = 0.025 \n",
      "\n",
      "/projects/DEIKE/jiarongw/turbulence/curved_fixREtau_boundary_REtau720_BO200_g9_ak0.25_MU5.333_LEVEL10_emax0.3/\n",
      "mu1 = 2.30133e-05, rho1 = 1, mu2 = 2.24719e-06, rho2 = 0.001225, sigma = 0.0028125\n",
      "Given k = 4 (1/m), calculated omega = 6.01498 (1/s), period = 1.04459 (s), phase speed c = 1.50375 (m/s), wavelength = 1.5708 (m), Bo = 200\n",
      "g = 9, c = 1.50375, Ustar = 0.25, MURATIO = 0.0976472, mu_w = 2.30133e-05, rho_w = 1, mu_a = 2.24719e-06, rho_a = 0.001225, sigma = 0.0028125, Bo = 200, RE = 102640, Re_tau = 720\n",
      "RELEASETIME = 43, uemax = 0.075 \n",
      "\n",
      "/projects/DEIKE/jiarongw/turbulence/curved_fixREtau_boundary_REtau720_BO200_g9_ak0.2_MU5.333_LEVEL10_emax0.3/\n",
      "mu1 = 2.30133e-05, rho1 = 1, mu2 = 2.24719e-06, rho2 = 0.001225, sigma = 0.0028125\n",
      "Given k = 4 (1/m), calculated omega = 6.01498 (1/s), period = 1.04459 (s), phase speed c = 1.50375 (m/s), wavelength = 1.5708 (m), Bo = 200\n",
      "g = 9, c = 1.50375, Ustar = 0.25, MURATIO = 0.0976472, mu_w = 2.30133e-05, rho_w = 1, mu_a = 2.24719e-06, rho_a = 0.001225, sigma = 0.0028125, Bo = 200, RE = 102640, Re_tau = 720\n",
      "RELEASETIME = 57, uemax = 0.075 \n",
      "\n"
     ]
    }
   ],
   "source": [
    "case1 = Case(ustar=0.25, Retau=720, Bo=200, g=1, ak=0.2, LEVEL=10, emax=0.3, alterMU=16, NOMATCH=True, \n",
    "             PRINTWAVE=True, OUTLEVEL=9, working_dir='/projects/DEIKE/jiarongw/turbulence/', prefix='curved_fixREtau_boundary_')\n",
    "case1.tstart = 57\n",
    "case2 = Case(ustar=0.25, Retau=720, Bo=200, g=4, ak=0.2, LEVEL=10, emax=0.3, alterMU=8, NOMATCH=True, \n",
    "             PRINTWAVE=True, OUTLEVEL=9, working_dir='/projects/DEIKE/jiarongw/turbulence/', prefix='curved_fixREtau_boundary_')\n",
    "case2.tstart = 57\n",
    "case3 = Case(ustar=0.25, Retau=720, Bo=200, g=16, ak=0.2, LEVEL=10, emax=0.3, alterMU=4, NOMATCH=True, \n",
    "             PRINTWAVE=True, OUTLEVEL=9, working_dir='/projects/DEIKE/jiarongw/turbulence/', prefix='curved_fixREtau_boundary_')\n",
    "case3.tstart = 57\n",
    "case4 = Case(ustar=0.25, Retau=720, Bo=200, g=1, ak=0.1, LEVEL=10, emax=0.1, alterMU=16, NOMATCH=True, \n",
    "             PRINTWAVE=True, OUTLEVEL=9, working_dir='/projects/DEIKE/jiarongw/turbulence/', prefix='curved_fixREtau_boundary_')\n",
    "case4.tstart = 307\n",
    "case5 = Case(ustar=0.25, Retau=720, Bo=200, g=4, ak=0.1, LEVEL=10, emax=0.1, alterMU=8, NOMATCH=True, \n",
    "             PRINTWAVE=True, OUTLEVEL=9, working_dir='/projects/DEIKE/jiarongw/turbulence/', prefix='curved_fixREtau_boundary_')\n",
    "case5.tstart = 301.5\n",
    "case6 = Case(ustar=0.25, Retau=720, Bo=200, g=16, ak=0.1, LEVEL=10, emax=0.1, alterMU=4, NOMATCH=True, \n",
    "             PRINTWAVE=True, OUTLEVEL=9, working_dir='/projects/DEIKE/jiarongw/turbulence/', prefix='curved_fixREtau_boundary_')\n",
    "case6.tstart = 307\n",
    "case7 = Case(ustar=0.25, Retau=720, Bo=200, g=1, ak=0.15, LEVEL=10, emax=0.3, alterMU=16, NOMATCH=True, \n",
    "             PRINTWAVE=True, OUTLEVEL=9, working_dir='/projects/DEIKE/jiarongw/turbulence/', prefix='curved_fixREtau_boundary_')\n",
    "case7.tstart = 43\n",
    "case8 = Case(ustar=0.25, Retau=720, Bo=200, g=2.25, ak=0.15, LEVEL=10, emax=0.3, alterMU=10.666, NOMATCH=True, \n",
    "             PRINTWAVE=True, OUTLEVEL=9, working_dir='/projects/DEIKE/jiarongw/turbulence/', prefix='curved_fixREtau_boundary_')\n",
    "case8.tstart = 43\n",
    "case9 = Case(ustar=0.25, Retau=720, Bo=200, g=4, ak=0.15, LEVEL=10, emax=0.3, alterMU=8, NOMATCH=True, \n",
    "             PRINTWAVE=True, OUTLEVEL=9, working_dir='/projects/DEIKE/jiarongw/turbulence/', prefix='curved_fixREtau_boundary_')\n",
    "case9.tstart = 43\n",
    "case10 = Case(ustar=0.25, Retau=720, Bo=200, g=9, ak=0.15, LEVEL=10, emax=0.3, alterMU=5.333, NOMATCH=True, \n",
    "             PRINTWAVE=True, OUTLEVEL=9, working_dir='/projects/DEIKE/jiarongw/turbulence/', prefix='curved_fixREtau_boundary_')\n",
    "case10.tstart = 43\n",
    "case11 = Case(ustar=0.25, Retau=720, Bo=200, g=16, ak=0.15, LEVEL=10, emax=0.3, alterMU=4, NOMATCH=True, \n",
    "             PRINTWAVE=True, OUTLEVEL=9, working_dir='/projects/DEIKE/jiarongw/turbulence/', prefix='curved_fixREtau_boundary_')\n",
    "case11.tstart = 43\n",
    "case12 = Case(ustar=0.25, Retau=720, Bo=200, g=36, ak=0.15, LEVEL=10, emax=0.3, alterMU=2.666, NOMATCH=True, \n",
    "             PRINTWAVE=True, OUTLEVEL=9, working_dir='/projects/DEIKE/jiarongw/turbulence/', prefix='curved_fixREtau_boundary_')\n",
    "case12.tstart = 43\n",
    "case13 = Case(ustar=0.25, Retau=720, Bo=200, g=64, ak=0.15, LEVEL=10, emax=0.3, alterMU=2, NOMATCH=True, \n",
    "             PRINTWAVE=True, OUTLEVEL=9, working_dir='/projects/DEIKE/jiarongw/turbulence/', prefix='curved_fixREtau_boundary_')\n",
    "case13.tstart = 43\n",
    "\n",
    "\n",
    "case14 = Case(ustar=0.25, Retau=720, Bo=200, g=1, ak=0.05, LEVEL=10, emax=0.3, alterMU=16, NOMATCH=True, \n",
    "               PRINTWAVE=True, OUTLEVEL=9, working_dir='/projects/DEIKE/jiarongw/turbulence/', prefix='curved_fixREtau_boundary_')\n",
    "case14.tstart = 66.5\n",
    "case15 = Case(ustar=0.25, Retau=720, Bo=200, g=4, ak=0.05, LEVEL=10, emax=0.3, alterMU=8, NOMATCH=True, \n",
    "               PRINTWAVE=True, OUTLEVEL=9, working_dir='/projects/DEIKE/jiarongw/turbulence/', prefix='curved_fixREtau_boundary_')\n",
    "case15.tstart = 66.5\n",
    "case14 = Case(ustar=0.25, Retau=720, Bo=200, g=1, ak=0.25, LEVEL=10, emax=0.3, alterMU=16, NOMATCH=True, \n",
    "               PRINTWAVE=True, OUTLEVEL=9, working_dir='/projects/DEIKE/jiarongw/turbulence/', prefix='curved_fixREtau_boundary_')\n",
    "case14.tstart = 43\n",
    "case15 = Case(ustar=0.25, Retau=720, Bo=200, g=4, ak=0.25, LEVEL=10, emax=0.3, alterMU=8, NOMATCH=True, \n",
    "               PRINTWAVE=True, OUTLEVEL=9, working_dir='/projects/DEIKE/jiarongw/turbulence/', prefix='curved_fixREtau_boundary_')\n",
    "case15.tstart = 43\n",
    "case16 = Case(ustar=0.25, Retau=720, Bo=200, g=16, ak=0.25, LEVEL=10, emax=0.3, alterMU=4, NOMATCH=True, \n",
    "               PRINTWAVE=True, OUTLEVEL=9, working_dir='/projects/DEIKE/jiarongw/turbulence/', prefix='curved_fixREtau_boundary_')\n",
    "case16.tstart = 43\n",
    "\n",
    "case17 = Case(ustar=0.25, Retau=720, Bo=200, g=9, ak=0.1, LEVEL=10, emax=0.1, alterMU=5.333, NOMATCH=True, \n",
    "              PRINTWAVE=True, OUTLEVEL=9, working_dir='/projects/DEIKE/jiarongw/turbulence/', prefix='curved_fixREtau_boundary_')\n",
    "case17.tstart = 307\n",
    "case18 = Case(ustar=0.25, Retau=720, Bo=200, g=9, ak=0.25, LEVEL=10, emax=0.3, alterMU=5.333, NOMATCH=True, \n",
    "               PRINTWAVE=True, OUTLEVEL=9, working_dir='/projects/DEIKE/jiarongw/turbulence/', prefix='curved_fixREtau_boundary_')\n",
    "case18.tstart = 43\n",
    "case19 = Case(ustar=0.25, Retau=720, Bo=200, g=9, ak=0.2, LEVEL=10, emax=0.3, alterMU=5.333, NOMATCH=True, \n",
    "               PRINTWAVE=True, OUTLEVEL=9, working_dir='/projects/DEIKE/jiarongw/turbulence/', prefix='curved_fixREtau_boundary_')\n",
    "case19.tstart = 57"
   ]
  },
  {
   "cell_type": "code",
   "execution_count": 3,
   "metadata": {
    "scrolled": true
   },
   "outputs": [
    {
     "name": "stdout",
     "output_type": "stream",
     "text": [
      "/projects/DEIKE/jiarongw/turbulence/rerun/curved_fixREtau_boundary_REtau720_BO200_g1_ak0.1_MU16_LEVEL10_emax0.3/\n",
      "mu1 = 7.67063e-06, rho1 = 1, mu2 = 2.24719e-06, rho2 = 0.001225, sigma = 0.0003125\n",
      "Given k = 4 (1/m), calculated omega = 2.00499 (1/s), period = 3.13377 (s), phase speed c = 0.501248 (m/s), wavelength = 1.5708 (m), Bo = 200\n",
      "g = 1, c = 0.501248, Ustar = 0.25, MURATIO = 0.29296, mu_w = 7.67063e-06, rho_w = 1, mu_a = 2.24719e-06, rho_a = 0.001225, sigma = 0.0003125, Bo = 200, RE = 102646, Re_tau = 720\n",
      "RELEASETIME = 66, uemax = 0.075 \n",
      "\n",
      "/projects/DEIKE/jiarongw/turbulence/rerun/curved_fixREtau_boundary_REtau720_BO200_g4_ak0.1_MU8_LEVEL10_emax0.3/\n",
      "mu1 = 1.53413e-05, rho1 = 1, mu2 = 2.24719e-06, rho2 = 0.001225, sigma = 0.00125\n",
      "Given k = 4 (1/m), calculated omega = 4.00999 (1/s), period = 1.56688 (s), phase speed c = 1.0025 (m/s), wavelength = 1.5708 (m), Bo = 200\n",
      "g = 4, c = 1.0025, Ustar = 0.25, MURATIO = 0.14648, mu_w = 1.53413e-05, rho_w = 1, mu_a = 2.24719e-06, rho_a = 0.001225, sigma = 0.00125, Bo = 200, RE = 102646, Re_tau = 720\n",
      "RELEASETIME = 66, uemax = 0.075 \n",
      "\n",
      "/projects/DEIKE/jiarongw/turbulence/rerun/curved_fixREtau_boundary_REtau720_BO200_g16_ak0.1_MU4_LEVEL10_emax0.3/\n",
      "mu1 = 3.06825e-05, rho1 = 1, mu2 = 2.24719e-06, rho2 = 0.001225, sigma = 0.005\n",
      "Given k = 4 (1/m), calculated omega = 8.01998 (1/s), period = 0.783442 (s), phase speed c = 2.00499 (m/s), wavelength = 1.5708 (m), Bo = 200\n",
      "g = 16, c = 2.00499, Ustar = 0.25, MURATIO = 0.07324, mu_w = 3.06825e-05, rho_w = 1, mu_a = 2.24719e-06, rho_a = 0.001225, sigma = 0.005, Bo = 200, RE = 102646, Re_tau = 720\n",
      "RELEASETIME = 66, uemax = 0.075 \n",
      "[r2i4n9:66006] Read -1, expected 7296, errno = 3\n",
      "[r2i4n9:66006] Read -1, expected 4608, errno = 3\n",
      "[r2i4n9:66006] Read -1, expected 19824, errno = 3\n",
      "[r2i4n9:66008] Read -1, expected 5760, errno = 3\n",
      "[r2i4n9:66005] Read -1, expected 24576, errno = 3\n",
      "[r2i4n9:66005] Read -1, expected 18432, errno = 3\n",
      "[r2i4n9:66007] Read -1, expected 52608, errno = 3\n",
      "[r2i4n9:66007] Read -1, expected 7680, errno = 3\n",
      "[r2i4n9:66007] Read -1, expected 9456, errno = 3\n",
      "\n",
      "/projects/DEIKE/jiarongw/turbulence/rerun/curved_fixREtau_boundary_REtau720_BO200_g1_ak0.15_MU16_LEVEL10_emax0.3/\n",
      "mu1 = 7.67063e-06, rho1 = 1, mu2 = 2.24719e-06, rho2 = 0.001225, sigma = 0.0003125\n",
      "Given k = 4 (1/m), calculated omega = 2.00499 (1/s), period = 3.13377 (s), phase speed c = 0.501248 (m/s), wavelength = 1.5708 (m), Bo = 200\n",
      "g = 1, c = 0.501248, Ustar = 0.25, MURATIO = 0.29296, mu_w = 7.67063e-06, rho_w = 1, mu_a = 2.24719e-06, rho_a = 0.001225, sigma = 0.0003125, Bo = 200, RE = 102646, Re_tau = 720\n",
      "RELEASETIME = 44, uemax = 0.075 \n",
      "\n",
      "/projects/DEIKE/jiarongw/turbulence/rerun/curved_fixREtau_boundary_REtau720_BO200_g4_ak0.15_MU8_LEVEL10_emax0.3/\n",
      "mu1 = 1.53413e-05, rho1 = 1, mu2 = 2.24719e-06, rho2 = 0.001225, sigma = 0.00125\n",
      "Given k = 4 (1/m), calculated omega = 4.00999 (1/s), period = 1.56688 (s), phase speed c = 1.0025 (m/s), wavelength = 1.5708 (m), Bo = 200\n",
      "g = 4, c = 1.0025, Ustar = 0.25, MURATIO = 0.14648, mu_w = 1.53413e-05, rho_w = 1, mu_a = 2.24719e-06, rho_a = 0.001225, sigma = 0.00125, Bo = 200, RE = 102646, Re_tau = 720\n",
      "RELEASETIME = 44, uemax = 0.075 \n",
      "\n",
      "/projects/DEIKE/jiarongw/turbulence/rerun/curved_fixREtau_boundary_REtau720_BO200_g16_ak0.15_MU4_LEVEL10_emax0.3/\n",
      "mu1 = 3.06825e-05, rho1 = 1, mu2 = 2.24719e-06, rho2 = 0.001225, sigma = 0.005\n",
      "Given k = 4 (1/m), calculated omega = 8.01998 (1/s), period = 0.783442 (s), phase speed c = 2.00499 (m/s), wavelength = 1.5708 (m), Bo = 200\n",
      "g = 16, c = 2.00499, Ustar = 0.25, MURATIO = 0.07324, mu_w = 3.06825e-05, rho_w = 1, mu_a = 2.24719e-06, rho_a = 0.001225, sigma = 0.005, Bo = 200, RE = 102646, Re_tau = 720\n",
      "RELEASETIME = 44, uemax = 0.075 \n",
      "\n",
      "/projects/DEIKE/jiarongw/turbulence/rerun/curved_fixREtau_boundary_REtau720_BO200_g1_ak0.3_MU16_LEVEL10_emax0.3/\n",
      "mu1 = 7.67063e-06, rho1 = 1, mu2 = 2.24719e-06, rho2 = 0.001225, sigma = 0.0003125\n",
      "Given k = 4 (1/m), calculated omega = 2.00499 (1/s), period = 3.13377 (s), phase speed c = 0.501248 (m/s), wavelength = 1.5708 (m), Bo = 200\n",
      "g = 1, c = 0.501248, Ustar = 0.25, MURATIO = 0.29296, mu_w = 7.67063e-06, rho_w = 1, mu_a = 2.24719e-06, rho_a = 0.001225, sigma = 0.0003125, Bo = 200, RE = 102646, Re_tau = 720\n",
      "RELEASETIME = 40.5, uemax = 0.075 \n",
      "\n",
      "/projects/DEIKE/jiarongw/turbulence/rerun/curved_fixREtau_boundary_REtau720_BO200_g4_ak0.3_MU8_LEVEL10_emax0.3/\n",
      "mu1 = 1.53413e-05, rho1 = 1, mu2 = 2.24719e-06, rho2 = 0.001225, sigma = 0.00125\n",
      "Given k = 4 (1/m), calculated omega = 4.00999 (1/s), period = 1.56688 (s), phase speed c = 1.0025 (m/s), wavelength = 1.5708 (m), Bo = 200\n",
      "g = 4, c = 1.0025, Ustar = 0.25, MURATIO = 0.14648, mu_w = 1.53413e-05, rho_w = 1, mu_a = 2.24719e-06, rho_a = 0.001225, sigma = 0.00125, Bo = 200, RE = 102646, Re_tau = 720\n",
      "RELEASETIME = 40.5, uemax = 0.075 \n",
      "\n",
      "/projects/DEIKE/jiarongw/turbulence/rerun/curved_fixREtau_boundary_REtau720_BO200_g16_ak0.3_MU4_LEVEL10_emax0.3/\n",
      "mu1 = 3.06825e-05, rho1 = 1, mu2 = 2.24719e-06, rho2 = 0.001225, sigma = 0.005\n",
      "Given k = 4 (1/m), calculated omega = 8.01998 (1/s), period = 0.783442 (s), phase speed c = 2.00499 (m/s), wavelength = 1.5708 (m), Bo = 200\n",
      "g = 16, c = 2.00499, Ustar = 0.25, MURATIO = 0.07324, mu_w = 3.06825e-05, rho_w = 1, mu_a = 2.24719e-06, rho_a = 0.001225, sigma = 0.005, Bo = 200, RE = 102646, Re_tau = 720\n",
      "RELEASETIME = 40.5, uemax = 0.075 \n",
      "\n",
      "/projects/DEIKE/jiarongw/turbulence/rerun/curved_fixREtau_boundary_REtau720_BO200_g1_ak0.2_MU16_LEVEL10_emax0.3_aspectratio/\n",
      "mu1 = 3.83763e-06, rho1 = 1, mu2 = 1.12427e-06, rho2 = 0.001225, sigma = 0.0003125\n",
      "Given k = 4 (1/m), calculated omega = 2.00499 (1/s), period = 3.13377 (s), phase speed c = 0.501248 (m/s), wavelength = 1.5708 (m), Bo = 200\n",
      "g = 1, c = 0.501248, Ustar = 0.25, MURATIO = 0.29296, mu_w = 3.83763e-06, rho_w = 1, mu_a = 1.12427e-06, rho_a = 0.001225, sigma = 0.0003125, Bo = 200, RE = 205168, Re_tau = 720\n",
      "RELEASETIME = 13, uemax = 0.075 \n",
      "\n"
     ]
    }
   ],
   "source": [
    "case_rerun1 = Case(ustar=0.25, Retau=720, Bo=200, g=1, ak=0.1, LEVEL=10, emax=0.3, alterMU=16, NOMATCH=True, \n",
    "             PRINTWAVE=True, OUTLEVEL=9, working_dir='/projects/DEIKE/jiarongw/turbulence/rerun/', prefix='curved_fixREtau_boundary_')\n",
    "case_rerun1.tstart = 66\n",
    "case_rerun2 = Case(ustar=0.25, Retau=720, Bo=200, g=4, ak=0.1, LEVEL=10, emax=0.3, alterMU=8, NOMATCH=True, \n",
    "             PRINTWAVE=True, OUTLEVEL=9, working_dir='/projects/DEIKE/jiarongw/turbulence/rerun/', prefix='curved_fixREtau_boundary_')\n",
    "case_rerun2.tstart = 66\n",
    "case_rerun3 = Case(ustar=0.25, Retau=720, Bo=200, g=16, ak=0.1, LEVEL=10, emax=0.3, alterMU=4, NOMATCH=True, \n",
    "             PRINTWAVE=True, OUTLEVEL=9, working_dir='/projects/DEIKE/jiarongw/turbulence/rerun/', prefix='curved_fixREtau_boundary_')\n",
    "case_rerun3.tstart = 66\n",
    "\n",
    "case_rerun4 = Case(ustar=0.25, Retau=720, Bo=200, g=1, ak=0.15, LEVEL=10, emax=0.3, alterMU=16, NOMATCH=True, \n",
    "             PRINTWAVE=True, OUTLEVEL=9, working_dir='/projects/DEIKE/jiarongw/turbulence/rerun/', prefix='curved_fixREtau_boundary_')\n",
    "case_rerun4.tstart = 44\n",
    "case_rerun5 = Case(ustar=0.25, Retau=720, Bo=200, g=4, ak=0.15, LEVEL=10, emax=0.3, alterMU=8, NOMATCH=True, \n",
    "             PRINTWAVE=True, OUTLEVEL=9, working_dir='/projects/DEIKE/jiarongw/turbulence/rerun/', prefix='curved_fixREtau_boundary_')\n",
    "case_rerun5.tstart = 44\n",
    "case_rerun6 = Case(ustar=0.25, Retau=720, Bo=200, g=16, ak=0.15, LEVEL=10, emax=0.3, alterMU=4, NOMATCH=True, \n",
    "             PRINTWAVE=True, OUTLEVEL=9, working_dir='/projects/DEIKE/jiarongw/turbulence/rerun/', prefix='curved_fixREtau_boundary_')\n",
    "case_rerun6.tstart = 44\n",
    "\n",
    "case_rerun7 = Case(ustar=0.25, Retau=720, Bo=200, g=1, ak=0.3, LEVEL=10, emax=0.3, alterMU=16, NOMATCH=True, \n",
    "             PRINTWAVE=True, OUTLEVEL=9, working_dir='/projects/DEIKE/jiarongw/turbulence/rerun/', prefix='curved_fixREtau_boundary_')\n",
    "case_rerun7.tstart = 40.5\n",
    "case_rerun8 = Case(ustar=0.25, Retau=720, Bo=200, g=4, ak=0.3, LEVEL=10, emax=0.3, alterMU=8, NOMATCH=True, \n",
    "             PRINTWAVE=True, OUTLEVEL=9, working_dir='/projects/DEIKE/jiarongw/turbulence/rerun/', prefix='curved_fixREtau_boundary_')\n",
    "case_rerun8.tstart = 40.5\n",
    "case_rerun9 = Case(ustar=0.25, Retau=720, Bo=200, g=16, ak=0.3, LEVEL=10, emax=0.3, alterMU=4, NOMATCH=True, \n",
    "             PRINTWAVE=True, OUTLEVEL=9, working_dir='/projects/DEIKE/jiarongw/turbulence/rerun/', prefix='curved_fixREtau_boundary_')\n",
    "case_rerun9.tstart = 40.5\n",
    "\n",
    "case_rerun_aspect = Case(ustar=0.25, Retau=720, Bo=200, g=1, ak=0.2, LEVEL=10, emax=0.3, alterMU=16, NOMATCH=True, h=3.64,\n",
    "                         PRINTWAVE=True, OUTLEVEL=9, working_dir='/projects/DEIKE/jiarongw/turbulence/rerun/', \n",
    "                         prefix='curved_fixREtau_boundary_', postfix='_aspectratio/')\n",
    "case_rerun_aspect.tstart = 13"
   ]
  },
  {
   "cell_type": "markdown",
   "metadata": {},
   "source": [
    "### If loading the pickle"
   ]
  },
  {
   "cell_type": "code",
   "execution_count": 3,
   "metadata": {},
   "outputs": [],
   "source": [
    "\"\"\" DATA: restore the cases \"\"\" \n",
    "version = '_tiger'\n",
    "picklename = case1.path + 'case_main' + version + '.pkl'\n",
    "case1 = load_object(picklename)\n",
    "\n",
    "picklename = case2.path + 'case_main' + version + '.pkl'\n",
    "case2 = load_object(picklename)\n",
    "\n",
    "picklename = case3.path + 'case_main' + version + '.pkl'\n",
    "case3 = load_object(picklename)\n",
    "\n",
    "picklename = case4.path + 'case_main' + version + '.pkl'\n",
    "case4 = load_object(picklename)\n",
    "\n",
    "picklename = case5.path + 'case_main' + version + '.pkl'\n",
    "case5 = load_object(picklename)\n",
    "\n",
    "picklename = case6.path + 'case_main' + version + '.pkl'\n",
    "case6 = load_object(picklename)\n",
    "\n",
    "picklename = case7.path + 'case_main' + version + '.pkl'\n",
    "case7 = load_object(picklename)\n",
    "\n",
    "picklename = case8.path + 'case_main' + version + '.pkl'\n",
    "case8 = load_object(picklename)\n",
    "\n",
    "picklename = case9.path + 'case_main' + version + '.pkl'\n",
    "case9 = load_object(picklename)\n",
    "\n",
    "picklename = case10.path + 'case_main' + version + '.pkl'\n",
    "case10 = load_object(picklename)\n",
    "\n",
    "picklename = case11.path + 'case_main' + version + '.pkl'\n",
    "case11 = load_object(picklename)\n",
    "\n",
    "picklename = case12.path + 'case_main' + version + '.pkl'\n",
    "case12 = load_object(picklename)\n",
    "\n",
    "picklename = case13.path + 'case_main' + version + '.pkl'\n",
    "case13 = load_object(picklename)\n",
    "\n",
    "picklename = case14.path + 'case_main' + version + '.pkl'\n",
    "case14 = load_object(picklename)\n",
    "\n",
    "picklename = case15.path + 'case_main' + version + '.pkl'\n",
    "case15 = load_object(picklename)\n",
    "\n",
    "picklename = case16.path + 'case_main' + version + '.pkl'\n",
    "case16 = load_object(picklename)\n",
    "\n",
    "picklename = case17.path + 'case_main' + version + '.pkl'\n",
    "case17 = load_object(picklename)\n",
    "\n",
    "picklename = case18.path + 'case_main' + version + '.pkl'\n",
    "case18 = load_object(picklename)\n",
    "\n",
    "picklename = case19.path + 'case_main' + version + '.pkl'\n",
    "case19 = load_object(picklename)"
   ]
  },
  {
   "cell_type": "code",
   "execution_count": 4,
   "metadata": {},
   "outputs": [],
   "source": [
    "version = '_tiger'\n",
    "\n",
    "picklename = case_rerun1.path + 'case_main' + version + '.pkl'\n",
    "case_rerun1 = load_object(picklename)\n",
    "\n",
    "picklename = case_rerun2.path + 'case_main' + version + '.pkl'\n",
    "case_rerun2 = load_object(picklename)\n",
    "\n",
    "picklename = case_rerun3.path + 'case_main' + version + '.pkl'\n",
    "case_rerun3 = load_object(picklename)\n",
    "\n",
    "picklename = case_rerun4.path + 'case_main' + version + '.pkl'\n",
    "case_rerun4 = load_object(picklename)\n",
    "\n",
    "picklename = case_rerun5.path + 'case_main' + version + '.pkl'\n",
    "case_rerun5 = load_object(picklename)\n",
    "\n",
    "picklename = case_rerun6.path + 'case_main' + version + '.pkl'\n",
    "case_rerun6 = load_object(picklename)\n",
    "\n",
    "picklename = case_rerun7.path + 'case_main' + version + '.pkl'\n",
    "case_rerun7 = load_object(picklename)\n",
    "\n",
    "picklename = case_rerun8.path + 'case_main' + version + '.pkl'\n",
    "case_rerun8 = load_object(picklename)\n",
    "\n",
    "picklename = case_rerun9.path + 'case_main' + version + '.pkl'\n",
    "case_rerun9 = load_object(picklename)"
   ]
  },
  {
   "cell_type": "markdown",
   "metadata": {},
   "source": [
    "### If reading in from scratch"
   ]
  },
  {
   "cell_type": "code",
   "execution_count": null,
   "metadata": {},
   "outputs": [],
   "source": [
    "# case = case1\n",
    "# case.tsimu = np.arange(58,113,1)\n",
    "# extract_phase(case, case.tsimu)\n",
    "\n",
    "# case = case2\n",
    "# case.tsimu = np.arange(58,101,1)\n",
    "# extract_phase(case, case.tsimu)\n",
    "\n",
    "# case = case3\n",
    "# case.tsimu = np.arange(58,73,1)\n",
    "# extract_phase(case, case.tsimu)\n",
    "\n",
    "# case = case4\n",
    "# case.tsimu = np.arange(308,346,1)\n",
    "# extract_phase(case, case.tsimu)\n",
    "\n",
    "# case = case5\n",
    "# case.tsimu = np.arange(302,342,1)\n",
    "# extract_phase(case, case.tsimu)\n",
    "\n",
    "# case = case6\n",
    "# case.tsimu = np.arange(308,321,1)\n",
    "# extract_phase(case, case.tsimu)\n",
    "\n",
    "# case = case7\n",
    "# case.tsimu = np.arange(43.1,83.4,0.1)\n",
    "# extract_phase(case, case.tsimu)\n",
    "\n",
    "# case = case8\n",
    "# case.tsimu = np.arange(43.1,52.1,0.1)\n",
    "# extract_phase(case, case.tsimu)\n",
    "\n",
    "# case = case9\n",
    "# case.tsimu = np.arange(43.1,77.1,0.1)\n",
    "# extract_phase(case, case.tsimu)\n",
    "\n",
    "# case = case10\n",
    "# case.tsimu = np.arange(43.1,58.1,0.1)\n",
    "# extract_phase(case, case.tsimu)\n",
    "\n",
    "# case = case11\n",
    "# case.tsimu = np.arange(43.1,55.1,0.1)\n",
    "# extract_phase(case, case.tsimu)\n",
    "\n",
    "# case = case12\n",
    "# case.tsimu = np.arange(43.1,54.3,0.1)\n",
    "# extract_phase(case, case.tsimu)\n",
    "\n",
    "# case = case13\n",
    "# case.tsimu = np.arange(43.1,53.1,0.1)\n",
    "# extract_phase(case, case.tsimu)\n",
    "\n",
    "# case = case14\n",
    "# case.tsimu = np.arange(43.1,59.5,0.1)\n",
    "# extract_phase(case, case.tsimu)\n",
    "\n",
    "# case = case15\n",
    "# case.tsimu = np.arange(43.1,56.6,0.1)\n",
    "# extract_phase(case, case.tsimu)\n",
    "\n",
    "# case = case16\n",
    "# case.tsimu = np.arange(43.1,53.6,0.1)\n",
    "# extract_phase(case, case.tsimu)\n",
    "\n",
    "# case = case17\n",
    "# case.tsimu = np.arange(308,321,0.1)\n",
    "# extract_phase(case, case.tsimu)\n",
    "\n",
    "# case = case18\n",
    "# case.tsimu = np.arange(43.1,54,0.1)\n",
    "# extract_phase(case, case.tsimu)\n",
    "\n",
    "# case = case19\n",
    "# case.tsimu = np.arange(57.1,68.1,0.1)\n",
    "# extract_phase(case, case.tsimu)"
   ]
  },
  {
   "cell_type": "code",
   "execution_count": null,
   "metadata": {},
   "outputs": [],
   "source": [
    "\"\"\" READIN: Pressure. Add p_2D time series to the case (based on case.phase['t']). \n",
    "    Attributes: \n",
    "        p['t']\n",
    "        p['p_2D']: instantaneous pressure in x-z plane, already averaged spanwise.\n",
    "        p['phat'], p['amp']: phase and amplitude of the pressure signal\n",
    "\"\"\"\n",
    "\n",
    "# # Easier cases, pressure and phase are dumped at the same rate \n",
    "# for case in (case1,case2,case3,case4,case5,case6):\n",
    "#     case.p = {\"t\":[], \"p_2D\":[], 'phat':[], 'dphase':[]}\n",
    "#     case.p['t'] = case.phase['t']\n",
    "#     read_p(case)\n",
    "\n",
    "# # Special cases, not the same rate\n",
    "# case = case7\n",
    "# case.p = {\"t\":[], \"p_2D\":[], 'phat':[], 'dphase':[]}\n",
    "# # case.p['t'] = np.concatenate((np.arange(44,54,1), np.arange(55,66,0.2))) - case.tstart\n",
    "# case.p['t'] = np.arange(44,84,1) - case.tstart\n",
    "# read_p(case)\n",
    "\n",
    "# case = case8\n",
    "# case.p = {\"t\":[], \"p_2D\":[], 'phat':[], 'dphase':[]}\n",
    "# case.p['t'] = np.arange(43.2,52.2,0.2) - case.tstart\n",
    "# read_p(case)\n",
    "\n",
    "# case = case9\n",
    "# case.p = {\"t\":[], \"p_2D\":[], 'phat':[], 'dphase':[]}\n",
    "# # case.p['t'] = np.concatenate((np.arange(44,54,1), np.arange(55,63,0.2))) - case.tstart\n",
    "# case.p['t'] = np.arange(44,78,1) - case.tstart\n",
    "# read_p(case)\n",
    "\n",
    "# case = case10\n",
    "# case.p = {\"t\":[], \"p_2D\":[], 'phat':[], 'dphase':[]}\n",
    "# case.p['t'] = np.arange(43.2,58.2,0.2) - case.tstart\n",
    "# read_p(case)\n",
    "\n",
    "# case = case11\n",
    "# case.p = {\"t\":[], \"p_2D\":[], 'phat':[], 'dphase':[]}\n",
    "# case.p['t'] = np.arange(44,56,1) - case.tstart\n",
    "# read_p(case)\n",
    "\n",
    "# case = case12\n",
    "# case.p = {\"t\":[], \"p_2D\":[], 'phat':[], 'dphase':[]}\n",
    "# case.p['t'] = np.arange(43.2,54.2,0.2) - case.tstart\n",
    "# read_p(case)\n",
    "\n",
    "# case = case13\n",
    "# case.p = {\"t\":[], \"p_2D\":[], 'phat':[], 'dphase':[]}\n",
    "# case.p['t'] = np.arange(43.2,53.2,0.2) - case.tstart\n",
    "# read_p(case)\n",
    "\n",
    "# case = case14\n",
    "# case.p = {\"t\":[], \"p_2D\":[], 'phat':[], 'dphase':[]}\n",
    "# case.p['t'] = np.arange(43.2,59.6,0.2) - case.tstart\n",
    "# read_p(case)\n",
    "\n",
    "# case = case15\n",
    "# case.p = {\"t\":[], \"p_2D\":[], 'phat':[], 'dphase':[]}\n",
    "# case.p['t'] = np.arange(43.2,56.6,0.2) - case.tstart\n",
    "# read_p(case)\n",
    "\n",
    "# case = case16\n",
    "# case.p = {\"t\":[], \"p_2D\":[], 'phat':[], 'dphase':[]}\n",
    "# case.p['t'] = np.arange(43.2,53.6,0.2) - case.tstart\n",
    "# read_p(case)\n",
    "\n",
    "# case = case17\n",
    "# case.p = {\"t\":[], \"p_2D\":[], 'phat':[], 'dphase':[]}\n",
    "# case.p['t'] = np.arange(308,321,1) - case.tstart\n",
    "# read_p(case)\n",
    "\n",
    "# case = case18\n",
    "# case.p = {\"t\":[], \"p_2D\":[], 'phat':[], 'dphase':[]}\n",
    "# case.p['t'] = np.arange(44,54,1) - case.tstart\n",
    "# read_p(case)\n",
    "\n",
    "# case = case19\n",
    "# case.p = {\"t\":[], \"p_2D\":[], 'phat':[], 'dphase':[]}\n",
    "# case.p['t'] = np.arange(57.2,68.2,0.2) - case.tstart\n",
    "# read_p(case)"
   ]
  },
  {
   "cell_type": "code",
   "execution_count": null,
   "metadata": {},
   "outputs": [],
   "source": [
    "\"\"\" Read in other fields. \"\"\"\n",
    "        \n",
    "# # Easier cases\n",
    "# for case in (case1,case2,case3,case4,case5,case6):\n",
    "#     case.field_t = case.phase['t']\n",
    "#     read_fields(case)\n",
    "\n",
    "# case = case7\n",
    "# # case.field_t = np.arange(43.5,66.5,0.5) - case.tstart\n",
    "# case.field_t = np.arange(44,84,1) - case.tstart\n",
    "# read_fields(case)\n",
    "\n",
    "# case = case8\n",
    "# case.field_t = np.arange(43.5,52.5,0.5) - case.tstart\n",
    "# read_fields(case)\n",
    "\n",
    "# case = case9\n",
    "# case.field_t = np.arange(44,77,1) - case.tstart\n",
    "# read_fields(case)\n",
    "\n",
    "# case = case10\n",
    "# case.field_t = np.arange(43.5,58.5,0.5) - case.tstart\n",
    "# read_fields(case)\n",
    "\n",
    "# case = case11\n",
    "# case.field_t = np.arange(43.5,55.5,0.5) - case.tstart\n",
    "# read_fields(case)\n",
    "\n",
    "# case = case12\n",
    "# case.field_t = np.arange(43.5,54.5,0.5) - case.tstart\n",
    "# read_fields(case)\n",
    "\n",
    "# case = case13\n",
    "# case.field_t = np.arange(43.5,53.5,0.5) - case.tstart\n",
    "# read_fields(case)\n",
    "\n",
    "# case = case14\n",
    "# case.field_t = np.arange(43.5,59.5,0.5) - case.tstart\n",
    "# read_fields(case)\n",
    "\n",
    "# case = case15\n",
    "# case.field_t = np.arange(43.5,57,0.5) - case.tstart\n",
    "# read_fields(case)\n",
    "\n",
    "# case = case16\n",
    "# case.field_t = np.arange(43.5,53.5,0.5) - case.tstart\n",
    "# read_fields(case)\n",
    "\n",
    "# case = case17\n",
    "# case.field_t = np.arange(308,321,1) - case.tstart\n",
    "# read_fields(case)\n",
    "\n",
    "# case = case18\n",
    "# case.field_t = np.arange(44,54,1) - case.tstart\n",
    "# read_fields(case)\n",
    "\n",
    "# case = case19\n",
    "# case.field_t = np.arange(58,69,1) - case.tstart\n",
    "# read_fields(case)"
   ]
  },
  {
   "cell_type": "code",
   "execution_count": 15,
   "metadata": {
    "scrolled": true
   },
   "outputs": [
    {
     "name": "stdout",
     "output_type": "stream",
     "text": [
      "pickle restored!\n",
      "pickle restored!\n",
      "pickle restored!\n",
      "pickle restored!\n",
      "pickle restored!\n",
      "pickle restored!\n"
     ]
    },
    {
     "name": "stderr",
     "output_type": "stream",
     "text": [
      "  0%|          | 0/115 [00:00<?, ?it/s]"
     ]
    },
    {
     "name": "stdout",
     "output_type": "stream",
     "text": [
      "66.6\n",
      "pickle restored!\n"
     ]
    },
    {
     "name": "stderr",
     "output_type": "stream",
     "text": [
      "  1%|          | 1/115 [00:00<01:22,  1.38it/s]"
     ]
    },
    {
     "name": "stdout",
     "output_type": "stream",
     "text": [
      "66.8\n",
      "pickle restored!\n"
     ]
    },
    {
     "name": "stderr",
     "output_type": "stream",
     "text": [
      "  2%|▏         | 2/115 [00:01<01:15,  1.49it/s]"
     ]
    },
    {
     "name": "stdout",
     "output_type": "stream",
     "text": [
      "67.0\n",
      "pickle restored!\n"
     ]
    },
    {
     "name": "stderr",
     "output_type": "stream",
     "text": [
      "  3%|▎         | 3/115 [00:01<01:13,  1.52it/s]"
     ]
    },
    {
     "name": "stdout",
     "output_type": "stream",
     "text": [
      "67.2\n",
      "pickle restored!\n"
     ]
    },
    {
     "name": "stderr",
     "output_type": "stream",
     "text": [
      "  3%|▎         | 4/115 [00:02<01:13,  1.51it/s]"
     ]
    },
    {
     "name": "stdout",
     "output_type": "stream",
     "text": [
      "67.4\n",
      "pickle restored!\n"
     ]
    },
    {
     "name": "stderr",
     "output_type": "stream",
     "text": [
      "  4%|▍         | 5/115 [00:03<01:12,  1.52it/s]"
     ]
    },
    {
     "name": "stdout",
     "output_type": "stream",
     "text": [
      "67.60000000000001\n",
      "pickle restored!\n"
     ]
    },
    {
     "name": "stderr",
     "output_type": "stream",
     "text": [
      "  5%|▌         | 6/115 [00:04<01:13,  1.48it/s]"
     ]
    },
    {
     "name": "stdout",
     "output_type": "stream",
     "text": [
      "67.80000000000001\n",
      "pickle restored!\n"
     ]
    },
    {
     "name": "stderr",
     "output_type": "stream",
     "text": [
      "  6%|▌         | 7/115 [00:04<01:11,  1.50it/s]"
     ]
    },
    {
     "name": "stdout",
     "output_type": "stream",
     "text": [
      "68.00000000000001\n",
      "pickle restored!\n"
     ]
    },
    {
     "name": "stderr",
     "output_type": "stream",
     "text": [
      "  7%|▋         | 8/115 [00:05<01:10,  1.52it/s]"
     ]
    },
    {
     "name": "stdout",
     "output_type": "stream",
     "text": [
      "68.20000000000002\n",
      "pickle restored!\n"
     ]
    },
    {
     "name": "stderr",
     "output_type": "stream",
     "text": [
      "  8%|▊         | 9/115 [00:06<01:24,  1.25it/s]"
     ]
    },
    {
     "name": "stdout",
     "output_type": "stream",
     "text": [
      "68.40000000000002\n",
      "pickle restored!\n"
     ]
    },
    {
     "name": "stderr",
     "output_type": "stream",
     "text": [
      "  9%|▊         | 10/115 [00:07<01:18,  1.33it/s]"
     ]
    },
    {
     "name": "stdout",
     "output_type": "stream",
     "text": [
      "68.60000000000002\n",
      "pickle restored!\n"
     ]
    },
    {
     "name": "stderr",
     "output_type": "stream",
     "text": [
      " 10%|▉         | 11/115 [00:07<01:15,  1.38it/s]"
     ]
    },
    {
     "name": "stdout",
     "output_type": "stream",
     "text": [
      "68.80000000000003\n",
      "pickle restored!\n"
     ]
    },
    {
     "name": "stderr",
     "output_type": "stream",
     "text": [
      " 10%|█         | 12/115 [00:08<01:13,  1.41it/s]"
     ]
    },
    {
     "name": "stdout",
     "output_type": "stream",
     "text": [
      "69.00000000000003\n",
      "pickle restored!\n"
     ]
    },
    {
     "name": "stderr",
     "output_type": "stream",
     "text": [
      " 11%|█▏        | 13/115 [00:09<01:10,  1.44it/s]"
     ]
    },
    {
     "name": "stdout",
     "output_type": "stream",
     "text": [
      "69.20000000000003\n",
      "pickle restored!\n"
     ]
    },
    {
     "name": "stderr",
     "output_type": "stream",
     "text": [
      " 12%|█▏        | 14/115 [00:09<01:09,  1.46it/s]"
     ]
    },
    {
     "name": "stdout",
     "output_type": "stream",
     "text": [
      "69.40000000000003\n",
      "pickle restored!\n"
     ]
    },
    {
     "name": "stderr",
     "output_type": "stream",
     "text": [
      " 13%|█▎        | 15/115 [00:10<01:07,  1.49it/s]"
     ]
    },
    {
     "name": "stdout",
     "output_type": "stream",
     "text": [
      "69.60000000000004\n",
      "pickle restored!\n"
     ]
    },
    {
     "name": "stderr",
     "output_type": "stream",
     "text": [
      " 14%|█▍        | 16/115 [00:11<01:05,  1.50it/s]"
     ]
    },
    {
     "name": "stdout",
     "output_type": "stream",
     "text": [
      "69.80000000000004\n",
      "pickle restored!\n"
     ]
    },
    {
     "name": "stderr",
     "output_type": "stream",
     "text": [
      " 15%|█▍        | 17/115 [00:11<01:04,  1.51it/s]"
     ]
    },
    {
     "name": "stdout",
     "output_type": "stream",
     "text": [
      "70.00000000000004\n",
      "pickle restored!\n"
     ]
    },
    {
     "name": "stderr",
     "output_type": "stream",
     "text": [
      " 16%|█▌        | 18/115 [00:12<01:03,  1.52it/s]"
     ]
    },
    {
     "name": "stdout",
     "output_type": "stream",
     "text": [
      "70.20000000000005\n",
      "pickle restored!\n"
     ]
    },
    {
     "name": "stderr",
     "output_type": "stream",
     "text": [
      " 17%|█▋        | 19/115 [00:12<01:02,  1.55it/s]"
     ]
    },
    {
     "name": "stdout",
     "output_type": "stream",
     "text": [
      "70.40000000000005\n",
      "pickle restored!\n"
     ]
    },
    {
     "name": "stderr",
     "output_type": "stream",
     "text": [
      " 17%|█▋        | 20/115 [00:13<01:01,  1.54it/s]"
     ]
    },
    {
     "name": "stdout",
     "output_type": "stream",
     "text": [
      "70.60000000000005\n",
      "pickle restored!\n"
     ]
    },
    {
     "name": "stderr",
     "output_type": "stream",
     "text": [
      " 18%|█▊        | 21/115 [00:14<01:00,  1.55it/s]"
     ]
    },
    {
     "name": "stdout",
     "output_type": "stream",
     "text": [
      "70.80000000000005\n",
      "pickle restored!\n"
     ]
    },
    {
     "name": "stderr",
     "output_type": "stream",
     "text": [
      " 19%|█▉        | 22/115 [00:14<01:01,  1.52it/s]"
     ]
    },
    {
     "name": "stdout",
     "output_type": "stream",
     "text": [
      "71.00000000000006\n",
      "pickle restored!\n"
     ]
    },
    {
     "name": "stderr",
     "output_type": "stream",
     "text": [
      " 20%|██        | 23/115 [00:15<01:00,  1.53it/s]"
     ]
    },
    {
     "name": "stdout",
     "output_type": "stream",
     "text": [
      "71.20000000000006\n",
      "pickle restored!\n"
     ]
    },
    {
     "name": "stderr",
     "output_type": "stream",
     "text": [
      " 21%|██        | 24/115 [00:16<00:59,  1.53it/s]"
     ]
    },
    {
     "name": "stdout",
     "output_type": "stream",
     "text": [
      "71.40000000000006\n",
      "pickle restored!\n"
     ]
    },
    {
     "name": "stderr",
     "output_type": "stream",
     "text": [
      " 22%|██▏       | 25/115 [00:16<00:58,  1.53it/s]"
     ]
    },
    {
     "name": "stdout",
     "output_type": "stream",
     "text": [
      "71.60000000000007\n",
      "pickle restored!\n"
     ]
    },
    {
     "name": "stderr",
     "output_type": "stream",
     "text": [
      " 23%|██▎       | 26/115 [00:17<00:57,  1.54it/s]"
     ]
    },
    {
     "name": "stdout",
     "output_type": "stream",
     "text": [
      "71.80000000000007\n",
      "pickle restored!\n"
     ]
    },
    {
     "name": "stderr",
     "output_type": "stream",
     "text": [
      " 23%|██▎       | 27/115 [00:18<00:58,  1.51it/s]"
     ]
    },
    {
     "name": "stdout",
     "output_type": "stream",
     "text": [
      "72.00000000000007\n",
      "pickle restored!\n"
     ]
    },
    {
     "name": "stderr",
     "output_type": "stream",
     "text": [
      " 24%|██▍       | 28/115 [00:18<00:57,  1.51it/s]"
     ]
    },
    {
     "name": "stdout",
     "output_type": "stream",
     "text": [
      "72.20000000000007\n",
      "pickle restored!\n"
     ]
    },
    {
     "name": "stderr",
     "output_type": "stream",
     "text": [
      " 25%|██▌       | 29/115 [00:19<00:57,  1.51it/s]"
     ]
    },
    {
     "name": "stdout",
     "output_type": "stream",
     "text": [
      "72.40000000000008\n",
      "pickle restored!\n"
     ]
    },
    {
     "name": "stderr",
     "output_type": "stream",
     "text": [
      " 26%|██▌       | 30/115 [00:20<00:56,  1.51it/s]"
     ]
    },
    {
     "name": "stdout",
     "output_type": "stream",
     "text": [
      "72.60000000000008\n",
      "pickle restored!\n"
     ]
    },
    {
     "name": "stderr",
     "output_type": "stream",
     "text": [
      " 27%|██▋       | 31/115 [00:20<00:55,  1.50it/s]"
     ]
    },
    {
     "name": "stdout",
     "output_type": "stream",
     "text": [
      "72.80000000000008\n",
      "pickle restored!\n"
     ]
    },
    {
     "name": "stderr",
     "output_type": "stream",
     "text": [
      " 28%|██▊       | 32/115 [00:21<00:56,  1.48it/s]"
     ]
    },
    {
     "name": "stdout",
     "output_type": "stream",
     "text": [
      "73.00000000000009\n",
      "pickle restored!\n"
     ]
    },
    {
     "name": "stderr",
     "output_type": "stream",
     "text": [
      " 29%|██▊       | 33/115 [00:22<00:55,  1.48it/s]"
     ]
    },
    {
     "name": "stdout",
     "output_type": "stream",
     "text": [
      "73.20000000000009\n",
      "pickle restored!\n"
     ]
    },
    {
     "name": "stderr",
     "output_type": "stream",
     "text": [
      " 30%|██▉       | 34/115 [00:22<00:54,  1.50it/s]"
     ]
    },
    {
     "name": "stdout",
     "output_type": "stream",
     "text": [
      "73.40000000000009\n",
      "pickle restored!\n"
     ]
    },
    {
     "name": "stderr",
     "output_type": "stream",
     "text": [
      " 30%|███       | 35/115 [00:23<00:53,  1.49it/s]"
     ]
    },
    {
     "name": "stdout",
     "output_type": "stream",
     "text": [
      "73.6000000000001\n",
      "pickle restored!\n"
     ]
    },
    {
     "name": "stderr",
     "output_type": "stream",
     "text": [
      " 31%|███▏      | 36/115 [00:24<00:52,  1.50it/s]"
     ]
    },
    {
     "name": "stdout",
     "output_type": "stream",
     "text": [
      "73.8000000000001\n",
      "pickle restored!\n"
     ]
    },
    {
     "name": "stderr",
     "output_type": "stream",
     "text": [
      " 32%|███▏      | 37/115 [00:24<00:51,  1.51it/s]"
     ]
    },
    {
     "name": "stdout",
     "output_type": "stream",
     "text": [
      "74.0000000000001\n",
      "pickle restored!\n"
     ]
    },
    {
     "name": "stderr",
     "output_type": "stream",
     "text": [
      " 33%|███▎      | 38/115 [00:25<00:50,  1.52it/s]"
     ]
    },
    {
     "name": "stdout",
     "output_type": "stream",
     "text": [
      "74.2000000000001\n",
      "pickle restored!\n"
     ]
    },
    {
     "name": "stderr",
     "output_type": "stream",
     "text": [
      " 34%|███▍      | 39/115 [00:26<00:50,  1.49it/s]"
     ]
    },
    {
     "name": "stdout",
     "output_type": "stream",
     "text": [
      "74.4000000000001\n",
      "pickle restored!\n"
     ]
    },
    {
     "name": "stderr",
     "output_type": "stream",
     "text": [
      " 35%|███▍      | 40/115 [00:26<00:49,  1.51it/s]"
     ]
    },
    {
     "name": "stdout",
     "output_type": "stream",
     "text": [
      "74.60000000000011\n",
      "pickle restored!\n"
     ]
    },
    {
     "name": "stderr",
     "output_type": "stream",
     "text": [
      " 36%|███▌      | 41/115 [00:27<00:48,  1.52it/s]"
     ]
    },
    {
     "name": "stdout",
     "output_type": "stream",
     "text": [
      "74.80000000000011\n",
      "pickle restored!\n"
     ]
    },
    {
     "name": "stderr",
     "output_type": "stream",
     "text": [
      " 37%|███▋      | 42/115 [00:28<00:48,  1.50it/s]"
     ]
    },
    {
     "name": "stdout",
     "output_type": "stream",
     "text": [
      "75.00000000000011\n",
      "pickle restored!\n"
     ]
    },
    {
     "name": "stderr",
     "output_type": "stream",
     "text": [
      " 37%|███▋      | 43/115 [00:28<00:47,  1.51it/s]"
     ]
    },
    {
     "name": "stdout",
     "output_type": "stream",
     "text": [
      "75.20000000000012\n",
      "pickle restored!\n"
     ]
    },
    {
     "name": "stderr",
     "output_type": "stream",
     "text": [
      " 38%|███▊      | 44/115 [00:29<00:47,  1.50it/s]"
     ]
    },
    {
     "name": "stdout",
     "output_type": "stream",
     "text": [
      "75.40000000000012\n",
      "pickle restored!\n"
     ]
    },
    {
     "name": "stderr",
     "output_type": "stream",
     "text": [
      " 39%|███▉      | 45/115 [00:30<00:47,  1.49it/s]"
     ]
    },
    {
     "name": "stdout",
     "output_type": "stream",
     "text": [
      "75.60000000000012\n",
      "pickle restored!\n"
     ]
    },
    {
     "name": "stderr",
     "output_type": "stream",
     "text": [
      " 40%|████      | 46/115 [00:30<00:46,  1.49it/s]"
     ]
    },
    {
     "name": "stdout",
     "output_type": "stream",
     "text": [
      "75.80000000000013\n",
      "pickle restored!\n"
     ]
    },
    {
     "name": "stderr",
     "output_type": "stream",
     "text": [
      " 41%|████      | 47/115 [00:31<00:45,  1.49it/s]"
     ]
    },
    {
     "name": "stdout",
     "output_type": "stream",
     "text": [
      "76.00000000000013\n",
      "pickle restored!\n"
     ]
    },
    {
     "name": "stderr",
     "output_type": "stream",
     "text": [
      " 42%|████▏     | 48/115 [00:32<00:44,  1.49it/s]"
     ]
    },
    {
     "name": "stdout",
     "output_type": "stream",
     "text": [
      "76.20000000000013\n",
      "pickle restored!\n"
     ]
    },
    {
     "name": "stderr",
     "output_type": "stream",
     "text": [
      " 43%|████▎     | 49/115 [00:32<00:43,  1.50it/s]"
     ]
    },
    {
     "name": "stdout",
     "output_type": "stream",
     "text": [
      "76.40000000000013\n",
      "pickle restored!\n"
     ]
    },
    {
     "name": "stderr",
     "output_type": "stream",
     "text": [
      " 43%|████▎     | 50/115 [00:33<00:43,  1.49it/s]"
     ]
    },
    {
     "name": "stdout",
     "output_type": "stream",
     "text": [
      "76.60000000000014\n",
      "pickle restored!\n"
     ]
    },
    {
     "name": "stderr",
     "output_type": "stream",
     "text": [
      " 44%|████▍     | 51/115 [00:34<00:49,  1.29it/s]"
     ]
    },
    {
     "name": "stdout",
     "output_type": "stream",
     "text": [
      "76.80000000000014\n",
      "pickle restored!\n"
     ]
    },
    {
     "name": "stderr",
     "output_type": "stream",
     "text": [
      " 45%|████▌     | 52/115 [00:35<00:46,  1.35it/s]"
     ]
    },
    {
     "name": "stdout",
     "output_type": "stream",
     "text": [
      "77.00000000000014\n",
      "pickle restored!\n"
     ]
    },
    {
     "name": "stderr",
     "output_type": "stream",
     "text": [
      " 46%|████▌     | 53/115 [00:35<00:44,  1.40it/s]"
     ]
    },
    {
     "name": "stdout",
     "output_type": "stream",
     "text": [
      "77.20000000000014\n",
      "pickle restored!\n"
     ]
    },
    {
     "name": "stderr",
     "output_type": "stream",
     "text": [
      " 47%|████▋     | 54/115 [00:36<00:42,  1.44it/s]"
     ]
    },
    {
     "name": "stdout",
     "output_type": "stream",
     "text": [
      "77.40000000000015\n",
      "pickle restored!\n"
     ]
    },
    {
     "name": "stderr",
     "output_type": "stream",
     "text": [
      " 48%|████▊     | 55/115 [00:37<00:40,  1.48it/s]"
     ]
    },
    {
     "name": "stdout",
     "output_type": "stream",
     "text": [
      "77.60000000000015\n",
      "pickle restored!\n"
     ]
    },
    {
     "name": "stderr",
     "output_type": "stream",
     "text": [
      " 49%|████▊     | 56/115 [00:37<00:38,  1.53it/s]"
     ]
    },
    {
     "name": "stdout",
     "output_type": "stream",
     "text": [
      "77.80000000000015\n",
      "pickle restored!\n"
     ]
    },
    {
     "name": "stderr",
     "output_type": "stream",
     "text": [
      " 50%|████▉     | 57/115 [00:38<00:38,  1.51it/s]"
     ]
    },
    {
     "name": "stdout",
     "output_type": "stream",
     "text": [
      "78.00000000000016\n",
      "pickle restored!\n"
     ]
    },
    {
     "name": "stderr",
     "output_type": "stream",
     "text": [
      " 50%|█████     | 58/115 [00:39<00:40,  1.39it/s]"
     ]
    },
    {
     "name": "stdout",
     "output_type": "stream",
     "text": [
      "78.20000000000016\n",
      "pickle restored!\n"
     ]
    },
    {
     "name": "stderr",
     "output_type": "stream",
     "text": [
      " 51%|█████▏    | 59/115 [00:39<00:39,  1.44it/s]"
     ]
    },
    {
     "name": "stdout",
     "output_type": "stream",
     "text": [
      "78.40000000000016\n",
      "pickle restored!\n"
     ]
    },
    {
     "name": "stderr",
     "output_type": "stream",
     "text": [
      " 52%|█████▏    | 60/115 [00:40<00:37,  1.46it/s]"
     ]
    },
    {
     "name": "stdout",
     "output_type": "stream",
     "text": [
      "78.60000000000016\n",
      "pickle restored!\n"
     ]
    },
    {
     "name": "stderr",
     "output_type": "stream",
     "text": [
      " 53%|█████▎    | 61/115 [00:41<00:36,  1.47it/s]"
     ]
    },
    {
     "name": "stdout",
     "output_type": "stream",
     "text": [
      "78.80000000000017\n",
      "pickle restored!\n"
     ]
    },
    {
     "name": "stderr",
     "output_type": "stream",
     "text": [
      " 54%|█████▍    | 62/115 [00:41<00:35,  1.50it/s]"
     ]
    },
    {
     "name": "stdout",
     "output_type": "stream",
     "text": [
      "79.00000000000017\n",
      "pickle restored!\n"
     ]
    },
    {
     "name": "stderr",
     "output_type": "stream",
     "text": [
      " 55%|█████▍    | 63/115 [00:42<00:34,  1.52it/s]"
     ]
    },
    {
     "name": "stdout",
     "output_type": "stream",
     "text": [
      "79.20000000000017\n",
      "pickle restored!\n"
     ]
    },
    {
     "name": "stderr",
     "output_type": "stream",
     "text": [
      " 56%|█████▌    | 64/115 [00:43<00:33,  1.51it/s]"
     ]
    },
    {
     "name": "stdout",
     "output_type": "stream",
     "text": [
      "79.40000000000018\n",
      "pickle restored!\n"
     ]
    },
    {
     "name": "stderr",
     "output_type": "stream",
     "text": [
      " 57%|█████▋    | 65/115 [00:43<00:33,  1.51it/s]"
     ]
    },
    {
     "name": "stdout",
     "output_type": "stream",
     "text": [
      "79.60000000000018\n",
      "pickle restored!\n"
     ]
    },
    {
     "name": "stderr",
     "output_type": "stream",
     "text": [
      " 57%|█████▋    | 66/115 [00:44<00:31,  1.53it/s]"
     ]
    },
    {
     "name": "stdout",
     "output_type": "stream",
     "text": [
      "79.80000000000018\n",
      "pickle restored!\n"
     ]
    },
    {
     "name": "stderr",
     "output_type": "stream",
     "text": [
      " 58%|█████▊    | 67/115 [00:45<00:30,  1.55it/s]"
     ]
    },
    {
     "name": "stdout",
     "output_type": "stream",
     "text": [
      "80.00000000000018\n",
      "pickle restored!\n"
     ]
    },
    {
     "name": "stderr",
     "output_type": "stream",
     "text": [
      " 59%|█████▉    | 68/115 [00:45<00:30,  1.56it/s]"
     ]
    },
    {
     "name": "stdout",
     "output_type": "stream",
     "text": [
      "80.20000000000019\n",
      "pickle restored!\n"
     ]
    },
    {
     "name": "stderr",
     "output_type": "stream",
     "text": [
      " 60%|██████    | 69/115 [00:46<00:29,  1.55it/s]"
     ]
    },
    {
     "name": "stdout",
     "output_type": "stream",
     "text": [
      "80.40000000000019\n",
      "pickle restored!\n"
     ]
    },
    {
     "name": "stderr",
     "output_type": "stream",
     "text": [
      " 61%|██████    | 70/115 [00:47<00:29,  1.54it/s]"
     ]
    },
    {
     "name": "stdout",
     "output_type": "stream",
     "text": [
      "80.6000000000002\n",
      "pickle restored!\n"
     ]
    },
    {
     "name": "stderr",
     "output_type": "stream",
     "text": [
      " 62%|██████▏   | 71/115 [00:47<00:29,  1.49it/s]"
     ]
    },
    {
     "name": "stdout",
     "output_type": "stream",
     "text": [
      "80.8000000000002\n",
      "pickle restored!\n"
     ]
    },
    {
     "name": "stderr",
     "output_type": "stream",
     "text": [
      " 63%|██████▎   | 72/115 [00:48<00:28,  1.52it/s]"
     ]
    },
    {
     "name": "stdout",
     "output_type": "stream",
     "text": [
      "81.0000000000002\n",
      "pickle restored!\n"
     ]
    },
    {
     "name": "stderr",
     "output_type": "stream",
     "text": [
      " 63%|██████▎   | 73/115 [00:49<00:27,  1.53it/s]"
     ]
    },
    {
     "name": "stdout",
     "output_type": "stream",
     "text": [
      "81.2000000000002\n",
      "pickle restored!\n"
     ]
    },
    {
     "name": "stderr",
     "output_type": "stream",
     "text": [
      " 64%|██████▍   | 74/115 [00:49<00:26,  1.53it/s]"
     ]
    },
    {
     "name": "stdout",
     "output_type": "stream",
     "text": [
      "81.4000000000002\n",
      "pickle restored!\n"
     ]
    },
    {
     "name": "stderr",
     "output_type": "stream",
     "text": [
      " 65%|██████▌   | 75/115 [00:50<00:26,  1.50it/s]"
     ]
    },
    {
     "name": "stdout",
     "output_type": "stream",
     "text": [
      "81.60000000000021\n",
      "pickle restored!\n"
     ]
    },
    {
     "name": "stderr",
     "output_type": "stream",
     "text": [
      " 66%|██████▌   | 76/115 [00:51<00:25,  1.52it/s]"
     ]
    },
    {
     "name": "stdout",
     "output_type": "stream",
     "text": [
      "81.80000000000021\n",
      "pickle restored!\n"
     ]
    },
    {
     "name": "stderr",
     "output_type": "stream",
     "text": [
      " 67%|██████▋   | 77/115 [00:51<00:25,  1.51it/s]"
     ]
    },
    {
     "name": "stdout",
     "output_type": "stream",
     "text": [
      "82.00000000000021\n",
      "pickle restored!\n"
     ]
    },
    {
     "name": "stderr",
     "output_type": "stream",
     "text": [
      " 68%|██████▊   | 78/115 [00:52<00:24,  1.50it/s]"
     ]
    },
    {
     "name": "stdout",
     "output_type": "stream",
     "text": [
      "82.20000000000022\n",
      "pickle restored!\n"
     ]
    },
    {
     "name": "stderr",
     "output_type": "stream",
     "text": [
      " 69%|██████▊   | 79/115 [00:53<00:24,  1.49it/s]"
     ]
    },
    {
     "name": "stdout",
     "output_type": "stream",
     "text": [
      "82.40000000000022\n",
      "pickle restored!\n"
     ]
    },
    {
     "name": "stderr",
     "output_type": "stream",
     "text": [
      " 70%|██████▉   | 80/115 [00:53<00:23,  1.50it/s]"
     ]
    },
    {
     "name": "stdout",
     "output_type": "stream",
     "text": [
      "82.60000000000022\n",
      "pickle restored!\n"
     ]
    },
    {
     "name": "stderr",
     "output_type": "stream",
     "text": [
      " 70%|███████   | 81/115 [00:54<00:22,  1.50it/s]"
     ]
    },
    {
     "name": "stdout",
     "output_type": "stream",
     "text": [
      "82.80000000000022\n",
      "pickle restored!\n"
     ]
    },
    {
     "name": "stderr",
     "output_type": "stream",
     "text": [
      " 71%|███████▏  | 82/115 [00:55<00:22,  1.49it/s]"
     ]
    },
    {
     "name": "stdout",
     "output_type": "stream",
     "text": [
      "83.00000000000023\n",
      "pickle restored!\n"
     ]
    },
    {
     "name": "stderr",
     "output_type": "stream",
     "text": [
      " 72%|███████▏  | 83/115 [00:55<00:21,  1.49it/s]"
     ]
    },
    {
     "name": "stdout",
     "output_type": "stream",
     "text": [
      "83.20000000000023\n",
      "pickle restored!\n"
     ]
    },
    {
     "name": "stderr",
     "output_type": "stream",
     "text": [
      " 73%|███████▎  | 84/115 [00:56<00:21,  1.46it/s]"
     ]
    },
    {
     "name": "stdout",
     "output_type": "stream",
     "text": [
      "83.40000000000023\n",
      "pickle restored!\n"
     ]
    },
    {
     "name": "stderr",
     "output_type": "stream",
     "text": [
      " 74%|███████▍  | 85/115 [00:57<00:20,  1.45it/s]"
     ]
    },
    {
     "name": "stdout",
     "output_type": "stream",
     "text": [
      "83.60000000000024\n",
      "pickle restored!\n"
     ]
    },
    {
     "name": "stderr",
     "output_type": "stream",
     "text": [
      " 75%|███████▍  | 86/115 [00:57<00:20,  1.43it/s]"
     ]
    },
    {
     "name": "stdout",
     "output_type": "stream",
     "text": [
      "83.80000000000024\n",
      "pickle restored!\n"
     ]
    },
    {
     "name": "stderr",
     "output_type": "stream",
     "text": [
      " 76%|███████▌  | 87/115 [00:58<00:19,  1.40it/s]"
     ]
    },
    {
     "name": "stdout",
     "output_type": "stream",
     "text": [
      "84.00000000000024\n",
      "pickle restored!\n"
     ]
    },
    {
     "name": "stderr",
     "output_type": "stream",
     "text": [
      " 77%|███████▋  | 88/115 [00:59<00:19,  1.40it/s]"
     ]
    },
    {
     "name": "stdout",
     "output_type": "stream",
     "text": [
      "84.20000000000024\n",
      "pickle restored!\n"
     ]
    },
    {
     "name": "stderr",
     "output_type": "stream",
     "text": [
      " 77%|███████▋  | 89/115 [01:00<00:18,  1.39it/s]"
     ]
    },
    {
     "name": "stdout",
     "output_type": "stream",
     "text": [
      "84.40000000000025\n",
      "pickle restored!\n"
     ]
    },
    {
     "name": "stderr",
     "output_type": "stream",
     "text": [
      " 78%|███████▊  | 90/115 [01:00<00:17,  1.39it/s]"
     ]
    },
    {
     "name": "stdout",
     "output_type": "stream",
     "text": [
      "84.60000000000025\n",
      "pickle restored!\n"
     ]
    },
    {
     "name": "stderr",
     "output_type": "stream",
     "text": [
      " 79%|███████▉  | 91/115 [01:01<00:17,  1.39it/s]"
     ]
    },
    {
     "name": "stdout",
     "output_type": "stream",
     "text": [
      "84.80000000000025\n",
      "pickle restored!\n"
     ]
    },
    {
     "name": "stderr",
     "output_type": "stream",
     "text": [
      " 80%|████████  | 92/115 [01:02<00:16,  1.41it/s]"
     ]
    },
    {
     "name": "stdout",
     "output_type": "stream",
     "text": [
      "85.00000000000026\n",
      "pickle restored!\n"
     ]
    },
    {
     "name": "stderr",
     "output_type": "stream",
     "text": [
      " 81%|████████  | 93/115 [01:02<00:15,  1.41it/s]"
     ]
    },
    {
     "name": "stdout",
     "output_type": "stream",
     "text": [
      "85.20000000000026\n",
      "pickle restored!\n"
     ]
    },
    {
     "name": "stderr",
     "output_type": "stream",
     "text": [
      " 82%|████████▏ | 94/115 [01:03<00:14,  1.43it/s]"
     ]
    },
    {
     "name": "stdout",
     "output_type": "stream",
     "text": [
      "85.40000000000026\n",
      "pickle restored!\n"
     ]
    },
    {
     "name": "stderr",
     "output_type": "stream",
     "text": [
      " 83%|████████▎ | 95/115 [01:04<00:13,  1.46it/s]"
     ]
    },
    {
     "name": "stdout",
     "output_type": "stream",
     "text": [
      "85.60000000000026\n",
      "pickle restored!\n"
     ]
    },
    {
     "name": "stderr",
     "output_type": "stream",
     "text": [
      " 83%|████████▎ | 96/115 [01:04<00:12,  1.47it/s]"
     ]
    },
    {
     "name": "stdout",
     "output_type": "stream",
     "text": [
      "85.80000000000027\n",
      "pickle restored!\n"
     ]
    },
    {
     "name": "stderr",
     "output_type": "stream",
     "text": [
      " 84%|████████▍ | 97/115 [01:05<00:12,  1.47it/s]"
     ]
    },
    {
     "name": "stdout",
     "output_type": "stream",
     "text": [
      "86.00000000000027\n",
      "pickle restored!\n"
     ]
    },
    {
     "name": "stderr",
     "output_type": "stream",
     "text": [
      " 85%|████████▌ | 98/115 [01:06<00:11,  1.45it/s]"
     ]
    },
    {
     "name": "stdout",
     "output_type": "stream",
     "text": [
      "86.20000000000027\n",
      "pickle restored!\n"
     ]
    },
    {
     "name": "stderr",
     "output_type": "stream",
     "text": [
      " 86%|████████▌ | 99/115 [01:07<00:11,  1.45it/s]"
     ]
    },
    {
     "name": "stdout",
     "output_type": "stream",
     "text": [
      "86.40000000000028\n",
      "pickle restored!\n"
     ]
    },
    {
     "name": "stderr",
     "output_type": "stream",
     "text": [
      " 87%|████████▋ | 100/115 [01:07<00:10,  1.47it/s]"
     ]
    },
    {
     "name": "stdout",
     "output_type": "stream",
     "text": [
      "86.60000000000028\n",
      "pickle restored!\n"
     ]
    },
    {
     "name": "stderr",
     "output_type": "stream",
     "text": [
      " 88%|████████▊ | 101/115 [01:08<00:09,  1.45it/s]"
     ]
    },
    {
     "name": "stdout",
     "output_type": "stream",
     "text": [
      "86.80000000000028\n",
      "pickle restored!\n"
     ]
    },
    {
     "name": "stderr",
     "output_type": "stream",
     "text": [
      " 89%|████████▊ | 102/115 [01:09<00:08,  1.46it/s]"
     ]
    },
    {
     "name": "stdout",
     "output_type": "stream",
     "text": [
      "87.00000000000028\n",
      "pickle restored!\n"
     ]
    },
    {
     "name": "stderr",
     "output_type": "stream",
     "text": [
      " 90%|████████▉ | 103/115 [01:09<00:08,  1.47it/s]"
     ]
    },
    {
     "name": "stdout",
     "output_type": "stream",
     "text": [
      "87.20000000000029\n",
      "pickle restored!\n"
     ]
    },
    {
     "name": "stderr",
     "output_type": "stream",
     "text": [
      " 90%|█████████ | 104/115 [01:10<00:07,  1.42it/s]"
     ]
    },
    {
     "name": "stdout",
     "output_type": "stream",
     "text": [
      "87.40000000000029\n",
      "pickle restored!\n"
     ]
    },
    {
     "name": "stderr",
     "output_type": "stream",
     "text": [
      " 91%|█████████▏| 105/115 [01:11<00:06,  1.44it/s]"
     ]
    },
    {
     "name": "stdout",
     "output_type": "stream",
     "text": [
      "87.60000000000029\n",
      "pickle restored!\n"
     ]
    },
    {
     "name": "stderr",
     "output_type": "stream",
     "text": [
      " 92%|█████████▏| 106/115 [01:11<00:06,  1.45it/s]"
     ]
    },
    {
     "name": "stdout",
     "output_type": "stream",
     "text": [
      "87.8000000000003\n",
      "pickle restored!\n"
     ]
    },
    {
     "name": "stderr",
     "output_type": "stream",
     "text": [
      " 93%|█████████▎| 107/115 [01:12<00:05,  1.46it/s]"
     ]
    },
    {
     "name": "stdout",
     "output_type": "stream",
     "text": [
      "88.0000000000003\n",
      "pickle restored!\n"
     ]
    },
    {
     "name": "stderr",
     "output_type": "stream",
     "text": [
      " 94%|█████████▍| 108/115 [01:13<00:04,  1.47it/s]"
     ]
    },
    {
     "name": "stdout",
     "output_type": "stream",
     "text": [
      "88.2000000000003\n",
      "pickle restored!\n"
     ]
    },
    {
     "name": "stderr",
     "output_type": "stream",
     "text": [
      " 95%|█████████▍| 109/115 [01:13<00:04,  1.48it/s]"
     ]
    },
    {
     "name": "stdout",
     "output_type": "stream",
     "text": [
      "88.4000000000003\n",
      "pickle restored!\n"
     ]
    },
    {
     "name": "stderr",
     "output_type": "stream",
     "text": [
      " 96%|█████████▌| 110/115 [01:14<00:03,  1.50it/s]"
     ]
    },
    {
     "name": "stdout",
     "output_type": "stream",
     "text": [
      "88.6000000000003\n",
      "pickle restored!\n"
     ]
    },
    {
     "name": "stderr",
     "output_type": "stream",
     "text": [
      " 97%|█████████▋| 111/115 [01:15<00:02,  1.52it/s]"
     ]
    },
    {
     "name": "stdout",
     "output_type": "stream",
     "text": [
      "88.80000000000031\n",
      "pickle restored!\n"
     ]
    },
    {
     "name": "stderr",
     "output_type": "stream",
     "text": [
      " 97%|█████████▋| 112/115 [01:15<00:01,  1.52it/s]"
     ]
    },
    {
     "name": "stdout",
     "output_type": "stream",
     "text": [
      "89.00000000000031\n",
      "pickle restored!\n"
     ]
    },
    {
     "name": "stderr",
     "output_type": "stream",
     "text": [
      " 98%|█████████▊| 113/115 [01:16<00:01,  1.50it/s]"
     ]
    },
    {
     "name": "stdout",
     "output_type": "stream",
     "text": [
      "89.20000000000032\n",
      "pickle restored!\n"
     ]
    },
    {
     "name": "stderr",
     "output_type": "stream",
     "text": [
      " 99%|█████████▉| 114/115 [01:17<00:00,  1.51it/s]"
     ]
    },
    {
     "name": "stdout",
     "output_type": "stream",
     "text": [
      "89.40000000000032\n",
      "pickle restored!\n"
     ]
    },
    {
     "name": "stderr",
     "output_type": "stream",
     "text": [
      "100%|██████████| 115/115 [01:17<00:00,  1.48it/s]\n",
      "  0%|          | 0/95 [00:00<?, ?it/s]"
     ]
    },
    {
     "name": "stdout",
     "output_type": "stream",
     "text": [
      "66.6\n",
      "pickle restored!\n"
     ]
    },
    {
     "name": "stderr",
     "output_type": "stream",
     "text": [
      "  1%|          | 1/95 [00:00<01:06,  1.41it/s]"
     ]
    },
    {
     "name": "stdout",
     "output_type": "stream",
     "text": [
      "66.8\n",
      "pickle restored!\n"
     ]
    },
    {
     "name": "stderr",
     "output_type": "stream",
     "text": [
      "  2%|▏         | 2/95 [00:01<01:04,  1.45it/s]"
     ]
    },
    {
     "name": "stdout",
     "output_type": "stream",
     "text": [
      "67.0\n",
      "pickle restored!\n"
     ]
    },
    {
     "name": "stderr",
     "output_type": "stream",
     "text": [
      "  3%|▎         | 3/95 [00:02<01:02,  1.48it/s]"
     ]
    },
    {
     "name": "stdout",
     "output_type": "stream",
     "text": [
      "67.2\n",
      "pickle restored!\n"
     ]
    },
    {
     "name": "stderr",
     "output_type": "stream",
     "text": [
      "  4%|▍         | 4/95 [00:02<01:01,  1.48it/s]"
     ]
    },
    {
     "name": "stdout",
     "output_type": "stream",
     "text": [
      "67.4\n",
      "pickle restored!\n"
     ]
    },
    {
     "name": "stderr",
     "output_type": "stream",
     "text": [
      "  5%|▌         | 5/95 [00:03<01:00,  1.48it/s]"
     ]
    },
    {
     "name": "stdout",
     "output_type": "stream",
     "text": [
      "67.60000000000001\n",
      "pickle restored!\n"
     ]
    },
    {
     "name": "stderr",
     "output_type": "stream",
     "text": [
      "  6%|▋         | 6/95 [00:04<01:14,  1.19it/s]"
     ]
    },
    {
     "name": "stdout",
     "output_type": "stream",
     "text": [
      "67.80000000000001\n",
      "pickle restored!\n"
     ]
    },
    {
     "name": "stderr",
     "output_type": "stream",
     "text": [
      "  7%|▋         | 7/95 [00:05<01:08,  1.28it/s]"
     ]
    },
    {
     "name": "stdout",
     "output_type": "stream",
     "text": [
      "68.00000000000001\n",
      "pickle restored!\n"
     ]
    },
    {
     "name": "stderr",
     "output_type": "stream",
     "text": [
      "  8%|▊         | 8/95 [00:06<01:19,  1.09it/s]"
     ]
    },
    {
     "name": "stdout",
     "output_type": "stream",
     "text": [
      "68.20000000000002\n",
      "pickle restored!\n"
     ]
    },
    {
     "name": "stderr",
     "output_type": "stream",
     "text": [
      "  9%|▉         | 9/95 [00:07<01:12,  1.19it/s]"
     ]
    },
    {
     "name": "stdout",
     "output_type": "stream",
     "text": [
      "68.40000000000002\n",
      "pickle restored!\n"
     ]
    },
    {
     "name": "stderr",
     "output_type": "stream",
     "text": [
      " 11%|█         | 10/95 [00:07<01:06,  1.27it/s]"
     ]
    },
    {
     "name": "stdout",
     "output_type": "stream",
     "text": [
      "68.60000000000002\n",
      "pickle restored!\n"
     ]
    },
    {
     "name": "stderr",
     "output_type": "stream",
     "text": [
      " 12%|█▏        | 11/95 [00:08<01:02,  1.34it/s]"
     ]
    },
    {
     "name": "stdout",
     "output_type": "stream",
     "text": [
      "68.80000000000003\n",
      "pickle restored!\n"
     ]
    },
    {
     "name": "stderr",
     "output_type": "stream",
     "text": [
      " 13%|█▎        | 12/95 [00:09<00:58,  1.41it/s]"
     ]
    },
    {
     "name": "stdout",
     "output_type": "stream",
     "text": [
      "69.00000000000003\n",
      "pickle restored!\n"
     ]
    },
    {
     "name": "stderr",
     "output_type": "stream",
     "text": [
      " 14%|█▎        | 13/95 [00:09<00:56,  1.45it/s]"
     ]
    },
    {
     "name": "stdout",
     "output_type": "stream",
     "text": [
      "69.20000000000003\n",
      "pickle restored!\n"
     ]
    },
    {
     "name": "stderr",
     "output_type": "stream",
     "text": [
      " 15%|█▍        | 14/95 [00:10<00:54,  1.47it/s]"
     ]
    },
    {
     "name": "stdout",
     "output_type": "stream",
     "text": [
      "69.40000000000003\n",
      "pickle restored!\n"
     ]
    },
    {
     "name": "stderr",
     "output_type": "stream",
     "text": [
      " 16%|█▌        | 15/95 [00:10<00:53,  1.49it/s]"
     ]
    },
    {
     "name": "stdout",
     "output_type": "stream",
     "text": [
      "69.60000000000004\n",
      "pickle restored!\n"
     ]
    },
    {
     "name": "stderr",
     "output_type": "stream",
     "text": [
      " 17%|█▋        | 16/95 [00:11<00:53,  1.49it/s]"
     ]
    },
    {
     "name": "stdout",
     "output_type": "stream",
     "text": [
      "69.80000000000004\n",
      "pickle restored!\n"
     ]
    },
    {
     "name": "stderr",
     "output_type": "stream",
     "text": [
      " 18%|█▊        | 17/95 [00:12<00:52,  1.49it/s]"
     ]
    },
    {
     "name": "stdout",
     "output_type": "stream",
     "text": [
      "70.00000000000004\n",
      "pickle restored!\n"
     ]
    },
    {
     "name": "stderr",
     "output_type": "stream",
     "text": [
      " 19%|█▉        | 18/95 [00:12<00:51,  1.50it/s]"
     ]
    },
    {
     "name": "stdout",
     "output_type": "stream",
     "text": [
      "70.20000000000005\n",
      "pickle restored!\n"
     ]
    },
    {
     "name": "stderr",
     "output_type": "stream",
     "text": [
      " 20%|██        | 19/95 [00:13<00:50,  1.50it/s]"
     ]
    },
    {
     "name": "stdout",
     "output_type": "stream",
     "text": [
      "70.40000000000005\n",
      "pickle restored!\n"
     ]
    },
    {
     "name": "stderr",
     "output_type": "stream",
     "text": [
      " 21%|██        | 20/95 [00:14<00:49,  1.50it/s]"
     ]
    },
    {
     "name": "stdout",
     "output_type": "stream",
     "text": [
      "70.60000000000005\n",
      "pickle restored!\n"
     ]
    },
    {
     "name": "stderr",
     "output_type": "stream",
     "text": [
      " 22%|██▏       | 21/95 [00:14<00:49,  1.49it/s]"
     ]
    },
    {
     "name": "stdout",
     "output_type": "stream",
     "text": [
      "70.80000000000005\n",
      "pickle restored!\n"
     ]
    },
    {
     "name": "stderr",
     "output_type": "stream",
     "text": [
      " 23%|██▎       | 22/95 [00:15<00:49,  1.49it/s]"
     ]
    },
    {
     "name": "stdout",
     "output_type": "stream",
     "text": [
      "71.00000000000006\n",
      "pickle restored!\n"
     ]
    },
    {
     "name": "stderr",
     "output_type": "stream",
     "text": [
      " 24%|██▍       | 23/95 [00:16<00:48,  1.49it/s]"
     ]
    },
    {
     "name": "stdout",
     "output_type": "stream",
     "text": [
      "71.20000000000006\n",
      "pickle restored!\n"
     ]
    },
    {
     "name": "stderr",
     "output_type": "stream",
     "text": [
      " 25%|██▌       | 24/95 [00:16<00:46,  1.51it/s]"
     ]
    },
    {
     "name": "stdout",
     "output_type": "stream",
     "text": [
      "71.40000000000006\n",
      "pickle restored!\n"
     ]
    },
    {
     "name": "stderr",
     "output_type": "stream",
     "text": [
      " 26%|██▋       | 25/95 [00:17<00:46,  1.50it/s]"
     ]
    },
    {
     "name": "stdout",
     "output_type": "stream",
     "text": [
      "71.60000000000007\n",
      "pickle restored!\n"
     ]
    },
    {
     "name": "stderr",
     "output_type": "stream",
     "text": [
      " 27%|██▋       | 26/95 [00:18<00:45,  1.50it/s]"
     ]
    },
    {
     "name": "stdout",
     "output_type": "stream",
     "text": [
      "71.80000000000007\n",
      "pickle restored!\n"
     ]
    },
    {
     "name": "stderr",
     "output_type": "stream",
     "text": [
      " 28%|██▊       | 27/95 [00:18<00:44,  1.51it/s]"
     ]
    },
    {
     "name": "stdout",
     "output_type": "stream",
     "text": [
      "72.00000000000007\n",
      "pickle restored!\n"
     ]
    },
    {
     "name": "stderr",
     "output_type": "stream",
     "text": [
      " 29%|██▉       | 28/95 [00:19<00:44,  1.52it/s]"
     ]
    },
    {
     "name": "stdout",
     "output_type": "stream",
     "text": [
      "72.20000000000007\n",
      "pickle restored!\n"
     ]
    },
    {
     "name": "stderr",
     "output_type": "stream",
     "text": [
      " 31%|███       | 29/95 [00:20<00:43,  1.51it/s]"
     ]
    },
    {
     "name": "stdout",
     "output_type": "stream",
     "text": [
      "72.40000000000008\n",
      "pickle restored!\n"
     ]
    },
    {
     "name": "stderr",
     "output_type": "stream",
     "text": [
      " 32%|███▏      | 30/95 [00:20<00:43,  1.51it/s]"
     ]
    },
    {
     "name": "stdout",
     "output_type": "stream",
     "text": [
      "72.60000000000008\n",
      "pickle restored!\n"
     ]
    },
    {
     "name": "stderr",
     "output_type": "stream",
     "text": [
      " 33%|███▎      | 31/95 [00:21<00:42,  1.51it/s]"
     ]
    },
    {
     "name": "stdout",
     "output_type": "stream",
     "text": [
      "72.80000000000008\n",
      "pickle restored!\n"
     ]
    },
    {
     "name": "stderr",
     "output_type": "stream",
     "text": [
      " 34%|███▎      | 32/95 [00:22<00:41,  1.51it/s]"
     ]
    },
    {
     "name": "stdout",
     "output_type": "stream",
     "text": [
      "73.00000000000009\n",
      "pickle restored!\n"
     ]
    },
    {
     "name": "stderr",
     "output_type": "stream",
     "text": [
      " 35%|███▍      | 33/95 [00:22<00:40,  1.52it/s]"
     ]
    },
    {
     "name": "stdout",
     "output_type": "stream",
     "text": [
      "73.20000000000009\n",
      "pickle restored!\n"
     ]
    },
    {
     "name": "stderr",
     "output_type": "stream",
     "text": [
      " 36%|███▌      | 34/95 [00:23<00:40,  1.52it/s]"
     ]
    },
    {
     "name": "stdout",
     "output_type": "stream",
     "text": [
      "73.40000000000009\n",
      "pickle restored!\n"
     ]
    },
    {
     "name": "stderr",
     "output_type": "stream",
     "text": [
      " 37%|███▋      | 35/95 [00:24<00:40,  1.50it/s]"
     ]
    },
    {
     "name": "stdout",
     "output_type": "stream",
     "text": [
      "73.6000000000001\n",
      "pickle restored!\n"
     ]
    },
    {
     "name": "stderr",
     "output_type": "stream",
     "text": [
      " 38%|███▊      | 36/95 [00:24<00:39,  1.51it/s]"
     ]
    },
    {
     "name": "stdout",
     "output_type": "stream",
     "text": [
      "73.8000000000001\n",
      "pickle restored!\n"
     ]
    },
    {
     "name": "stderr",
     "output_type": "stream",
     "text": [
      " 39%|███▉      | 37/95 [00:25<00:38,  1.52it/s]"
     ]
    },
    {
     "name": "stdout",
     "output_type": "stream",
     "text": [
      "74.0000000000001\n",
      "pickle restored!\n"
     ]
    },
    {
     "name": "stderr",
     "output_type": "stream",
     "text": [
      " 40%|████      | 38/95 [00:26<00:37,  1.52it/s]"
     ]
    },
    {
     "name": "stdout",
     "output_type": "stream",
     "text": [
      "74.2000000000001\n",
      "pickle restored!\n"
     ]
    },
    {
     "name": "stderr",
     "output_type": "stream",
     "text": [
      " 41%|████      | 39/95 [00:26<00:36,  1.52it/s]"
     ]
    },
    {
     "name": "stdout",
     "output_type": "stream",
     "text": [
      "74.4000000000001\n",
      "pickle restored!\n"
     ]
    },
    {
     "name": "stderr",
     "output_type": "stream",
     "text": [
      " 42%|████▏     | 40/95 [00:27<00:36,  1.49it/s]"
     ]
    },
    {
     "name": "stdout",
     "output_type": "stream",
     "text": [
      "74.60000000000011\n",
      "pickle restored!\n"
     ]
    },
    {
     "name": "stderr",
     "output_type": "stream",
     "text": [
      " 43%|████▎     | 41/95 [00:28<00:36,  1.50it/s]"
     ]
    },
    {
     "name": "stdout",
     "output_type": "stream",
     "text": [
      "74.80000000000011\n",
      "pickle restored!\n"
     ]
    },
    {
     "name": "stderr",
     "output_type": "stream",
     "text": [
      " 44%|████▍     | 42/95 [00:28<00:35,  1.50it/s]"
     ]
    },
    {
     "name": "stdout",
     "output_type": "stream",
     "text": [
      "75.00000000000011\n",
      "pickle restored!\n"
     ]
    },
    {
     "name": "stderr",
     "output_type": "stream",
     "text": [
      " 45%|████▌     | 43/95 [00:29<00:34,  1.51it/s]"
     ]
    },
    {
     "name": "stdout",
     "output_type": "stream",
     "text": [
      "75.20000000000012\n",
      "pickle restored!\n"
     ]
    },
    {
     "name": "stderr",
     "output_type": "stream",
     "text": [
      " 46%|████▋     | 44/95 [00:30<00:34,  1.49it/s]"
     ]
    },
    {
     "name": "stdout",
     "output_type": "stream",
     "text": [
      "75.40000000000012\n",
      "pickle restored!\n"
     ]
    },
    {
     "name": "stderr",
     "output_type": "stream",
     "text": [
      " 47%|████▋     | 45/95 [00:30<00:33,  1.50it/s]"
     ]
    },
    {
     "name": "stdout",
     "output_type": "stream",
     "text": [
      "75.60000000000012\n",
      "pickle restored!\n"
     ]
    },
    {
     "name": "stderr",
     "output_type": "stream",
     "text": [
      " 48%|████▊     | 46/95 [00:31<00:32,  1.50it/s]"
     ]
    },
    {
     "name": "stdout",
     "output_type": "stream",
     "text": [
      "75.80000000000013\n",
      "pickle restored!\n"
     ]
    },
    {
     "name": "stderr",
     "output_type": "stream",
     "text": [
      " 49%|████▉     | 47/95 [00:32<00:31,  1.50it/s]"
     ]
    },
    {
     "name": "stdout",
     "output_type": "stream",
     "text": [
      "76.00000000000013\n",
      "pickle restored!\n"
     ]
    },
    {
     "name": "stderr",
     "output_type": "stream",
     "text": [
      " 51%|█████     | 48/95 [00:32<00:31,  1.51it/s]"
     ]
    },
    {
     "name": "stdout",
     "output_type": "stream",
     "text": [
      "76.20000000000013\n",
      "pickle restored!\n"
     ]
    },
    {
     "name": "stderr",
     "output_type": "stream",
     "text": [
      " 52%|█████▏    | 49/95 [00:33<00:30,  1.52it/s]"
     ]
    },
    {
     "name": "stdout",
     "output_type": "stream",
     "text": [
      "76.40000000000013\n",
      "pickle restored!\n"
     ]
    },
    {
     "name": "stderr",
     "output_type": "stream",
     "text": [
      " 53%|█████▎    | 50/95 [00:34<00:29,  1.51it/s]"
     ]
    },
    {
     "name": "stdout",
     "output_type": "stream",
     "text": [
      "76.60000000000014\n",
      "pickle restored!\n"
     ]
    },
    {
     "name": "stderr",
     "output_type": "stream",
     "text": [
      " 54%|█████▎    | 51/95 [00:34<00:29,  1.50it/s]"
     ]
    },
    {
     "name": "stdout",
     "output_type": "stream",
     "text": [
      "76.80000000000014\n",
      "pickle restored!\n"
     ]
    },
    {
     "name": "stderr",
     "output_type": "stream",
     "text": [
      " 55%|█████▍    | 52/95 [00:35<00:28,  1.49it/s]"
     ]
    },
    {
     "name": "stdout",
     "output_type": "stream",
     "text": [
      "77.00000000000014\n",
      "pickle restored!\n"
     ]
    },
    {
     "name": "stderr",
     "output_type": "stream",
     "text": [
      " 56%|█████▌    | 53/95 [00:36<00:28,  1.50it/s]"
     ]
    },
    {
     "name": "stdout",
     "output_type": "stream",
     "text": [
      "77.20000000000014\n",
      "pickle restored!\n"
     ]
    },
    {
     "name": "stderr",
     "output_type": "stream",
     "text": [
      " 57%|█████▋    | 54/95 [00:36<00:27,  1.50it/s]"
     ]
    },
    {
     "name": "stdout",
     "output_type": "stream",
     "text": [
      "77.40000000000015\n",
      "pickle restored!\n"
     ]
    },
    {
     "name": "stderr",
     "output_type": "stream",
     "text": [
      " 58%|█████▊    | 55/95 [00:37<00:26,  1.50it/s]"
     ]
    },
    {
     "name": "stdout",
     "output_type": "stream",
     "text": [
      "77.60000000000015\n",
      "pickle restored!\n"
     ]
    },
    {
     "name": "stderr",
     "output_type": "stream",
     "text": [
      " 59%|█████▉    | 56/95 [00:38<00:26,  1.49it/s]"
     ]
    },
    {
     "name": "stdout",
     "output_type": "stream",
     "text": [
      "77.80000000000015\n",
      "pickle restored!\n"
     ]
    },
    {
     "name": "stderr",
     "output_type": "stream",
     "text": [
      " 60%|██████    | 57/95 [00:38<00:25,  1.48it/s]"
     ]
    },
    {
     "name": "stdout",
     "output_type": "stream",
     "text": [
      "78.00000000000016\n",
      "pickle restored!\n"
     ]
    },
    {
     "name": "stderr",
     "output_type": "stream",
     "text": [
      " 61%|██████    | 58/95 [00:39<00:25,  1.47it/s]"
     ]
    },
    {
     "name": "stdout",
     "output_type": "stream",
     "text": [
      "78.20000000000016\n",
      "pickle restored!\n"
     ]
    },
    {
     "name": "stderr",
     "output_type": "stream",
     "text": [
      " 62%|██████▏   | 59/95 [00:40<00:24,  1.48it/s]"
     ]
    },
    {
     "name": "stdout",
     "output_type": "stream",
     "text": [
      "78.40000000000016\n",
      "pickle restored!\n"
     ]
    },
    {
     "name": "stderr",
     "output_type": "stream",
     "text": [
      " 63%|██████▎   | 60/95 [00:40<00:23,  1.49it/s]"
     ]
    },
    {
     "name": "stdout",
     "output_type": "stream",
     "text": [
      "78.60000000000016\n",
      "pickle restored!\n"
     ]
    },
    {
     "name": "stderr",
     "output_type": "stream",
     "text": [
      " 64%|██████▍   | 61/95 [00:41<00:22,  1.48it/s]"
     ]
    },
    {
     "name": "stdout",
     "output_type": "stream",
     "text": [
      "78.80000000000017\n",
      "pickle restored!\n"
     ]
    },
    {
     "name": "stderr",
     "output_type": "stream",
     "text": [
      " 65%|██████▌   | 62/95 [00:42<00:22,  1.49it/s]"
     ]
    },
    {
     "name": "stdout",
     "output_type": "stream",
     "text": [
      "79.00000000000017\n",
      "pickle restored!\n"
     ]
    },
    {
     "name": "stderr",
     "output_type": "stream",
     "text": [
      " 66%|██████▋   | 63/95 [00:42<00:21,  1.49it/s]"
     ]
    },
    {
     "name": "stdout",
     "output_type": "stream",
     "text": [
      "79.20000000000017\n",
      "pickle restored!\n"
     ]
    },
    {
     "name": "stderr",
     "output_type": "stream",
     "text": [
      " 67%|██████▋   | 64/95 [00:43<00:20,  1.50it/s]"
     ]
    },
    {
     "name": "stdout",
     "output_type": "stream",
     "text": [
      "79.40000000000018\n",
      "pickle restored!\n"
     ]
    },
    {
     "name": "stderr",
     "output_type": "stream",
     "text": [
      " 68%|██████▊   | 65/95 [00:44<00:20,  1.49it/s]"
     ]
    },
    {
     "name": "stdout",
     "output_type": "stream",
     "text": [
      "79.60000000000018\n",
      "pickle restored!\n"
     ]
    },
    {
     "name": "stderr",
     "output_type": "stream",
     "text": [
      " 69%|██████▉   | 66/95 [00:44<00:19,  1.49it/s]"
     ]
    },
    {
     "name": "stdout",
     "output_type": "stream",
     "text": [
      "79.80000000000018\n",
      "pickle restored!\n"
     ]
    },
    {
     "name": "stderr",
     "output_type": "stream",
     "text": [
      " 71%|███████   | 67/95 [00:45<00:18,  1.49it/s]"
     ]
    },
    {
     "name": "stdout",
     "output_type": "stream",
     "text": [
      "80.00000000000018\n",
      "pickle restored!\n"
     ]
    },
    {
     "name": "stderr",
     "output_type": "stream",
     "text": [
      " 72%|███████▏  | 68/95 [00:46<00:17,  1.50it/s]"
     ]
    },
    {
     "name": "stdout",
     "output_type": "stream",
     "text": [
      "80.20000000000019\n",
      "pickle restored!\n"
     ]
    },
    {
     "name": "stderr",
     "output_type": "stream",
     "text": [
      " 73%|███████▎  | 69/95 [00:46<00:17,  1.51it/s]"
     ]
    },
    {
     "name": "stdout",
     "output_type": "stream",
     "text": [
      "80.40000000000019\n",
      "pickle restored!\n"
     ]
    },
    {
     "name": "stderr",
     "output_type": "stream",
     "text": [
      " 74%|███████▎  | 70/95 [00:47<00:16,  1.51it/s]"
     ]
    },
    {
     "name": "stdout",
     "output_type": "stream",
     "text": [
      "80.6000000000002\n",
      "pickle restored!\n"
     ]
    },
    {
     "name": "stderr",
     "output_type": "stream",
     "text": [
      " 75%|███████▍  | 71/95 [00:48<00:15,  1.52it/s]"
     ]
    },
    {
     "name": "stdout",
     "output_type": "stream",
     "text": [
      "80.8000000000002\n",
      "pickle restored!\n"
     ]
    },
    {
     "name": "stderr",
     "output_type": "stream",
     "text": [
      " 76%|███████▌  | 72/95 [00:48<00:14,  1.53it/s]"
     ]
    },
    {
     "name": "stdout",
     "output_type": "stream",
     "text": [
      "81.0000000000002\n",
      "pickle restored!\n"
     ]
    },
    {
     "name": "stderr",
     "output_type": "stream",
     "text": [
      " 77%|███████▋  | 73/95 [00:49<00:14,  1.51it/s]"
     ]
    },
    {
     "name": "stdout",
     "output_type": "stream",
     "text": [
      "81.2000000000002\n",
      "pickle restored!\n"
     ]
    },
    {
     "name": "stderr",
     "output_type": "stream",
     "text": [
      " 78%|███████▊  | 74/95 [00:50<00:13,  1.53it/s]"
     ]
    },
    {
     "name": "stdout",
     "output_type": "stream",
     "text": [
      "81.4000000000002\n",
      "pickle restored!\n"
     ]
    },
    {
     "name": "stderr",
     "output_type": "stream",
     "text": [
      " 79%|███████▉  | 75/95 [00:50<00:12,  1.54it/s]"
     ]
    },
    {
     "name": "stdout",
     "output_type": "stream",
     "text": [
      "81.60000000000021\n",
      "pickle restored!\n"
     ]
    },
    {
     "name": "stderr",
     "output_type": "stream",
     "text": [
      " 80%|████████  | 76/95 [00:51<00:12,  1.56it/s]"
     ]
    },
    {
     "name": "stdout",
     "output_type": "stream",
     "text": [
      "81.80000000000021\n",
      "pickle restored!\n"
     ]
    },
    {
     "name": "stderr",
     "output_type": "stream",
     "text": [
      " 81%|████████  | 77/95 [00:52<00:11,  1.50it/s]"
     ]
    },
    {
     "name": "stdout",
     "output_type": "stream",
     "text": [
      "82.00000000000021\n",
      "pickle restored!\n"
     ]
    },
    {
     "name": "stderr",
     "output_type": "stream",
     "text": [
      " 82%|████████▏ | 78/95 [00:52<00:11,  1.51it/s]"
     ]
    },
    {
     "name": "stdout",
     "output_type": "stream",
     "text": [
      "82.20000000000022\n",
      "pickle restored!\n"
     ]
    },
    {
     "name": "stderr",
     "output_type": "stream",
     "text": [
      " 83%|████████▎ | 79/95 [00:53<00:10,  1.52it/s]"
     ]
    },
    {
     "name": "stdout",
     "output_type": "stream",
     "text": [
      "82.40000000000022\n",
      "pickle restored!\n"
     ]
    },
    {
     "name": "stderr",
     "output_type": "stream",
     "text": [
      " 84%|████████▍ | 80/95 [00:54<00:09,  1.51it/s]"
     ]
    },
    {
     "name": "stdout",
     "output_type": "stream",
     "text": [
      "82.60000000000022\n",
      "pickle restored!\n"
     ]
    },
    {
     "name": "stderr",
     "output_type": "stream",
     "text": [
      " 85%|████████▌ | 81/95 [00:54<00:09,  1.50it/s]"
     ]
    },
    {
     "name": "stdout",
     "output_type": "stream",
     "text": [
      "82.80000000000022\n",
      "pickle restored!\n"
     ]
    },
    {
     "name": "stderr",
     "output_type": "stream",
     "text": [
      " 86%|████████▋ | 82/95 [00:55<00:08,  1.51it/s]"
     ]
    },
    {
     "name": "stdout",
     "output_type": "stream",
     "text": [
      "83.00000000000023\n",
      "pickle restored!\n"
     ]
    },
    {
     "name": "stderr",
     "output_type": "stream",
     "text": [
      " 87%|████████▋ | 83/95 [00:56<00:07,  1.51it/s]"
     ]
    },
    {
     "name": "stdout",
     "output_type": "stream",
     "text": [
      "83.20000000000023\n",
      "pickle restored!\n"
     ]
    },
    {
     "name": "stderr",
     "output_type": "stream",
     "text": [
      " 88%|████████▊ | 84/95 [00:56<00:07,  1.52it/s]"
     ]
    },
    {
     "name": "stdout",
     "output_type": "stream",
     "text": [
      "83.40000000000023\n",
      "pickle restored!\n"
     ]
    },
    {
     "name": "stderr",
     "output_type": "stream",
     "text": [
      " 89%|████████▉ | 85/95 [00:57<00:06,  1.47it/s]"
     ]
    },
    {
     "name": "stdout",
     "output_type": "stream",
     "text": [
      "83.60000000000024\n",
      "pickle restored!\n"
     ]
    },
    {
     "name": "stderr",
     "output_type": "stream",
     "text": [
      " 91%|█████████ | 86/95 [00:58<00:06,  1.50it/s]"
     ]
    },
    {
     "name": "stdout",
     "output_type": "stream",
     "text": [
      "83.80000000000024\n",
      "pickle restored!\n"
     ]
    },
    {
     "name": "stderr",
     "output_type": "stream",
     "text": [
      " 92%|█████████▏| 87/95 [00:58<00:05,  1.51it/s]"
     ]
    },
    {
     "name": "stdout",
     "output_type": "stream",
     "text": [
      "84.00000000000024\n",
      "pickle restored!\n"
     ]
    },
    {
     "name": "stderr",
     "output_type": "stream",
     "text": [
      " 93%|█████████▎| 88/95 [00:59<00:04,  1.53it/s]"
     ]
    },
    {
     "name": "stdout",
     "output_type": "stream",
     "text": [
      "84.20000000000024\n",
      "pickle restored!\n"
     ]
    },
    {
     "name": "stderr",
     "output_type": "stream",
     "text": [
      " 94%|█████████▎| 89/95 [01:00<00:03,  1.52it/s]"
     ]
    },
    {
     "name": "stdout",
     "output_type": "stream",
     "text": [
      "84.40000000000025\n",
      "pickle restored!\n"
     ]
    },
    {
     "name": "stderr",
     "output_type": "stream",
     "text": [
      " 95%|█████████▍| 90/95 [01:00<00:03,  1.53it/s]"
     ]
    },
    {
     "name": "stdout",
     "output_type": "stream",
     "text": [
      "84.60000000000025\n",
      "pickle restored!\n"
     ]
    },
    {
     "name": "stderr",
     "output_type": "stream",
     "text": [
      " 96%|█████████▌| 91/95 [01:01<00:02,  1.53it/s]"
     ]
    },
    {
     "name": "stdout",
     "output_type": "stream",
     "text": [
      "84.80000000000025\n",
      "pickle restored!\n"
     ]
    },
    {
     "name": "stderr",
     "output_type": "stream",
     "text": [
      " 97%|█████████▋| 92/95 [01:02<00:01,  1.54it/s]"
     ]
    },
    {
     "name": "stdout",
     "output_type": "stream",
     "text": [
      "85.00000000000026\n",
      "pickle restored!\n"
     ]
    },
    {
     "name": "stderr",
     "output_type": "stream",
     "text": [
      " 98%|█████████▊| 93/95 [01:02<00:01,  1.54it/s]"
     ]
    },
    {
     "name": "stdout",
     "output_type": "stream",
     "text": [
      "85.20000000000026\n",
      "pickle restored!\n"
     ]
    },
    {
     "name": "stderr",
     "output_type": "stream",
     "text": [
      " 99%|█████████▉| 94/95 [01:03<00:00,  1.52it/s]"
     ]
    },
    {
     "name": "stdout",
     "output_type": "stream",
     "text": [
      "85.40000000000026\n",
      "pickle restored!\n"
     ]
    },
    {
     "name": "stderr",
     "output_type": "stream",
     "text": [
      "100%|██████████| 95/95 [01:04<00:00,  1.48it/s]\n",
      "  0%|          | 0/82 [00:00<?, ?it/s]"
     ]
    },
    {
     "name": "stdout",
     "output_type": "stream",
     "text": [
      "66.6\n",
      "pickle restored!\n"
     ]
    },
    {
     "name": "stderr",
     "output_type": "stream",
     "text": [
      "  1%|          | 1/82 [00:00<00:57,  1.41it/s]"
     ]
    },
    {
     "name": "stdout",
     "output_type": "stream",
     "text": [
      "66.8\n",
      "pickle restored!\n"
     ]
    },
    {
     "name": "stderr",
     "output_type": "stream",
     "text": [
      "  2%|▏         | 2/82 [00:01<00:56,  1.41it/s]"
     ]
    },
    {
     "name": "stdout",
     "output_type": "stream",
     "text": [
      "67.0\n",
      "pickle restored!\n"
     ]
    },
    {
     "name": "stderr",
     "output_type": "stream",
     "text": [
      "  4%|▎         | 3/82 [00:02<00:54,  1.46it/s]"
     ]
    },
    {
     "name": "stdout",
     "output_type": "stream",
     "text": [
      "67.2\n",
      "pickle restored!\n"
     ]
    },
    {
     "name": "stderr",
     "output_type": "stream",
     "text": [
      "  5%|▍         | 4/82 [00:02<00:54,  1.44it/s]"
     ]
    },
    {
     "name": "stdout",
     "output_type": "stream",
     "text": [
      "67.4\n",
      "pickle restored!\n"
     ]
    },
    {
     "name": "stderr",
     "output_type": "stream",
     "text": [
      "  6%|▌         | 5/82 [00:03<00:52,  1.47it/s]"
     ]
    },
    {
     "name": "stdout",
     "output_type": "stream",
     "text": [
      "67.60000000000001\n",
      "pickle restored!\n"
     ]
    },
    {
     "name": "stderr",
     "output_type": "stream",
     "text": [
      "  7%|▋         | 6/82 [00:04<00:51,  1.47it/s]"
     ]
    },
    {
     "name": "stdout",
     "output_type": "stream",
     "text": [
      "67.80000000000001\n",
      "pickle restored!\n"
     ]
    },
    {
     "name": "stderr",
     "output_type": "stream",
     "text": [
      "  9%|▊         | 7/82 [00:04<00:49,  1.51it/s]"
     ]
    },
    {
     "name": "stdout",
     "output_type": "stream",
     "text": [
      "68.00000000000001\n",
      "pickle restored!\n"
     ]
    },
    {
     "name": "stderr",
     "output_type": "stream",
     "text": [
      " 10%|▉         | 8/82 [00:05<00:49,  1.50it/s]"
     ]
    },
    {
     "name": "stdout",
     "output_type": "stream",
     "text": [
      "68.20000000000002\n",
      "pickle restored!\n"
     ]
    },
    {
     "name": "stderr",
     "output_type": "stream",
     "text": [
      " 11%|█         | 9/82 [00:06<00:47,  1.53it/s]"
     ]
    },
    {
     "name": "stdout",
     "output_type": "stream",
     "text": [
      "68.40000000000002\n",
      "pickle restored!\n"
     ]
    },
    {
     "name": "stderr",
     "output_type": "stream",
     "text": [
      " 12%|█▏        | 10/82 [00:06<00:47,  1.52it/s]"
     ]
    },
    {
     "name": "stdout",
     "output_type": "stream",
     "text": [
      "68.60000000000002\n",
      "pickle restored!\n"
     ]
    },
    {
     "name": "stderr",
     "output_type": "stream",
     "text": [
      " 13%|█▎        | 11/82 [00:07<00:46,  1.54it/s]"
     ]
    },
    {
     "name": "stdout",
     "output_type": "stream",
     "text": [
      "68.80000000000003\n",
      "pickle restored!\n"
     ]
    },
    {
     "name": "stderr",
     "output_type": "stream",
     "text": [
      " 15%|█▍        | 12/82 [00:07<00:45,  1.53it/s]"
     ]
    },
    {
     "name": "stdout",
     "output_type": "stream",
     "text": [
      "69.00000000000003\n",
      "pickle restored!\n"
     ]
    },
    {
     "name": "stderr",
     "output_type": "stream",
     "text": [
      " 16%|█▌        | 13/82 [00:08<00:45,  1.52it/s]"
     ]
    },
    {
     "name": "stdout",
     "output_type": "stream",
     "text": [
      "69.20000000000003\n",
      "pickle restored!\n"
     ]
    },
    {
     "name": "stderr",
     "output_type": "stream",
     "text": [
      " 17%|█▋        | 14/82 [00:09<00:45,  1.50it/s]"
     ]
    },
    {
     "name": "stdout",
     "output_type": "stream",
     "text": [
      "69.40000000000003\n",
      "pickle restored!\n"
     ]
    },
    {
     "name": "stderr",
     "output_type": "stream",
     "text": [
      " 18%|█▊        | 15/82 [00:10<00:44,  1.51it/s]"
     ]
    },
    {
     "name": "stdout",
     "output_type": "stream",
     "text": [
      "69.60000000000004\n",
      "pickle restored!\n"
     ]
    },
    {
     "name": "stderr",
     "output_type": "stream",
     "text": [
      " 20%|█▉        | 16/82 [00:10<00:43,  1.51it/s]"
     ]
    },
    {
     "name": "stdout",
     "output_type": "stream",
     "text": [
      "69.80000000000004\n",
      "pickle restored!\n"
     ]
    },
    {
     "name": "stderr",
     "output_type": "stream",
     "text": [
      " 21%|██        | 17/82 [00:11<00:43,  1.48it/s]"
     ]
    },
    {
     "name": "stdout",
     "output_type": "stream",
     "text": [
      "70.00000000000004\n",
      "pickle restored!\n"
     ]
    },
    {
     "name": "stderr",
     "output_type": "stream",
     "text": [
      " 22%|██▏       | 18/82 [00:12<00:42,  1.50it/s]"
     ]
    },
    {
     "name": "stdout",
     "output_type": "stream",
     "text": [
      "70.20000000000005\n",
      "pickle restored!\n"
     ]
    },
    {
     "name": "stderr",
     "output_type": "stream",
     "text": [
      " 23%|██▎       | 19/82 [00:12<00:41,  1.50it/s]"
     ]
    },
    {
     "name": "stdout",
     "output_type": "stream",
     "text": [
      "70.40000000000005\n",
      "pickle restored!\n"
     ]
    },
    {
     "name": "stderr",
     "output_type": "stream",
     "text": [
      " 24%|██▍       | 20/82 [00:13<00:40,  1.52it/s]"
     ]
    },
    {
     "name": "stdout",
     "output_type": "stream",
     "text": [
      "70.60000000000005\n",
      "pickle restored!\n"
     ]
    },
    {
     "name": "stderr",
     "output_type": "stream",
     "text": [
      " 26%|██▌       | 21/82 [00:13<00:40,  1.52it/s]"
     ]
    },
    {
     "name": "stdout",
     "output_type": "stream",
     "text": [
      "70.80000000000005\n",
      "pickle restored!\n"
     ]
    },
    {
     "name": "stderr",
     "output_type": "stream",
     "text": [
      " 27%|██▋       | 22/82 [00:14<00:39,  1.51it/s]"
     ]
    },
    {
     "name": "stdout",
     "output_type": "stream",
     "text": [
      "71.00000000000006\n",
      "pickle restored!\n"
     ]
    },
    {
     "name": "stderr",
     "output_type": "stream",
     "text": [
      " 28%|██▊       | 23/82 [00:15<00:39,  1.49it/s]"
     ]
    },
    {
     "name": "stdout",
     "output_type": "stream",
     "text": [
      "71.20000000000006\n",
      "pickle restored!\n"
     ]
    },
    {
     "name": "stderr",
     "output_type": "stream",
     "text": [
      " 29%|██▉       | 24/82 [00:16<00:38,  1.50it/s]"
     ]
    },
    {
     "name": "stdout",
     "output_type": "stream",
     "text": [
      "71.40000000000006\n",
      "pickle restored!\n"
     ]
    },
    {
     "name": "stderr",
     "output_type": "stream",
     "text": [
      " 30%|███       | 25/82 [00:16<00:39,  1.43it/s]"
     ]
    },
    {
     "name": "stdout",
     "output_type": "stream",
     "text": [
      "71.60000000000007\n",
      "pickle restored!\n"
     ]
    },
    {
     "name": "stderr",
     "output_type": "stream",
     "text": [
      " 32%|███▏      | 26/82 [00:17<00:38,  1.44it/s]"
     ]
    },
    {
     "name": "stdout",
     "output_type": "stream",
     "text": [
      "71.80000000000007\n",
      "pickle restored!\n"
     ]
    },
    {
     "name": "stderr",
     "output_type": "stream",
     "text": [
      " 33%|███▎      | 27/82 [00:18<00:37,  1.47it/s]"
     ]
    },
    {
     "name": "stdout",
     "output_type": "stream",
     "text": [
      "72.00000000000007\n",
      "pickle restored!\n"
     ]
    },
    {
     "name": "stderr",
     "output_type": "stream",
     "text": [
      " 34%|███▍      | 28/82 [00:18<00:36,  1.47it/s]"
     ]
    },
    {
     "name": "stdout",
     "output_type": "stream",
     "text": [
      "72.20000000000007\n",
      "pickle restored!\n"
     ]
    },
    {
     "name": "stderr",
     "output_type": "stream",
     "text": [
      " 35%|███▌      | 29/82 [00:19<00:35,  1.49it/s]"
     ]
    },
    {
     "name": "stdout",
     "output_type": "stream",
     "text": [
      "72.40000000000008\n",
      "pickle restored!\n"
     ]
    },
    {
     "name": "stderr",
     "output_type": "stream",
     "text": [
      " 37%|███▋      | 30/82 [00:20<00:34,  1.49it/s]"
     ]
    },
    {
     "name": "stdout",
     "output_type": "stream",
     "text": [
      "72.60000000000008\n",
      "pickle restored!\n"
     ]
    },
    {
     "name": "stderr",
     "output_type": "stream",
     "text": [
      " 38%|███▊      | 31/82 [00:20<00:34,  1.48it/s]"
     ]
    },
    {
     "name": "stdout",
     "output_type": "stream",
     "text": [
      "72.80000000000008\n",
      "pickle restored!\n"
     ]
    },
    {
     "name": "stderr",
     "output_type": "stream",
     "text": [
      " 39%|███▉      | 32/82 [00:21<00:33,  1.47it/s]"
     ]
    },
    {
     "name": "stdout",
     "output_type": "stream",
     "text": [
      "73.00000000000009\n",
      "pickle restored!\n"
     ]
    },
    {
     "name": "stderr",
     "output_type": "stream",
     "text": [
      " 40%|████      | 33/82 [00:22<00:32,  1.49it/s]"
     ]
    },
    {
     "name": "stdout",
     "output_type": "stream",
     "text": [
      "73.20000000000009\n",
      "pickle restored!\n"
     ]
    },
    {
     "name": "stderr",
     "output_type": "stream",
     "text": [
      " 41%|████▏     | 34/82 [00:22<00:32,  1.50it/s]"
     ]
    },
    {
     "name": "stdout",
     "output_type": "stream",
     "text": [
      "73.40000000000009\n",
      "pickle restored!\n"
     ]
    },
    {
     "name": "stderr",
     "output_type": "stream",
     "text": [
      " 43%|████▎     | 35/82 [00:23<00:31,  1.49it/s]"
     ]
    },
    {
     "name": "stdout",
     "output_type": "stream",
     "text": [
      "73.6000000000001\n",
      "pickle restored!\n"
     ]
    },
    {
     "name": "stderr",
     "output_type": "stream",
     "text": [
      " 44%|████▍     | 36/82 [00:24<00:30,  1.52it/s]"
     ]
    },
    {
     "name": "stdout",
     "output_type": "stream",
     "text": [
      "73.8000000000001\n",
      "pickle restored!\n"
     ]
    },
    {
     "name": "stderr",
     "output_type": "stream",
     "text": [
      " 45%|████▌     | 37/82 [00:24<00:29,  1.53it/s]"
     ]
    },
    {
     "name": "stdout",
     "output_type": "stream",
     "text": [
      "74.0000000000001\n",
      "pickle restored!\n"
     ]
    },
    {
     "name": "stderr",
     "output_type": "stream",
     "text": [
      " 46%|████▋     | 38/82 [00:25<00:28,  1.54it/s]"
     ]
    },
    {
     "name": "stdout",
     "output_type": "stream",
     "text": [
      "74.2000000000001\n",
      "pickle restored!\n"
     ]
    },
    {
     "name": "stderr",
     "output_type": "stream",
     "text": [
      " 48%|████▊     | 39/82 [00:26<00:28,  1.52it/s]"
     ]
    },
    {
     "name": "stdout",
     "output_type": "stream",
     "text": [
      "74.4000000000001\n",
      "pickle restored!\n"
     ]
    },
    {
     "name": "stderr",
     "output_type": "stream",
     "text": [
      " 49%|████▉     | 40/82 [00:26<00:27,  1.53it/s]"
     ]
    },
    {
     "name": "stdout",
     "output_type": "stream",
     "text": [
      "74.60000000000011\n",
      "pickle restored!\n"
     ]
    },
    {
     "name": "stderr",
     "output_type": "stream",
     "text": [
      " 50%|█████     | 41/82 [00:27<00:26,  1.53it/s]"
     ]
    },
    {
     "name": "stdout",
     "output_type": "stream",
     "text": [
      "74.80000000000011\n",
      "pickle restored!\n"
     ]
    },
    {
     "name": "stderr",
     "output_type": "stream",
     "text": [
      " 51%|█████     | 42/82 [00:28<00:26,  1.52it/s]"
     ]
    },
    {
     "name": "stdout",
     "output_type": "stream",
     "text": [
      "75.00000000000011\n",
      "pickle restored!\n"
     ]
    },
    {
     "name": "stderr",
     "output_type": "stream",
     "text": [
      " 52%|█████▏    | 43/82 [00:28<00:25,  1.53it/s]"
     ]
    },
    {
     "name": "stdout",
     "output_type": "stream",
     "text": [
      "75.20000000000012\n",
      "pickle restored!\n"
     ]
    },
    {
     "name": "stderr",
     "output_type": "stream",
     "text": [
      " 54%|█████▎    | 44/82 [00:29<00:24,  1.52it/s]"
     ]
    },
    {
     "name": "stdout",
     "output_type": "stream",
     "text": [
      "75.40000000000012\n",
      "pickle restored!\n"
     ]
    },
    {
     "name": "stderr",
     "output_type": "stream",
     "text": [
      " 55%|█████▍    | 45/82 [00:29<00:24,  1.51it/s]"
     ]
    },
    {
     "name": "stdout",
     "output_type": "stream",
     "text": [
      "75.60000000000012\n",
      "pickle restored!\n"
     ]
    },
    {
     "name": "stderr",
     "output_type": "stream",
     "text": [
      " 56%|█████▌    | 46/82 [00:30<00:23,  1.51it/s]"
     ]
    },
    {
     "name": "stdout",
     "output_type": "stream",
     "text": [
      "75.80000000000013\n",
      "pickle restored!\n"
     ]
    },
    {
     "name": "stderr",
     "output_type": "stream",
     "text": [
      " 57%|█████▋    | 47/82 [00:31<00:23,  1.48it/s]"
     ]
    },
    {
     "name": "stdout",
     "output_type": "stream",
     "text": [
      "76.00000000000013\n",
      "pickle restored!\n"
     ]
    },
    {
     "name": "stderr",
     "output_type": "stream",
     "text": [
      " 59%|█████▊    | 48/82 [00:32<00:22,  1.50it/s]"
     ]
    },
    {
     "name": "stdout",
     "output_type": "stream",
     "text": [
      "76.20000000000013\n",
      "pickle restored!\n"
     ]
    },
    {
     "name": "stderr",
     "output_type": "stream",
     "text": [
      " 60%|█████▉    | 49/82 [00:32<00:21,  1.52it/s]"
     ]
    },
    {
     "name": "stdout",
     "output_type": "stream",
     "text": [
      "76.40000000000013\n",
      "pickle restored!\n"
     ]
    },
    {
     "name": "stderr",
     "output_type": "stream",
     "text": [
      " 61%|██████    | 50/82 [00:33<00:21,  1.52it/s]"
     ]
    },
    {
     "name": "stdout",
     "output_type": "stream",
     "text": [
      "76.60000000000014\n",
      "pickle restored!\n"
     ]
    },
    {
     "name": "stderr",
     "output_type": "stream",
     "text": [
      " 62%|██████▏   | 51/82 [00:33<00:20,  1.50it/s]"
     ]
    },
    {
     "name": "stdout",
     "output_type": "stream",
     "text": [
      "76.80000000000014\n",
      "pickle restored!\n"
     ]
    },
    {
     "name": "stderr",
     "output_type": "stream",
     "text": [
      " 63%|██████▎   | 52/82 [00:34<00:20,  1.49it/s]"
     ]
    },
    {
     "name": "stdout",
     "output_type": "stream",
     "text": [
      "77.00000000000014\n",
      "pickle restored!\n"
     ]
    },
    {
     "name": "stderr",
     "output_type": "stream",
     "text": [
      " 65%|██████▍   | 53/82 [00:35<00:20,  1.43it/s]"
     ]
    },
    {
     "name": "stdout",
     "output_type": "stream",
     "text": [
      "77.20000000000014\n",
      "pickle restored!\n"
     ]
    },
    {
     "name": "stderr",
     "output_type": "stream",
     "text": [
      " 66%|██████▌   | 54/82 [00:36<00:19,  1.45it/s]"
     ]
    },
    {
     "name": "stdout",
     "output_type": "stream",
     "text": [
      "77.40000000000015\n",
      "pickle restored!\n"
     ]
    },
    {
     "name": "stderr",
     "output_type": "stream",
     "text": [
      " 67%|██████▋   | 55/82 [00:36<00:18,  1.44it/s]"
     ]
    },
    {
     "name": "stdout",
     "output_type": "stream",
     "text": [
      "77.60000000000015\n",
      "pickle restored!\n"
     ]
    },
    {
     "name": "stderr",
     "output_type": "stream",
     "text": [
      " 68%|██████▊   | 56/82 [00:37<00:18,  1.43it/s]"
     ]
    },
    {
     "name": "stdout",
     "output_type": "stream",
     "text": [
      "77.80000000000015\n",
      "pickle restored!\n"
     ]
    },
    {
     "name": "stderr",
     "output_type": "stream",
     "text": [
      " 70%|██████▉   | 57/82 [00:38<00:17,  1.45it/s]"
     ]
    },
    {
     "name": "stdout",
     "output_type": "stream",
     "text": [
      "78.00000000000016\n",
      "pickle restored!\n"
     ]
    },
    {
     "name": "stderr",
     "output_type": "stream",
     "text": [
      " 71%|███████   | 58/82 [00:38<00:16,  1.44it/s]"
     ]
    },
    {
     "name": "stdout",
     "output_type": "stream",
     "text": [
      "78.20000000000016\n",
      "pickle restored!\n"
     ]
    },
    {
     "name": "stderr",
     "output_type": "stream",
     "text": [
      " 72%|███████▏  | 59/82 [00:39<00:16,  1.42it/s]"
     ]
    },
    {
     "name": "stdout",
     "output_type": "stream",
     "text": [
      "78.40000000000016\n",
      "pickle restored!\n"
     ]
    },
    {
     "name": "stderr",
     "output_type": "stream",
     "text": [
      " 73%|███████▎  | 60/82 [00:40<00:15,  1.45it/s]"
     ]
    },
    {
     "name": "stdout",
     "output_type": "stream",
     "text": [
      "78.60000000000016\n",
      "pickle restored!\n"
     ]
    },
    {
     "name": "stderr",
     "output_type": "stream",
     "text": [
      " 74%|███████▍  | 61/82 [00:40<00:14,  1.44it/s]"
     ]
    },
    {
     "name": "stdout",
     "output_type": "stream",
     "text": [
      "78.80000000000017\n",
      "pickle restored!\n"
     ]
    },
    {
     "name": "stderr",
     "output_type": "stream",
     "text": [
      " 76%|███████▌  | 62/82 [00:41<00:14,  1.42it/s]"
     ]
    },
    {
     "name": "stdout",
     "output_type": "stream",
     "text": [
      "79.00000000000017\n",
      "pickle restored!\n"
     ]
    },
    {
     "name": "stderr",
     "output_type": "stream",
     "text": [
      " 77%|███████▋  | 63/82 [00:42<00:13,  1.43it/s]"
     ]
    },
    {
     "name": "stdout",
     "output_type": "stream",
     "text": [
      "79.20000000000017\n",
      "pickle restored!\n"
     ]
    },
    {
     "name": "stderr",
     "output_type": "stream",
     "text": [
      " 78%|███████▊  | 64/82 [00:43<00:12,  1.42it/s]"
     ]
    },
    {
     "name": "stdout",
     "output_type": "stream",
     "text": [
      "79.40000000000018\n",
      "pickle restored!\n"
     ]
    },
    {
     "name": "stderr",
     "output_type": "stream",
     "text": [
      " 79%|███████▉  | 65/82 [00:43<00:12,  1.41it/s]"
     ]
    },
    {
     "name": "stdout",
     "output_type": "stream",
     "text": [
      "79.60000000000018\n",
      "pickle restored!\n"
     ]
    },
    {
     "name": "stderr",
     "output_type": "stream",
     "text": [
      " 80%|████████  | 66/82 [00:44<00:11,  1.42it/s]"
     ]
    },
    {
     "name": "stdout",
     "output_type": "stream",
     "text": [
      "79.80000000000018\n",
      "pickle restored!\n"
     ]
    },
    {
     "name": "stderr",
     "output_type": "stream",
     "text": [
      " 82%|████████▏ | 67/82 [00:45<00:10,  1.43it/s]"
     ]
    },
    {
     "name": "stdout",
     "output_type": "stream",
     "text": [
      "80.00000000000018\n",
      "pickle restored!\n"
     ]
    },
    {
     "name": "stderr",
     "output_type": "stream",
     "text": [
      " 83%|████████▎ | 68/82 [00:45<00:09,  1.44it/s]"
     ]
    },
    {
     "name": "stdout",
     "output_type": "stream",
     "text": [
      "80.20000000000019\n",
      "pickle restored!\n"
     ]
    },
    {
     "name": "stderr",
     "output_type": "stream",
     "text": [
      " 84%|████████▍ | 69/82 [00:46<00:09,  1.43it/s]"
     ]
    },
    {
     "name": "stdout",
     "output_type": "stream",
     "text": [
      "80.40000000000019\n",
      "pickle restored!\n"
     ]
    },
    {
     "name": "stderr",
     "output_type": "stream",
     "text": [
      " 85%|████████▌ | 70/82 [00:47<00:08,  1.41it/s]"
     ]
    },
    {
     "name": "stdout",
     "output_type": "stream",
     "text": [
      "80.6000000000002\n",
      "pickle restored!\n"
     ]
    },
    {
     "name": "stderr",
     "output_type": "stream",
     "text": [
      " 87%|████████▋ | 71/82 [00:48<00:07,  1.42it/s]"
     ]
    },
    {
     "name": "stdout",
     "output_type": "stream",
     "text": [
      "80.8000000000002\n",
      "pickle restored!\n"
     ]
    },
    {
     "name": "stderr",
     "output_type": "stream",
     "text": [
      " 88%|████████▊ | 72/82 [00:48<00:07,  1.42it/s]"
     ]
    },
    {
     "name": "stdout",
     "output_type": "stream",
     "text": [
      "81.0000000000002\n",
      "pickle restored!\n"
     ]
    },
    {
     "name": "stderr",
     "output_type": "stream",
     "text": [
      " 89%|████████▉ | 73/82 [00:49<00:06,  1.45it/s]"
     ]
    },
    {
     "name": "stdout",
     "output_type": "stream",
     "text": [
      "81.2000000000002\n",
      "pickle restored!\n"
     ]
    },
    {
     "name": "stderr",
     "output_type": "stream",
     "text": [
      " 90%|█████████ | 74/82 [00:50<00:05,  1.45it/s]"
     ]
    },
    {
     "name": "stdout",
     "output_type": "stream",
     "text": [
      "81.4000000000002\n",
      "pickle restored!\n"
     ]
    },
    {
     "name": "stderr",
     "output_type": "stream",
     "text": [
      " 91%|█████████▏| 75/82 [00:50<00:04,  1.42it/s]"
     ]
    },
    {
     "name": "stdout",
     "output_type": "stream",
     "text": [
      "81.60000000000021\n",
      "pickle restored!\n"
     ]
    },
    {
     "name": "stderr",
     "output_type": "stream",
     "text": [
      " 93%|█████████▎| 76/82 [00:51<00:04,  1.41it/s]"
     ]
    },
    {
     "name": "stdout",
     "output_type": "stream",
     "text": [
      "81.80000000000021\n",
      "pickle restored!\n"
     ]
    },
    {
     "name": "stderr",
     "output_type": "stream",
     "text": [
      " 94%|█████████▍| 77/82 [00:52<00:03,  1.41it/s]"
     ]
    },
    {
     "name": "stdout",
     "output_type": "stream",
     "text": [
      "82.00000000000021\n",
      "pickle restored!\n"
     ]
    },
    {
     "name": "stderr",
     "output_type": "stream",
     "text": [
      " 95%|█████████▌| 78/82 [00:52<00:02,  1.40it/s]"
     ]
    },
    {
     "name": "stdout",
     "output_type": "stream",
     "text": [
      "82.20000000000022\n",
      "pickle restored!\n"
     ]
    },
    {
     "name": "stderr",
     "output_type": "stream",
     "text": [
      " 96%|█████████▋| 79/82 [00:53<00:02,  1.41it/s]"
     ]
    },
    {
     "name": "stdout",
     "output_type": "stream",
     "text": [
      "82.40000000000022\n",
      "pickle restored!\n"
     ]
    },
    {
     "name": "stderr",
     "output_type": "stream",
     "text": [
      " 98%|█████████▊| 80/82 [00:54<00:01,  1.41it/s]"
     ]
    },
    {
     "name": "stdout",
     "output_type": "stream",
     "text": [
      "82.60000000000022\n",
      "pickle restored!\n"
     ]
    },
    {
     "name": "stderr",
     "output_type": "stream",
     "text": [
      " 99%|█████████▉| 81/82 [00:55<00:00,  1.45it/s]"
     ]
    },
    {
     "name": "stdout",
     "output_type": "stream",
     "text": [
      "82.80000000000022\n",
      "pickle restored!\n"
     ]
    },
    {
     "name": "stderr",
     "output_type": "stream",
     "text": [
      "100%|██████████| 82/82 [00:55<00:00,  1.47it/s]\n",
      "  0%|          | 0/15 [00:00<?, ?it/s]"
     ]
    },
    {
     "name": "stdout",
     "output_type": "stream",
     "text": [
      "66.5\n",
      "pickle restored!\n",
      "pickle restored!\n",
      "pickle restored!\n"
     ]
    },
    {
     "name": "stderr",
     "output_type": "stream",
     "text": [
      "  7%|▋         | 1/15 [00:02<00:28,  2.02s/it]"
     ]
    },
    {
     "name": "stdout",
     "output_type": "stream",
     "text": [
      "67.0\n",
      "pickle restored!\n",
      "pickle restored!\n",
      "pickle restored!\n"
     ]
    },
    {
     "name": "stderr",
     "output_type": "stream",
     "text": [
      " 13%|█▎        | 2/15 [00:04<00:25,  2.00s/it]"
     ]
    },
    {
     "name": "stdout",
     "output_type": "stream",
     "text": [
      "67.5\n",
      "pickle restored!\n",
      "pickle restored!\n",
      "pickle restored!\n"
     ]
    },
    {
     "name": "stderr",
     "output_type": "stream",
     "text": [
      " 20%|██        | 3/15 [00:05<00:23,  1.99s/it]"
     ]
    },
    {
     "name": "stdout",
     "output_type": "stream",
     "text": [
      "68.0\n",
      "pickle restored!\n",
      "pickle restored!\n",
      "pickle restored!\n"
     ]
    },
    {
     "name": "stderr",
     "output_type": "stream",
     "text": [
      " 27%|██▋       | 4/15 [00:07<00:21,  1.97s/it]"
     ]
    },
    {
     "name": "stdout",
     "output_type": "stream",
     "text": [
      "68.5\n",
      "pickle restored!\n",
      "pickle restored!\n",
      "pickle restored!\n"
     ]
    },
    {
     "name": "stderr",
     "output_type": "stream",
     "text": [
      " 33%|███▎      | 5/15 [00:09<00:19,  1.99s/it]"
     ]
    },
    {
     "name": "stdout",
     "output_type": "stream",
     "text": [
      "69.0\n",
      "pickle restored!\n",
      "pickle restored!\n",
      "pickle restored!\n"
     ]
    },
    {
     "name": "stderr",
     "output_type": "stream",
     "text": [
      " 40%|████      | 6/15 [00:11<00:17,  1.97s/it]"
     ]
    },
    {
     "name": "stdout",
     "output_type": "stream",
     "text": [
      "69.5\n",
      "pickle restored!\n",
      "pickle restored!\n",
      "pickle restored!\n"
     ]
    },
    {
     "name": "stderr",
     "output_type": "stream",
     "text": [
      " 47%|████▋     | 7/15 [00:13<00:15,  1.94s/it]"
     ]
    },
    {
     "name": "stdout",
     "output_type": "stream",
     "text": [
      "70.0\n",
      "pickle restored!\n",
      "pickle restored!\n",
      "pickle restored!\n"
     ]
    },
    {
     "name": "stderr",
     "output_type": "stream",
     "text": [
      " 53%|█████▎    | 8/15 [00:15<00:13,  1.93s/it]"
     ]
    },
    {
     "name": "stdout",
     "output_type": "stream",
     "text": [
      "70.5\n",
      "pickle restored!\n",
      "pickle restored!\n",
      "pickle restored!\n"
     ]
    },
    {
     "name": "stderr",
     "output_type": "stream",
     "text": [
      " 60%|██████    | 9/15 [00:17<00:11,  1.96s/it]"
     ]
    },
    {
     "name": "stdout",
     "output_type": "stream",
     "text": [
      "71.0\n",
      "pickle restored!\n",
      "pickle restored!\n",
      "pickle restored!\n"
     ]
    },
    {
     "name": "stderr",
     "output_type": "stream",
     "text": [
      " 67%|██████▋   | 10/15 [00:19<00:09,  1.95s/it]"
     ]
    },
    {
     "name": "stdout",
     "output_type": "stream",
     "text": [
      "71.5\n",
      "pickle restored!\n",
      "pickle restored!\n",
      "pickle restored!\n"
     ]
    },
    {
     "name": "stderr",
     "output_type": "stream",
     "text": [
      " 73%|███████▎  | 11/15 [00:21<00:07,  1.94s/it]"
     ]
    },
    {
     "name": "stdout",
     "output_type": "stream",
     "text": [
      "72.0\n",
      "pickle restored!\n",
      "pickle restored!\n",
      "pickle restored!\n"
     ]
    },
    {
     "name": "stderr",
     "output_type": "stream",
     "text": [
      " 80%|████████  | 12/15 [00:23<00:05,  1.96s/it]"
     ]
    },
    {
     "name": "stdout",
     "output_type": "stream",
     "text": [
      "72.5\n",
      "pickle restored!\n",
      "pickle restored!\n",
      "pickle restored!\n"
     ]
    },
    {
     "name": "stderr",
     "output_type": "stream",
     "text": [
      " 87%|████████▋ | 13/15 [00:25<00:03,  1.96s/it]"
     ]
    },
    {
     "name": "stdout",
     "output_type": "stream",
     "text": [
      "73.0\n",
      "pickle restored!\n",
      "pickle restored!\n",
      "pickle restored!\n"
     ]
    },
    {
     "name": "stderr",
     "output_type": "stream",
     "text": [
      " 93%|█████████▎| 14/15 [00:27<00:01,  1.95s/it]"
     ]
    },
    {
     "name": "stdout",
     "output_type": "stream",
     "text": [
      "73.5\n",
      "pickle restored!\n",
      "pickle restored!\n",
      "pickle restored!\n"
     ]
    },
    {
     "name": "stderr",
     "output_type": "stream",
     "text": [
      "100%|██████████| 15/15 [00:29<00:00,  1.96s/it]\n",
      "  0%|          | 0/12 [00:00<?, ?it/s]"
     ]
    },
    {
     "name": "stdout",
     "output_type": "stream",
     "text": [
      "66.5\n",
      "pickle restored!\n",
      "pickle restored!\n",
      "pickle restored!\n"
     ]
    },
    {
     "name": "stderr",
     "output_type": "stream",
     "text": [
      "  8%|▊         | 1/12 [00:02<00:22,  2.07s/it]"
     ]
    },
    {
     "name": "stdout",
     "output_type": "stream",
     "text": [
      "67.0\n",
      "pickle restored!\n",
      "pickle restored!\n",
      "pickle restored!\n"
     ]
    },
    {
     "name": "stderr",
     "output_type": "stream",
     "text": [
      " 17%|█▋        | 2/12 [00:04<00:20,  2.05s/it]"
     ]
    },
    {
     "name": "stdout",
     "output_type": "stream",
     "text": [
      "67.5\n",
      "pickle restored!\n",
      "pickle restored!\n",
      "pickle restored!\n"
     ]
    },
    {
     "name": "stderr",
     "output_type": "stream",
     "text": [
      " 25%|██▌       | 3/12 [00:06<00:18,  2.02s/it]"
     ]
    },
    {
     "name": "stdout",
     "output_type": "stream",
     "text": [
      "68.0\n",
      "pickle restored!\n",
      "pickle restored!\n",
      "pickle restored!\n"
     ]
    },
    {
     "name": "stderr",
     "output_type": "stream",
     "text": [
      " 33%|███▎      | 4/12 [00:08<00:15,  1.99s/it]"
     ]
    },
    {
     "name": "stdout",
     "output_type": "stream",
     "text": [
      "68.5\n",
      "pickle restored!\n",
      "pickle restored!\n",
      "pickle restored!\n"
     ]
    },
    {
     "name": "stderr",
     "output_type": "stream",
     "text": [
      " 42%|████▏     | 5/12 [00:09<00:13,  1.96s/it]"
     ]
    },
    {
     "name": "stdout",
     "output_type": "stream",
     "text": [
      "69.0\n",
      "pickle restored!\n",
      "pickle restored!\n",
      "pickle restored!\n"
     ]
    },
    {
     "name": "stderr",
     "output_type": "stream",
     "text": [
      " 50%|█████     | 6/12 [00:11<00:11,  1.94s/it]"
     ]
    },
    {
     "name": "stdout",
     "output_type": "stream",
     "text": [
      "69.5\n",
      "pickle restored!\n",
      "pickle restored!\n",
      "pickle restored!\n"
     ]
    },
    {
     "name": "stderr",
     "output_type": "stream",
     "text": [
      " 58%|█████▊    | 7/12 [00:13<00:09,  1.99s/it]"
     ]
    },
    {
     "name": "stdout",
     "output_type": "stream",
     "text": [
      "70.0\n",
      "pickle restored!\n",
      "pickle restored!\n",
      "pickle restored!\n"
     ]
    },
    {
     "name": "stderr",
     "output_type": "stream",
     "text": [
      " 67%|██████▋   | 8/12 [00:15<00:08,  2.01s/it]"
     ]
    },
    {
     "name": "stdout",
     "output_type": "stream",
     "text": [
      "70.5\n",
      "pickle restored!\n",
      "pickle restored!\n",
      "pickle restored!\n"
     ]
    },
    {
     "name": "stderr",
     "output_type": "stream",
     "text": [
      " 75%|███████▌  | 9/12 [00:17<00:06,  2.01s/it]"
     ]
    },
    {
     "name": "stdout",
     "output_type": "stream",
     "text": [
      "71.0\n",
      "pickle restored!\n",
      "pickle restored!\n",
      "pickle restored!\n"
     ]
    },
    {
     "name": "stderr",
     "output_type": "stream",
     "text": [
      " 83%|████████▎ | 10/12 [00:19<00:03,  1.98s/it]"
     ]
    },
    {
     "name": "stdout",
     "output_type": "stream",
     "text": [
      "71.5\n",
      "pickle restored!\n",
      "pickle restored!\n",
      "pickle restored!\n"
     ]
    },
    {
     "name": "stderr",
     "output_type": "stream",
     "text": [
      " 92%|█████████▏| 11/12 [00:21<00:01,  1.96s/it]"
     ]
    },
    {
     "name": "stdout",
     "output_type": "stream",
     "text": [
      "72.0\n",
      "pickle restored!\n",
      "pickle restored!\n",
      "pickle restored!\n"
     ]
    },
    {
     "name": "stderr",
     "output_type": "stream",
     "text": [
      "100%|██████████| 12/12 [00:23<00:00,  1.98s/it]\n",
      "  0%|          | 0/9 [00:00<?, ?it/s]"
     ]
    },
    {
     "name": "stdout",
     "output_type": "stream",
     "text": [
      "66.5\n",
      "pickle restored!\n",
      "pickle restored!\n",
      "pickle restored!\n"
     ]
    },
    {
     "name": "stderr",
     "output_type": "stream",
     "text": [
      " 11%|█         | 1/9 [00:01<00:15,  2.00s/it]"
     ]
    },
    {
     "name": "stdout",
     "output_type": "stream",
     "text": [
      "67.0\n",
      "pickle restored!\n",
      "pickle restored!\n",
      "pickle restored!\n"
     ]
    },
    {
     "name": "stderr",
     "output_type": "stream",
     "text": [
      " 22%|██▏       | 2/9 [00:03<00:13,  1.99s/it]"
     ]
    },
    {
     "name": "stdout",
     "output_type": "stream",
     "text": [
      "67.5\n",
      "pickle restored!\n",
      "pickle restored!\n",
      "pickle restored!\n"
     ]
    },
    {
     "name": "stderr",
     "output_type": "stream",
     "text": [
      " 33%|███▎      | 3/9 [00:05<00:11,  1.96s/it]"
     ]
    },
    {
     "name": "stdout",
     "output_type": "stream",
     "text": [
      "68.0\n",
      "pickle restored!\n",
      "pickle restored!\n",
      "pickle restored!\n"
     ]
    },
    {
     "name": "stderr",
     "output_type": "stream",
     "text": [
      " 44%|████▍     | 4/9 [00:07<00:09,  1.98s/it]"
     ]
    },
    {
     "name": "stdout",
     "output_type": "stream",
     "text": [
      "68.5\n",
      "pickle restored!\n",
      "pickle restored!\n",
      "pickle restored!\n"
     ]
    },
    {
     "name": "stderr",
     "output_type": "stream",
     "text": [
      " 56%|█████▌    | 5/9 [00:09<00:07,  1.98s/it]"
     ]
    },
    {
     "name": "stdout",
     "output_type": "stream",
     "text": [
      "69.0\n",
      "pickle restored!\n",
      "pickle restored!\n",
      "pickle restored!\n"
     ]
    },
    {
     "name": "stderr",
     "output_type": "stream",
     "text": [
      " 67%|██████▋   | 6/9 [00:11<00:05,  1.98s/it]"
     ]
    },
    {
     "name": "stdout",
     "output_type": "stream",
     "text": [
      "69.5\n",
      "pickle restored!\n",
      "pickle restored!\n",
      "pickle restored!\n"
     ]
    },
    {
     "name": "stderr",
     "output_type": "stream",
     "text": [
      " 78%|███████▊  | 7/9 [00:13<00:03,  1.99s/it]"
     ]
    },
    {
     "name": "stdout",
     "output_type": "stream",
     "text": [
      "70.0\n",
      "pickle restored!\n",
      "pickle restored!\n",
      "pickle restored!\n"
     ]
    },
    {
     "name": "stderr",
     "output_type": "stream",
     "text": [
      " 89%|████████▉ | 8/9 [00:15<00:01,  1.98s/it]"
     ]
    },
    {
     "name": "stdout",
     "output_type": "stream",
     "text": [
      "70.5\n",
      "pickle restored!\n",
      "pickle restored!\n",
      "pickle restored!\n"
     ]
    },
    {
     "name": "stderr",
     "output_type": "stream",
     "text": [
      "100%|██████████| 9/9 [00:17<00:00,  1.98s/it]\n",
      "  0%|          | 0/79 [00:00<?, ?it/s]"
     ]
    },
    {
     "name": "stdout",
     "output_type": "stream",
     "text": [
      "44.2\n",
      "pickle restored!\n"
     ]
    },
    {
     "name": "stderr",
     "output_type": "stream",
     "text": [
      "  1%|▏         | 1/79 [00:00<00:57,  1.35it/s]"
     ]
    },
    {
     "name": "stdout",
     "output_type": "stream",
     "text": [
      "44.400000000000006\n",
      "pickle restored!\n"
     ]
    },
    {
     "name": "stderr",
     "output_type": "stream",
     "text": [
      "  3%|▎         | 2/79 [00:01<00:53,  1.45it/s]"
     ]
    },
    {
     "name": "stdout",
     "output_type": "stream",
     "text": [
      "44.60000000000001\n",
      "pickle restored!\n"
     ]
    },
    {
     "name": "stderr",
     "output_type": "stream",
     "text": [
      "  4%|▍         | 3/79 [00:02<00:51,  1.47it/s]"
     ]
    },
    {
     "name": "stdout",
     "output_type": "stream",
     "text": [
      "44.80000000000001\n",
      "pickle restored!\n"
     ]
    },
    {
     "name": "stderr",
     "output_type": "stream",
     "text": [
      "  5%|▌         | 4/79 [00:02<00:50,  1.48it/s]"
     ]
    },
    {
     "name": "stdout",
     "output_type": "stream",
     "text": [
      "45.000000000000014\n",
      "pickle restored!\n"
     ]
    },
    {
     "name": "stderr",
     "output_type": "stream",
     "text": [
      "  6%|▋         | 5/79 [00:03<00:49,  1.50it/s]"
     ]
    },
    {
     "name": "stdout",
     "output_type": "stream",
     "text": [
      "45.20000000000002\n",
      "pickle restored!\n"
     ]
    },
    {
     "name": "stderr",
     "output_type": "stream",
     "text": [
      "  8%|▊         | 6/79 [00:04<00:48,  1.51it/s]"
     ]
    },
    {
     "name": "stdout",
     "output_type": "stream",
     "text": [
      "45.40000000000002\n",
      "pickle restored!\n"
     ]
    },
    {
     "name": "stderr",
     "output_type": "stream",
     "text": [
      "  9%|▉         | 7/79 [00:04<00:47,  1.51it/s]"
     ]
    },
    {
     "name": "stdout",
     "output_type": "stream",
     "text": [
      "45.60000000000002\n",
      "pickle restored!\n"
     ]
    },
    {
     "name": "stderr",
     "output_type": "stream",
     "text": [
      " 10%|█         | 8/79 [00:05<00:48,  1.47it/s]"
     ]
    },
    {
     "name": "stdout",
     "output_type": "stream",
     "text": [
      "45.800000000000026\n",
      "pickle restored!\n"
     ]
    },
    {
     "name": "stderr",
     "output_type": "stream",
     "text": [
      " 11%|█▏        | 9/79 [00:06<00:47,  1.48it/s]"
     ]
    },
    {
     "name": "stdout",
     "output_type": "stream",
     "text": [
      "46.00000000000003\n",
      "pickle restored!\n"
     ]
    },
    {
     "name": "stderr",
     "output_type": "stream",
     "text": [
      " 13%|█▎        | 10/79 [00:06<00:46,  1.49it/s]"
     ]
    },
    {
     "name": "stdout",
     "output_type": "stream",
     "text": [
      "46.20000000000003\n",
      "pickle restored!\n"
     ]
    },
    {
     "name": "stderr",
     "output_type": "stream",
     "text": [
      " 14%|█▍        | 11/79 [00:07<00:45,  1.50it/s]"
     ]
    },
    {
     "name": "stdout",
     "output_type": "stream",
     "text": [
      "46.400000000000034\n",
      "pickle restored!\n"
     ]
    },
    {
     "name": "stderr",
     "output_type": "stream",
     "text": [
      " 15%|█▌        | 12/79 [00:08<00:44,  1.52it/s]"
     ]
    },
    {
     "name": "stdout",
     "output_type": "stream",
     "text": [
      "46.60000000000004\n",
      "pickle restored!\n"
     ]
    },
    {
     "name": "stderr",
     "output_type": "stream",
     "text": [
      " 16%|█▋        | 13/79 [00:08<00:43,  1.51it/s]"
     ]
    },
    {
     "name": "stdout",
     "output_type": "stream",
     "text": [
      "46.80000000000004\n",
      "pickle restored!\n"
     ]
    },
    {
     "name": "stderr",
     "output_type": "stream",
     "text": [
      " 18%|█▊        | 14/79 [00:09<00:43,  1.49it/s]"
     ]
    },
    {
     "name": "stdout",
     "output_type": "stream",
     "text": [
      "47.00000000000004\n",
      "pickle restored!\n"
     ]
    },
    {
     "name": "stderr",
     "output_type": "stream",
     "text": [
      " 19%|█▉        | 15/79 [00:10<00:42,  1.51it/s]"
     ]
    },
    {
     "name": "stdout",
     "output_type": "stream",
     "text": [
      "47.200000000000045\n",
      "pickle restored!\n"
     ]
    },
    {
     "name": "stderr",
     "output_type": "stream",
     "text": [
      " 20%|██        | 16/79 [00:10<00:42,  1.48it/s]"
     ]
    },
    {
     "name": "stdout",
     "output_type": "stream",
     "text": [
      "47.40000000000005\n",
      "pickle restored!\n"
     ]
    },
    {
     "name": "stderr",
     "output_type": "stream",
     "text": [
      " 22%|██▏       | 17/79 [00:11<00:41,  1.49it/s]"
     ]
    },
    {
     "name": "stdout",
     "output_type": "stream",
     "text": [
      "47.60000000000005\n",
      "pickle restored!\n"
     ]
    },
    {
     "name": "stderr",
     "output_type": "stream",
     "text": [
      " 23%|██▎       | 18/79 [00:12<00:41,  1.47it/s]"
     ]
    },
    {
     "name": "stdout",
     "output_type": "stream",
     "text": [
      "47.800000000000054\n",
      "pickle restored!\n"
     ]
    },
    {
     "name": "stderr",
     "output_type": "stream",
     "text": [
      " 24%|██▍       | 19/79 [00:12<00:40,  1.50it/s]"
     ]
    },
    {
     "name": "stdout",
     "output_type": "stream",
     "text": [
      "48.00000000000006\n",
      "pickle restored!\n"
     ]
    },
    {
     "name": "stderr",
     "output_type": "stream",
     "text": [
      " 25%|██▌       | 20/79 [00:13<00:39,  1.48it/s]"
     ]
    },
    {
     "name": "stdout",
     "output_type": "stream",
     "text": [
      "48.20000000000006\n",
      "pickle restored!\n"
     ]
    },
    {
     "name": "stderr",
     "output_type": "stream",
     "text": [
      " 27%|██▋       | 21/79 [00:14<00:38,  1.49it/s]"
     ]
    },
    {
     "name": "stdout",
     "output_type": "stream",
     "text": [
      "48.40000000000006\n",
      "pickle restored!\n"
     ]
    },
    {
     "name": "stderr",
     "output_type": "stream",
     "text": [
      " 28%|██▊       | 22/79 [00:14<00:38,  1.47it/s]"
     ]
    },
    {
     "name": "stdout",
     "output_type": "stream",
     "text": [
      "48.600000000000065\n",
      "pickle restored!\n"
     ]
    },
    {
     "name": "stderr",
     "output_type": "stream",
     "text": [
      " 29%|██▉       | 23/79 [00:15<00:37,  1.48it/s]"
     ]
    },
    {
     "name": "stdout",
     "output_type": "stream",
     "text": [
      "48.80000000000007\n",
      "pickle restored!\n"
     ]
    },
    {
     "name": "stderr",
     "output_type": "stream",
     "text": [
      " 30%|███       | 24/79 [00:16<00:37,  1.46it/s]"
     ]
    },
    {
     "name": "stdout",
     "output_type": "stream",
     "text": [
      "49.00000000000007\n",
      "pickle restored!\n"
     ]
    },
    {
     "name": "stderr",
     "output_type": "stream",
     "text": [
      " 32%|███▏      | 25/79 [00:16<00:36,  1.47it/s]"
     ]
    },
    {
     "name": "stdout",
     "output_type": "stream",
     "text": [
      "49.200000000000074\n",
      "pickle restored!\n"
     ]
    },
    {
     "name": "stderr",
     "output_type": "stream",
     "text": [
      " 33%|███▎      | 26/79 [00:17<00:35,  1.48it/s]"
     ]
    },
    {
     "name": "stdout",
     "output_type": "stream",
     "text": [
      "49.40000000000008\n",
      "pickle restored!\n"
     ]
    },
    {
     "name": "stderr",
     "output_type": "stream",
     "text": [
      " 34%|███▍      | 27/79 [00:18<00:34,  1.49it/s]"
     ]
    },
    {
     "name": "stdout",
     "output_type": "stream",
     "text": [
      "49.60000000000008\n",
      "pickle restored!\n"
     ]
    },
    {
     "name": "stderr",
     "output_type": "stream",
     "text": [
      " 35%|███▌      | 28/79 [00:18<00:34,  1.47it/s]"
     ]
    },
    {
     "name": "stdout",
     "output_type": "stream",
     "text": [
      "49.80000000000008\n",
      "pickle restored!\n"
     ]
    },
    {
     "name": "stderr",
     "output_type": "stream",
     "text": [
      " 37%|███▋      | 29/79 [00:19<00:33,  1.49it/s]"
     ]
    },
    {
     "name": "stdout",
     "output_type": "stream",
     "text": [
      "50.000000000000085\n",
      "pickle restored!\n"
     ]
    },
    {
     "name": "stderr",
     "output_type": "stream",
     "text": [
      " 38%|███▊      | 30/79 [00:20<00:33,  1.48it/s]"
     ]
    },
    {
     "name": "stdout",
     "output_type": "stream",
     "text": [
      "50.20000000000009\n",
      "pickle restored!\n"
     ]
    },
    {
     "name": "stderr",
     "output_type": "stream",
     "text": [
      " 39%|███▉      | 31/79 [00:20<00:32,  1.50it/s]"
     ]
    },
    {
     "name": "stdout",
     "output_type": "stream",
     "text": [
      "50.40000000000009\n",
      "pickle restored!\n"
     ]
    },
    {
     "name": "stderr",
     "output_type": "stream",
     "text": [
      " 41%|████      | 32/79 [00:21<00:31,  1.51it/s]"
     ]
    },
    {
     "name": "stdout",
     "output_type": "stream",
     "text": [
      "50.600000000000094\n",
      "pickle restored!\n"
     ]
    },
    {
     "name": "stderr",
     "output_type": "stream",
     "text": [
      " 42%|████▏     | 33/79 [00:22<00:30,  1.51it/s]"
     ]
    },
    {
     "name": "stdout",
     "output_type": "stream",
     "text": [
      "50.8000000000001\n",
      "pickle restored!\n"
     ]
    },
    {
     "name": "stderr",
     "output_type": "stream",
     "text": [
      " 43%|████▎     | 34/79 [00:22<00:29,  1.51it/s]"
     ]
    },
    {
     "name": "stdout",
     "output_type": "stream",
     "text": [
      "51.0000000000001\n",
      "pickle restored!\n"
     ]
    },
    {
     "name": "stderr",
     "output_type": "stream",
     "text": [
      " 44%|████▍     | 35/79 [00:23<00:29,  1.51it/s]"
     ]
    },
    {
     "name": "stdout",
     "output_type": "stream",
     "text": [
      "51.2000000000001\n",
      "pickle restored!\n"
     ]
    },
    {
     "name": "stderr",
     "output_type": "stream",
     "text": [
      " 46%|████▌     | 36/79 [00:24<00:28,  1.52it/s]"
     ]
    },
    {
     "name": "stdout",
     "output_type": "stream",
     "text": [
      "51.400000000000105\n",
      "pickle restored!\n"
     ]
    },
    {
     "name": "stderr",
     "output_type": "stream",
     "text": [
      " 47%|████▋     | 37/79 [00:24<00:27,  1.51it/s]"
     ]
    },
    {
     "name": "stdout",
     "output_type": "stream",
     "text": [
      "51.60000000000011\n",
      "pickle restored!\n"
     ]
    },
    {
     "name": "stderr",
     "output_type": "stream",
     "text": [
      " 48%|████▊     | 38/79 [00:25<00:26,  1.53it/s]"
     ]
    },
    {
     "name": "stdout",
     "output_type": "stream",
     "text": [
      "51.80000000000011\n",
      "pickle restored!\n"
     ]
    },
    {
     "name": "stderr",
     "output_type": "stream",
     "text": [
      " 49%|████▉     | 39/79 [00:26<00:26,  1.52it/s]"
     ]
    },
    {
     "name": "stdout",
     "output_type": "stream",
     "text": [
      "52.000000000000114\n",
      "pickle restored!\n"
     ]
    },
    {
     "name": "stderr",
     "output_type": "stream",
     "text": [
      " 51%|█████     | 40/79 [00:26<00:26,  1.50it/s]"
     ]
    },
    {
     "name": "stdout",
     "output_type": "stream",
     "text": [
      "52.20000000000012\n",
      "pickle restored!\n"
     ]
    },
    {
     "name": "stderr",
     "output_type": "stream",
     "text": [
      " 52%|█████▏    | 41/79 [00:27<00:25,  1.49it/s]"
     ]
    },
    {
     "name": "stdout",
     "output_type": "stream",
     "text": [
      "52.40000000000012\n",
      "pickle restored!\n"
     ]
    },
    {
     "name": "stderr",
     "output_type": "stream",
     "text": [
      " 53%|█████▎    | 42/79 [00:28<00:24,  1.51it/s]"
     ]
    },
    {
     "name": "stdout",
     "output_type": "stream",
     "text": [
      "52.60000000000012\n",
      "pickle restored!\n"
     ]
    },
    {
     "name": "stderr",
     "output_type": "stream",
     "text": [
      " 54%|█████▍    | 43/79 [00:28<00:23,  1.51it/s]"
     ]
    },
    {
     "name": "stdout",
     "output_type": "stream",
     "text": [
      "52.800000000000125\n",
      "pickle restored!\n"
     ]
    },
    {
     "name": "stderr",
     "output_type": "stream",
     "text": [
      " 56%|█████▌    | 44/79 [00:29<00:22,  1.53it/s]"
     ]
    },
    {
     "name": "stdout",
     "output_type": "stream",
     "text": [
      "53.00000000000013\n",
      "pickle restored!\n"
     ]
    },
    {
     "name": "stderr",
     "output_type": "stream",
     "text": [
      " 57%|█████▋    | 45/79 [00:30<00:22,  1.52it/s]"
     ]
    },
    {
     "name": "stdout",
     "output_type": "stream",
     "text": [
      "53.20000000000013\n",
      "pickle restored!\n"
     ]
    },
    {
     "name": "stderr",
     "output_type": "stream",
     "text": [
      " 58%|█████▊    | 46/79 [00:30<00:21,  1.52it/s]"
     ]
    },
    {
     "name": "stdout",
     "output_type": "stream",
     "text": [
      "53.400000000000134\n",
      "pickle restored!\n"
     ]
    },
    {
     "name": "stderr",
     "output_type": "stream",
     "text": [
      " 59%|█████▉    | 47/79 [00:31<00:21,  1.50it/s]"
     ]
    },
    {
     "name": "stdout",
     "output_type": "stream",
     "text": [
      "53.600000000000136\n",
      "pickle restored!\n"
     ]
    },
    {
     "name": "stderr",
     "output_type": "stream",
     "text": [
      " 61%|██████    | 48/79 [00:32<00:20,  1.51it/s]"
     ]
    },
    {
     "name": "stdout",
     "output_type": "stream",
     "text": [
      "53.80000000000014\n",
      "pickle restored!\n"
     ]
    },
    {
     "name": "stderr",
     "output_type": "stream",
     "text": [
      " 62%|██████▏   | 49/79 [00:32<00:19,  1.51it/s]"
     ]
    },
    {
     "name": "stdout",
     "output_type": "stream",
     "text": [
      "54.00000000000014\n",
      "pickle restored!\n"
     ]
    },
    {
     "name": "stderr",
     "output_type": "stream",
     "text": [
      " 63%|██████▎   | 50/79 [00:33<00:19,  1.51it/s]"
     ]
    },
    {
     "name": "stdout",
     "output_type": "stream",
     "text": [
      "54.200000000000145\n",
      "pickle restored!\n"
     ]
    },
    {
     "name": "stderr",
     "output_type": "stream",
     "text": [
      " 65%|██████▍   | 51/79 [00:34<00:18,  1.50it/s]"
     ]
    },
    {
     "name": "stdout",
     "output_type": "stream",
     "text": [
      "54.40000000000015\n",
      "pickle restored!\n"
     ]
    },
    {
     "name": "stderr",
     "output_type": "stream",
     "text": [
      " 66%|██████▌   | 52/79 [00:34<00:18,  1.49it/s]"
     ]
    },
    {
     "name": "stdout",
     "output_type": "stream",
     "text": [
      "54.60000000000015\n",
      "pickle restored!\n"
     ]
    },
    {
     "name": "stderr",
     "output_type": "stream",
     "text": [
      " 67%|██████▋   | 53/79 [00:35<00:17,  1.46it/s]"
     ]
    },
    {
     "name": "stdout",
     "output_type": "stream",
     "text": [
      "54.80000000000015\n",
      "pickle restored!\n"
     ]
    },
    {
     "name": "stderr",
     "output_type": "stream",
     "text": [
      " 68%|██████▊   | 54/79 [00:36<00:17,  1.45it/s]"
     ]
    },
    {
     "name": "stdout",
     "output_type": "stream",
     "text": [
      "55.000000000000156\n",
      "pickle restored!\n"
     ]
    },
    {
     "name": "stderr",
     "output_type": "stream",
     "text": [
      " 70%|██████▉   | 55/79 [00:36<00:16,  1.45it/s]"
     ]
    },
    {
     "name": "stdout",
     "output_type": "stream",
     "text": [
      "55.20000000000016\n",
      "pickle restored!\n"
     ]
    },
    {
     "name": "stderr",
     "output_type": "stream",
     "text": [
      " 71%|███████   | 56/79 [00:37<00:15,  1.46it/s]"
     ]
    },
    {
     "name": "stdout",
     "output_type": "stream",
     "text": [
      "55.40000000000016\n",
      "pickle restored!\n"
     ]
    },
    {
     "name": "stderr",
     "output_type": "stream",
     "text": [
      " 72%|███████▏  | 57/79 [00:38<00:14,  1.48it/s]"
     ]
    },
    {
     "name": "stdout",
     "output_type": "stream",
     "text": [
      "55.600000000000165\n",
      "pickle restored!\n"
     ]
    },
    {
     "name": "stderr",
     "output_type": "stream",
     "text": [
      " 73%|███████▎  | 58/79 [00:38<00:14,  1.46it/s]"
     ]
    },
    {
     "name": "stdout",
     "output_type": "stream",
     "text": [
      "55.80000000000017\n",
      "pickle restored!\n"
     ]
    },
    {
     "name": "stderr",
     "output_type": "stream",
     "text": [
      " 75%|███████▍  | 59/79 [00:39<00:13,  1.46it/s]"
     ]
    },
    {
     "name": "stdout",
     "output_type": "stream",
     "text": [
      "56.00000000000017\n",
      "pickle restored!\n"
     ]
    },
    {
     "name": "stderr",
     "output_type": "stream",
     "text": [
      " 76%|███████▌  | 60/79 [00:40<00:13,  1.46it/s]"
     ]
    },
    {
     "name": "stdout",
     "output_type": "stream",
     "text": [
      "56.20000000000017\n",
      "pickle restored!\n"
     ]
    },
    {
     "name": "stderr",
     "output_type": "stream",
     "text": [
      " 77%|███████▋  | 61/79 [00:40<00:12,  1.47it/s]"
     ]
    },
    {
     "name": "stdout",
     "output_type": "stream",
     "text": [
      "56.400000000000176\n",
      "pickle restored!\n"
     ]
    },
    {
     "name": "stderr",
     "output_type": "stream",
     "text": [
      " 78%|███████▊  | 62/79 [00:41<00:11,  1.45it/s]"
     ]
    },
    {
     "name": "stdout",
     "output_type": "stream",
     "text": [
      "56.60000000000018\n",
      "pickle restored!\n"
     ]
    },
    {
     "name": "stderr",
     "output_type": "stream",
     "text": [
      " 80%|███████▉  | 63/79 [00:42<00:10,  1.46it/s]"
     ]
    },
    {
     "name": "stdout",
     "output_type": "stream",
     "text": [
      "56.80000000000018\n",
      "pickle restored!\n"
     ]
    },
    {
     "name": "stderr",
     "output_type": "stream",
     "text": [
      " 81%|████████  | 64/79 [00:43<00:10,  1.46it/s]"
     ]
    },
    {
     "name": "stdout",
     "output_type": "stream",
     "text": [
      "57.000000000000185\n",
      "pickle restored!\n"
     ]
    },
    {
     "name": "stderr",
     "output_type": "stream",
     "text": [
      " 82%|████████▏ | 65/79 [00:43<00:09,  1.44it/s]"
     ]
    },
    {
     "name": "stdout",
     "output_type": "stream",
     "text": [
      "57.20000000000019\n",
      "pickle restored!\n"
     ]
    },
    {
     "name": "stderr",
     "output_type": "stream",
     "text": [
      " 84%|████████▎ | 66/79 [00:44<00:08,  1.45it/s]"
     ]
    },
    {
     "name": "stdout",
     "output_type": "stream",
     "text": [
      "57.40000000000019\n",
      "pickle restored!\n"
     ]
    },
    {
     "name": "stderr",
     "output_type": "stream",
     "text": [
      " 85%|████████▍ | 67/79 [00:45<00:08,  1.47it/s]"
     ]
    },
    {
     "name": "stdout",
     "output_type": "stream",
     "text": [
      "57.60000000000019\n",
      "pickle restored!\n"
     ]
    },
    {
     "name": "stderr",
     "output_type": "stream",
     "text": [
      " 86%|████████▌ | 68/79 [00:45<00:07,  1.47it/s]"
     ]
    },
    {
     "name": "stdout",
     "output_type": "stream",
     "text": [
      "57.800000000000196\n",
      "pickle restored!\n"
     ]
    },
    {
     "name": "stderr",
     "output_type": "stream",
     "text": [
      " 87%|████████▋ | 69/79 [00:46<00:06,  1.46it/s]"
     ]
    },
    {
     "name": "stdout",
     "output_type": "stream",
     "text": [
      "58.0000000000002\n",
      "pickle restored!\n"
     ]
    },
    {
     "name": "stderr",
     "output_type": "stream",
     "text": [
      " 89%|████████▊ | 70/79 [00:47<00:06,  1.46it/s]"
     ]
    },
    {
     "name": "stdout",
     "output_type": "stream",
     "text": [
      "58.2000000000002\n",
      "pickle restored!\n"
     ]
    },
    {
     "name": "stderr",
     "output_type": "stream",
     "text": [
      " 90%|████████▉ | 71/79 [00:47<00:05,  1.42it/s]"
     ]
    },
    {
     "name": "stdout",
     "output_type": "stream",
     "text": [
      "58.400000000000205\n",
      "pickle restored!\n"
     ]
    },
    {
     "name": "stderr",
     "output_type": "stream",
     "text": [
      " 91%|█████████ | 72/79 [00:48<00:04,  1.44it/s]"
     ]
    },
    {
     "name": "stdout",
     "output_type": "stream",
     "text": [
      "58.60000000000021\n",
      "pickle restored!\n"
     ]
    },
    {
     "name": "stderr",
     "output_type": "stream",
     "text": [
      " 92%|█████████▏| 73/79 [00:49<00:04,  1.44it/s]"
     ]
    },
    {
     "name": "stdout",
     "output_type": "stream",
     "text": [
      "58.80000000000021\n",
      "pickle restored!\n"
     ]
    },
    {
     "name": "stderr",
     "output_type": "stream",
     "text": [
      " 94%|█████████▎| 74/79 [00:50<00:03,  1.30it/s]"
     ]
    },
    {
     "name": "stdout",
     "output_type": "stream",
     "text": [
      "59.00000000000021\n",
      "pickle restored!\n"
     ]
    },
    {
     "name": "stderr",
     "output_type": "stream",
     "text": [
      " 95%|█████████▍| 75/79 [00:50<00:03,  1.33it/s]"
     ]
    },
    {
     "name": "stdout",
     "output_type": "stream",
     "text": [
      "59.200000000000216\n",
      "pickle restored!\n"
     ]
    },
    {
     "name": "stderr",
     "output_type": "stream",
     "text": [
      " 96%|█████████▌| 76/79 [00:51<00:02,  1.38it/s]"
     ]
    },
    {
     "name": "stdout",
     "output_type": "stream",
     "text": [
      "59.40000000000022\n",
      "pickle restored!\n"
     ]
    },
    {
     "name": "stderr",
     "output_type": "stream",
     "text": [
      " 97%|█████████▋| 77/79 [00:52<00:01,  1.41it/s]"
     ]
    },
    {
     "name": "stdout",
     "output_type": "stream",
     "text": [
      "59.60000000000022\n",
      "pickle restored!\n"
     ]
    },
    {
     "name": "stderr",
     "output_type": "stream",
     "text": [
      " 99%|█████████▊| 78/79 [00:52<00:00,  1.41it/s]"
     ]
    },
    {
     "name": "stdout",
     "output_type": "stream",
     "text": [
      "59.800000000000225\n",
      "pickle restored!\n"
     ]
    },
    {
     "name": "stderr",
     "output_type": "stream",
     "text": [
      "100%|██████████| 79/79 [00:53<00:00,  1.47it/s]\n",
      "  0%|          | 0/89 [00:00<?, ?it/s]"
     ]
    },
    {
     "name": "stdout",
     "output_type": "stream",
     "text": [
      "44.2\n",
      "pickle restored!\n"
     ]
    },
    {
     "name": "stderr",
     "output_type": "stream",
     "text": [
      "  1%|          | 1/89 [00:00<01:07,  1.30it/s]"
     ]
    },
    {
     "name": "stdout",
     "output_type": "stream",
     "text": [
      "44.400000000000006\n",
      "pickle restored!\n"
     ]
    },
    {
     "name": "stderr",
     "output_type": "stream",
     "text": [
      "  2%|▏         | 2/89 [00:01<01:03,  1.38it/s]"
     ]
    },
    {
     "name": "stdout",
     "output_type": "stream",
     "text": [
      "44.60000000000001\n",
      "pickle restored!\n"
     ]
    },
    {
     "name": "stderr",
     "output_type": "stream",
     "text": [
      "  3%|▎         | 3/89 [00:02<01:00,  1.41it/s]"
     ]
    },
    {
     "name": "stdout",
     "output_type": "stream",
     "text": [
      "44.80000000000001\n",
      "pickle restored!\n"
     ]
    },
    {
     "name": "stderr",
     "output_type": "stream",
     "text": [
      "  4%|▍         | 4/89 [00:02<00:59,  1.43it/s]"
     ]
    },
    {
     "name": "stdout",
     "output_type": "stream",
     "text": [
      "45.000000000000014\n",
      "pickle restored!\n"
     ]
    },
    {
     "name": "stderr",
     "output_type": "stream",
     "text": [
      "  6%|▌         | 5/89 [00:03<00:59,  1.40it/s]"
     ]
    },
    {
     "name": "stdout",
     "output_type": "stream",
     "text": [
      "45.20000000000002\n",
      "pickle restored!\n"
     ]
    },
    {
     "name": "stderr",
     "output_type": "stream",
     "text": [
      "  7%|▋         | 6/89 [00:04<00:58,  1.42it/s]"
     ]
    },
    {
     "name": "stdout",
     "output_type": "stream",
     "text": [
      "45.40000000000002\n",
      "pickle restored!\n"
     ]
    },
    {
     "name": "stderr",
     "output_type": "stream",
     "text": [
      "  8%|▊         | 7/89 [00:04<00:57,  1.44it/s]"
     ]
    },
    {
     "name": "stdout",
     "output_type": "stream",
     "text": [
      "45.60000000000002\n",
      "pickle restored!\n"
     ]
    },
    {
     "name": "stderr",
     "output_type": "stream",
     "text": [
      "  9%|▉         | 8/89 [00:05<00:55,  1.47it/s]"
     ]
    },
    {
     "name": "stdout",
     "output_type": "stream",
     "text": [
      "45.800000000000026\n",
      "pickle restored!\n"
     ]
    },
    {
     "name": "stderr",
     "output_type": "stream",
     "text": [
      " 10%|█         | 9/89 [00:06<00:54,  1.48it/s]"
     ]
    },
    {
     "name": "stdout",
     "output_type": "stream",
     "text": [
      "46.00000000000003\n",
      "pickle restored!\n"
     ]
    },
    {
     "name": "stderr",
     "output_type": "stream",
     "text": [
      " 11%|█         | 10/89 [00:06<00:53,  1.48it/s]"
     ]
    },
    {
     "name": "stdout",
     "output_type": "stream",
     "text": [
      "46.20000000000003\n",
      "pickle restored!\n"
     ]
    },
    {
     "name": "stderr",
     "output_type": "stream",
     "text": [
      " 12%|█▏        | 11/89 [00:07<00:52,  1.50it/s]"
     ]
    },
    {
     "name": "stdout",
     "output_type": "stream",
     "text": [
      "46.400000000000034\n",
      "pickle restored!\n"
     ]
    },
    {
     "name": "stderr",
     "output_type": "stream",
     "text": [
      " 13%|█▎        | 12/89 [00:08<00:51,  1.49it/s]"
     ]
    },
    {
     "name": "stdout",
     "output_type": "stream",
     "text": [
      "46.60000000000004\n",
      "pickle restored!\n"
     ]
    },
    {
     "name": "stderr",
     "output_type": "stream",
     "text": [
      " 15%|█▍        | 13/89 [00:08<00:51,  1.49it/s]"
     ]
    },
    {
     "name": "stdout",
     "output_type": "stream",
     "text": [
      "46.80000000000004\n",
      "pickle restored!\n"
     ]
    },
    {
     "name": "stderr",
     "output_type": "stream",
     "text": [
      " 16%|█▌        | 14/89 [00:09<00:51,  1.46it/s]"
     ]
    },
    {
     "name": "stdout",
     "output_type": "stream",
     "text": [
      "47.00000000000004\n",
      "pickle restored!\n"
     ]
    },
    {
     "name": "stderr",
     "output_type": "stream",
     "text": [
      " 17%|█▋        | 15/89 [00:10<00:50,  1.46it/s]"
     ]
    },
    {
     "name": "stdout",
     "output_type": "stream",
     "text": [
      "47.200000000000045\n",
      "pickle restored!\n"
     ]
    },
    {
     "name": "stderr",
     "output_type": "stream",
     "text": [
      " 18%|█▊        | 16/89 [00:10<00:49,  1.48it/s]"
     ]
    },
    {
     "name": "stdout",
     "output_type": "stream",
     "text": [
      "47.40000000000005\n",
      "pickle restored!\n"
     ]
    },
    {
     "name": "stderr",
     "output_type": "stream",
     "text": [
      " 19%|█▉        | 17/89 [00:11<00:48,  1.50it/s]"
     ]
    },
    {
     "name": "stdout",
     "output_type": "stream",
     "text": [
      "47.60000000000005\n",
      "pickle restored!\n"
     ]
    },
    {
     "name": "stderr",
     "output_type": "stream",
     "text": [
      " 20%|██        | 18/89 [00:12<00:47,  1.49it/s]"
     ]
    },
    {
     "name": "stdout",
     "output_type": "stream",
     "text": [
      "47.800000000000054\n",
      "pickle restored!\n"
     ]
    },
    {
     "name": "stderr",
     "output_type": "stream",
     "text": [
      " 21%|██▏       | 19/89 [00:12<00:46,  1.49it/s]"
     ]
    },
    {
     "name": "stdout",
     "output_type": "stream",
     "text": [
      "48.00000000000006\n",
      "pickle restored!\n"
     ]
    },
    {
     "name": "stderr",
     "output_type": "stream",
     "text": [
      " 22%|██▏       | 20/89 [00:13<00:46,  1.48it/s]"
     ]
    },
    {
     "name": "stdout",
     "output_type": "stream",
     "text": [
      "48.20000000000006\n",
      "pickle restored!\n"
     ]
    },
    {
     "name": "stderr",
     "output_type": "stream",
     "text": [
      " 24%|██▎       | 21/89 [00:14<00:46,  1.47it/s]"
     ]
    },
    {
     "name": "stdout",
     "output_type": "stream",
     "text": [
      "48.40000000000006\n",
      "pickle restored!\n"
     ]
    },
    {
     "name": "stderr",
     "output_type": "stream",
     "text": [
      " 25%|██▍       | 22/89 [00:15<00:46,  1.46it/s]"
     ]
    },
    {
     "name": "stdout",
     "output_type": "stream",
     "text": [
      "48.600000000000065\n",
      "pickle restored!\n"
     ]
    },
    {
     "name": "stderr",
     "output_type": "stream",
     "text": [
      " 26%|██▌       | 23/89 [00:15<00:45,  1.45it/s]"
     ]
    },
    {
     "name": "stdout",
     "output_type": "stream",
     "text": [
      "48.80000000000007\n",
      "pickle restored!\n"
     ]
    },
    {
     "name": "stderr",
     "output_type": "stream",
     "text": [
      " 27%|██▋       | 24/89 [00:16<00:44,  1.46it/s]"
     ]
    },
    {
     "name": "stdout",
     "output_type": "stream",
     "text": [
      "49.00000000000007\n",
      "pickle restored!\n"
     ]
    },
    {
     "name": "stderr",
     "output_type": "stream",
     "text": [
      " 28%|██▊       | 25/89 [00:17<00:43,  1.47it/s]"
     ]
    },
    {
     "name": "stdout",
     "output_type": "stream",
     "text": [
      "49.200000000000074\n",
      "pickle restored!\n"
     ]
    },
    {
     "name": "stderr",
     "output_type": "stream",
     "text": [
      " 29%|██▉       | 26/89 [00:17<00:42,  1.48it/s]"
     ]
    },
    {
     "name": "stdout",
     "output_type": "stream",
     "text": [
      "49.40000000000008\n",
      "pickle restored!\n"
     ]
    },
    {
     "name": "stderr",
     "output_type": "stream",
     "text": [
      " 30%|███       | 27/89 [00:18<00:41,  1.49it/s]"
     ]
    },
    {
     "name": "stdout",
     "output_type": "stream",
     "text": [
      "49.60000000000008\n",
      "pickle restored!\n"
     ]
    },
    {
     "name": "stderr",
     "output_type": "stream",
     "text": [
      " 31%|███▏      | 28/89 [00:19<00:41,  1.48it/s]"
     ]
    },
    {
     "name": "stdout",
     "output_type": "stream",
     "text": [
      "49.80000000000008\n",
      "pickle restored!\n"
     ]
    },
    {
     "name": "stderr",
     "output_type": "stream",
     "text": [
      " 33%|███▎      | 29/89 [00:19<00:40,  1.48it/s]"
     ]
    },
    {
     "name": "stdout",
     "output_type": "stream",
     "text": [
      "50.000000000000085\n",
      "pickle restored!\n"
     ]
    },
    {
     "name": "stderr",
     "output_type": "stream",
     "text": [
      " 34%|███▎      | 30/89 [00:20<00:39,  1.48it/s]"
     ]
    },
    {
     "name": "stdout",
     "output_type": "stream",
     "text": [
      "50.20000000000009\n",
      "pickle restored!\n"
     ]
    },
    {
     "name": "stderr",
     "output_type": "stream",
     "text": [
      " 35%|███▍      | 31/89 [00:21<00:38,  1.49it/s]"
     ]
    },
    {
     "name": "stdout",
     "output_type": "stream",
     "text": [
      "50.40000000000009\n",
      "pickle restored!\n"
     ]
    },
    {
     "name": "stderr",
     "output_type": "stream",
     "text": [
      " 36%|███▌      | 32/89 [00:21<00:37,  1.50it/s]"
     ]
    },
    {
     "name": "stdout",
     "output_type": "stream",
     "text": [
      "50.600000000000094\n",
      "pickle restored!\n"
     ]
    },
    {
     "name": "stderr",
     "output_type": "stream",
     "text": [
      " 37%|███▋      | 33/89 [00:22<00:37,  1.48it/s]"
     ]
    },
    {
     "name": "stdout",
     "output_type": "stream",
     "text": [
      "50.8000000000001\n",
      "pickle restored!\n"
     ]
    },
    {
     "name": "stderr",
     "output_type": "stream",
     "text": [
      " 38%|███▊      | 34/89 [00:23<00:37,  1.47it/s]"
     ]
    },
    {
     "name": "stdout",
     "output_type": "stream",
     "text": [
      "51.0000000000001\n",
      "pickle restored!\n"
     ]
    },
    {
     "name": "stderr",
     "output_type": "stream",
     "text": [
      " 39%|███▉      | 35/89 [00:23<00:36,  1.50it/s]"
     ]
    },
    {
     "name": "stdout",
     "output_type": "stream",
     "text": [
      "51.2000000000001\n",
      "pickle restored!\n"
     ]
    },
    {
     "name": "stderr",
     "output_type": "stream",
     "text": [
      " 40%|████      | 36/89 [00:24<00:34,  1.52it/s]"
     ]
    },
    {
     "name": "stdout",
     "output_type": "stream",
     "text": [
      "51.400000000000105\n",
      "pickle restored!\n"
     ]
    },
    {
     "name": "stderr",
     "output_type": "stream",
     "text": [
      " 42%|████▏     | 37/89 [00:25<00:34,  1.50it/s]"
     ]
    },
    {
     "name": "stdout",
     "output_type": "stream",
     "text": [
      "51.60000000000011\n",
      "pickle restored!\n"
     ]
    },
    {
     "name": "stderr",
     "output_type": "stream",
     "text": [
      " 43%|████▎     | 38/89 [00:25<00:33,  1.51it/s]"
     ]
    },
    {
     "name": "stdout",
     "output_type": "stream",
     "text": [
      "51.80000000000011\n",
      "pickle restored!\n"
     ]
    },
    {
     "name": "stderr",
     "output_type": "stream",
     "text": [
      " 44%|████▍     | 39/89 [00:26<00:32,  1.52it/s]"
     ]
    },
    {
     "name": "stdout",
     "output_type": "stream",
     "text": [
      "52.000000000000114\n",
      "pickle restored!\n"
     ]
    },
    {
     "name": "stderr",
     "output_type": "stream",
     "text": [
      " 45%|████▍     | 40/89 [00:27<00:32,  1.51it/s]"
     ]
    },
    {
     "name": "stdout",
     "output_type": "stream",
     "text": [
      "52.20000000000012\n",
      "pickle restored!\n"
     ]
    },
    {
     "name": "stderr",
     "output_type": "stream",
     "text": [
      " 46%|████▌     | 41/89 [00:27<00:32,  1.49it/s]"
     ]
    },
    {
     "name": "stdout",
     "output_type": "stream",
     "text": [
      "52.40000000000012\n",
      "pickle restored!\n"
     ]
    },
    {
     "name": "stderr",
     "output_type": "stream",
     "text": [
      " 47%|████▋     | 42/89 [00:28<00:31,  1.50it/s]"
     ]
    },
    {
     "name": "stdout",
     "output_type": "stream",
     "text": [
      "52.60000000000012\n",
      "pickle restored!\n"
     ]
    },
    {
     "name": "stderr",
     "output_type": "stream",
     "text": [
      " 48%|████▊     | 43/89 [00:29<00:30,  1.52it/s]"
     ]
    },
    {
     "name": "stdout",
     "output_type": "stream",
     "text": [
      "52.800000000000125\n",
      "pickle restored!\n"
     ]
    },
    {
     "name": "stderr",
     "output_type": "stream",
     "text": [
      " 49%|████▉     | 44/89 [00:29<00:29,  1.53it/s]"
     ]
    },
    {
     "name": "stdout",
     "output_type": "stream",
     "text": [
      "53.00000000000013\n",
      "pickle restored!\n"
     ]
    },
    {
     "name": "stderr",
     "output_type": "stream",
     "text": [
      " 51%|█████     | 45/89 [00:30<00:28,  1.55it/s]"
     ]
    },
    {
     "name": "stdout",
     "output_type": "stream",
     "text": [
      "53.20000000000013\n",
      "pickle restored!\n"
     ]
    },
    {
     "name": "stderr",
     "output_type": "stream",
     "text": [
      " 52%|█████▏    | 46/89 [00:31<00:27,  1.54it/s]"
     ]
    },
    {
     "name": "stdout",
     "output_type": "stream",
     "text": [
      "53.400000000000134\n",
      "pickle restored!\n"
     ]
    },
    {
     "name": "stderr",
     "output_type": "stream",
     "text": [
      " 53%|█████▎    | 47/89 [00:31<00:27,  1.53it/s]"
     ]
    },
    {
     "name": "stdout",
     "output_type": "stream",
     "text": [
      "53.600000000000136\n",
      "pickle restored!\n"
     ]
    },
    {
     "name": "stderr",
     "output_type": "stream",
     "text": [
      " 54%|█████▍    | 48/89 [00:32<00:26,  1.53it/s]"
     ]
    },
    {
     "name": "stdout",
     "output_type": "stream",
     "text": [
      "53.80000000000014\n",
      "pickle restored!\n"
     ]
    },
    {
     "name": "stderr",
     "output_type": "stream",
     "text": [
      " 55%|█████▌    | 49/89 [00:32<00:25,  1.55it/s]"
     ]
    },
    {
     "name": "stdout",
     "output_type": "stream",
     "text": [
      "54.00000000000014\n",
      "pickle restored!\n"
     ]
    },
    {
     "name": "stderr",
     "output_type": "stream",
     "text": [
      " 56%|█████▌    | 50/89 [00:33<00:24,  1.56it/s]"
     ]
    },
    {
     "name": "stdout",
     "output_type": "stream",
     "text": [
      "54.200000000000145\n",
      "pickle restored!\n"
     ]
    },
    {
     "name": "stderr",
     "output_type": "stream",
     "text": [
      " 57%|█████▋    | 51/89 [00:34<00:24,  1.54it/s]"
     ]
    },
    {
     "name": "stdout",
     "output_type": "stream",
     "text": [
      "54.40000000000015\n",
      "pickle restored!\n"
     ]
    },
    {
     "name": "stderr",
     "output_type": "stream",
     "text": [
      " 58%|█████▊    | 52/89 [00:34<00:24,  1.53it/s]"
     ]
    },
    {
     "name": "stdout",
     "output_type": "stream",
     "text": [
      "54.60000000000015\n",
      "pickle restored!\n"
     ]
    },
    {
     "name": "stderr",
     "output_type": "stream",
     "text": [
      " 60%|█████▉    | 53/89 [00:35<00:23,  1.55it/s]"
     ]
    },
    {
     "name": "stdout",
     "output_type": "stream",
     "text": [
      "54.80000000000015\n",
      "pickle restored!\n"
     ]
    },
    {
     "name": "stderr",
     "output_type": "stream",
     "text": [
      " 61%|██████    | 54/89 [00:36<00:23,  1.52it/s]"
     ]
    },
    {
     "name": "stdout",
     "output_type": "stream",
     "text": [
      "55.000000000000156\n",
      "pickle restored!\n"
     ]
    },
    {
     "name": "stderr",
     "output_type": "stream",
     "text": [
      " 62%|██████▏   | 55/89 [00:36<00:22,  1.48it/s]"
     ]
    },
    {
     "name": "stdout",
     "output_type": "stream",
     "text": [
      "55.20000000000016\n",
      "pickle restored!\n"
     ]
    },
    {
     "name": "stderr",
     "output_type": "stream",
     "text": [
      " 63%|██████▎   | 56/89 [00:37<00:21,  1.51it/s]"
     ]
    },
    {
     "name": "stdout",
     "output_type": "stream",
     "text": [
      "55.40000000000016\n",
      "pickle restored!\n"
     ]
    },
    {
     "name": "stderr",
     "output_type": "stream",
     "text": [
      " 64%|██████▍   | 57/89 [00:38<00:21,  1.50it/s]"
     ]
    },
    {
     "name": "stdout",
     "output_type": "stream",
     "text": [
      "55.600000000000165\n",
      "pickle restored!\n"
     ]
    },
    {
     "name": "stderr",
     "output_type": "stream",
     "text": [
      " 65%|██████▌   | 58/89 [00:38<00:20,  1.51it/s]"
     ]
    },
    {
     "name": "stdout",
     "output_type": "stream",
     "text": [
      "55.80000000000017\n",
      "pickle restored!\n"
     ]
    },
    {
     "name": "stderr",
     "output_type": "stream",
     "text": [
      " 66%|██████▋   | 59/89 [00:39<00:19,  1.51it/s]"
     ]
    },
    {
     "name": "stdout",
     "output_type": "stream",
     "text": [
      "56.00000000000017\n",
      "pickle restored!\n"
     ]
    },
    {
     "name": "stderr",
     "output_type": "stream",
     "text": [
      " 67%|██████▋   | 60/89 [00:40<00:19,  1.52it/s]"
     ]
    },
    {
     "name": "stdout",
     "output_type": "stream",
     "text": [
      "56.20000000000017\n",
      "pickle restored!\n"
     ]
    },
    {
     "name": "stderr",
     "output_type": "stream",
     "text": [
      " 69%|██████▊   | 61/89 [00:40<00:18,  1.52it/s]"
     ]
    },
    {
     "name": "stdout",
     "output_type": "stream",
     "text": [
      "56.400000000000176\n",
      "pickle restored!\n"
     ]
    },
    {
     "name": "stderr",
     "output_type": "stream",
     "text": [
      " 70%|██████▉   | 62/89 [00:41<00:17,  1.51it/s]"
     ]
    },
    {
     "name": "stdout",
     "output_type": "stream",
     "text": [
      "56.60000000000018\n",
      "pickle restored!\n"
     ]
    },
    {
     "name": "stderr",
     "output_type": "stream",
     "text": [
      " 71%|███████   | 63/89 [00:42<00:17,  1.48it/s]"
     ]
    },
    {
     "name": "stdout",
     "output_type": "stream",
     "text": [
      "56.80000000000018\n",
      "pickle restored!\n"
     ]
    },
    {
     "name": "stderr",
     "output_type": "stream",
     "text": [
      " 72%|███████▏  | 64/89 [00:42<00:16,  1.50it/s]"
     ]
    },
    {
     "name": "stdout",
     "output_type": "stream",
     "text": [
      "57.000000000000185\n",
      "pickle restored!\n"
     ]
    },
    {
     "name": "stderr",
     "output_type": "stream",
     "text": [
      " 73%|███████▎  | 65/89 [00:43<00:15,  1.53it/s]"
     ]
    },
    {
     "name": "stdout",
     "output_type": "stream",
     "text": [
      "57.20000000000019\n",
      "pickle restored!\n"
     ]
    },
    {
     "name": "stderr",
     "output_type": "stream",
     "text": [
      " 74%|███████▍  | 66/89 [00:44<00:15,  1.52it/s]"
     ]
    },
    {
     "name": "stdout",
     "output_type": "stream",
     "text": [
      "57.40000000000019\n",
      "pickle restored!\n"
     ]
    },
    {
     "name": "stderr",
     "output_type": "stream",
     "text": [
      " 75%|███████▌  | 67/89 [00:44<00:14,  1.51it/s]"
     ]
    },
    {
     "name": "stdout",
     "output_type": "stream",
     "text": [
      "57.60000000000019\n",
      "pickle restored!\n"
     ]
    },
    {
     "name": "stderr",
     "output_type": "stream",
     "text": [
      " 76%|███████▋  | 68/89 [00:45<00:13,  1.53it/s]"
     ]
    },
    {
     "name": "stdout",
     "output_type": "stream",
     "text": [
      "57.800000000000196\n",
      "pickle restored!\n"
     ]
    },
    {
     "name": "stderr",
     "output_type": "stream",
     "text": [
      " 78%|███████▊  | 69/89 [00:46<00:12,  1.55it/s]"
     ]
    },
    {
     "name": "stdout",
     "output_type": "stream",
     "text": [
      "58.0000000000002\n",
      "pickle restored!\n"
     ]
    },
    {
     "name": "stderr",
     "output_type": "stream",
     "text": [
      " 79%|███████▊  | 70/89 [00:46<00:12,  1.53it/s]"
     ]
    },
    {
     "name": "stdout",
     "output_type": "stream",
     "text": [
      "58.2000000000002\n",
      "pickle restored!\n"
     ]
    },
    {
     "name": "stderr",
     "output_type": "stream",
     "text": [
      " 80%|███████▉  | 71/89 [00:47<00:12,  1.50it/s]"
     ]
    },
    {
     "name": "stdout",
     "output_type": "stream",
     "text": [
      "58.400000000000205\n",
      "pickle restored!\n"
     ]
    },
    {
     "name": "stderr",
     "output_type": "stream",
     "text": [
      " 81%|████████  | 72/89 [00:48<00:11,  1.49it/s]"
     ]
    },
    {
     "name": "stdout",
     "output_type": "stream",
     "text": [
      "58.60000000000021\n",
      "pickle restored!\n"
     ]
    },
    {
     "name": "stderr",
     "output_type": "stream",
     "text": [
      " 82%|████████▏ | 73/89 [00:48<00:10,  1.48it/s]"
     ]
    },
    {
     "name": "stdout",
     "output_type": "stream",
     "text": [
      "58.80000000000021\n",
      "pickle restored!\n"
     ]
    },
    {
     "name": "stderr",
     "output_type": "stream",
     "text": [
      " 83%|████████▎ | 74/89 [00:49<00:09,  1.50it/s]"
     ]
    },
    {
     "name": "stdout",
     "output_type": "stream",
     "text": [
      "59.00000000000021\n",
      "pickle restored!\n"
     ]
    },
    {
     "name": "stderr",
     "output_type": "stream",
     "text": [
      " 84%|████████▍ | 75/89 [00:50<00:09,  1.52it/s]"
     ]
    },
    {
     "name": "stdout",
     "output_type": "stream",
     "text": [
      "59.200000000000216\n",
      "pickle restored!\n"
     ]
    },
    {
     "name": "stderr",
     "output_type": "stream",
     "text": [
      " 85%|████████▌ | 76/89 [00:50<00:08,  1.54it/s]"
     ]
    },
    {
     "name": "stdout",
     "output_type": "stream",
     "text": [
      "59.40000000000022\n",
      "pickle restored!\n"
     ]
    },
    {
     "name": "stderr",
     "output_type": "stream",
     "text": [
      " 87%|████████▋ | 77/89 [00:51<00:07,  1.51it/s]"
     ]
    },
    {
     "name": "stdout",
     "output_type": "stream",
     "text": [
      "59.60000000000022\n",
      "pickle restored!\n"
     ]
    },
    {
     "name": "stderr",
     "output_type": "stream",
     "text": [
      " 88%|████████▊ | 78/89 [00:52<00:07,  1.50it/s]"
     ]
    },
    {
     "name": "stdout",
     "output_type": "stream",
     "text": [
      "59.800000000000225\n",
      "pickle restored!\n"
     ]
    },
    {
     "name": "stderr",
     "output_type": "stream",
     "text": [
      " 89%|████████▉ | 79/89 [00:52<00:06,  1.48it/s]"
     ]
    },
    {
     "name": "stdout",
     "output_type": "stream",
     "text": [
      "60.00000000000023\n",
      "pickle restored!\n"
     ]
    },
    {
     "name": "stderr",
     "output_type": "stream",
     "text": [
      " 90%|████████▉ | 80/89 [00:53<00:06,  1.46it/s]"
     ]
    },
    {
     "name": "stdout",
     "output_type": "stream",
     "text": [
      "60.20000000000023\n",
      "pickle restored!\n"
     ]
    },
    {
     "name": "stderr",
     "output_type": "stream",
     "text": [
      " 91%|█████████ | 81/89 [00:54<00:05,  1.49it/s]"
     ]
    },
    {
     "name": "stdout",
     "output_type": "stream",
     "text": [
      "60.40000000000023\n",
      "pickle restored!\n"
     ]
    },
    {
     "name": "stderr",
     "output_type": "stream",
     "text": [
      " 92%|█████████▏| 82/89 [00:54<00:04,  1.48it/s]"
     ]
    },
    {
     "name": "stdout",
     "output_type": "stream",
     "text": [
      "60.600000000000236\n",
      "pickle restored!\n"
     ]
    },
    {
     "name": "stderr",
     "output_type": "stream",
     "text": [
      " 93%|█████████▎| 83/89 [00:55<00:03,  1.52it/s]"
     ]
    },
    {
     "name": "stdout",
     "output_type": "stream",
     "text": [
      "60.80000000000024\n",
      "pickle restored!\n"
     ]
    },
    {
     "name": "stderr",
     "output_type": "stream",
     "text": [
      " 94%|█████████▍| 84/89 [00:56<00:03,  1.50it/s]"
     ]
    },
    {
     "name": "stdout",
     "output_type": "stream",
     "text": [
      "61.00000000000024\n",
      "pickle restored!\n"
     ]
    },
    {
     "name": "stderr",
     "output_type": "stream",
     "text": [
      " 96%|█████████▌| 85/89 [00:56<00:02,  1.52it/s]"
     ]
    },
    {
     "name": "stdout",
     "output_type": "stream",
     "text": [
      "61.200000000000244\n",
      "pickle restored!\n"
     ]
    },
    {
     "name": "stderr",
     "output_type": "stream",
     "text": [
      " 97%|█████████▋| 86/89 [00:57<00:01,  1.51it/s]"
     ]
    },
    {
     "name": "stdout",
     "output_type": "stream",
     "text": [
      "61.40000000000025\n",
      "pickle restored!\n"
     ]
    },
    {
     "name": "stderr",
     "output_type": "stream",
     "text": [
      " 98%|█████████▊| 87/89 [00:58<00:01,  1.54it/s]"
     ]
    },
    {
     "name": "stdout",
     "output_type": "stream",
     "text": [
      "61.60000000000025\n",
      "pickle restored!\n"
     ]
    },
    {
     "name": "stderr",
     "output_type": "stream",
     "text": [
      " 99%|█████████▉| 88/89 [00:58<00:00,  1.51it/s]"
     ]
    },
    {
     "name": "stdout",
     "output_type": "stream",
     "text": [
      "61.80000000000025\n",
      "pickle restored!\n"
     ]
    },
    {
     "name": "stderr",
     "output_type": "stream",
     "text": [
      "100%|██████████| 89/89 [00:59<00:00,  1.50it/s]\n",
      "  0%|          | 0/69 [00:00<?, ?it/s]"
     ]
    },
    {
     "name": "stdout",
     "output_type": "stream",
     "text": [
      "44.2\n",
      "pickle restored!\n"
     ]
    },
    {
     "name": "stderr",
     "output_type": "stream",
     "text": [
      "  1%|▏         | 1/69 [00:00<00:52,  1.30it/s]"
     ]
    },
    {
     "name": "stdout",
     "output_type": "stream",
     "text": [
      "44.400000000000006\n",
      "pickle restored!\n"
     ]
    },
    {
     "name": "stderr",
     "output_type": "stream",
     "text": [
      "  3%|▎         | 2/69 [00:01<00:48,  1.39it/s]"
     ]
    },
    {
     "name": "stdout",
     "output_type": "stream",
     "text": [
      "44.60000000000001\n",
      "pickle restored!\n"
     ]
    },
    {
     "name": "stderr",
     "output_type": "stream",
     "text": [
      "  4%|▍         | 3/69 [00:02<00:46,  1.43it/s]"
     ]
    },
    {
     "name": "stdout",
     "output_type": "stream",
     "text": [
      "44.80000000000001\n",
      "pickle restored!\n"
     ]
    },
    {
     "name": "stderr",
     "output_type": "stream",
     "text": [
      "  6%|▌         | 4/69 [00:02<00:45,  1.43it/s]"
     ]
    },
    {
     "name": "stdout",
     "output_type": "stream",
     "text": [
      "45.000000000000014\n",
      "pickle restored!\n"
     ]
    },
    {
     "name": "stderr",
     "output_type": "stream",
     "text": [
      "  7%|▋         | 5/69 [00:03<00:48,  1.32it/s]"
     ]
    },
    {
     "name": "stdout",
     "output_type": "stream",
     "text": [
      "45.20000000000002\n",
      "pickle restored!\n"
     ]
    },
    {
     "name": "stderr",
     "output_type": "stream",
     "text": [
      "  9%|▊         | 6/69 [00:04<00:46,  1.36it/s]"
     ]
    },
    {
     "name": "stdout",
     "output_type": "stream",
     "text": [
      "45.40000000000002\n",
      "pickle restored!\n"
     ]
    },
    {
     "name": "stderr",
     "output_type": "stream",
     "text": [
      " 10%|█         | 7/69 [00:05<00:44,  1.40it/s]"
     ]
    },
    {
     "name": "stdout",
     "output_type": "stream",
     "text": [
      "45.60000000000002\n",
      "pickle restored!\n"
     ]
    },
    {
     "name": "stderr",
     "output_type": "stream",
     "text": [
      " 12%|█▏        | 8/69 [00:05<00:42,  1.43it/s]"
     ]
    },
    {
     "name": "stdout",
     "output_type": "stream",
     "text": [
      "45.800000000000026\n",
      "pickle restored!\n"
     ]
    },
    {
     "name": "stderr",
     "output_type": "stream",
     "text": [
      " 13%|█▎        | 9/69 [00:06<00:41,  1.45it/s]"
     ]
    },
    {
     "name": "stdout",
     "output_type": "stream",
     "text": [
      "46.00000000000003\n",
      "pickle restored!\n"
     ]
    },
    {
     "name": "stderr",
     "output_type": "stream",
     "text": [
      " 14%|█▍        | 10/69 [00:07<00:40,  1.46it/s]"
     ]
    },
    {
     "name": "stdout",
     "output_type": "stream",
     "text": [
      "46.20000000000003\n",
      "pickle restored!\n"
     ]
    },
    {
     "name": "stderr",
     "output_type": "stream",
     "text": [
      " 16%|█▌        | 11/69 [00:07<00:39,  1.45it/s]"
     ]
    },
    {
     "name": "stdout",
     "output_type": "stream",
     "text": [
      "46.400000000000034\n",
      "pickle restored!\n"
     ]
    },
    {
     "name": "stderr",
     "output_type": "stream",
     "text": [
      " 17%|█▋        | 12/69 [00:08<00:38,  1.48it/s]"
     ]
    },
    {
     "name": "stdout",
     "output_type": "stream",
     "text": [
      "46.60000000000004\n",
      "pickle restored!\n"
     ]
    },
    {
     "name": "stderr",
     "output_type": "stream",
     "text": [
      " 19%|█▉        | 13/69 [00:09<00:38,  1.47it/s]"
     ]
    },
    {
     "name": "stdout",
     "output_type": "stream",
     "text": [
      "46.80000000000004\n",
      "pickle restored!\n"
     ]
    },
    {
     "name": "stderr",
     "output_type": "stream",
     "text": [
      " 20%|██        | 14/69 [00:09<00:38,  1.44it/s]"
     ]
    },
    {
     "name": "stdout",
     "output_type": "stream",
     "text": [
      "47.00000000000004\n",
      "pickle restored!\n"
     ]
    },
    {
     "name": "stderr",
     "output_type": "stream",
     "text": [
      " 22%|██▏       | 15/69 [00:10<00:36,  1.49it/s]"
     ]
    },
    {
     "name": "stdout",
     "output_type": "stream",
     "text": [
      "47.200000000000045\n",
      "pickle restored!\n"
     ]
    },
    {
     "name": "stderr",
     "output_type": "stream",
     "text": [
      " 23%|██▎       | 16/69 [00:11<00:34,  1.53it/s]"
     ]
    },
    {
     "name": "stdout",
     "output_type": "stream",
     "text": [
      "47.40000000000005\n",
      "pickle restored!\n"
     ]
    },
    {
     "name": "stderr",
     "output_type": "stream",
     "text": [
      " 25%|██▍       | 17/69 [00:11<00:33,  1.55it/s]"
     ]
    },
    {
     "name": "stdout",
     "output_type": "stream",
     "text": [
      "47.60000000000005\n",
      "pickle restored!\n"
     ]
    },
    {
     "name": "stderr",
     "output_type": "stream",
     "text": [
      " 26%|██▌       | 18/69 [00:12<00:33,  1.52it/s]"
     ]
    },
    {
     "name": "stdout",
     "output_type": "stream",
     "text": [
      "47.800000000000054\n",
      "pickle restored!\n"
     ]
    },
    {
     "name": "stderr",
     "output_type": "stream",
     "text": [
      " 28%|██▊       | 19/69 [00:13<00:33,  1.49it/s]"
     ]
    },
    {
     "name": "stdout",
     "output_type": "stream",
     "text": [
      "48.00000000000006\n",
      "pickle restored!\n"
     ]
    },
    {
     "name": "stderr",
     "output_type": "stream",
     "text": [
      " 29%|██▉       | 20/69 [00:13<00:32,  1.49it/s]"
     ]
    },
    {
     "name": "stdout",
     "output_type": "stream",
     "text": [
      "48.20000000000006\n",
      "pickle restored!\n"
     ]
    },
    {
     "name": "stderr",
     "output_type": "stream",
     "text": [
      " 30%|███       | 21/69 [00:14<00:31,  1.51it/s]"
     ]
    },
    {
     "name": "stdout",
     "output_type": "stream",
     "text": [
      "48.40000000000006\n",
      "pickle restored!\n"
     ]
    },
    {
     "name": "stderr",
     "output_type": "stream",
     "text": [
      " 32%|███▏      | 22/69 [00:15<00:31,  1.52it/s]"
     ]
    },
    {
     "name": "stdout",
     "output_type": "stream",
     "text": [
      "48.600000000000065\n",
      "pickle restored!\n"
     ]
    },
    {
     "name": "stderr",
     "output_type": "stream",
     "text": [
      " 33%|███▎      | 23/69 [00:15<00:29,  1.55it/s]"
     ]
    },
    {
     "name": "stdout",
     "output_type": "stream",
     "text": [
      "48.80000000000007\n",
      "pickle restored!\n"
     ]
    },
    {
     "name": "stderr",
     "output_type": "stream",
     "text": [
      " 35%|███▍      | 24/69 [00:16<00:28,  1.57it/s]"
     ]
    },
    {
     "name": "stdout",
     "output_type": "stream",
     "text": [
      "49.00000000000007\n",
      "pickle restored!\n"
     ]
    },
    {
     "name": "stderr",
     "output_type": "stream",
     "text": [
      " 36%|███▌      | 25/69 [00:16<00:29,  1.51it/s]"
     ]
    },
    {
     "name": "stdout",
     "output_type": "stream",
     "text": [
      "49.200000000000074\n",
      "pickle restored!\n"
     ]
    },
    {
     "name": "stderr",
     "output_type": "stream",
     "text": [
      " 38%|███▊      | 26/69 [00:17<00:28,  1.53it/s]"
     ]
    },
    {
     "name": "stdout",
     "output_type": "stream",
     "text": [
      "49.40000000000008\n",
      "pickle restored!\n"
     ]
    },
    {
     "name": "stderr",
     "output_type": "stream",
     "text": [
      " 39%|███▉      | 27/69 [00:18<00:27,  1.50it/s]"
     ]
    },
    {
     "name": "stdout",
     "output_type": "stream",
     "text": [
      "49.60000000000008\n",
      "pickle restored!\n"
     ]
    },
    {
     "name": "stderr",
     "output_type": "stream",
     "text": [
      " 41%|████      | 28/69 [00:18<00:26,  1.52it/s]"
     ]
    },
    {
     "name": "stdout",
     "output_type": "stream",
     "text": [
      "49.80000000000008\n",
      "pickle restored!\n"
     ]
    },
    {
     "name": "stderr",
     "output_type": "stream",
     "text": [
      " 42%|████▏     | 29/69 [00:19<00:27,  1.47it/s]"
     ]
    },
    {
     "name": "stdout",
     "output_type": "stream",
     "text": [
      "50.000000000000085\n",
      "pickle restored!\n"
     ]
    },
    {
     "name": "stderr",
     "output_type": "stream",
     "text": [
      " 43%|████▎     | 30/69 [00:20<00:26,  1.48it/s]"
     ]
    },
    {
     "name": "stdout",
     "output_type": "stream",
     "text": [
      "50.20000000000009\n",
      "pickle restored!\n"
     ]
    },
    {
     "name": "stderr",
     "output_type": "stream",
     "text": [
      " 45%|████▍     | 31/69 [00:21<00:26,  1.45it/s]"
     ]
    },
    {
     "name": "stdout",
     "output_type": "stream",
     "text": [
      "50.40000000000009\n",
      "pickle restored!\n"
     ]
    },
    {
     "name": "stderr",
     "output_type": "stream",
     "text": [
      " 46%|████▋     | 32/69 [00:21<00:25,  1.45it/s]"
     ]
    },
    {
     "name": "stdout",
     "output_type": "stream",
     "text": [
      "50.600000000000094\n",
      "pickle restored!\n"
     ]
    },
    {
     "name": "stderr",
     "output_type": "stream",
     "text": [
      " 48%|████▊     | 33/69 [00:22<00:24,  1.47it/s]"
     ]
    },
    {
     "name": "stdout",
     "output_type": "stream",
     "text": [
      "50.8000000000001\n",
      "pickle restored!\n"
     ]
    },
    {
     "name": "stderr",
     "output_type": "stream",
     "text": [
      " 49%|████▉     | 34/69 [00:23<00:23,  1.47it/s]"
     ]
    },
    {
     "name": "stdout",
     "output_type": "stream",
     "text": [
      "51.0000000000001\n",
      "pickle restored!\n"
     ]
    },
    {
     "name": "stderr",
     "output_type": "stream",
     "text": [
      " 51%|█████     | 35/69 [00:23<00:22,  1.49it/s]"
     ]
    },
    {
     "name": "stdout",
     "output_type": "stream",
     "text": [
      "51.2000000000001\n",
      "pickle restored!\n"
     ]
    },
    {
     "name": "stderr",
     "output_type": "stream",
     "text": [
      " 52%|█████▏    | 36/69 [00:24<00:21,  1.51it/s]"
     ]
    },
    {
     "name": "stdout",
     "output_type": "stream",
     "text": [
      "51.400000000000105\n",
      "pickle restored!\n"
     ]
    },
    {
     "name": "stderr",
     "output_type": "stream",
     "text": [
      " 54%|█████▎    | 37/69 [00:25<00:21,  1.51it/s]"
     ]
    },
    {
     "name": "stdout",
     "output_type": "stream",
     "text": [
      "51.60000000000011\n",
      "pickle restored!\n"
     ]
    },
    {
     "name": "stderr",
     "output_type": "stream",
     "text": [
      " 55%|█████▌    | 38/69 [00:25<00:20,  1.52it/s]"
     ]
    },
    {
     "name": "stdout",
     "output_type": "stream",
     "text": [
      "51.80000000000011\n",
      "pickle restored!\n"
     ]
    },
    {
     "name": "stderr",
     "output_type": "stream",
     "text": [
      " 57%|█████▋    | 39/69 [00:26<00:19,  1.53it/s]"
     ]
    },
    {
     "name": "stdout",
     "output_type": "stream",
     "text": [
      "52.000000000000114\n",
      "pickle restored!\n"
     ]
    },
    {
     "name": "stderr",
     "output_type": "stream",
     "text": [
      " 58%|█████▊    | 40/69 [00:26<00:18,  1.53it/s]"
     ]
    },
    {
     "name": "stdout",
     "output_type": "stream",
     "text": [
      "52.20000000000012\n",
      "pickle restored!\n"
     ]
    },
    {
     "name": "stderr",
     "output_type": "stream",
     "text": [
      " 59%|█████▉    | 41/69 [00:27<00:18,  1.50it/s]"
     ]
    },
    {
     "name": "stdout",
     "output_type": "stream",
     "text": [
      "52.40000000000012\n",
      "pickle restored!\n"
     ]
    },
    {
     "name": "stderr",
     "output_type": "stream",
     "text": [
      " 61%|██████    | 42/69 [00:28<00:17,  1.51it/s]"
     ]
    },
    {
     "name": "stdout",
     "output_type": "stream",
     "text": [
      "52.60000000000012\n",
      "pickle restored!\n"
     ]
    },
    {
     "name": "stderr",
     "output_type": "stream",
     "text": [
      " 62%|██████▏   | 43/69 [00:29<00:18,  1.44it/s]"
     ]
    },
    {
     "name": "stdout",
     "output_type": "stream",
     "text": [
      "52.800000000000125\n",
      "pickle restored!\n"
     ]
    },
    {
     "name": "stderr",
     "output_type": "stream",
     "text": [
      " 64%|██████▍   | 44/69 [00:29<00:16,  1.48it/s]"
     ]
    },
    {
     "name": "stdout",
     "output_type": "stream",
     "text": [
      "53.00000000000013\n",
      "pickle restored!\n"
     ]
    },
    {
     "name": "stderr",
     "output_type": "stream",
     "text": [
      " 65%|██████▌   | 45/69 [00:30<00:16,  1.48it/s]"
     ]
    },
    {
     "name": "stdout",
     "output_type": "stream",
     "text": [
      "53.20000000000013\n",
      "pickle restored!\n"
     ]
    },
    {
     "name": "stderr",
     "output_type": "stream",
     "text": [
      " 67%|██████▋   | 46/69 [00:31<00:15,  1.52it/s]"
     ]
    },
    {
     "name": "stdout",
     "output_type": "stream",
     "text": [
      "53.400000000000134\n",
      "pickle restored!\n"
     ]
    },
    {
     "name": "stderr",
     "output_type": "stream",
     "text": [
      " 68%|██████▊   | 47/69 [00:31<00:14,  1.53it/s]"
     ]
    },
    {
     "name": "stdout",
     "output_type": "stream",
     "text": [
      "53.600000000000136\n",
      "pickle restored!\n"
     ]
    },
    {
     "name": "stderr",
     "output_type": "stream",
     "text": [
      " 70%|██████▉   | 48/69 [00:32<00:13,  1.53it/s]"
     ]
    },
    {
     "name": "stdout",
     "output_type": "stream",
     "text": [
      "53.80000000000014\n",
      "pickle restored!\n"
     ]
    },
    {
     "name": "stderr",
     "output_type": "stream",
     "text": [
      " 71%|███████   | 49/69 [00:33<00:13,  1.51it/s]"
     ]
    },
    {
     "name": "stdout",
     "output_type": "stream",
     "text": [
      "54.00000000000014\n",
      "pickle restored!\n"
     ]
    },
    {
     "name": "stderr",
     "output_type": "stream",
     "text": [
      " 72%|███████▏  | 50/69 [00:33<00:12,  1.47it/s]"
     ]
    },
    {
     "name": "stdout",
     "output_type": "stream",
     "text": [
      "54.200000000000145\n",
      "pickle restored!\n"
     ]
    },
    {
     "name": "stderr",
     "output_type": "stream",
     "text": [
      " 74%|███████▍  | 51/69 [00:34<00:12,  1.48it/s]"
     ]
    },
    {
     "name": "stdout",
     "output_type": "stream",
     "text": [
      "54.40000000000015\n",
      "pickle restored!\n"
     ]
    },
    {
     "name": "stderr",
     "output_type": "stream",
     "text": [
      " 75%|███████▌  | 52/69 [00:35<00:11,  1.47it/s]"
     ]
    },
    {
     "name": "stdout",
     "output_type": "stream",
     "text": [
      "54.60000000000015\n",
      "pickle restored!\n"
     ]
    },
    {
     "name": "stderr",
     "output_type": "stream",
     "text": [
      " 77%|███████▋  | 53/69 [00:35<00:11,  1.45it/s]"
     ]
    },
    {
     "name": "stdout",
     "output_type": "stream",
     "text": [
      "54.80000000000015\n",
      "pickle restored!\n"
     ]
    },
    {
     "name": "stderr",
     "output_type": "stream",
     "text": [
      " 78%|███████▊  | 54/69 [00:36<00:10,  1.40it/s]"
     ]
    },
    {
     "name": "stdout",
     "output_type": "stream",
     "text": [
      "55.000000000000156\n",
      "pickle restored!\n"
     ]
    },
    {
     "name": "stderr",
     "output_type": "stream",
     "text": [
      " 80%|███████▉  | 55/69 [00:37<00:09,  1.41it/s]"
     ]
    },
    {
     "name": "stdout",
     "output_type": "stream",
     "text": [
      "55.20000000000016\n",
      "pickle restored!\n"
     ]
    },
    {
     "name": "stderr",
     "output_type": "stream",
     "text": [
      " 81%|████████  | 56/69 [00:37<00:08,  1.45it/s]"
     ]
    },
    {
     "name": "stdout",
     "output_type": "stream",
     "text": [
      "55.40000000000016\n",
      "pickle restored!\n"
     ]
    },
    {
     "name": "stderr",
     "output_type": "stream",
     "text": [
      " 83%|████████▎ | 57/69 [00:38<00:08,  1.45it/s]"
     ]
    },
    {
     "name": "stdout",
     "output_type": "stream",
     "text": [
      "55.600000000000165\n",
      "pickle restored!\n"
     ]
    },
    {
     "name": "stderr",
     "output_type": "stream",
     "text": [
      " 84%|████████▍ | 58/69 [00:39<00:07,  1.46it/s]"
     ]
    },
    {
     "name": "stdout",
     "output_type": "stream",
     "text": [
      "55.80000000000017\n",
      "pickle restored!\n"
     ]
    },
    {
     "name": "stderr",
     "output_type": "stream",
     "text": [
      " 86%|████████▌ | 59/69 [00:40<00:07,  1.42it/s]"
     ]
    },
    {
     "name": "stdout",
     "output_type": "stream",
     "text": [
      "56.00000000000017\n",
      "pickle restored!\n"
     ]
    },
    {
     "name": "stderr",
     "output_type": "stream",
     "text": [
      " 87%|████████▋ | 60/69 [00:40<00:06,  1.43it/s]"
     ]
    },
    {
     "name": "stdout",
     "output_type": "stream",
     "text": [
      "56.20000000000017\n",
      "pickle restored!\n"
     ]
    },
    {
     "name": "stderr",
     "output_type": "stream",
     "text": [
      " 88%|████████▊ | 61/69 [00:41<00:05,  1.44it/s]"
     ]
    },
    {
     "name": "stdout",
     "output_type": "stream",
     "text": [
      "56.400000000000176\n",
      "pickle restored!\n"
     ]
    },
    {
     "name": "stderr",
     "output_type": "stream",
     "text": [
      " 90%|████████▉ | 62/69 [00:42<00:04,  1.45it/s]"
     ]
    },
    {
     "name": "stdout",
     "output_type": "stream",
     "text": [
      "56.60000000000018\n",
      "pickle restored!\n"
     ]
    },
    {
     "name": "stderr",
     "output_type": "stream",
     "text": [
      " 91%|█████████▏| 63/69 [00:42<00:04,  1.45it/s]"
     ]
    },
    {
     "name": "stdout",
     "output_type": "stream",
     "text": [
      "56.80000000000018\n",
      "pickle restored!\n"
     ]
    },
    {
     "name": "stderr",
     "output_type": "stream",
     "text": [
      " 93%|█████████▎| 64/69 [00:43<00:03,  1.43it/s]"
     ]
    },
    {
     "name": "stdout",
     "output_type": "stream",
     "text": [
      "57.000000000000185\n",
      "pickle restored!\n"
     ]
    },
    {
     "name": "stderr",
     "output_type": "stream",
     "text": [
      " 94%|█████████▍| 65/69 [00:44<00:02,  1.40it/s]"
     ]
    },
    {
     "name": "stdout",
     "output_type": "stream",
     "text": [
      "57.20000000000019\n",
      "pickle restored!\n"
     ]
    },
    {
     "name": "stderr",
     "output_type": "stream",
     "text": [
      " 96%|█████████▌| 66/69 [00:44<00:02,  1.42it/s]"
     ]
    },
    {
     "name": "stdout",
     "output_type": "stream",
     "text": [
      "57.40000000000019\n",
      "pickle restored!\n"
     ]
    },
    {
     "name": "stderr",
     "output_type": "stream",
     "text": [
      " 97%|█████████▋| 67/69 [00:45<00:01,  1.42it/s]"
     ]
    },
    {
     "name": "stdout",
     "output_type": "stream",
     "text": [
      "57.60000000000019\n",
      "pickle restored!\n"
     ]
    },
    {
     "name": "stderr",
     "output_type": "stream",
     "text": [
      " 99%|█████████▊| 68/69 [00:46<00:00,  1.42it/s]"
     ]
    },
    {
     "name": "stdout",
     "output_type": "stream",
     "text": [
      "57.800000000000196\n",
      "pickle restored!\n"
     ]
    },
    {
     "name": "stderr",
     "output_type": "stream",
     "text": [
      "100%|██████████| 69/69 [00:46<00:00,  1.47it/s]\n",
      "  0%|          | 0/31 [00:00<?, ?it/s]"
     ]
    },
    {
     "name": "stdout",
     "output_type": "stream",
     "text": [
      "44.5\n",
      "pickle restored!\n",
      "pickle restored!\n",
      "pickle restored!\n"
     ]
    },
    {
     "name": "stderr",
     "output_type": "stream",
     "text": [
      "  3%|▎         | 1/31 [00:02<01:04,  2.16s/it]"
     ]
    },
    {
     "name": "stdout",
     "output_type": "stream",
     "text": [
      "45.0\n",
      "pickle restored!\n",
      "pickle restored!\n",
      "pickle restored!\n"
     ]
    },
    {
     "name": "stderr",
     "output_type": "stream",
     "text": [
      "  6%|▋         | 2/31 [00:04<01:01,  2.13s/it]"
     ]
    },
    {
     "name": "stdout",
     "output_type": "stream",
     "text": [
      "45.5\n",
      "pickle restored!\n",
      "pickle restored!\n",
      "pickle restored!\n"
     ]
    },
    {
     "name": "stderr",
     "output_type": "stream",
     "text": [
      " 10%|▉         | 3/31 [00:06<00:58,  2.08s/it]"
     ]
    },
    {
     "name": "stdout",
     "output_type": "stream",
     "text": [
      "46.0\n",
      "pickle restored!\n",
      "pickle restored!\n",
      "pickle restored!\n"
     ]
    },
    {
     "name": "stderr",
     "output_type": "stream",
     "text": [
      " 13%|█▎        | 4/31 [00:08<00:55,  2.06s/it]"
     ]
    },
    {
     "name": "stdout",
     "output_type": "stream",
     "text": [
      "46.5\n",
      "pickle restored!\n",
      "pickle restored!\n",
      "pickle restored!\n"
     ]
    },
    {
     "name": "stderr",
     "output_type": "stream",
     "text": [
      " 16%|█▌        | 5/31 [00:10<00:54,  2.10s/it]"
     ]
    },
    {
     "name": "stdout",
     "output_type": "stream",
     "text": [
      "47.0\n",
      "pickle restored!\n",
      "pickle restored!\n",
      "pickle restored!\n"
     ]
    },
    {
     "name": "stderr",
     "output_type": "stream",
     "text": [
      " 19%|█▉        | 6/31 [00:12<00:52,  2.08s/it]"
     ]
    },
    {
     "name": "stdout",
     "output_type": "stream",
     "text": [
      "47.5\n",
      "pickle restored!\n",
      "pickle restored!\n",
      "pickle restored!\n"
     ]
    },
    {
     "name": "stderr",
     "output_type": "stream",
     "text": [
      " 23%|██▎       | 7/31 [00:14<00:49,  2.05s/it]"
     ]
    },
    {
     "name": "stdout",
     "output_type": "stream",
     "text": [
      "48.0\n",
      "pickle restored!\n",
      "pickle restored!\n",
      "pickle restored!\n"
     ]
    },
    {
     "name": "stderr",
     "output_type": "stream",
     "text": [
      " 26%|██▌       | 8/31 [00:16<00:46,  2.04s/it]"
     ]
    },
    {
     "name": "stdout",
     "output_type": "stream",
     "text": [
      "48.5\n",
      "pickle restored!\n",
      "pickle restored!\n",
      "pickle restored!\n"
     ]
    },
    {
     "name": "stderr",
     "output_type": "stream",
     "text": [
      " 29%|██▉       | 9/31 [00:18<00:44,  2.02s/it]"
     ]
    },
    {
     "name": "stdout",
     "output_type": "stream",
     "text": [
      "49.0\n",
      "pickle restored!\n",
      "pickle restored!\n",
      "pickle restored!\n"
     ]
    },
    {
     "name": "stderr",
     "output_type": "stream",
     "text": [
      " 32%|███▏      | 10/31 [00:20<00:42,  2.03s/it]"
     ]
    },
    {
     "name": "stdout",
     "output_type": "stream",
     "text": [
      "49.5\n",
      "pickle restored!\n",
      "pickle restored!\n",
      "pickle restored!\n"
     ]
    },
    {
     "name": "stderr",
     "output_type": "stream",
     "text": [
      " 35%|███▌      | 11/31 [00:22<00:40,  2.02s/it]"
     ]
    },
    {
     "name": "stdout",
     "output_type": "stream",
     "text": [
      "50.0\n",
      "pickle restored!\n",
      "pickle restored!\n",
      "pickle restored!\n"
     ]
    },
    {
     "name": "stderr",
     "output_type": "stream",
     "text": [
      " 39%|███▊      | 12/31 [00:24<00:38,  2.02s/it]"
     ]
    },
    {
     "name": "stdout",
     "output_type": "stream",
     "text": [
      "50.5\n",
      "pickle restored!\n",
      "pickle restored!\n",
      "pickle restored!\n"
     ]
    },
    {
     "name": "stderr",
     "output_type": "stream",
     "text": [
      " 42%|████▏     | 13/31 [00:26<00:36,  2.02s/it]"
     ]
    },
    {
     "name": "stdout",
     "output_type": "stream",
     "text": [
      "51.0\n",
      "pickle restored!\n",
      "pickle restored!\n",
      "pickle restored!\n"
     ]
    },
    {
     "name": "stderr",
     "output_type": "stream",
     "text": [
      " 45%|████▌     | 14/31 [00:28<00:34,  2.01s/it]"
     ]
    },
    {
     "name": "stdout",
     "output_type": "stream",
     "text": [
      "51.5\n",
      "pickle restored!\n",
      "pickle restored!\n",
      "pickle restored!\n"
     ]
    },
    {
     "name": "stderr",
     "output_type": "stream",
     "text": [
      " 48%|████▊     | 15/31 [00:30<00:32,  2.01s/it]"
     ]
    },
    {
     "name": "stdout",
     "output_type": "stream",
     "text": [
      "52.0\n",
      "pickle restored!\n",
      "pickle restored!\n",
      "pickle restored!\n"
     ]
    },
    {
     "name": "stderr",
     "output_type": "stream",
     "text": [
      " 52%|█████▏    | 16/31 [00:32<00:30,  2.02s/it]"
     ]
    },
    {
     "name": "stdout",
     "output_type": "stream",
     "text": [
      "52.5\n",
      "pickle restored!\n",
      "pickle restored!\n",
      "pickle restored!\n"
     ]
    },
    {
     "name": "stderr",
     "output_type": "stream",
     "text": [
      " 55%|█████▍    | 17/31 [00:34<00:27,  1.99s/it]"
     ]
    },
    {
     "name": "stdout",
     "output_type": "stream",
     "text": [
      "53.0\n",
      "pickle restored!\n",
      "pickle restored!\n",
      "pickle restored!\n"
     ]
    },
    {
     "name": "stderr",
     "output_type": "stream",
     "text": [
      " 58%|█████▊    | 18/31 [00:36<00:26,  2.01s/it]"
     ]
    },
    {
     "name": "stdout",
     "output_type": "stream",
     "text": [
      "53.5\n",
      "pickle restored!\n",
      "pickle restored!\n",
      "pickle restored!\n"
     ]
    },
    {
     "name": "stderr",
     "output_type": "stream",
     "text": [
      " 61%|██████▏   | 19/31 [00:38<00:23,  1.99s/it]"
     ]
    },
    {
     "name": "stdout",
     "output_type": "stream",
     "text": [
      "54.0\n",
      "pickle restored!\n",
      "pickle restored!\n",
      "pickle restored!\n"
     ]
    },
    {
     "name": "stderr",
     "output_type": "stream",
     "text": [
      " 65%|██████▍   | 20/31 [00:40<00:21,  1.99s/it]"
     ]
    },
    {
     "name": "stdout",
     "output_type": "stream",
     "text": [
      "54.5\n",
      "pickle restored!\n",
      "pickle restored!\n",
      "pickle restored!\n"
     ]
    },
    {
     "name": "stderr",
     "output_type": "stream",
     "text": [
      " 68%|██████▊   | 21/31 [00:42<00:19,  1.99s/it]"
     ]
    },
    {
     "name": "stdout",
     "output_type": "stream",
     "text": [
      "55.0\n",
      "pickle restored!\n",
      "pickle restored!\n",
      "pickle restored!\n"
     ]
    },
    {
     "name": "stderr",
     "output_type": "stream",
     "text": [
      " 71%|███████   | 22/31 [00:44<00:17,  1.98s/it]"
     ]
    },
    {
     "name": "stdout",
     "output_type": "stream",
     "text": [
      "55.5\n",
      "pickle restored!\n",
      "pickle restored!\n",
      "pickle restored!\n"
     ]
    },
    {
     "name": "stderr",
     "output_type": "stream",
     "text": [
      " 74%|███████▍  | 23/31 [00:46<00:15,  1.98s/it]"
     ]
    },
    {
     "name": "stdout",
     "output_type": "stream",
     "text": [
      "56.0\n",
      "pickle restored!\n",
      "pickle restored!\n",
      "pickle restored!\n"
     ]
    },
    {
     "name": "stderr",
     "output_type": "stream",
     "text": [
      " 77%|███████▋  | 24/31 [00:48<00:13,  1.99s/it]"
     ]
    },
    {
     "name": "stdout",
     "output_type": "stream",
     "text": [
      "56.5\n",
      "pickle restored!\n",
      "pickle restored!\n",
      "pickle restored!\n"
     ]
    },
    {
     "name": "stderr",
     "output_type": "stream",
     "text": [
      " 81%|████████  | 25/31 [00:50<00:11,  1.97s/it]"
     ]
    },
    {
     "name": "stdout",
     "output_type": "stream",
     "text": [
      "57.0\n",
      "pickle restored!\n",
      "pickle restored!\n",
      "pickle restored!\n"
     ]
    },
    {
     "name": "stderr",
     "output_type": "stream",
     "text": [
      " 84%|████████▍ | 26/31 [00:52<00:09,  1.98s/it]"
     ]
    },
    {
     "name": "stdout",
     "output_type": "stream",
     "text": [
      "57.5\n",
      "pickle restored!\n",
      "pickle restored!\n",
      "pickle restored!\n"
     ]
    },
    {
     "name": "stderr",
     "output_type": "stream",
     "text": [
      " 87%|████████▋ | 27/31 [00:54<00:07,  1.97s/it]"
     ]
    },
    {
     "name": "stdout",
     "output_type": "stream",
     "text": [
      "58.0\n",
      "pickle restored!\n",
      "pickle restored!\n",
      "pickle restored!\n"
     ]
    },
    {
     "name": "stderr",
     "output_type": "stream",
     "text": [
      " 90%|█████████ | 28/31 [00:56<00:05,  1.96s/it]"
     ]
    },
    {
     "name": "stdout",
     "output_type": "stream",
     "text": [
      "58.5\n",
      "pickle restored!\n",
      "pickle restored!\n",
      "pickle restored!\n"
     ]
    },
    {
     "name": "stderr",
     "output_type": "stream",
     "text": [
      " 94%|█████████▎| 29/31 [00:58<00:03,  1.95s/it]"
     ]
    },
    {
     "name": "stdout",
     "output_type": "stream",
     "text": [
      "59.0\n",
      "pickle restored!\n",
      "pickle restored!\n",
      "pickle restored!\n"
     ]
    },
    {
     "name": "stderr",
     "output_type": "stream",
     "text": [
      " 97%|█████████▋| 30/31 [01:00<00:01,  1.97s/it]"
     ]
    },
    {
     "name": "stdout",
     "output_type": "stream",
     "text": [
      "59.5\n",
      "pickle restored!\n",
      "pickle restored!\n",
      "pickle restored!\n"
     ]
    },
    {
     "name": "stderr",
     "output_type": "stream",
     "text": [
      "100%|██████████| 31/31 [01:02<00:00,  2.01s/it]\n",
      "  0%|          | 0/35 [00:00<?, ?it/s]"
     ]
    },
    {
     "name": "stdout",
     "output_type": "stream",
     "text": [
      "44.5\n",
      "pickle restored!\n",
      "pickle restored!\n",
      "pickle restored!\n"
     ]
    },
    {
     "name": "stderr",
     "output_type": "stream",
     "text": [
      "  3%|▎         | 1/35 [00:02<01:08,  2.02s/it]"
     ]
    },
    {
     "name": "stdout",
     "output_type": "stream",
     "text": [
      "45.0\n",
      "pickle restored!\n",
      "pickle restored!\n",
      "pickle restored!\n"
     ]
    },
    {
     "name": "stderr",
     "output_type": "stream",
     "text": [
      "  6%|▌         | 2/35 [00:03<01:05,  1.98s/it]"
     ]
    },
    {
     "name": "stdout",
     "output_type": "stream",
     "text": [
      "45.5\n",
      "pickle restored!\n",
      "pickle restored!\n",
      "pickle restored!\n"
     ]
    },
    {
     "name": "stderr",
     "output_type": "stream",
     "text": [
      "  9%|▊         | 3/35 [00:05<01:04,  2.00s/it]"
     ]
    },
    {
     "name": "stdout",
     "output_type": "stream",
     "text": [
      "46.0\n",
      "pickle restored!\n",
      "pickle restored!\n",
      "pickle restored!\n"
     ]
    },
    {
     "name": "stderr",
     "output_type": "stream",
     "text": [
      " 11%|█▏        | 4/35 [00:07<01:01,  2.00s/it]"
     ]
    },
    {
     "name": "stdout",
     "output_type": "stream",
     "text": [
      "46.5\n",
      "pickle restored!\n",
      "pickle restored!\n",
      "pickle restored!\n"
     ]
    },
    {
     "name": "stderr",
     "output_type": "stream",
     "text": [
      " 14%|█▍        | 5/35 [00:09<00:59,  1.99s/it]"
     ]
    },
    {
     "name": "stdout",
     "output_type": "stream",
     "text": [
      "47.0\n",
      "pickle restored!\n",
      "pickle restored!\n",
      "pickle restored!\n"
     ]
    },
    {
     "name": "stderr",
     "output_type": "stream",
     "text": [
      " 17%|█▋        | 6/35 [00:11<00:56,  1.96s/it]"
     ]
    },
    {
     "name": "stdout",
     "output_type": "stream",
     "text": [
      "47.5\n",
      "pickle restored!\n",
      "pickle restored!\n",
      "pickle restored!\n"
     ]
    },
    {
     "name": "stderr",
     "output_type": "stream",
     "text": [
      " 20%|██        | 7/35 [00:13<00:55,  1.97s/it]"
     ]
    },
    {
     "name": "stdout",
     "output_type": "stream",
     "text": [
      "48.0\n",
      "pickle restored!\n",
      "pickle restored!\n",
      "pickle restored!\n"
     ]
    },
    {
     "name": "stderr",
     "output_type": "stream",
     "text": [
      " 23%|██▎       | 8/35 [00:15<00:52,  1.96s/it]"
     ]
    },
    {
     "name": "stdout",
     "output_type": "stream",
     "text": [
      "48.5\n",
      "pickle restored!\n",
      "pickle restored!\n",
      "pickle restored!\n"
     ]
    },
    {
     "name": "stderr",
     "output_type": "stream",
     "text": [
      " 26%|██▌       | 9/35 [00:17<00:50,  1.96s/it]"
     ]
    },
    {
     "name": "stdout",
     "output_type": "stream",
     "text": [
      "49.0\n",
      "pickle restored!\n",
      "pickle restored!\n",
      "pickle restored!\n"
     ]
    },
    {
     "name": "stderr",
     "output_type": "stream",
     "text": [
      " 29%|██▊       | 10/35 [00:19<00:48,  1.96s/it]"
     ]
    },
    {
     "name": "stdout",
     "output_type": "stream",
     "text": [
      "49.5\n",
      "pickle restored!\n",
      "pickle restored!\n",
      "pickle restored!\n"
     ]
    },
    {
     "name": "stderr",
     "output_type": "stream",
     "text": [
      " 31%|███▏      | 11/35 [00:21<00:46,  1.95s/it]"
     ]
    },
    {
     "name": "stdout",
     "output_type": "stream",
     "text": [
      "50.0\n",
      "pickle restored!\n",
      "pickle restored!\n",
      "pickle restored!\n"
     ]
    },
    {
     "name": "stderr",
     "output_type": "stream",
     "text": [
      " 34%|███▍      | 12/35 [00:23<00:45,  1.97s/it]"
     ]
    },
    {
     "name": "stdout",
     "output_type": "stream",
     "text": [
      "50.5\n",
      "pickle restored!\n",
      "pickle restored!\n",
      "pickle restored!\n"
     ]
    },
    {
     "name": "stderr",
     "output_type": "stream",
     "text": [
      " 37%|███▋      | 13/35 [00:25<00:43,  1.97s/it]"
     ]
    },
    {
     "name": "stdout",
     "output_type": "stream",
     "text": [
      "51.0\n",
      "pickle restored!\n",
      "pickle restored!\n",
      "pickle restored!\n"
     ]
    },
    {
     "name": "stderr",
     "output_type": "stream",
     "text": [
      " 40%|████      | 14/35 [00:27<00:41,  1.98s/it]"
     ]
    },
    {
     "name": "stdout",
     "output_type": "stream",
     "text": [
      "51.5\n",
      "pickle restored!\n",
      "pickle restored!\n",
      "pickle restored!\n"
     ]
    },
    {
     "name": "stderr",
     "output_type": "stream",
     "text": [
      " 43%|████▎     | 15/35 [00:29<00:39,  1.98s/it]"
     ]
    },
    {
     "name": "stdout",
     "output_type": "stream",
     "text": [
      "52.0\n",
      "pickle restored!\n",
      "pickle restored!\n",
      "pickle restored!\n"
     ]
    },
    {
     "name": "stderr",
     "output_type": "stream",
     "text": [
      " 46%|████▌     | 16/35 [00:31<00:37,  1.97s/it]"
     ]
    },
    {
     "name": "stdout",
     "output_type": "stream",
     "text": [
      "52.5\n",
      "pickle restored!\n",
      "pickle restored!\n",
      "pickle restored!\n"
     ]
    },
    {
     "name": "stderr",
     "output_type": "stream",
     "text": [
      " 49%|████▊     | 17/35 [00:33<00:35,  1.95s/it]"
     ]
    },
    {
     "name": "stdout",
     "output_type": "stream",
     "text": [
      "53.0\n",
      "pickle restored!\n",
      "pickle restored!\n",
      "pickle restored!\n"
     ]
    },
    {
     "name": "stderr",
     "output_type": "stream",
     "text": [
      " 51%|█████▏    | 18/35 [00:35<00:33,  1.96s/it]"
     ]
    },
    {
     "name": "stdout",
     "output_type": "stream",
     "text": [
      "53.5\n",
      "pickle restored!\n",
      "pickle restored!\n",
      "pickle restored!\n"
     ]
    },
    {
     "name": "stderr",
     "output_type": "stream",
     "text": [
      " 54%|█████▍    | 19/35 [00:37<00:31,  1.97s/it]"
     ]
    },
    {
     "name": "stdout",
     "output_type": "stream",
     "text": [
      "54.0\n",
      "pickle restored!\n",
      "pickle restored!\n",
      "pickle restored!\n"
     ]
    },
    {
     "name": "stderr",
     "output_type": "stream",
     "text": [
      " 57%|█████▋    | 20/35 [00:39<00:29,  1.96s/it]"
     ]
    },
    {
     "name": "stdout",
     "output_type": "stream",
     "text": [
      "54.5\n",
      "pickle restored!\n",
      "pickle restored!\n",
      "pickle restored!\n"
     ]
    },
    {
     "name": "stderr",
     "output_type": "stream",
     "text": [
      " 60%|██████    | 21/35 [00:41<00:27,  1.96s/it]"
     ]
    },
    {
     "name": "stdout",
     "output_type": "stream",
     "text": [
      "55.0\n",
      "pickle restored!\n",
      "pickle restored!\n",
      "pickle restored!\n"
     ]
    },
    {
     "name": "stderr",
     "output_type": "stream",
     "text": [
      " 63%|██████▎   | 22/35 [00:43<00:25,  1.99s/it]"
     ]
    },
    {
     "name": "stdout",
     "output_type": "stream",
     "text": [
      "55.5\n",
      "pickle restored!\n",
      "pickle restored!\n",
      "pickle restored!\n"
     ]
    },
    {
     "name": "stderr",
     "output_type": "stream",
     "text": [
      " 66%|██████▌   | 23/35 [00:45<00:23,  2.00s/it]"
     ]
    },
    {
     "name": "stdout",
     "output_type": "stream",
     "text": [
      "56.0\n",
      "pickle restored!\n",
      "pickle restored!\n",
      "pickle restored!\n"
     ]
    },
    {
     "name": "stderr",
     "output_type": "stream",
     "text": [
      " 69%|██████▊   | 24/35 [00:47<00:21,  1.99s/it]"
     ]
    },
    {
     "name": "stdout",
     "output_type": "stream",
     "text": [
      "56.5\n",
      "pickle restored!\n",
      "pickle restored!\n",
      "pickle restored!\n"
     ]
    },
    {
     "name": "stderr",
     "output_type": "stream",
     "text": [
      " 71%|███████▏  | 25/35 [00:49<00:19,  2.00s/it]"
     ]
    },
    {
     "name": "stdout",
     "output_type": "stream",
     "text": [
      "57.0\n",
      "pickle restored!\n",
      "pickle restored!\n",
      "pickle restored!\n"
     ]
    },
    {
     "name": "stderr",
     "output_type": "stream",
     "text": [
      " 74%|███████▍  | 26/35 [00:51<00:17,  2.00s/it]"
     ]
    },
    {
     "name": "stdout",
     "output_type": "stream",
     "text": [
      "57.5\n",
      "pickle restored!\n",
      "pickle restored!\n",
      "pickle restored!\n"
     ]
    },
    {
     "name": "stderr",
     "output_type": "stream",
     "text": [
      " 77%|███████▋  | 27/35 [00:53<00:15,  1.98s/it]"
     ]
    },
    {
     "name": "stdout",
     "output_type": "stream",
     "text": [
      "58.0\n",
      "pickle restored!\n",
      "pickle restored!\n",
      "pickle restored!\n"
     ]
    },
    {
     "name": "stderr",
     "output_type": "stream",
     "text": [
      " 80%|████████  | 28/35 [00:55<00:13,  1.98s/it]"
     ]
    },
    {
     "name": "stdout",
     "output_type": "stream",
     "text": [
      "58.5\n",
      "pickle restored!\n",
      "pickle restored!\n",
      "pickle restored!\n"
     ]
    },
    {
     "name": "stderr",
     "output_type": "stream",
     "text": [
      " 83%|████████▎ | 29/35 [00:57<00:11,  1.97s/it]"
     ]
    },
    {
     "name": "stdout",
     "output_type": "stream",
     "text": [
      "59.0\n",
      "pickle restored!\n",
      "pickle restored!\n",
      "pickle restored!\n"
     ]
    },
    {
     "name": "stderr",
     "output_type": "stream",
     "text": [
      " 86%|████████▌ | 30/35 [00:59<00:09,  1.97s/it]"
     ]
    },
    {
     "name": "stdout",
     "output_type": "stream",
     "text": [
      "59.5\n",
      "pickle restored!\n",
      "pickle restored!\n",
      "pickle restored!\n"
     ]
    },
    {
     "name": "stderr",
     "output_type": "stream",
     "text": [
      " 89%|████████▊ | 31/35 [01:01<00:07,  1.98s/it]"
     ]
    },
    {
     "name": "stdout",
     "output_type": "stream",
     "text": [
      "60.0\n",
      "pickle restored!\n",
      "pickle restored!\n",
      "pickle restored!\n"
     ]
    },
    {
     "name": "stderr",
     "output_type": "stream",
     "text": [
      " 91%|█████████▏| 32/35 [01:03<00:05,  1.99s/it]"
     ]
    },
    {
     "name": "stdout",
     "output_type": "stream",
     "text": [
      "60.5\n",
      "pickle restored!\n",
      "pickle restored!\n",
      "pickle restored!\n"
     ]
    },
    {
     "name": "stderr",
     "output_type": "stream",
     "text": [
      " 94%|█████████▍| 33/35 [01:05<00:03,  1.97s/it]"
     ]
    },
    {
     "name": "stdout",
     "output_type": "stream",
     "text": [
      "61.0\n",
      "pickle restored!\n",
      "pickle restored!\n",
      "pickle restored!\n"
     ]
    },
    {
     "name": "stderr",
     "output_type": "stream",
     "text": [
      " 97%|█████████▋| 34/35 [01:07<00:01,  1.98s/it]"
     ]
    },
    {
     "name": "stdout",
     "output_type": "stream",
     "text": [
      "61.5\n",
      "pickle restored!\n",
      "pickle restored!\n",
      "pickle restored!\n"
     ]
    },
    {
     "name": "stderr",
     "output_type": "stream",
     "text": [
      "100%|██████████| 35/35 [01:09<00:00,  1.98s/it]\n",
      "  0%|          | 0/27 [00:00<?, ?it/s]"
     ]
    },
    {
     "name": "stdout",
     "output_type": "stream",
     "text": [
      "44.5\n",
      "pickle restored!\n",
      "pickle restored!\n",
      "pickle restored!\n"
     ]
    },
    {
     "name": "stderr",
     "output_type": "stream",
     "text": [
      "  4%|▎         | 1/27 [00:02<00:52,  2.03s/it]"
     ]
    },
    {
     "name": "stdout",
     "output_type": "stream",
     "text": [
      "45.0\n",
      "pickle restored!\n",
      "pickle restored!\n",
      "pickle restored!\n"
     ]
    },
    {
     "name": "stderr",
     "output_type": "stream",
     "text": [
      "  7%|▋         | 2/27 [00:03<00:49,  1.99s/it]"
     ]
    },
    {
     "name": "stdout",
     "output_type": "stream",
     "text": [
      "45.5\n",
      "pickle restored!\n",
      "pickle restored!\n",
      "pickle restored!\n"
     ]
    },
    {
     "name": "stderr",
     "output_type": "stream",
     "text": [
      " 11%|█         | 3/27 [00:06<00:48,  2.00s/it]"
     ]
    },
    {
     "name": "stdout",
     "output_type": "stream",
     "text": [
      "46.0\n",
      "pickle restored!\n",
      "pickle restored!\n",
      "pickle restored!\n"
     ]
    },
    {
     "name": "stderr",
     "output_type": "stream",
     "text": [
      " 15%|█▍        | 4/27 [00:08<00:46,  2.02s/it]"
     ]
    },
    {
     "name": "stdout",
     "output_type": "stream",
     "text": [
      "46.5\n",
      "pickle restored!\n",
      "pickle restored!\n",
      "pickle restored!\n"
     ]
    },
    {
     "name": "stderr",
     "output_type": "stream",
     "text": [
      " 19%|█▊        | 5/27 [00:10<00:44,  2.04s/it]"
     ]
    },
    {
     "name": "stdout",
     "output_type": "stream",
     "text": [
      "47.0\n",
      "pickle restored!\n",
      "pickle restored!\n",
      "pickle restored!\n"
     ]
    },
    {
     "name": "stderr",
     "output_type": "stream",
     "text": [
      " 22%|██▏       | 6/27 [00:12<00:42,  2.01s/it]"
     ]
    },
    {
     "name": "stdout",
     "output_type": "stream",
     "text": [
      "47.5\n",
      "pickle restored!\n",
      "pickle restored!\n",
      "pickle restored!\n"
     ]
    },
    {
     "name": "stderr",
     "output_type": "stream",
     "text": [
      " 26%|██▌       | 7/27 [00:14<00:40,  2.01s/it]"
     ]
    },
    {
     "name": "stdout",
     "output_type": "stream",
     "text": [
      "48.0\n",
      "pickle restored!\n",
      "pickle restored!\n",
      "pickle restored!\n"
     ]
    },
    {
     "name": "stderr",
     "output_type": "stream",
     "text": [
      " 30%|██▉       | 8/27 [00:16<00:37,  1.98s/it]"
     ]
    },
    {
     "name": "stdout",
     "output_type": "stream",
     "text": [
      "48.5\n",
      "pickle restored!\n",
      "pickle restored!\n",
      "pickle restored!\n"
     ]
    },
    {
     "name": "stderr",
     "output_type": "stream",
     "text": [
      " 33%|███▎      | 9/27 [00:18<00:36,  2.01s/it]"
     ]
    },
    {
     "name": "stdout",
     "output_type": "stream",
     "text": [
      "49.0\n",
      "pickle restored!\n",
      "pickle restored!\n",
      "pickle restored!\n"
     ]
    },
    {
     "name": "stderr",
     "output_type": "stream",
     "text": [
      " 37%|███▋      | 10/27 [00:20<00:34,  2.01s/it]"
     ]
    },
    {
     "name": "stdout",
     "output_type": "stream",
     "text": [
      "49.5\n",
      "pickle restored!\n",
      "pickle restored!\n",
      "pickle restored!\n"
     ]
    },
    {
     "name": "stderr",
     "output_type": "stream",
     "text": [
      " 41%|████      | 11/27 [00:22<00:32,  2.01s/it]"
     ]
    },
    {
     "name": "stdout",
     "output_type": "stream",
     "text": [
      "50.0\n",
      "pickle restored!\n",
      "pickle restored!\n",
      "pickle restored!\n"
     ]
    },
    {
     "name": "stderr",
     "output_type": "stream",
     "text": [
      " 44%|████▍     | 12/27 [00:24<00:30,  2.01s/it]"
     ]
    },
    {
     "name": "stdout",
     "output_type": "stream",
     "text": [
      "50.5\n",
      "pickle restored!\n",
      "pickle restored!\n",
      "pickle restored!\n"
     ]
    },
    {
     "name": "stderr",
     "output_type": "stream",
     "text": [
      " 48%|████▊     | 13/27 [00:26<00:28,  2.03s/it]"
     ]
    },
    {
     "name": "stdout",
     "output_type": "stream",
     "text": [
      "51.0\n",
      "pickle restored!\n",
      "pickle restored!\n",
      "pickle restored!\n"
     ]
    },
    {
     "name": "stderr",
     "output_type": "stream",
     "text": [
      " 52%|█████▏    | 14/27 [00:28<00:26,  2.01s/it]"
     ]
    },
    {
     "name": "stdout",
     "output_type": "stream",
     "text": [
      "51.5\n",
      "pickle restored!\n",
      "pickle restored!\n",
      "pickle restored!\n"
     ]
    },
    {
     "name": "stderr",
     "output_type": "stream",
     "text": [
      " 56%|█████▌    | 15/27 [00:30<00:24,  2.02s/it]"
     ]
    },
    {
     "name": "stdout",
     "output_type": "stream",
     "text": [
      "52.0\n",
      "pickle restored!\n",
      "pickle restored!\n",
      "pickle restored!\n"
     ]
    },
    {
     "name": "stderr",
     "output_type": "stream",
     "text": [
      " 59%|█████▉    | 16/27 [00:32<00:22,  2.00s/it]"
     ]
    },
    {
     "name": "stdout",
     "output_type": "stream",
     "text": [
      "52.5\n",
      "pickle restored!\n",
      "pickle restored!\n",
      "pickle restored!\n"
     ]
    },
    {
     "name": "stderr",
     "output_type": "stream",
     "text": [
      " 63%|██████▎   | 17/27 [00:34<00:20,  2.04s/it]"
     ]
    },
    {
     "name": "stdout",
     "output_type": "stream",
     "text": [
      "53.0\n",
      "pickle restored!\n",
      "pickle restored!\n",
      "pickle restored!\n"
     ]
    },
    {
     "name": "stderr",
     "output_type": "stream",
     "text": [
      " 67%|██████▋   | 18/27 [00:36<00:18,  2.04s/it]"
     ]
    },
    {
     "name": "stdout",
     "output_type": "stream",
     "text": [
      "53.5\n",
      "pickle restored!\n",
      "pickle restored!\n",
      "pickle restored!\n"
     ]
    },
    {
     "name": "stderr",
     "output_type": "stream",
     "text": [
      " 70%|███████   | 19/27 [00:38<00:16,  2.07s/it]"
     ]
    },
    {
     "name": "stdout",
     "output_type": "stream",
     "text": [
      "54.0\n",
      "pickle restored!\n",
      "pickle restored!\n",
      "pickle restored!\n"
     ]
    },
    {
     "name": "stderr",
     "output_type": "stream",
     "text": [
      " 74%|███████▍  | 20/27 [00:40<00:14,  2.06s/it]"
     ]
    },
    {
     "name": "stdout",
     "output_type": "stream",
     "text": [
      "54.5\n",
      "pickle restored!\n",
      "pickle restored!\n",
      "pickle restored!\n"
     ]
    },
    {
     "name": "stderr",
     "output_type": "stream",
     "text": [
      " 78%|███████▊  | 21/27 [00:42<00:12,  2.02s/it]"
     ]
    },
    {
     "name": "stdout",
     "output_type": "stream",
     "text": [
      "55.0\n",
      "pickle restored!\n",
      "pickle restored!\n",
      "pickle restored!\n"
     ]
    },
    {
     "name": "stderr",
     "output_type": "stream",
     "text": [
      " 81%|████████▏ | 22/27 [00:44<00:09,  1.99s/it]"
     ]
    },
    {
     "name": "stdout",
     "output_type": "stream",
     "text": [
      "55.5\n",
      "pickle restored!\n",
      "pickle restored!\n",
      "pickle restored!\n"
     ]
    },
    {
     "name": "stderr",
     "output_type": "stream",
     "text": [
      " 85%|████████▌ | 23/27 [00:46<00:08,  2.01s/it]"
     ]
    },
    {
     "name": "stdout",
     "output_type": "stream",
     "text": [
      "56.0\n",
      "pickle restored!\n",
      "pickle restored!\n",
      "pickle restored!\n"
     ]
    },
    {
     "name": "stderr",
     "output_type": "stream",
     "text": [
      " 89%|████████▉ | 24/27 [00:48<00:06,  2.04s/it]"
     ]
    },
    {
     "name": "stdout",
     "output_type": "stream",
     "text": [
      "56.5\n",
      "pickle restored!\n",
      "pickle restored!\n",
      "pickle restored!\n"
     ]
    },
    {
     "name": "stderr",
     "output_type": "stream",
     "text": [
      " 93%|█████████▎| 25/27 [00:50<00:04,  2.05s/it]"
     ]
    },
    {
     "name": "stdout",
     "output_type": "stream",
     "text": [
      "57.0\n",
      "pickle restored!\n",
      "pickle restored!\n",
      "pickle restored!\n"
     ]
    },
    {
     "name": "stderr",
     "output_type": "stream",
     "text": [
      " 96%|█████████▋| 26/27 [00:52<00:02,  2.01s/it]"
     ]
    },
    {
     "name": "stdout",
     "output_type": "stream",
     "text": [
      "57.5\n",
      "pickle restored!\n",
      "pickle restored!\n",
      "pickle restored!\n"
     ]
    },
    {
     "name": "stderr",
     "output_type": "stream",
     "text": [
      "100%|██████████| 27/27 [00:54<00:00,  2.02s/it]\n"
     ]
    },
    {
     "data": {
      "text/plain": [
       "' ak = 0.3 '"
      ]
     },
     "execution_count": 15,
     "metadata": {},
     "output_type": "execute_result"
    }
   ],
   "source": [
    "case = case_rerun1\n",
    "case.tsimu = np.arange(66.5,89.6,0.1)\n",
    "extract_phase(case, case.tsimu)\n",
    "case = case_rerun2\n",
    "case.tsimu = np.arange(66.5,85.6,0.1)\n",
    "extract_phase(case, case.tsimu)\n",
    "case = case_rerun3\n",
    "case.tsimu = np.arange(66.5,83,0.1)\n",
    "extract_phase(case, case.tsimu)\n",
    "\n",
    "case = case_rerun4\n",
    "case.tsimu = np.arange(44.1,60,0.1)\n",
    "extract_phase(case, case.tsimu)\n",
    "case = case_rerun5\n",
    "case.tsimu = np.arange(44.1,62.1,0.1)\n",
    "extract_phase(case, case.tsimu)\n",
    "case = case_rerun6\n",
    "case.tsimu = np.arange(44.1,58.1,0.1)\n",
    "extract_phase(case, case.tsimu)\n",
    "\n",
    "# case = case_rerun7\n",
    "# case.tsimu = np.arange(40.6,77.5,0.1)\n",
    "# extract_phase(case, case.tsimu)\n",
    "# case = case_rerun8\n",
    "# case.tsimu = np.arange(40.6,57.1,0.1)\n",
    "# extract_phase(case, case.tsimu)\n",
    "# case = case_rerun9\n",
    "# case.tsimu = np.arange(40.6,53.9,0.1)\n",
    "# extract_phase(case, case.tsimu)\n",
    "\n",
    "\"\"\" ak=0.1 \"\"\"\n",
    "\n",
    "case = case_rerun1\n",
    "case.p = {\"t\":[], \"p_2D\":[], 'phat':[], 'dphase':[]}\n",
    "case.p['t'] = np.arange(66.6,89.6,0.2) - case.tstart\n",
    "read_p(case)\n",
    "case = case_rerun2\n",
    "case.p = {\"t\":[], \"p_2D\":[], 'phat':[], 'dphase':[]}\n",
    "case.p['t'] = np.arange(66.6,85.6,0.2) - case.tstart\n",
    "read_p(case)\n",
    "case = case_rerun3\n",
    "case.p = {\"t\":[], \"p_2D\":[], 'phat':[], 'dphase':[]}\n",
    "case.p['t'] = np.arange(66.6,82.8,0.2) - case.tstart\n",
    "read_p(case)\n",
    "\n",
    "case = case_rerun1\n",
    "case.field_t = np.arange(66.5,74,0.5) - case.tstart\n",
    "read_fields(case)\n",
    "case = case_rerun2\n",
    "case.field_t = np.arange(66.5,72.5,0.5) - case.tstart\n",
    "read_fields(case)\n",
    "case = case_rerun3\n",
    "case.field_t = np.arange(66.5,71,0.5) - case.tstart\n",
    "read_fields(case)\n",
    "\n",
    "\"\"\" ak = 0.15 \"\"\"\n",
    "\n",
    "case = case_rerun4\n",
    "case.p = {\"t\":[], \"p_2D\":[], 'phat':[], 'dphase':[]}\n",
    "case.p['t'] = np.arange(44.2,60,0.2) - case.tstart\n",
    "read_p(case)\n",
    "case = case_rerun5\n",
    "case.p = {\"t\":[], \"p_2D\":[], 'phat':[], 'dphase':[]}\n",
    "case.p['t'] = np.arange(44.2,62,0.2) - case.tstart\n",
    "read_p(case)\n",
    "case = case_rerun6\n",
    "case.p = {\"t\":[], \"p_2D\":[], 'phat':[], 'dphase':[]}\n",
    "case.p['t'] = np.arange(44.2,58,0.2) - case.tstart\n",
    "read_p(case)\n",
    "\n",
    "case = case_rerun4\n",
    "case.field_t = np.arange(44.5,60,0.5) - case.tstart\n",
    "read_fields(case)\n",
    "case = case_rerun5\n",
    "case.field_t = np.arange(44.5,62,0.5) - case.tstart\n",
    "read_fields(case)\n",
    "case = case_rerun6\n",
    "case.field_t = np.arange(44.5,58,0.5) - case.tstart\n",
    "read_fields(case)\n",
    "\n",
    "\"\"\" ak = 0.3 \"\"\"\n",
    "\n",
    "# case = case_rerun7\n",
    "# case.p = {\"t\":[], \"p_2D\":[], 'phat':[], 'dphase':[]}\n",
    "# # case.p['t'] = np.concatenate((np.arange(44,54,1), np.arange(55,66,0.2))) - case.tstart\n",
    "# case.p['t'] = np.arange(40.6,77.4,0.2) - case.tstart\n",
    "# read_p(case)\n",
    "# case = case_rerun8\n",
    "# case.p = {\"t\":[], \"p_2D\":[], 'phat':[], 'dphase':[]}\n",
    "# case.p['t'] = np.arange(40.6,57,0.2) - case.tstart\n",
    "# read_p(case)\n",
    "# case = case_rerun9\n",
    "# case.p = {\"t\":[], \"p_2D\":[], 'phat':[], 'dphase':[]}\n",
    "# # case.p['t'] = np.concatenate((np.arange(44,54,1), np.arange(55,63,0.2))) - case.tstart\n",
    "# case.p['t'] = np.arange(40.6,53.8,0.2) - case.tstart\n",
    "# read_p(case)\n",
    "\n",
    "# case = case_rerun7\n",
    "# case.field_t = np.arange(41,77.5,0.5) - case.tstart\n",
    "# read_fields(case)\n",
    "# case = case_rerun8\n",
    "# case.field_t = np.arange(41,57,0.5) - case.tstart\n",
    "# read_fields(case)\n",
    "# case = case_rerun9\n",
    "# case.field_t = np.arange(41,53.5,0.5) - case.tstart\n",
    "# read_fields(case)"
   ]
  },
  {
   "cell_type": "code",
   "execution_count": null,
   "metadata": {},
   "outputs": [],
   "source": [
    "case_rerun_aspect = Case(ustar=0.25, Retau=720, Bo=200, g=1, ak=0.2, LEVEL=10, emax=0.3, alterMU=16, NOMATCH=True, h=3.64,\n",
    "                         PRINTWAVE=True, OUTLEVEL=9, working_dir='/projects/DEIKE/jiarongw/turbulence/rerun/', \n",
    "                         prefix='curved_fixREtau_boundary_', postfix='_aspectratio/')\n",
    "case_rerun_aspect.tstart = 13\n",
    "\n",
    "case = case_rerun_aspect\n",
    "case.tsimu = np.arange(13.1,16.2,0.1)\n",
    "tstart = 13\n",
    "extract_phase(case, case.tsimu)\n",
    "\n",
    "case = case_rerun_aspect\n",
    "case.p = {\"t\":[], \"p_2D\":[], 'phat':[], 'dphase':[]}\n",
    "case.p['t'] = np.arange(13.2,16.2,0.2) - case.tstart\n",
    "read_p(case)\n",
    "\n",
    "case = case_rerun_aspect\n",
    "case.field_t = np.arange(13.5,16.5,0.5) - case.tstart\n",
    "read_fields(case)"
   ]
  },
  {
   "cell_type": "markdown",
   "metadata": {},
   "source": [
    "### After reading in, don't forget to pickle the new cases"
   ]
  },
  {
   "cell_type": "code",
   "execution_count": null,
   "metadata": {},
   "outputs": [],
   "source": [
    "# version = '_tiger'\n",
    "# for case in (case1,case2,case3,case4,case5,case6,case7,case8,case9,case10,case11,case12,case13,case14,case15,case16):\n",
    "#     picklename = case.path + 'case_main' + version + '.pkl'\n",
    "#     save_object(case, picklename)\n",
    "    \n",
    "# version = '_tiger'\n",
    "# for case in (case17,case18,case19):\n",
    "#     picklename = case.path + 'case_main' + version + '.pkl'\n",
    "#     save_object(case, picklename)"
   ]
  },
  {
   "cell_type": "code",
   "execution_count": 16,
   "metadata": {},
   "outputs": [],
   "source": [
    "version = '_tiger'\n",
    "\n",
    "for case in (case_rerun1,case_rerun2,case_rerun3):\n",
    "    picklename = case.path + 'case_main' + version + '.pkl'\n",
    "    save_object(case, picklename)\n",
    "\n",
    "for case in (case_rerun4,case_rerun5,case_rerun6):\n",
    "    picklename = case.path + 'case_main' + version + '.pkl'\n",
    "    save_object(case, picklename)\n",
    "    \n",
    "for case in (case_rerun7,case_rerun8,case_rerun9):\n",
    "    picklename = case.path + 'case_main' + version + '.pkl'\n",
    "    save_object(case, picklename)"
   ]
  },
  {
   "cell_type": "code",
   "execution_count": null,
   "metadata": {},
   "outputs": [],
   "source": []
  }
 ],
 "metadata": {
  "kernelspec": {
   "display_name": "gp",
   "language": "python",
   "name": "gp"
  },
  "language_info": {
   "codemirror_mode": {
    "name": "ipython",
    "version": 3
   },
   "file_extension": ".py",
   "mimetype": "text/x-python",
   "name": "python",
   "nbconvert_exporter": "python",
   "pygments_lexer": "ipython3",
   "version": "3.10.4"
  }
 },
 "nbformat": 4,
 "nbformat_minor": 4
}
