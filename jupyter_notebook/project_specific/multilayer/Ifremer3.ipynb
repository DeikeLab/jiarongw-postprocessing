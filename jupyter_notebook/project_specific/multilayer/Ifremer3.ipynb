{
 "cells": [
  {
   "cell_type": "markdown",
   "metadata": {},
   "source": [
    "# Spectrum and dispersion relation of the broadband capillary wave field"
   ]
  },
  {
   "cell_type": "code",
   "execution_count": null,
   "metadata": {},
   "outputs": [],
   "source": []
  },
  {
   "cell_type": "markdown",
   "metadata": {},
   "source": [
    "### The original 200m box"
   ]
  },
  {
   "cell_type": "code",
   "execution_count": null,
   "metadata": {},
   "outputs": [],
   "source": [
    "path='/projects/DEIKE/jiarongw/multilayer/revision/field_new_200m_P0.02_RE40000_10_15_rand4_Htheta0.503/'\n",
    "\n",
    "fig = plt.figure(figsize = [1.6,1.6])\n",
    "N = 1024; L = 200; kp = 2*np.pi/(L/5); omegap = (9.8*kp)**0.5\n",
    "print('kp=%g, omegap=%g' %(kp,omegap))\n",
    "\n",
    "for i,t in enumerate((0, 50, 100, 150, 200)):\n",
    "    print(t)\n",
    "    filename = path + 'surface/eta_matrix_%g' %t\n",
    "    eta = np.fromfile(filename, dtype=np.float32)\n",
    "    eta = eta.reshape(N+1,N+1); eta = eta[1:,1:]\n",
    "    wavenumber = 2*np.pi*np.fft.fftfreq(n=N,d=L/N)\n",
    "    k = wavenumber[0:int(N/2)]  \n",
    "    k, theta, F = spectrum_integration_log(eta, L, N, CHECK=False, method='nearest')\n",
    "    plt.plot(k*L, F*kp**3, color=plt.cm.get_cmap('summer')(i/5), label = r'$\\omega_p t=%.0f$' %(omegap*t), lw=1)\n",
    "\n",
    "    \n",
    "ax = fig.gca()\n",
    "ax.axvline(2*np.pi/(L/5)*L,ls='--',color='C7',lw=0.5)\n",
    "ax.plot(np.arange(50,220,0.05), np.arange(50,220,0.05)**(-2.5)*100, lw=0.5, c='gray')\n",
    "ax.text(80, 0.0028, '$k^{-2.5}$', c='gray')\n",
    "ax.text(250, 0.0001, '$k^{-3}$', c='gray')\n",
    "ax.plot(np.arange(100,450,0.05), np.arange(100,450,0.05)**(-3.)*1200, lw=0.5, c='gray')\n",
    "plt.xlabel('$kL_0$', labelpad=0)\n",
    "plt.ylabel('$\\phi(k)k_p^3$', labelpad=0)\n",
    "plt.legend(loc='lower left', fancybox=False, handlelength=1, fontsize=7)\n",
    "plt.xscale('log'); plt.yscale('log')\n",
    "\n",
    "# Limit of resolution\n",
    "N = 9; k_m = 2*np.pi/(L/2**N*4)\n",
    "# ax.set_xlim([10,k_m*L])\n",
    "ax.set_xlim([10,1000])\n",
    "ax.set_ylim([10**(-8.),10**(-3)])\n",
    "ax.set_yticks([10**(-8), 10**(-6), 10**(-4), 10**(-2)])\n",
    "ax.yaxis.set_minor_locator(mticker.LogLocator(numticks=999, subs='auto'))\n",
    "ax.tick_params(which='both', labelsize=8)\n",
    "\n",
    "# ax.text(-0.35, 1.0, '(c)', transform=ax.transAxes, fontsize='medium', verticalalignment='top')\n",
    "# \n",
    "# fig.savefig('figures/spectrum_nondim.pdf', bbox_inches='tight', pad_inche=0.1)\n",
    "# fig.savefig('figures_vector/spectrum_nondim.eps', bbox_inches='tight', pad_inche=0)\n",
    "# fig.savefig('figures_jfm/spectrum_nondim.eps', bbox_inches='tight', pad_inche=0)\n",
    "# fig.savefig('figures_jfm/spectrum_nondim.pdf', bbox_inches='tight', pad_inche=0)"
   ]
  },
  {
   "cell_type": "markdown",
   "metadata": {},
   "source": [
    "### 2m box "
   ]
  },
  {
   "cell_type": "code",
   "execution_count": null,
   "metadata": {},
   "outputs": [],
   "source": [
    "\"\"\" 2m box \"\"\"\n",
    "path='/projects/DEIKE/jiarongw/multilayer/Ifremer/field_capi_test_4/'\n",
    "from matplotlib import ticker as mticker\n",
    "\n",
    "fig = plt.figure(figsize = [1.6,1.6])\n",
    "N = 1024; L = 2; kp = 2*np.pi/(L/5); omegap = (9.8*kp)**0.5\n",
    "print('kp=%g, omegap=%g' %(kp,omegap))\n",
    "\n",
    "for i,t in enumerate((0,1,2,35,40)):\n",
    "    print(t)\n",
    "    filename = path + 'surface/eta_matrix_%g' %t\n",
    "    eta = np.fromfile(filename, dtype=np.float32)\n",
    "    eta = eta.reshape(N+1,N+1); eta = eta[1:,1:]\n",
    "    wavenumber = 2*np.pi*np.fft.fftfreq(n=N,d=L/N)\n",
    "    k = wavenumber[0:int(N/2)]  \n",
    "    k, theta, F = spectrum_integration_log(eta, L, N, CHECK=False, method='nearest')\n",
    "    plt.plot(k*L, F*kp**3, color=plt.cm.get_cmap('summer')(i/5), label = r'$\\omega_p t=%.0f$' %(omegap*t), lw=1)\n",
    "\n",
    "ax = fig.gca()\n",
    "ax.axvline(2*np.pi/(L/5)*L,ls='--',color='C7',lw=0.5)\n",
    "ax.plot(np.arange(50,220,0.05), np.arange(50,220,0.05)**(-2.5)*100, lw=0.5, c='gray')\n",
    "ax.text(80, 0.0028, '$k^{-2.5}$', c='gray')\n",
    "ax.text(250, 0.0001, '$k^{-3}$', c='gray')\n",
    "ax.plot(np.arange(100,450,0.05), np.arange(100,450,0.05)**(-3.)*1200, lw=0.5, c='gray')\n",
    "plt.xlabel('$kL_0$', labelpad=0)\n",
    "plt.ylabel('$\\phi(k)k_p^3$', labelpad=0)\n",
    "plt.legend(loc='lower left', fancybox=False, handlelength=1, fontsize=7)\n",
    "plt.xscale('log'); plt.yscale('log')\n",
    "\n",
    "# Limit of resolution\n",
    "N = 9; k_m = 2*np.pi/(L/2**N*4)\n",
    "# ax.set_xlim([10,k_m*L])\n",
    "ax.set_xlim([10,1000])\n",
    "ax.set_ylim([10**(-8.),10**(-3)])\n",
    "ax.set_yticks([10**(-8), 10**(-6), 10**(-4), 10**(-2)])\n",
    "ax.yaxis.set_minor_locator(mticker.LogLocator(numticks=999, subs='auto'))\n",
    "ax.tick_params(which='both', labelsize=8)\n",
    "\n",
    "# ax.text(-0.35, 1.0, '(c)', transform=ax.transAxes, fontsize='medium', verticalalignment='top')\n",
    "# \n",
    "# fig.savefig('figures/spectrum_nondim.pdf', bbox_inches='tight', pad_inche=0.1)\n",
    "# fig.savefig('figures_vector/spectrum_nondim.eps', bbox_inches='tight', pad_inche=0)\n",
    "# fig.savefig('figures_jfm/spectrum_nondim.eps', bbox_inches='tight', pad_inche=0)\n",
    "# fig.savefig('figures_jfm/spectrum_nondim.pdf', bbox_inches='tight', pad_inche=0)"
   ]
  },
  {
   "cell_type": "markdown",
   "metadata": {},
   "source": [
    "### 0.5m box"
   ]
  },
  {
   "cell_type": "code",
   "execution_count": null,
   "metadata": {},
   "outputs": [],
   "source": [
    "\"\"\" 0.5 m box \"\"\"\n",
    "path='/projects/DEIKE/jiarongw/multilayer/Ifremer/field_capi_test_6/'\n",
    "from matplotlib import ticker as mticker\n",
    "\n",
    "fig = plt.figure(figsize = [1.6,1.6])\n",
    "N = 1024; L = 0.5; kp = 2*np.pi/(L/5); omegap = (9.8*kp)**0.5\n",
    "print('kp=%g, omegap=%g' %(kp,omegap))\n",
    "\n",
    "for i,t in enumerate((0,1,2,3)):\n",
    "    print(t)\n",
    "    filename = path + 'surface/eta_matrix_%g' %t\n",
    "    eta = np.fromfile(filename, dtype=np.float32)\n",
    "    eta = eta.reshape(N+1,N+1); eta = eta[1:,1:]\n",
    "    wavenumber = 2*np.pi*np.fft.fftfreq(n=N,d=L/N)\n",
    "    k = wavenumber[0:int(N/2)]  \n",
    "    k, theta, F = spectrum_integration_log(eta, L, N, CHECK=False, method='nearest')\n",
    "    plt.plot(k*L, F*kp**3, color=plt.cm.get_cmap('summer')(i/4), label = r'$\\omega_p t=%.0f$' %(omegap*t), lw=1)\n",
    "\n",
    "ax = fig.gca()\n",
    "ax.axvline(2*np.pi/(L/5)*L,ls='--',color='C7',lw=0.5)\n",
    "ax.plot(np.arange(50,220,0.05), np.arange(50,220,0.05)**(-2.5)*100, lw=0.5, c='gray')\n",
    "ax.text(80, 0.0028, '$k^{-2.5}$', c='gray')\n",
    "ax.text(250, 0.0001, '$k^{-3}$', c='gray')\n",
    "ax.plot(np.arange(100,450,0.05), np.arange(100,450,0.05)**(-3.)*1200, lw=0.5, c='gray')\n",
    "plt.xlabel('$kL_0$', labelpad=0)\n",
    "plt.ylabel('$\\phi(k)k_p^3$', labelpad=0)\n",
    "plt.legend(loc='lower left', fancybox=False, handlelength=1, fontsize=7)\n",
    "plt.xscale('log'); plt.yscale('log')\n",
    "\n",
    "# Limit of resolution\n",
    "N = 9; k_m = 2*np.pi/(L/2**N*4)\n",
    "# ax.set_xlim([10,k_m*L])\n",
    "ax.set_xlim([10,1000])\n",
    "ax.set_ylim([10**(-8.),10**(-3)])\n",
    "ax.set_yticks([10**(-8), 10**(-6), 10**(-4), 10**(-2)])\n",
    "ax.yaxis.set_minor_locator(mticker.LogLocator(numticks=999, subs='auto'))\n",
    "ax.tick_params(which='both', labelsize=8)\n",
    "\n",
    "# ax.text(-0.35, 1.0, '(c)', transform=ax.transAxes, fontsize='medium', verticalalignment='top')\n",
    "# \n",
    "# fig.savefig('figures/spectrum_nondim.pdf', bbox_inches='tight', pad_inche=0.1)\n",
    "# fig.savefig('figures_vector/spectrum_nondim.eps', bbox_inches='tight', pad_inche=0)\n",
    "# fig.savefig('figures_jfm/spectrum_nondim.eps', bbox_inches='tight', pad_inche=0)\n",
    "# fig.savefig('figures_jfm/spectrum_nondim.pdf', bbox_inches='tight', pad_inche=0)"
   ]
  },
  {
   "cell_type": "markdown",
   "metadata": {},
   "source": [
    "### Visualization"
   ]
  },
  {
   "cell_type": "code",
   "execution_count": null,
   "metadata": {},
   "outputs": [],
   "source": [
    "path='/projects/DEIKE/jiarongw/multilayer/Ifremer/field_capi_test_4/'\n",
    "fig = plt.figure(layout='constrained', figsize=(10, 4))\n",
    "fig, axes = plt.subplots(3, 4)\n",
    "\n",
    "stats_t = []\n",
    "for i,t in enumerate((0,2,4,6)):\n",
    "    filename = path + 'surface/eta_matrix_%g' %t\n",
    "    eta = np.fromfile(filename, dtype=np.float32)\n",
    "    N = 1024; L0=200\n",
    "    dx = L0/N\n",
    "    eta = eta.reshape(N+1,N+1); eta = eta[1:,1:]\n",
    "    axes[0,i].imshow(np.rot90(eta), cmap='RdBu_r', vmax=eta.max(), vmin=-eta.max())\n",
    "    detadx = np.gradient(eta,axis=0)/dx\n",
    "    axes[1,i].imshow(np.rot90(detadx), cmap='RdBu_r', vmax=detadx.max(), vmin=-detadx.max())\n",
    "    detady = np.gradient(eta,axis=1)/dx\n",
    "    axes[2,i].imshow(np.rot90(detady), cmap='RdBu_r',vmax=detady.max(), vmin=-detady.max())\n",
    "    axes[0,i].axis('off')\n",
    "    axes[1,i].axis('off')\n",
    "    axes[2,i].axis('off')\n",
    "    stats = [np.ravel(eta), np.ravel(detadx), np.ravel(detady)]\n",
    "    stats_t.append(stats)"
   ]
  },
  {
   "cell_type": "markdown",
   "metadata": {},
   "source": [
    "### Dispersion relation"
   ]
  },
  {
   "cell_type": "code",
   "execution_count": null,
   "metadata": {},
   "outputs": [],
   "source": []
  }
 ],
 "metadata": {
  "kernelspec": {
   "display_name": "Python 3",
   "language": "python",
   "name": "python3"
  },
  "language_info": {
   "codemirror_mode": {
    "name": "ipython",
    "version": 3
   },
   "file_extension": ".py",
   "mimetype": "text/x-python",
   "name": "python",
   "nbconvert_exporter": "python",
   "pygments_lexer": "ipython3",
   "version": "3.7.3"
  }
 },
 "nbformat": 4,
 "nbformat_minor": 4
}
