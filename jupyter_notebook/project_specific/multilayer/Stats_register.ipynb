{
 "cells": [
  {
   "cell_type": "markdown",
   "metadata": {},
   "source": [
    "## Register all the cases"
   ]
  },
  {
   "cell_type": "code",
   "execution_count": 2,
   "metadata": {},
   "outputs": [],
   "source": [
    "from breaking_detection import Case, Config\n",
    "import numpy as np\n",
    "from matplotlib import pyplot as plt"
   ]
  },
  {
   "cell_type": "code",
   "execution_count": 6,
   "metadata": {},
   "outputs": [],
   "source": [
    "''' Old cases for the JFM paper '''\n",
    "config1_1 = Config(L0=50, P=0.01, prefix='/projects/DEIKE/jiarongw/multilayer/JFM/field_new_50m_')\n",
    "case = config1_1.add_realization(LEVEL=9, NL=15, rand=2, RE=40000, Htheta=0.503, prefix='', postfix='Htheta%g/' %0.503,\n",
    "                               path='/projects/DEIKE/jiarongw/multilayer/JFM/field_new_50m_P0.01_RE40000_9_15_rand2_Htheta0.503/')\n",
    "config1_2 = Config(L0=50, P=0.02, prefix='/projects/DEIKE/jiarongw/multilayer/JFM/field_new_50m_')\n",
    "case = config1_2.add_realization(LEVEL=9, NL=15, rand=2, RE=40000, Htheta=0.503, prefix='', postfix='Htheta%g/' %0.503,\n",
    "                               path='/projects/DEIKE/jiarongw/multilayer/JFM/field_new_50m_P0.02_RE40000_9_15_rand2_Htheta0.503/')"
   ]
  },
  {
   "cell_type": "code",
   "execution_count": 4,
   "metadata": {},
   "outputs": [
    {
     "name": "stdout",
     "output_type": "stream",
     "text": [
      "Given path does not agree with parameter values!\n",
      "Given path does not agree with parameter values!\n",
      "Given path does not agree with parameter values!\n"
     ]
    }
   ],
   "source": [
    "config2_0 = Config(L0=200, P=0.005, prefix='/projects/DEIKE/jiarongw/multilayer/JFM/field_new_200m_')\n",
    "# case = config2_0.add_realization(LEVEL=9, NL=15, rand=2, RE=40000, Htheta=0.503, prefix='', postfix='Htheta%g/' %0.503,\n",
    "#                                path='/projects/DEIKE/jiarongw/multilayer/JFM/field_new_200m_P0.005_RE40000_9_15_rand2_Htheta0.503/')\n",
    "case = config2_0.add_realization(LEVEL=10, NL=15, rand=2, RE=40000, Htheta=0.503, prefix='', postfix='Htheta%g/' %0.503,\n",
    "                               path='/projects/DEIKE/jiarongw/multilayer/JFM/field_new_200m_P0.005_RE40000_10_15_rand2_Htheta0.503/')\n",
    "\n",
    "config2_1 = Config(L0=200, P=0.01, prefix='/projects/DEIKE/jiarongw/multilayer/JFM/field_new_200m_')\n",
    "# case = config2_1.add_realization(LEVEL=9, NL=15, rand=2, RE=40000, Htheta=0.503, prefix='', postfix='Htheta%g/' %0.503,\n",
    "#                                path='/projects/DEIKE/jiarongw/multilayer/JFM/field_new_200m_P0.01_RE40000_9_15_rand2_Htheta0.503/')\n",
    "# case = config2_1.add_realization(LEVEL=9, NL=15, rand=2, RE=40000, Htheta=0.503, Npower=2, prefix='', postfix='Htheta%g_N2/' %0.503,\n",
    "#                                path='/projects/DEIKE/jiarongw/multilayer/JFM/field_new_200m_P0.01_RE40000_9_15_rand2_Htheta0.503_N2/')\n",
    "# case = config2_1.add_realization(LEVEL=9, NL=15, rand=2, RE=40000, Htheta=0.503, Npower=10, prefix='', postfix='Htheta%g_N10/' %0.503,\n",
    "#                                path='/projects/DEIKE/jiarongw/multilayer/JFM/field_new_200m_P0.01_RE40000_9_15_rand2_Htheta0.503_N10/')\n",
    "# level 10\n",
    "case = config2_1.add_realization(LEVEL=10, NL=15, rand=2, RE=40000, Htheta=0.503, prefix='', postfix='Htheta%g/' %0.503,\n",
    "                               path='/projects/DEIKE/jiarongw/multilayer/JFM/field_new_200m_P0.01_RE40000_10_15_rand2_Htheta0.503/')\n",
    "case = config2_1.add_realization(LEVEL=10, NL=15, rand=2, RE=40000, Htheta=0.503, Npower=2, prefix='', postfix='Htheta%g_N2/' %0.503,\n",
    "                               path='/projects/DEIKE/jiarongw/multilayer/JFM/field_new_200m_P0.01_RE40000_10_15_rand2_Htheta0.503_N2/')\n",
    "case = config2_1.add_realization(LEVEL=10, NL=15, rand=2, RE=40000, Htheta=0.503, Npower=10, prefix='', postfix='Htheta%g_N10/' %0.503,\n",
    "                               path='/projects/DEIKE/jiarongw/multilayer/JFM/field_new_200m_P0.01_RE40000_10_15_rand2_Htheta0.503_N10/')\n",
    "#level 11\n",
    "# case = config2_1.add_realization(LEVEL=11, NL=15, rand=2, RE=40000, Htheta=0.503, prefix='', postfix='Htheta%g/' %0.503,\n",
    "#                                path='/projects/DEIKE/jiarongw/multilayer/field_new_200m_P0.01_RE40000_11_15_rand2_Htheta0.503/')\n",
    "\n",
    "config2_2 = Config(L0=200, P=0.02, prefix='/projects/DEIKE/jiarongw/multilayer/JFM/field_new_200m_')\n",
    "# case = config2_2.add_realization(LEVEL=9, NL=15, rand=2, RE=40000, Htheta=0.503, prefix='', postfix='Htheta%g/' %0.503,\n",
    "#                                path='/projects/DEIKE/jiarongw/multilayer/field_new_200m_P0.02_RE40000_9_15_rand2_Htheta0.503/')\n",
    "# case = config2_2.add_realization(LEVEL=9, NL=15, rand=2, RE=40000, Htheta=0.503, Npower=2, prefix='', postfix='Htheta%g_N2/' %0.503,\n",
    "#                                path='/projects/DEIKE/jiarongw/multilayer/field_new_200m_P0.02_RE40000_9_15_rand2_Htheta0.503_N2/')\n",
    "# case = config2_2.add_realization(LEVEL=9, NL=15, rand=2, RE=40000, Htheta=0.503, Npower=10, prefix='', postfix='Htheta%g_N10/' %0.503,\n",
    "#                                path='/projects/DEIKE/jiarongw/multilayer/field_new_200m_P0.02_RE40000_9_15_rand2_Htheta0.503_N10/')\n",
    "# level 10\n",
    "case = config2_2.add_realization(LEVEL=10, NL=15, rand=2, RE=40000, Htheta=0.503, prefix='', postfix='Htheta%g/' %0.503,\n",
    "                               path='/projects/DEIKE/jiarongw/multilayer/JFM/field_new_200m_P0.02_RE40000_10_15_rand2_Htheta0.503/')\n",
    "case = config2_2.add_realization(LEVEL=10, NL=15, rand=2, RE=40000, Htheta=0.503, Npower=2, prefix='', postfix='Htheta%g_N2/' %0.503,\n",
    "                               path='/projects/DEIKE/jiarongw/multilayer/JFM/field_new_200m_P0.02_RE40000_10_15_rand2_Htheta0.503_N2/')\n",
    "case = config2_2.add_realization(LEVEL=10, NL=15, rand=2, RE=40000, Htheta=0.503, Npower=10, prefix='', postfix='Htheta%g_N10/' %0.503,\n",
    "                               path='/projects/DEIKE/jiarongw/multilayer/JFM/field_new_200m_P0.02_RE40000_10_15_rand2_Htheta0.503_N10/')\n",
    "# level 11\n",
    "case = config2_2.add_realization(LEVEL=11, NL=15, rand=2, RE=40000, Htheta=0.503, prefix='', postfix='Htheta%g/' %0.503,\n",
    "                                path='/projects/DEIKE/jiarongw/multilayer/JFM/field_new_200m_P0.02_RE40000_11_15_rand2_Htheta0.503/')\n",
    "# smax \n",
    "case = config2_2.add_realization(LEVEL=10, NL=15, rand=2, RE=40000, Htheta=0.503, prefix='', postfix='Htheta%g/' %0.503,\n",
    "                                path='/projects/DEIKE/jiarongw/multilayer/revision/field_new_200m_P0.02_RE40000_10_15_rand2_Htheta0.503_smax04/')\n",
    "case = config2_2.add_realization(LEVEL=10, NL=15, rand=2, RE=40000, Htheta=0.503, prefix='', postfix='Htheta%g/' %0.503,\n",
    "                                path='/projects/DEIKE/jiarongw/multilayer/revision/field_new_200m_P0.02_RE40000_10_15_rand2_Htheta0.503_smax07/')\n",
    "# wider spectrum\n",
    "case = config2_2.add_realization(LEVEL=10, NL=15, rand=2, RE=40000, Htheta=0.503, prefix='', postfix='Htheta%g/' %0.503,\n",
    "                                path='/projects/DEIKE/jiarongw/multilayer/revision/field_new_200m_P0.02_RE40000_10_15_rand2_Htheta0.503_wider/')\n",
    "\n",
    "config2_3 = Config(L0=200, P=0.03, prefix='/projects/DEIKE/jiarongw/multilayer/JFM/field_new_200m_')\n",
    "# case = config2_3.add_realization(LEVEL=9, NL=15, rand=2, RE=40000, Htheta=0.503, prefix='', postfix='Htheta%g/' %0.503,\n",
    "#                                path='/projects/DEIKE/jiarongw/multilayer/field_new_200m_P0.03_RE40000_9_15_rand2_Htheta0.503/')\n",
    "# case = config2_3.add_realization(LEVEL=9, NL=15, rand=2, RE=40000, Htheta=0.503, Npower=2, prefix='', postfix='Htheta%g_N2/' %0.503,\n",
    "#                                path='/projects/DEIKE/jiarongw/multilayer/field_new_200m_P0.03_RE40000_9_15_rand2_Htheta0.503_N2/')\n",
    "# case = config2_3.add_realization(LEVEL=9, NL=15, rand=2, RE=40000, Htheta=0.503, Npower=10, prefix='', postfix='Htheta%g_N10/' %0.503,\n",
    "#                                path='/projects/DEIKE/jiarongw/multilayer/field_new_200m_P0.03_RE40000_9_15_rand2_Htheta0.503_N10/')\n",
    "# case = config2_3.add_realization(LEVEL=9, NL=15, rand=2, RE=40000, Htheta=0.503, Npower=5, prefix='', postfix='Htheta%g_s0.45/' %0.503,\n",
    "#                                path='/projects/DEIKE/jiarongw/multilayer/field_new_200m_P0.03_RE40000_9_15_rand2_Htheta0.503_s0.45/')\n",
    "# case = config2_3.add_realization(LEVEL=9, NL=30, rand=2, RE=40000, Htheta=0.503, prefix='', postfix='Htheta%g/' %0.503,\n",
    "#                                path='/projects/DEIKE/jiarongw/multilayer/field_new_200m_P0.03_RE40000_9_30_rand2_Htheta0.503/') # This case was overwritten by the new slope-limiter test case \n",
    "# case = config2_3.add_realization(LEVEL=9, NL=60, rand=2, RE=40000, Htheta=0.503, prefix='', postfix='Htheta%g/' %0.503,\n",
    "#                                path='/projects/DEIKE/jiarongw/multilayer/field_new_200m_P0.03_RE40000_9_60_rand2_Htheta0.503/') # This case is not run for the entirety of t=120\n",
    "\n",
    "config2_4 = Config(L0=200, P=0.04, prefix='/projects/DEIKE/jiarongw/multilayer/JFM/field_new_200m_')\n",
    "case = config2_4.add_realization(LEVEL=9, NL=15, rand=2, RE=40000, Htheta=0.503, prefix='', postfix='Htheta%g/' %0.503,\n",
    "                               path='/projects/DEIKE/jiarongw/multilayer/JFM/field_new_200m_P0.04_RE40000_9_15_rand2_Htheta0.503/')\n",
    "\n",
    "config2_5 = Config(L0=200, P=0.05, prefix='/projects/DEIKE/jiarongw/multilayer/JFM/field_new_200m_')\n",
    "case = config2_5.add_realization(LEVEL=9, NL=15, rand=2, RE=40000, Htheta=0.503, prefix='', postfix='Htheta%g/' %0.503,\n",
    "                               path='/projects/DEIKE/jiarongw/multilayer/JFM/field_new_200m_P0.05_RE40000_9_15_rand2_Htheta0.503/')\n",
    "\n",
    "\"\"\" Different box sizes \"\"\"\n",
    "config2_6 = Config(L0=400, P=0.03, kp=2*np.pi/40, prefix='/projects/DEIKE/jiarongw/multilayer/JFM/field_new_200m_')\n",
    "case = config2_6.add_realization(LEVEL=10, NL=15, rand=2, RE=40000, Htheta=0.503, prefix='', postfix='Htheta%g_400mbox/' %0.503,\n",
    "                                 path='/projects/DEIKE/jiarongw/multilayer/JFM/field_new_200m_P0.03_RE40000_10_15_rand2_Htheta0.503_400mbox/')\n",
    "config2_7 = Config(L0=500, P=0.03, kp=2*np.pi/40, prefix='/projects/DEIKE/jiarongw/multilayer/JFM/field_new_200m_')\n",
    "# case = config2_7.add_realization(LEVEL=9, NL=15, rand=2, RE=40000, Htheta=0.503, prefix='', postfix='Htheta%g_500mbox/' %0.503,\n",
    "#                                  path='/projects/DEIKE/jiarongw/multilayer/field_new_200m_P0.03_RE40000_9_15_rand2_Htheta0.503_500mbox/')\n",
    "case = config2_7.add_realization(LEVEL=10, NL=15, rand=2, RE=40000, Htheta=0.503, prefix='', postfix='Htheta%g_500mbox/' %0.503,\n",
    "                                 path='/projects/DEIKE/jiarongw/multilayer/JFM/field_new_200m_P0.03_RE40000_10_15_rand2_Htheta0.503_500mbox/')\n",
    "config2_8 = Config(L0=400, P=0.03, kp=2*np.pi/40, prefix='/projects/DEIKE/jiarongw/multilayer/JFM/field_new_200m_')\n",
    "case = config2_8.add_realization(LEVEL=10, NL=15, rand=2, RE=40000, Htheta=0.503, prefix='', postfix='Htheta%g_400mbox/' %0.503,\n",
    "                                 path='/projects/DEIKE/jiarongw/multilayer/JFM/field_new_200m_P0.03_RE40000_10_15_rand2_Htheta0.503_400mbox/')\n",
    "\n",
    "config2_9 = Config(L0=200, P=0.008, kp=2*np.pi/40, prefix='/projects/DEIKE/jiarongw/multilayer/JFM/field_new_200m_')\n",
    "case = config2_9.add_realization(LEVEL=9, NL=15, rand=2, RE=40000, Htheta=0.503, prefix='', postfix='Htheta%g/' %0.503,\n",
    "                                 path='/projects/DEIKE/jiarongw/multilayer/JFM/field_new_200m_P0.008_RE40000_9_15_rand2_Htheta0.503/')\n",
    "case = config2_9.add_realization(LEVEL=9, NL=15, rand=2, RE=40000, Htheta=0.503, Npower=2, prefix='', postfix='Htheta%g_N2/' %0.503,\n",
    "                                 path='/projects/DEIKE/jiarongw/multilayer/JFM/field_new_200m_P0.008_RE40000_9_15_rand2_Htheta0.503_N2/')\n",
    "case = config2_9.add_realization(LEVEL=10, NL=15, rand=2, RE=40000, Htheta=0.503, prefix='', postfix='Htheta%g/' %0.503,\n",
    "                                 path='/projects/DEIKE/jiarongw/multilayer/JFM/field_new_200m_P0.008_RE40000_10_15_rand2_Htheta0.503/')\n",
    "\n",
    "config2_10 = Config(L0=200, P=0.016, prefix='/projects/DEIKE/jiarongw/multilayer/JFM/field_new_200m_')\n",
    "case = config2_10.add_realization(LEVEL=9, NL=15, rand=2, RE=40000, Htheta=0.503, prefix='', postfix='Htheta%g/' %0.503,\n",
    "                               path='/projects/DEIKE/jiarongw/multilayer/JFM/field_new_200m_P0.016_RE40000_9_15_rand2_Htheta0.503/')\n",
    "case = config2_10.add_realization(LEVEL=9, NL=15, rand=2, RE=40000, Htheta=0.503, Npower=2, prefix='', postfix='Htheta%g_N2/' %0.503,\n",
    "                               path='/projects/DEIKE/jiarongw/multilayer/JFM/field_new_200m_P0.016_RE40000_9_15_rand2_Htheta0.503_N2/')\n",
    "case = config2_10.add_realization(LEVEL=9, NL=15, rand=2, RE=40000, Htheta=0.503, Npower=10, prefix='', postfix='Htheta%g_N10/' %0.503,\n",
    "                               path='/projects/DEIKE/jiarongw/multilayer/JFM/field_new_200m_P0.016_RE40000_9_15_rand2_Htheta0.503_N10/')\n",
    "case = config2_10.add_realization(LEVEL=10, NL=15, rand=2, RE=40000, Htheta=0.503, prefix='', postfix='Htheta%g/' %0.503,\n",
    "                               path='/projects/DEIKE/jiarongw/multilayer/JFM/field_new_200m_P0.016_RE40000_10_15_rand2_Htheta0.503/')"
   ]
  },
  {
   "cell_type": "code",
   "execution_count": 4,
   "metadata": {},
   "outputs": [],
   "source": [
    "config3_1 = Config(L0=500, P=0.03, prefix='/projects/DEIKE/jiarongw/multilayer/field_new_500m_')\n",
    "case = config3_1.add_realization(LEVEL=9, NL=15, rand=2, RE=40000, Htheta=0.503, prefix='', postfix='Htheta%g/' %0.503,\n",
    "                               path='/projects/DEIKE/jiarongw/multilayer/field_new_500m_P0.03_RE40000_9_15_rand2_Htheta0.503/')\n",
    "config3_2 = Config(L0=500, P=0.05, prefix='/projects/DEIKE/jiarongw/multilayer/field_new_500m_')\n",
    "case = config3_2.add_realization(LEVEL=9, NL=15, rand=2, RE=40000, Htheta=0.503, prefix='', postfix='Htheta%g/' %0.503,\n",
    "                               path='/projects/DEIKE/jiarongw/multilayer/field_new_500m_P0.05_RE40000_9_15_rand2_Htheta0.503/')\n",
    "case = config3_2.add_realization(LEVEL=10, NL=15, rand=2, RE=40000, Htheta=0.503, prefix='', postfix='Htheta%g/' %0.503,\n",
    "                               path='/projects/DEIKE/jiarongw/multilayer/field_new_500m_P0.05_RE40000_10_15_rand2_Htheta0.503/')\n",
    "config3_3 = Config(L0=500, P=0.07, prefix='/projects/DEIKE/jiarongw/multilayer/field_new_500m_')\n",
    "case = config3_3.add_realization(LEVEL=9, NL=15, rand=2, RE=40000, Htheta=0.503, prefix='', postfix='Htheta%g/' %0.503,\n",
    "                               path='/projects/DEIKE/jiarongw/multilayer/field_new_500m_P0.07_RE40000_9_15_rand2_Htheta0.503/')\n",
    "case = config3_3.add_realization(LEVEL=10, NL=15, rand=2, RE=40000, Htheta=0.503, prefix='', postfix='Htheta%g/' %0.503,\n",
    "                               path='/projects/DEIKE/jiarongw/multilayer/field_new_500m_P0.07_RE40000_10_15_rand2_Htheta0.503/')"
   ]
  },
  {
   "cell_type": "code",
   "execution_count": 11,
   "metadata": {},
   "outputs": [
    {
     "name": "stdout",
     "output_type": "stream",
     "text": [
      "Given path does not agree with parameter values!\n",
      "Given path does not agree with parameter values!\n"
     ]
    }
   ],
   "source": [
    "\"\"\" Cases from revision \"\"\"\n",
    "config_re1_1 = Config(L0=200, P=0.15, prefix='/projects/DEIKE/jiarongw/multilayer/field_new_200m_')\n",
    "case = config_re1_1.add_realization(LEVEL=10, NL=15, rand=2, RE=40000, Htheta=0.503, prefix='', postfix='Htheta%g/' %0.503,\n",
    "                                  path='/projects/DEIKE/jiarongw/multilayer/revision/field_new_200m_GaussianG0.15S0.5_RE40000_10_15_rand2_Htheta0.503_new/')\n",
    "\n",
    "config_re1_2 = Config(L0=200, P=0.15, prefix='/projects/DEIKE/jiarongw/multilayer/field_new_200m_')\n",
    "case = config_re1_2.add_realization(LEVEL=10, NL=15, rand=2, RE=40000, Htheta=0.503, prefix='', postfix='Htheta%g/' %0.503,\n",
    "                                  path='/projects/DEIKE/jiarongw/multilayer/revision/field_new_200m_GaussianG0.15S0.8_RE40000_10_15_rand2_Htheta0.503_new/')\n",
    "\n",
    "config_re2 = Config(L0=200, P=0.03, prefix='/projects/DEIKE/jiarongw/multilayer/revision/field_new_200m_')\n",
    "case = config_re2.add_realization(LEVEL=10, NL=15, rand=2, RE=40000, Htheta=0.503, prefix='', postfix='Htheta%g/' %0.503,\n",
    "                                  path='/projects/DEIKE/jiarongw/multilayer/revision/field_new_200m_P0.03_RE40000_10_15_rand2_Htheta0.503/')"
   ]
  },
  {
   "cell_type": "code",
   "execution_count": 68,
   "metadata": {},
   "outputs": [
    {
     "name": "stdout",
     "output_type": "stream",
     "text": [
      "Given path does not agree with parameter values!\n"
     ]
    }
   ],
   "source": [
    "case = config2_2.add_realization(LEVEL=10, NL=15, rand=4, RE=40000, Htheta=0.503, Npower=5, prefix='', postfix='Htheta%g_N10/' %0.503,\n",
    "                                 path='/projects/DEIKE/jiarongw/multilayer/revision/field_new_200m_P0.02_RE40000_10_15_rand4_Htheta0.503/')\n"
   ]
  },
  {
   "cell_type": "code",
   "execution_count": 73,
   "metadata": {},
   "outputs": [
    {
     "name": "stdout",
     "output_type": "stream",
     "text": [
      "/projects/DEIKE/jiarongw/multilayer/field_new_200m_P0.02_RE40000_9_15_rand2_Htheta0.503/\n",
      "/projects/DEIKE/jiarongw/multilayer/field_new_200m_P0.02_RE40000_9_15_rand2_Htheta0.503_N2/\n",
      "/projects/DEIKE/jiarongw/multilayer/field_new_200m_P0.02_RE40000_9_15_rand2_Htheta0.503_N10/\n",
      "/projects/DEIKE/jiarongw/multilayer/field_new_200m_P0.02_RE40000_10_15_rand2_Htheta0.503/\n",
      "/projects/DEIKE/jiarongw/multilayer/field_new_200m_P0.02_RE40000_10_15_rand2_Htheta0.503_N2/\n",
      "/projects/DEIKE/jiarongw/multilayer/field_new_200m_P0.02_RE40000_10_15_rand2_Htheta0.503_N10/\n",
      "/projects/DEIKE/jiarongw/multilayer/field_new_200m_P0.02_RE40000_11_15_rand2_Htheta0.503/\n",
      "/projects/DEIKE/jiarongw/multilayer/field_new_200m_P0.02_RE40000_9_30_rand0_noHtheta/\n",
      "/projects/DEIKE/jiarongw/multilayer/revision/field_new_200m_P0.02_RE40000_10_15_rand4_Htheta0.503/\n"
     ]
    }
   ],
   "source": [
    "for case in config2_2.cases:\n",
    "    print(case.path)"
   ]
  },
  {
   "cell_type": "code",
   "execution_count": null,
   "metadata": {},
   "outputs": [],
   "source": [
    "for config in (config1,config2,config3,config4,config5,config6,config7):\n",
    "    print('%g, ' %config.L0 + config.P + ', %g' %config.ustar + ', %g' %(config.cp/config.ustar))"
   ]
  },
  {
   "cell_type": "code",
   "execution_count": 66,
   "metadata": {},
   "outputs": [],
   "source": [
    "config2_2.cases = config2_2.cases[:-1]"
   ]
  },
  {
   "cell_type": "markdown",
   "metadata": {},
   "source": [
    "### Only one kp"
   ]
  },
  {
   "cell_type": "code",
   "execution_count": 8,
   "metadata": {},
   "outputs": [],
   "source": [
    "config0 = Config(L0=200, P=0.002, prefix='/projects/DEIKE/jiarongw/multilayer/field_new_200m_')\n",
    "case = config0.add_realization(LEVEL=9, NL=15, rand=2, RE=40000, Htheta=0.503, prefix='', postfix='Htheta%g/' %0.503,\n",
    "                               path='/projects/DEIKE/jiarongw/multilayer/field_new_200m_P0.002_RE40000_9_15_rand2_Htheta0.503/')\n",
    "\n",
    "config1 = Config(L0=200, P=0.005, prefix='/projects/DEIKE/jiarongw/multilayer/field_new_200m_')\n",
    "case = config1.add_realization(LEVEL=9, NL=15, rand=2, RE=40000, Htheta=0.503, prefix='', postfix='Htheta%g/' %0.503,\n",
    "                               path='/projects/DEIKE/jiarongw/multilayer/field_new_200m_P0.005_RE40000_9_15_rand2_Htheta0.503/')\n",
    "case = config1.add_realization(LEVEL=9, NL=15, rand=2, RE=40000, Htheta=0.503, Npower=2, prefix='', postfix='Htheta%g_N2/' %0.503,\n",
    "                               path='/projects/DEIKE/jiarongw/multilayer/field_new_200m_P0.005_RE40000_9_15_rand2_Htheta0.503_N2/')\n",
    "\n",
    "\n",
    "config2 = Config(L0=200, P=0.01, prefix='/projects/DEIKE/jiarongw/multilayer/field_new_200m_')\n",
    "case = config2.add_realization(LEVEL=9, NL=15, rand=2, RE=40000, Htheta=0.503, prefix='', postfix='Htheta%g/' %0.503,\n",
    "                               path='/projects/DEIKE/jiarongw/multilayer/field_new_200m_P0.01_RE40000_9_15_rand2_Htheta0.503/')\n",
    "case = config2.add_realization(LEVEL=9, NL=15, rand=2, RE=40000, Htheta=0.503, Npower=2, prefix='', postfix='Htheta%g_N2/' %0.503,\n",
    "                               path='/projects/DEIKE/jiarongw/multilayer/field_new_200m_P0.01_RE40000_9_15_rand2_Htheta0.503_N2/')\n",
    "\n",
    "\n",
    "config3 = Config(L0=200, P=0.02, prefix='/projects/DEIKE/jiarongw/multilayer/field_new_200m_')\n",
    "case = config3.add_realization(LEVEL=9, NL=15, rand=2, RE=40000, Htheta=0.503, prefix='', postfix='Htheta%g/' %0.503,\n",
    "                               path='/projects/DEIKE/jiarongw/multilayer/field_new_200m_P0.02_RE40000_9_15_rand2_Htheta0.503/')\n",
    "case = config3.add_realization(LEVEL=9, NL=15, rand=2, RE=40000, Htheta=0.503, Npower=2, prefix='', postfix='Htheta%g_N2/' %0.503,\n",
    "                               path='/projects/DEIKE/jiarongw/multilayer/field_new_200m_P0.02_RE40000_9_15_rand2_Htheta0.503_N2/')\n",
    "\n",
    "config4 = Config(L0=200, P=0.03, prefix='/projects/DEIKE/jiarongw/multilayer/field_new_200m_')\n",
    "case = config4.add_realization(LEVEL=9, NL=15, rand=2, RE=40000, Htheta=0.503, prefix='', postfix='Htheta%g/' %0.503,\n",
    "                               path='/projects/DEIKE/jiarongw/multilayer/field_new_200m_P0.03_RE40000_9_15_rand2_Htheta0.503/')\n",
    "case = config4.add_realization(LEVEL=9, NL=15, rand=2, RE=40000, Htheta=0.503, Npower=2, prefix='', postfix='Htheta%g_N2/' %0.503,\n",
    "                               path='/projects/DEIKE/jiarongw/multilayer/field_new_200m_P0.03_RE40000_9_15_rand2_Htheta0.503_N2/')\n",
    "case = config4.add_realization(LEVEL=9, NL=30, rand=2, RE=40000, Htheta=0.503, prefix='', postfix='Htheta%g/' %0.503,\n",
    "                               path='/projects/DEIKE/jiarongw/multilayer/field_new_200m_P0.03_RE40000_9_30_rand2_Htheta0.503/')\n",
    "# case = config4.add_realization(LEVEL=9, NL=60, rand=2, RE=40000, Htheta=0.503, prefix='', postfix='Htheta%g/' %0.503,\n",
    "#                                path='/projects/DEIKE/jiarongw/multilayer/field_new_200m_P0.03_RE40000_9_60_rand2_Htheta0.503/') # This case is not run for the entirety of t=120\n",
    "\n",
    "config5 = Config(L0=200, P=0.04, prefix='/projects/DEIKE/jiarongw/multilayer/field_new_200m_')\n",
    "case = config5.add_realization(LEVEL=9, NL=15, rand=2, RE=40000, Htheta=0.503, prefix='', postfix='Htheta%g/' %0.503,\n",
    "                               path='/projects/DEIKE/jiarongw/multilayer/field_new_200m_P0.04_RE40000_9_15_rand2_Htheta0.503/')\n",
    "\n",
    "config6 = Config(L0=200, P=0.05, prefix='/projects/DEIKE/jiarongw/multilayer/field_new_200m_')\n",
    "case = config6.add_realization(LEVEL=9, NL=15, rand=2, RE=40000, Htheta=0.503, prefix='', postfix='Htheta%g/' %0.503,\n",
    "                               path='/projects/DEIKE/jiarongw/multilayer/field_new_200m_P0.05_RE40000_9_15_rand2_Htheta0.503/')\n",
    "\n",
    "config4_box1 = Config(L0=400, P=0.03, kp=2*np.pi/40, prefix='/projects/DEIKE/jiarongw/multilayer/field_new_200m_')\n",
    "case = config4_box1.add_realization(LEVEL=10, NL=15, rand=2, RE=40000, Htheta=0.503, prefix='', postfix='Htheta%g_400mbox/' %0.503,\n",
    "                                    path='/projects/DEIKE/jiarongw/multilayer/field_new_200m_P0.03_RE40000_10_15_rand2_Htheta0.503_400mbox/')\n",
    "\n",
    "config4_box2 = Config(L0=500, P=0.03, kp=2*np.pi/40, prefix='/projects/DEIKE/jiarongw/multilayer/field_new_200m_')\n",
    "case = config4_box2.add_realization(LEVEL=10, NL=15, rand=2, RE=40000, Htheta=0.503, prefix='', postfix='Htheta%g_500mbox/' %0.503,\n",
    "                                 path='/projects/DEIKE/jiarongw/multilayer/field_new_200m_P0.03_RE40000_10_15_rand2_Htheta0.503_500mbox/')\n",
    "\n",
    "config4_alter1 = Config(L0=200, P=0.8, kp=2*np.pi/40, prefix='/projects/DEIKE/jiarongw/multilayer/field_new_200m_')\n",
    "case = config4_alter1.add_realization(LEVEL=9, NL=15, rand=2, RE=40000, Htheta=0.503, prefix='', postfix='Htheta%g_alter1/' %0.503,\n",
    "                                 path='/projects/DEIKE/jiarongw/multilayer/field_new_200m_P0.8_RE40000_9_15_rand2_Htheta0.503_alter1/')\n",
    "\n",
    "config4_alter2 = Config(L0=200, P=0.2, kp=2*np.pi/40, prefix='/projects/DEIKE/jiarongw/multilayer/field_new_200m_')\n",
    "case = config4_alter2.add_realization(LEVEL=9, NL=15, rand=2, RE=40000, Htheta=0.503, prefix='', postfix='Htheta%g_alter2/' %0.503,\n",
    "                                 path='/projects/DEIKE/jiarongw/multilayer/field_new_200m_P0.2_RE40000_9_15_rand2_Htheta0.503_alter2/')\n",
    "\n"
   ]
  }
 ],
 "metadata": {
  "kernelspec": {
   "display_name": "gp",
   "language": "python",
   "name": "gp"
  },
  "language_info": {
   "codemirror_mode": {
    "name": "ipython",
    "version": 3
   },
   "file_extension": ".py",
   "mimetype": "text/x-python",
   "name": "python",
   "nbconvert_exporter": "python",
   "pygments_lexer": "ipython3",
   "version": "3.10.4"
  }
 },
 "nbformat": 4,
 "nbformat_minor": 4
}
