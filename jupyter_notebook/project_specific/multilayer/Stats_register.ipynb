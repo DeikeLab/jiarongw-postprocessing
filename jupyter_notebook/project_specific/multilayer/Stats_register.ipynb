{
 "cells": [
  {
   "cell_type": "code",
   "execution_count": null,
   "metadata": {},
   "outputs": [],
   "source": [
    "config1_1 = Config(L0=50, P='P0020', prefix='/projects/DEIKE/jiarongw/multilayer/field_new_')\n",
    "# case = config1.add_realization(LEVEL=9, NL=15, rand=0, postfix='noHtheta/')\n",
    "# case = config1.add_realization(LEVEL=9, NL=30, rand=0, postfix='noHtheta/')\n",
    "# case = config1.add_realization(LEVEL=9, NL=60, rand=0, postfix='noHtheta/')\n",
    "case = config1.add_realization(LEVEL=9, NL=15, rand=2, postfix='noHtheta/')\n",
    "case = config1.add_realization(LEVEL=9, NL=15, RE=40000, rand=2, Htheta=0.51, prefix='', postfix='Htheta%g/' %0.51, \n",
    "                               path='/projects/DEIKE/jiarongw/multilayer/field_new_P0020_RE40000_9_15_rand2_Htheta0.51/')"
   ]
  },
  {
   "cell_type": "code",
   "execution_count": null,
   "metadata": {},
   "outputs": [],
   "source": [
    "config1_2 = Config(L0=50, P='P0013', prefix='/projects/DEIKE/jiarongw/multilayer/field_new_')\n",
    "case = config2.add_realization(LEVEL=9, NL=15, rand=2, postfix='noHtheta/')\n",
    "# case = config2.add_realization(LEVEL=9, NL=15, rand=3, postfix='noHtheta/')\n",
    "# case = config2.add_realization(LEVEL=9, NL=15, rand=4, postfix='noHtheta/')\n",
    "# case = config2.add_realization(LEVEL=9, NL=15, rand=6, postfix='noHtheta/')\n",
    "# case = config2.add_realization(LEVEL=9, NL=30, rand=0, postfix='noHtheta/')\n",
    "# case = config2.add_realization(LEVEL=9, NL=15, rand=0, postfix='noHtheta/')\n",
    "# case = config2.add_realization(LEVEL=9, NL=15, rand=1, postfix='noHtheta/')\n",
    "case = config2.add_realization(LEVEL=9, NL=15, RE=40000, rand=2, Htheta=0.51, prefix='', postfix='Htheta%g/' %0.51, \n",
    "                               path='/projects/DEIKE/jiarongw/multilayer/field_new_P0013_RE40000_9_15_rand2_Htheta0.51/')\n",
    "# case = config2.add_realization(LEVEL=9, NL=15, RE=400000, rand=2, Htheta=0.51, prefix='', postfix='Htheta%g/' %0.51, \n",
    "#                                path='/projects/DEIKE/jiarongw/multilayer/field_new_P0013_RE400000_9_15_rand2_Htheta0.51/')\n",
    "# case = config2.add_realization(LEVEL=9, NL=15, RE=0, rand=2, Htheta=0.51, prefix='', postfix='Htheta%g/' %0.51, \n",
    "#                                path='/projects/DEIKE/jiarongw/multilayer/field_new_P0013_RE0_9_15_rand2_Htheta0.51/')\n",
    "# case = config2.add_realization(LEVEL=9, NL=15, RE=40000, rand=2, Htheta=0.501, prefix='', postfix='Htheta%g/' %0.501, \n",
    "#                                path='/projects/DEIKE/jiarongw/multilayer/field_new_P0013_RE40000_9_15_rand2_Htheta0.501/')\n",
    "# case = config2.add_realization(LEVEL=9, NL=15, RE=400000, rand=2, Htheta=0.501, prefix='', postfix='Htheta%g/' %0.501, \n",
    "#                                path='/projects/DEIKE/jiarongw/multilayer/field_new_P0013_RE400000_9_15_rand2_Htheta0.501/')\n",
    "# case = config2.add_realization(LEVEL=9, NL=15, RE=40000, rand=2, Htheta=0.5, prefix='', postfix='Htheta%g/' %0.5, \n",
    "#                                path='/projects/DEIKE/jiarongw/multilayer/field_new_P0013_RE40000_9_15_rand2_Htheta0.5/')"
   ]
  },
  {
   "cell_type": "code",
   "execution_count": 6,
   "metadata": {},
   "outputs": [],
   "source": [
    "config1_3 = Config(L0=50, P='P0010', prefix='/projects/DEIKE/jiarongw/multilayer/field_new_')\n",
    "# case = config3.add_realization(LEVEL=9, NL=30, rand=0, postfix='noHtheta/')\n",
    "# case = config3.add_realization(LEVEL=9, NL=15, rand=0, postfix='noHtheta/')\n",
    "case = config3.add_realization(LEVEL=9, NL=15, rand=2, postfix='noHtheta/')\n",
    "case = config3.add_realization(LEVEL=9, NL=15, RE=40000, rand=2, Htheta=0.51, prefix='', postfix='Htheta%g/' %0.51, \n",
    "                               path='/projects/DEIKE/jiarongw/multilayer/field_new_P0010_RE40000_9_15_rand2_Htheta0.51/')"
   ]
  },
  {
   "cell_type": "code",
   "execution_count": 7,
   "metadata": {},
   "outputs": [],
   "source": [
    "config1_4 = Config(L0=50, P='P0008', prefix='/projects/DEIKE/jiarongw/multilayer/field_new_')\n",
    "case = config4.add_realization(LEVEL=9, NL=15, rand=2, postfix='noHtheta/')\n",
    "case = config4.add_realization(LEVEL=9, NL=15, RE=40000, rand=2, Htheta=0.51, prefix='', postfix='Htheta%g/' %0.51, \n",
    "                               path='/projects/DEIKE/jiarongw/multilayer/field_new_P0008_RE40000_9_15_rand2_Htheta0.51/')"
   ]
  },
  {
   "cell_type": "code",
   "execution_count": 24,
   "metadata": {},
   "outputs": [],
   "source": [
    "config1_5 = Config(L0=50, P='P0005', prefix='/projects/DEIKE/jiarongw/multilayer/field_new_')\n",
    "case = config5.add_realization(LEVEL=9, NL=15, rand=2, Htheta=0.5, postfix='noHtheta/')\n",
    "case = config5.add_realization(LEVEL=9, NL=15, rand=2, RE=40000, Htheta=0.502, prefix='', postfix='Htheta%g/' %0.502, \n",
    "                               path='/projects/DEIKE/jiarongw/multilayer/field_new_P0005_RE40000_9_15_rand2_Htheta0.502/')\n",
    "case = config5.add_realization(LEVEL=9, NL=15, rand=2, RE=40000, Htheta=0.503, prefix='', postfix='Htheta%g/' %0.503, \n",
    "                               path='/projects/DEIKE/jiarongw/multilayer/field_new_P0005_RE40000_9_15_rand2_Htheta0.503/')\n",
    "case = config5.add_realization(LEVEL=9, NL=15, rand=2, RE=40000, Htheta=0.51, prefix='', postfix='Htheta%g/' %0.51, \n",
    "                               path='/projects/DEIKE/jiarongw/multilayer/field_new_P0005_RE40000_9_15_rand2_Htheta0.51/')"
   ]
  },
  {
   "cell_type": "code",
   "execution_count": 32,
   "metadata": {},
   "outputs": [],
   "source": [
    "config3_1 = Config(L0=500, P='P04', prefix='/projects/DEIKE/jiarongw/multilayer/field_new_500m_')\n",
    "case = config6.add_realization(LEVEL=9, NL=15, rand=2, postfix='noHtheta/')\n",
    "# case = config6.add_realization(LEVEL=9, NL=15, rand=4, postfix='noHtheta/')\n",
    "# case = config6.add_realization(LEVEL=9, NL=15, rand=6, postfix='noHtheta/')\n",
    "# case = config6.add_realization(LEVEL=8, NL=15, rand=0, prefix='adaptive_', postfix='noHtheta/')\n",
    "# case = config6.add_realization(LEVEL=9, NL=15, rand=0, prefix='adaptive_', postfix='noHtheta/')\n",
    "# case = config6.add_realization(LEVEL=10, NL=15, rand=0, prefix='adaptive_', postfix='noHtheta/')\n",
    "# case = config6.add_realization(LEVEL=9, NL=30, rand=0, prefix='adaptive_', postfix='noHtheta/')\n",
    "case = config6.add_realization(LEVEL=9, NL=15, rand=2, RE=40000, Htheta=0.51, prefix='', postfix='Htheta%g/' %0.51,\n",
    "                               path='/projects/DEIKE/jiarongw/multilayer/field_new_500m_P04_RE40000_9_15_rand2_Htheta0.51/')"
   ]
  },
  {
   "cell_type": "code",
   "execution_count": 33,
   "metadata": {},
   "outputs": [],
   "source": [
    "config3_2 = Config(L0=500, P='P03', prefix='/projects/DEIKE/jiarongw/multilayer/field_new_500m_')\n",
    "case = config7.add_realization(LEVEL=9, NL=15, rand=2, prefix='adaptive_', postfix='noHtheta/')\n",
    "case = config7.add_realization(LEVEL=9, NL=15, rand=2, RE=40000, Htheta=0.51, prefix='', postfix='Htheta%g/' %0.51,\n",
    "                               path='/projects/DEIKE/jiarongw/multilayer/field_new_500m_P03_RE40000_9_15_rand2_Htheta0.51/')"
   ]
  },
  {
   "cell_type": "code",
   "execution_count": 34,
   "metadata": {},
   "outputs": [],
   "source": [
    "config3_3 = Config(L0=500, P='P02', prefix='/projects/DEIKE/jiarongw/multilayer/field_new_500m_')\n",
    "# case = config7.add_realization(LEVEL=9, NL=15, rand=0, prefix='adaptive_', postfix='noHtheta/')\n",
    "case = config8.add_realization(LEVEL=9, NL=15, rand=2, prefix='adaptive_', postfix='noHtheta/')\n",
    "case = config8.add_realization(LEVEL=9, NL=15, rand=2, RE=40000, Htheta=0.51, prefix='', postfix='Htheta%g/' %0.51,\n",
    "                               path='/projects/DEIKE/jiarongw/multilayer/field_new_500m_P02_RE40000_9_15_rand2_Htheta0.51/')"
   ]
  },
  {
   "cell_type": "code",
   "execution_count": 9,
   "metadata": {},
   "outputs": [],
   "source": [
    "config3_4 = Config(L0=500, P='P01', prefix='/projects/DEIKE/jiarongw/multilayer/field_new_500m_')\n",
    "# case = config9.add_realization(LEVEL=9, NL=15, rand=2, RE=40000, prefix='adaptive_', postfix='noHtheta/') # This one blows up\n",
    "case = config9.add_realization(LEVEL=9, NL=15, rand=2, RE=40000, Htheta=0.51, prefix='', postfix='Htheta%g/' %0.501,\n",
    "                               path='/projects/DEIKE/jiarongw/multilayer/field_new_500m_P01_RE40000_9_15_rand2_Htheta0.501/')\n",
    "case = config9.add_realization(LEVEL=9, NL=15, rand=2, RE=40000, Htheta=0.51, prefix='', postfix='Htheta%g/' %0.502,\n",
    "                               path='/projects/DEIKE/jiarongw/multilayer/field_new_500m_P01_RE40000_9_15_rand2_Htheta0.502/')\n",
    "# case = config9.add_realization(LEVEL=9, NL=15, rand=2, RE=4000, prefix='', postfix='noHtheta/',\n",
    "#                                path='/projects/DEIKE/jiarongw/multilayer/field_new_500m_P01_RE4000_9_15_rand2_noHtheta/')\n",
    "# case = config9.add_realization(LEVEL=9, NL=15, rand=2, RE=4000, Htheta=0.51, prefix='', postfix='Htheta%g/' %0.51,\n",
    "#                                path='/projects/DEIKE/jiarongw/multilayer/field_new_500m_P01_RE4000_9_15_rand2_Htheta0.51/')\n",
    "case = config9.add_realization(LEVEL=9, NL=15, rand=2, RE=40000, Htheta=0.51, prefix='', postfix='Htheta%g/' %0.51,\n",
    "                               path='/projects/DEIKE/jiarongw/multilayer/field_new_500m_P01_RE40000_9_15_rand2_Htheta0.51/')\n",
    "# case = config9.add_realization(LEVEL=9, NL=15, rand=2, RE=400000, Htheta=0.51, prefix='', postfix='Htheta%g/' %0.51,\n",
    "#                                path='/projects/DEIKE/jiarongw/multilayer/field_new_500m_P01_RE400000_9_15_rand2_Htheta0.51/')"
   ]
  },
  {
   "cell_type": "code",
   "execution_count": null,
   "metadata": {},
   "outputs": [],
   "source": [
    "config1.Hskp0 = 0.368\n",
    "config2.Hskp0 = 0.296\n",
    "config3.Hskp0 = 0.260\n",
    "config4.Hskp0 = 0.184\n",
    "config5.Hskp0 = 0.292\n",
    "config6.Hskp0 = 0.208\n",
    "config7.Hskp0 = 0.148"
   ]
  },
  {
   "cell_type": "markdown",
   "metadata": {},
   "source": [
    "### New cases"
   ]
  },
  {
   "cell_type": "code",
   "execution_count": 6,
   "metadata": {},
   "outputs": [],
   "source": [
    "config1_1 = Config(L0=50, P=0.01, prefix='/projects/DEIKE/jiarongw/multilayer/field_new_50m_')\n",
    "case = config1_1.add_realization(LEVEL=9, NL=15, rand=2, RE=40000, Htheta=0.503, prefix='', postfix='Htheta%g/' %0.503,\n",
    "                               path='/projects/DEIKE/jiarongw/multilayer/field_new_50m_P0.01_RE40000_9_15_rand2_Htheta0.503/')\n",
    "config1_2 = Config(L0=50, P=0.02, prefix='/projects/DEIKE/jiarongw/multilayer/field_new_50m_')\n",
    "case = config1_2.add_realization(LEVEL=9, NL=15, rand=2, RE=40000, Htheta=0.503, prefix='', postfix='Htheta%g/' %0.503,\n",
    "                               path='/projects/DEIKE/jiarongw/multilayer/field_new_50m_P0.02_RE40000_9_15_rand2_Htheta0.503/')"
   ]
  },
  {
   "cell_type": "code",
   "execution_count": 7,
   "metadata": {},
   "outputs": [],
   "source": [
    "config2_0 = Config(L0=200, P=0.005, prefix='/projects/DEIKE/jiarongw/multilayer/field_new_200m_')\n",
    "case = config2_0.add_realization(LEVEL=9, NL=15, rand=2, RE=40000, Htheta=0.503, prefix='', postfix='Htheta%g/' %0.503,\n",
    "                               path='/projects/DEIKE/jiarongw/multilayer/field_new_200m_P0.005_RE40000_9_15_rand2_Htheta0.503/')\n",
    "config2_1 = Config(L0=200, P=0.01, prefix='/projects/DEIKE/jiarongw/multilayer/field_new_200m_')\n",
    "case = config2_1.add_realization(LEVEL=9, NL=15, rand=2, RE=40000, Htheta=0.503, prefix='', postfix='Htheta%g/' %0.503,\n",
    "                               path='/projects/DEIKE/jiarongw/multilayer/field_new_200m_P0.01_RE40000_9_15_rand2_Htheta0.503/')\n",
    "case = config2_1.add_realization(LEVEL=9, NL=15, rand=2, RE=40000, Htheta=0.503, Npower=2, prefix='', postfix='Htheta%g_N2/' %0.503,\n",
    "                               path='/projects/DEIKE/jiarongw/multilayer/field_new_200m_P0.01_RE40000_9_15_rand2_Htheta0.503_N2/')\n",
    "case = config2_1.add_realization(LEVEL=9, NL=15, rand=2, RE=40000, Htheta=0.503, Npower=10, prefix='', postfix='Htheta%g_N10/' %0.503,\n",
    "                               path='/projects/DEIKE/jiarongw/multilayer/field_new_200m_P0.01_RE40000_9_15_rand2_Htheta0.503_N10/')\n",
    "config2_2 = Config(L0=200, P=0.02, prefix='/projects/DEIKE/jiarongw/multilayer/field_new_200m_')\n",
    "case = config2_2.add_realization(LEVEL=9, NL=15, rand=2, RE=40000, Htheta=0.503, prefix='', postfix='Htheta%g/' %0.503,\n",
    "                               path='/projects/DEIKE/jiarongw/multilayer/field_new_200m_P0.02_RE40000_9_15_rand2_Htheta0.503/')\n",
    "case = config2_2.add_realization(LEVEL=9, NL=15, rand=2, RE=40000, Htheta=0.503, Npower=2, prefix='', postfix='Htheta%g_N2/' %0.503,\n",
    "                               path='/projects/DEIKE/jiarongw/multilayer/field_new_200m_P0.02_RE40000_9_15_rand2_Htheta0.503_N2/')\n",
    "case = config2_2.add_realization(LEVEL=9, NL=15, rand=2, RE=40000, Htheta=0.503, Npower=10, prefix='', postfix='Htheta%g_N10/' %0.503,\n",
    "                               path='/projects/DEIKE/jiarongw/multilayer/field_new_200m_P0.02_RE40000_9_15_rand2_Htheta0.503_N10/')\n",
    "config2_3 = Config(L0=200, P=0.03, prefix='/projects/DEIKE/jiarongw/multilayer/field_new_200m_')\n",
    "case = config2_3.add_realization(LEVEL=9, NL=15, rand=2, RE=40000, Htheta=0.503, prefix='', postfix='Htheta%g/' %0.503,\n",
    "                               path='/projects/DEIKE/jiarongw/multilayer/field_new_200m_P0.03_RE40000_9_15_rand2_Htheta0.503/')\n",
    "case = config2_3.add_realization(LEVEL=9, NL=15, rand=2, RE=40000, Htheta=0.503, Npower=2, prefix='', postfix='Htheta%g_N2/' %0.503,\n",
    "                               path='/projects/DEIKE/jiarongw/multilayer/field_new_200m_P0.03_RE40000_9_15_rand2_Htheta0.503_N2/')\n",
    "case = config2_3.add_realization(LEVEL=9, NL=15, rand=2, RE=40000, Htheta=0.503, Npower=10, prefix='', postfix='Htheta%g_N10/' %0.503,\n",
    "                               path='/projects/DEIKE/jiarongw/multilayer/field_new_200m_P0.03_RE40000_9_15_rand2_Htheta0.503_N10/')\n",
    "case = config2_3.add_realization(LEVEL=9, NL=15, rand=2, RE=40000, Htheta=0.503, Npower=5, prefix='', postfix='Htheta%g_s0.45/' %0.503,\n",
    "                               path='/projects/DEIKE/jiarongw/multilayer/field_new_200m_P0.03_RE40000_9_15_rand2_Htheta0.503_s0.45/')\n",
    "\n",
    "# case = config2_3.add_realization(LEVEL=9, NL=30, rand=2, RE=40000, Htheta=0.503, prefix='', postfix='Htheta%g/' %0.503,\n",
    "#                                path='/projects/DEIKE/jiarongw/multilayer/field_new_200m_P0.03_RE40000_9_30_rand2_Htheta0.503/') # This case was overwritten by the new slope-limiter test case \n",
    "# case = config2_3.add_realization(LEVEL=9, NL=60, rand=2, RE=40000, Htheta=0.503, prefix='', postfix='Htheta%g/' %0.503,\n",
    "#                                path='/projects/DEIKE/jiarongw/multilayer/field_new_200m_P0.03_RE40000_9_60_rand2_Htheta0.503/') # This case is not run for the entirety of t=120\n",
    "\n",
    "config2_4 = Config(L0=200, P=0.04, prefix='/projects/DEIKE/jiarongw/multilayer/field_new_200m_')\n",
    "case = config2_4.add_realization(LEVEL=9, NL=15, rand=2, RE=40000, Htheta=0.503, prefix='', postfix='Htheta%g/' %0.503,\n",
    "                               path='/projects/DEIKE/jiarongw/multilayer/field_new_200m_P0.04_RE40000_9_15_rand2_Htheta0.503/')\n",
    "config2_5 = Config(L0=200, P=0.05, prefix='/projects/DEIKE/jiarongw/multilayer/field_new_200m_')\n",
    "case = config2_5.add_realization(LEVEL=9, NL=15, rand=2, RE=40000, Htheta=0.503, prefix='', postfix='Htheta%g/' %0.503,\n",
    "                               path='/projects/DEIKE/jiarongw/multilayer/field_new_200m_P0.05_RE40000_9_15_rand2_Htheta0.503/')\n",
    "config2_6 = Config(L0=400, P=0.03, kp=2*np.pi/40, prefix='/projects/DEIKE/jiarongw/multilayer/field_new_200m_')\n",
    "case = config2_6.add_realization(LEVEL=10, NL=15, rand=2, RE=40000, Htheta=0.503, prefix='', postfix='Htheta%g_400mbox/' %0.503,\n",
    "                                 path='/projects/DEIKE/jiarongw/multilayer/field_new_200m_P0.03_RE40000_10_15_rand2_Htheta0.503_400mbox/')\n",
    "config2_7 = Config(L0=500, P=0.03, kp=2*np.pi/40, prefix='/projects/DEIKE/jiarongw/multilayer/field_new_200m_')\n",
    "# case = config2_7.add_realization(LEVEL=9, NL=15, rand=2, RE=40000, Htheta=0.503, prefix='', postfix='Htheta%g_500mbox/' %0.503,\n",
    "#                                  path='/projects/DEIKE/jiarongw/multilayer/field_new_200m_P0.03_RE40000_9_15_rand2_Htheta0.503_500mbox/')\n",
    "case = config2_7.add_realization(LEVEL=10, NL=15, rand=2, RE=40000, Htheta=0.503, prefix='', postfix='Htheta%g_500mbox/' %0.503,\n",
    "                                 path='/projects/DEIKE/jiarongw/multilayer/field_new_200m_P0.03_RE40000_10_15_rand2_Htheta0.503_500mbox/')\n",
    "config2_8 = Config(L0=400, P=0.03, kp=2*np.pi/40, prefix='/projects/DEIKE/jiarongw/multilayer/field_new_200m_')\n",
    "case = config2_8.add_realization(LEVEL=10, NL=15, rand=2, RE=40000, Htheta=0.503, prefix='', postfix='Htheta%g_400mbox/' %0.503,\n",
    "                                 path='/projects/DEIKE/jiarongw/multilayer/field_new_200m_P0.03_RE40000_10_15_rand2_Htheta0.503_400mbox/')\n",
    "\n",
    "config2_9 = Config(L0=200, P=0.008, kp=2*np.pi/40, prefix='/projects/DEIKE/jiarongw/multilayer/field_new_200m_')\n",
    "case = config2_9.add_realization(LEVEL=9, NL=15, rand=2, RE=40000, Htheta=0.503, prefix='', postfix='Htheta%g/' %0.503,\n",
    "                                 path='/projects/DEIKE/jiarongw/multilayer/field_new_200m_P0.008_RE40000_9_15_rand2_Htheta0.503/')\n",
    "case = config2_9.add_realization(LEVEL=9, NL=15, rand=2, RE=40000, Htheta=0.503, Npower=2, prefix='', postfix='Htheta%g_N2/' %0.503,\n",
    "                                 path='/projects/DEIKE/jiarongw/multilayer/field_new_200m_P0.008_RE40000_9_15_rand2_Htheta0.503_N2/')\n",
    "\n",
    "config2_10 = Config(L0=200, P=0.016, prefix='/projects/DEIKE/jiarongw/multilayer/field_new_200m_')\n",
    "case = config2_10.add_realization(LEVEL=9, NL=15, rand=2, RE=40000, Htheta=0.503, prefix='', postfix='Htheta%g/' %0.503,\n",
    "                               path='/projects/DEIKE/jiarongw/multilayer/field_new_200m_P0.016_RE40000_9_15_rand2_Htheta0.503/')\n",
    "case = config2_10.add_realization(LEVEL=9, NL=15, rand=2, RE=40000, Htheta=0.503, Npower=2, prefix='', postfix='Htheta%g_N2/' %0.503,\n",
    "                               path='/projects/DEIKE/jiarongw/multilayer/field_new_200m_P0.016_RE40000_9_15_rand2_Htheta0.503_N2/')\n",
    "case = config2_10.add_realization(LEVEL=9, NL=15, rand=2, RE=40000, Htheta=0.503, Npower=10, prefix='', postfix='Htheta%g_N10/' %0.503,\n",
    "                               path='/projects/DEIKE/jiarongw/multilayer/field_new_200m_P0.016_RE40000_9_15_rand2_Htheta0.503_N10/')"
   ]
  },
  {
   "cell_type": "code",
   "execution_count": 11,
   "metadata": {},
   "outputs": [],
   "source": [
    "config3_1 = Config(L0=500, P=0.03, prefix='/projects/DEIKE/jiarongw/multilayer/field_new_500m_')\n",
    "case = config3_1.add_realization(LEVEL=9, NL=15, rand=2, RE=40000, Htheta=0.503, prefix='', postfix='Htheta%g/' %0.503,\n",
    "                               path='/projects/DEIKE/jiarongw/multilayer/field_new_500m_P0.03_RE40000_9_15_rand2_Htheta0.503/')\n",
    "config3_2 = Config(L0=500, P=0.05, prefix='/projects/DEIKE/jiarongw/multilayer/field_new_500m_')\n",
    "case = config3_2.add_realization(LEVEL=9, NL=15, rand=2, RE=40000, Htheta=0.503, prefix='', postfix='Htheta%g/' %0.503,\n",
    "                               path='/projects/DEIKE/jiarongw/multilayer/field_new_500m_P0.05_RE40000_9_15_rand2_Htheta0.503/')\n",
    "config3_3 = Config(L0=500, P=0.07, prefix='/projects/DEIKE/jiarongw/multilayer/field_new_500m_')\n",
    "case = config3_3.add_realization(LEVEL=9, NL=15, rand=2, RE=40000, Htheta=0.503, prefix='', postfix='Htheta%g/' %0.503,\n",
    "                               path='/projects/DEIKE/jiarongw/multilayer/field_new_500m_P0.07_RE40000_9_15_rand2_Htheta0.503/')"
   ]
  },
  {
   "cell_type": "code",
   "execution_count": null,
   "metadata": {},
   "outputs": [],
   "source": [
    "for config in (config1,config2,config3,config4,config5,config6,config7):\n",
    "    print('%g, ' %config.L0 + config.P + ', %g' %config.ustar + ', %g' %(config.cp/config.ustar))"
   ]
  },
  {
   "cell_type": "markdown",
   "metadata": {},
   "source": [
    "### Only one kp"
   ]
  },
  {
   "cell_type": "code",
   "execution_count": 8,
   "metadata": {},
   "outputs": [],
   "source": [
    "config0 = Config(L0=200, P=0.002, prefix='/projects/DEIKE/jiarongw/multilayer/field_new_200m_')\n",
    "case = config0.add_realization(LEVEL=9, NL=15, rand=2, RE=40000, Htheta=0.503, prefix='', postfix='Htheta%g/' %0.503,\n",
    "                               path='/projects/DEIKE/jiarongw/multilayer/field_new_200m_P0.002_RE40000_9_15_rand2_Htheta0.503/')\n",
    "\n",
    "config1 = Config(L0=200, P=0.005, prefix='/projects/DEIKE/jiarongw/multilayer/field_new_200m_')\n",
    "case = config1.add_realization(LEVEL=9, NL=15, rand=2, RE=40000, Htheta=0.503, prefix='', postfix='Htheta%g/' %0.503,\n",
    "                               path='/projects/DEIKE/jiarongw/multilayer/field_new_200m_P0.005_RE40000_9_15_rand2_Htheta0.503/')\n",
    "case = config1.add_realization(LEVEL=9, NL=15, rand=2, RE=40000, Htheta=0.503, Npower=2, prefix='', postfix='Htheta%g_N2/' %0.503,\n",
    "                               path='/projects/DEIKE/jiarongw/multilayer/field_new_200m_P0.005_RE40000_9_15_rand2_Htheta0.503_N2/')\n",
    "\n",
    "\n",
    "config2 = Config(L0=200, P=0.01, prefix='/projects/DEIKE/jiarongw/multilayer/field_new_200m_')\n",
    "case = config2.add_realization(LEVEL=9, NL=15, rand=2, RE=40000, Htheta=0.503, prefix='', postfix='Htheta%g/' %0.503,\n",
    "                               path='/projects/DEIKE/jiarongw/multilayer/field_new_200m_P0.01_RE40000_9_15_rand2_Htheta0.503/')\n",
    "case = config2.add_realization(LEVEL=9, NL=15, rand=2, RE=40000, Htheta=0.503, Npower=2, prefix='', postfix='Htheta%g_N2/' %0.503,\n",
    "                               path='/projects/DEIKE/jiarongw/multilayer/field_new_200m_P0.01_RE40000_9_15_rand2_Htheta0.503_N2/')\n",
    "\n",
    "\n",
    "config3 = Config(L0=200, P=0.02, prefix='/projects/DEIKE/jiarongw/multilayer/field_new_200m_')\n",
    "case = config3.add_realization(LEVEL=9, NL=15, rand=2, RE=40000, Htheta=0.503, prefix='', postfix='Htheta%g/' %0.503,\n",
    "                               path='/projects/DEIKE/jiarongw/multilayer/field_new_200m_P0.02_RE40000_9_15_rand2_Htheta0.503/')\n",
    "case = config3.add_realization(LEVEL=9, NL=15, rand=2, RE=40000, Htheta=0.503, Npower=2, prefix='', postfix='Htheta%g_N2/' %0.503,\n",
    "                               path='/projects/DEIKE/jiarongw/multilayer/field_new_200m_P0.02_RE40000_9_15_rand2_Htheta0.503_N2/')\n",
    "\n",
    "config4 = Config(L0=200, P=0.03, prefix='/projects/DEIKE/jiarongw/multilayer/field_new_200m_')\n",
    "case = config4.add_realization(LEVEL=9, NL=15, rand=2, RE=40000, Htheta=0.503, prefix='', postfix='Htheta%g/' %0.503,\n",
    "                               path='/projects/DEIKE/jiarongw/multilayer/field_new_200m_P0.03_RE40000_9_15_rand2_Htheta0.503/')\n",
    "case = config4.add_realization(LEVEL=9, NL=15, rand=2, RE=40000, Htheta=0.503, Npower=2, prefix='', postfix='Htheta%g_N2/' %0.503,\n",
    "                               path='/projects/DEIKE/jiarongw/multilayer/field_new_200m_P0.03_RE40000_9_15_rand2_Htheta0.503_N2/')\n",
    "case = config4.add_realization(LEVEL=9, NL=30, rand=2, RE=40000, Htheta=0.503, prefix='', postfix='Htheta%g/' %0.503,\n",
    "                               path='/projects/DEIKE/jiarongw/multilayer/field_new_200m_P0.03_RE40000_9_30_rand2_Htheta0.503/')\n",
    "# case = config4.add_realization(LEVEL=9, NL=60, rand=2, RE=40000, Htheta=0.503, prefix='', postfix='Htheta%g/' %0.503,\n",
    "#                                path='/projects/DEIKE/jiarongw/multilayer/field_new_200m_P0.03_RE40000_9_60_rand2_Htheta0.503/') # This case is not run for the entirety of t=120\n",
    "\n",
    "config5 = Config(L0=200, P=0.04, prefix='/projects/DEIKE/jiarongw/multilayer/field_new_200m_')\n",
    "case = config5.add_realization(LEVEL=9, NL=15, rand=2, RE=40000, Htheta=0.503, prefix='', postfix='Htheta%g/' %0.503,\n",
    "                               path='/projects/DEIKE/jiarongw/multilayer/field_new_200m_P0.04_RE40000_9_15_rand2_Htheta0.503/')\n",
    "\n",
    "config6 = Config(L0=200, P=0.05, prefix='/projects/DEIKE/jiarongw/multilayer/field_new_200m_')\n",
    "case = config6.add_realization(LEVEL=9, NL=15, rand=2, RE=40000, Htheta=0.503, prefix='', postfix='Htheta%g/' %0.503,\n",
    "                               path='/projects/DEIKE/jiarongw/multilayer/field_new_200m_P0.05_RE40000_9_15_rand2_Htheta0.503/')\n",
    "\n",
    "config4_box1 = Config(L0=400, P=0.03, kp=2*np.pi/40, prefix='/projects/DEIKE/jiarongw/multilayer/field_new_200m_')\n",
    "case = config4_box1.add_realization(LEVEL=10, NL=15, rand=2, RE=40000, Htheta=0.503, prefix='', postfix='Htheta%g_400mbox/' %0.503,\n",
    "                                    path='/projects/DEIKE/jiarongw/multilayer/field_new_200m_P0.03_RE40000_10_15_rand2_Htheta0.503_400mbox/')\n",
    "\n",
    "config4_box2 = Config(L0=500, P=0.03, kp=2*np.pi/40, prefix='/projects/DEIKE/jiarongw/multilayer/field_new_200m_')\n",
    "case = config4_box2.add_realization(LEVEL=10, NL=15, rand=2, RE=40000, Htheta=0.503, prefix='', postfix='Htheta%g_500mbox/' %0.503,\n",
    "                                 path='/projects/DEIKE/jiarongw/multilayer/field_new_200m_P0.03_RE40000_10_15_rand2_Htheta0.503_500mbox/')\n",
    "\n",
    "config4_alter1 = Config(L0=200, P=0.8, kp=2*np.pi/40, prefix='/projects/DEIKE/jiarongw/multilayer/field_new_200m_')\n",
    "case = config4_alter1.add_realization(LEVEL=9, NL=15, rand=2, RE=40000, Htheta=0.503, prefix='', postfix='Htheta%g_alter1/' %0.503,\n",
    "                                 path='/projects/DEIKE/jiarongw/multilayer/field_new_200m_P0.8_RE40000_9_15_rand2_Htheta0.503_alter1/')\n",
    "\n",
    "config4_alter2 = Config(L0=200, P=0.2, kp=2*np.pi/40, prefix='/projects/DEIKE/jiarongw/multilayer/field_new_200m_')\n",
    "case = config4_alter2.add_realization(LEVEL=9, NL=15, rand=2, RE=40000, Htheta=0.503, prefix='', postfix='Htheta%g_alter2/' %0.503,\n",
    "                                 path='/projects/DEIKE/jiarongw/multilayer/field_new_200m_P0.2_RE40000_9_15_rand2_Htheta0.503_alter2/')\n",
    "\n"
   ]
  },
  {
   "cell_type": "code",
   "execution_count": null,
   "metadata": {},
   "outputs": [],
   "source": []
  }
 ],
 "metadata": {
  "kernelspec": {
   "display_name": "Python 3",
   "language": "python",
   "name": "python3"
  },
  "language_info": {
   "codemirror_mode": {
    "name": "ipython",
    "version": 3
   },
   "file_extension": ".py",
   "mimetype": "text/x-python",
   "name": "python",
   "nbconvert_exporter": "python",
   "pygments_lexer": "ipython3",
   "version": "3.7.3"
  }
 },
 "nbformat": 4,
 "nbformat_minor": 4
}
