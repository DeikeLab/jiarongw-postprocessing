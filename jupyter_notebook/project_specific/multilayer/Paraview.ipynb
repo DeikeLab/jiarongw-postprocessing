{
 "cells": [
  {
   "cell_type": "code",
   "execution_count": 15,
   "metadata": {},
   "outputs": [],
   "source": [
    "from pyevtk.hl import gridToVTK\n",
    "from tqdm import tqdm\n",
    "import numpy as np"
   ]
  },
  {
   "cell_type": "code",
   "execution_count": 6,
   "metadata": {},
   "outputs": [],
   "source": [
    "def read (pre='eta_matrix_', t=100, index=0, N=512, filepath='/projects/DEIKE/jiarongw/multilayer/paraview/'):\n",
    "    filename = filepath + pre + 't%g_' %t + 'l%g' %index\n",
    "    f = np.fromfile(filename, dtype=np.float32)\n",
    "    f = f.reshape(N+1,N+1); f = f[1:,1:]\n",
    "    return f\n",
    "\n",
    "def read_t (t=100, filepath='/projects/DEIKE/jiarongw/multilayer/paraview/', N=512, Nl=15):\n",
    "    h_ensem = []; ux_ensem = []; uy_ensem = []; uz_ensem = []\n",
    "    for l in range (0,Nl):\n",
    "        h = read(pre='h_matrix_', t=t, index=l, N=N, filepath=filepath)\n",
    "        ux = read(pre='ux_matrix_', t=t, index=l, N=N, filepath=filepath)\n",
    "        uy = read(pre='uy_matrix_', t=t, index=l, N=N, filepath=filepath)\n",
    "        uz = read(pre='uz_matrix_', t=t, index=l, N=N, filepath=filepath)\n",
    "        h_ensem.append(h)\n",
    "        ux_ensem.append(ux)\n",
    "        uy_ensem.append(uy)\n",
    "        uz_ensem.append(uz)\n",
    "\n",
    "    h_ensem = np.array (h_ensem)\n",
    "    ux_ensem = np.array (ux_ensem)\n",
    "    uy_ensem = np.array (uy_ensem)\n",
    "    uz_ensem = np.array (uz_ensem)\n",
    "    \n",
    "    return (h_ensem, ux_ensem, uy_ensem, uz_ensem)"
   ]
  },
  {
   "cell_type": "code",
   "execution_count": 13,
   "metadata": {},
   "outputs": [],
   "source": [
    "\"\"\" convert the 3D array to vtk file for paraview. Need to specify L0 and H \"\"\"\n",
    "\n",
    "def array_to_vtk (h_ensem, ux_ensem, uy_ensem, uz_ensem, ichoice, \n",
    "                  filepath='/projects/DEIKE/jiarongw/multilayer/paraview/vtk/', \n",
    "                  L0=200, H=40, Nh=512, Nl=15):\n",
    "    fieldnames = ['x', 'y', 'z', 'ux', 'uy', 'uz', 'f']\n",
    "\n",
    "    x_vtk = np.zeros([Nh+1,Nh+1,Nl+1])\n",
    "    y_vtk = np.zeros([Nh+1,Nh+1,Nl+1])\n",
    "    z_vtk = np.zeros([Nh+1,Nh+1,Nl+1])\n",
    "    f_vtk = np.zeros([Nh,Nh,Nl])\n",
    "    ux_vtk = np.zeros([Nh,Nh,Nl])\n",
    "    uy_vtk = np.zeros([Nh,Nh,Nl])\n",
    "    uz_vtk = np.zeros([Nh,Nh,Nl])\n",
    "\n",
    "    h_ensem_expand = np.zeros([Nl,Nh+1,Nh+1]) # Need to go from centered to grid, pad the array\n",
    "    h_ensem_expand[:,:Nh,:Nh] = np.copy(h_ensem) # Need to go from centered to grid\n",
    "    h_ensem_expand[:,Nh,:Nh] = np.copy(h_ensem[:,Nh-1,:Nh])\n",
    "    h_ensem_expand[:,:Nh,Nh] = np.copy(h_ensem[:,:Nh,Nh-1])\n",
    "    h_ensem_expand[:,Nh,Nh] = np.copy(h_ensem[:,Nh-1,Nh-1])\n",
    "    h_ensem_expand = np.array(h_ensem_expand)\n",
    "\n",
    "    xarray = np.linspace(-L0/2, L0/2, Nh+1, endpoint=True)\n",
    "    yarray = np.linspace(-L0/2, L0/2, Nh+1, endpoint=True)\n",
    "\n",
    "    for k in range(Nl+1):\n",
    "        for i in range(Nh+1):\n",
    "            for j in range(Nh+1):\n",
    "                z_vtk[i,j,k] = np.sum(h_ensem_expand[:k,i,j]) - H\n",
    "                x_vtk[i,j,k] = xarray[i]\n",
    "                y_vtk[i,j,k] = yarray[j]\n",
    "\n",
    "    for k in range(Nl):\n",
    "        for i in range(Nh):\n",
    "            for j in range(Nh):\n",
    "                ux_vtk[i,j,k] = ux_ensem[k,i,j]\n",
    "                uy_vtk[i,j,k] = uy_ensem[k,i,j]\n",
    "                uz_vtk[i,j,k] = uz_ensem[k,i,j]\n",
    "                if k == Nl-1: # surface layer\n",
    "                    f_vtk[i,j,k] = 0\n",
    "                else:\n",
    "                    f_vtk[i,j,k] = 1\n",
    "                    \n",
    "    gridToVTK(filepath + \"structured_%g\" %ichoice, x_vtk, y_vtk, z_vtk, cellData = {\"f\": f_vtk, \"ux\": ux_vtk, \"uy\": uy_vtk, \"uz\": uz_vtk})\n",
    "    return x_vtk, y_vtk, z_vtk"
   ]
  },
  {
   "cell_type": "code",
   "execution_count": 16,
   "metadata": {},
   "outputs": [],
   "source": [
    "tchoice = 3.6\n",
    "h_ensem, ux_ensem, uy_ensem, uz_ensem = read_t(t=tchoice, filepath='/projects/DEIKE/jiarongw/multilayer/revision/stokes_ml_1/field/', N=256, Nl=30)\n",
    "x_vtk, y_vtk, z_vtk = array_to_vtk (h_ensem, ux_ensem, uy_ensem, uz_ensem, ichoice=3.6, \n",
    "                                    filepath='/projects/DEIKE/jiarongw/multilayer/revision/stokes_ml_1/vtk/',\n",
    "                                    L0=1, H=0.5, Nh=256, Nl=30)\n"
   ]
  },
  {
   "cell_type": "code",
   "execution_count": null,
   "metadata": {},
   "outputs": [],
   "source": []
  }
 ],
 "metadata": {
  "kernelspec": {
   "display_name": "gp",
   "language": "python",
   "name": "gp"
  },
  "language_info": {
   "codemirror_mode": {
    "name": "ipython",
    "version": 3
   },
   "file_extension": ".py",
   "mimetype": "text/x-python",
   "name": "python",
   "nbconvert_exporter": "python",
   "pygments_lexer": "ipython3",
   "version": "3.10.4"
  }
 },
 "nbformat": 4,
 "nbformat_minor": 4
}
