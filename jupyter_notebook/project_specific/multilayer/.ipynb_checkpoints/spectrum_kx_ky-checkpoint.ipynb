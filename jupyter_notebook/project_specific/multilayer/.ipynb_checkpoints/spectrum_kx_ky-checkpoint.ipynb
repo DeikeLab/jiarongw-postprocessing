{
 "cells": [
  {
   "cell_type": "code",
   "execution_count": null,
   "metadata": {},
   "outputs": [],
   "source": [
    "import pandas as pd\n",
    "import numpy as np\n",
    "import math\n",
    "from matplotlib import pyplot as plt\n",
    "import os\n",
    "import sys\n",
    "import pickle\n",
    "# Add the function directory to the path\n",
    "sys.path.append('/home/jiarong/research/postprocessing/jupyter_notebook/functions/')\n",
    "from Slicing import Slicing\n",
    "from fio import readin\n",
    "from TurStat import TurStat\n",
    "from tqdm import tqdm\n",
    "from visualization import contour_generator"
   ]
  },
  {
   "cell_type": "code",
   "execution_count": null,
   "metadata": {},
   "outputs": [],
   "source": [
    "'''\n",
    "    Initialization based on PM/Jonswap.\n",
    "    All identities with _tile are two-dimensional array.\n",
    "    In principle kmax = 2*np.pi/(2L/N_grid), kmin=2*np.pi/L.\n",
    "''' \n",
    "# Function to convert polar to cartesian and interpolate\n",
    "def cart2pol(x, y):\n",
    "    rho = np.sqrt(x**2 + y**2)\n",
    "    phi = np.arctan2(y, x)\n",
    "    return(rho, phi)\n",
    "def pol2cart(rho, phi):\n",
    "    x = rho * np.cos(phi)\n",
    "    y = rho * np.sin(phi)\n",
    "    return(x, y)\n",
    "\n",
    "# Spectrum in polar coordinate\n",
    "kp = 2*np.pi/10 # peak at 10m\n",
    "P = 0.005\n",
    "N_power = 5;  thetam = 0\n",
    "N_kmod = 64; N_theta = 64 # Uniform grid in kmod and ktheta\n",
    "# kmod = np.linspace(0.2,4,N_kmod);\n",
    "kmod = np.linspace(0.2,0.4,N_kmod); theta = np.linspace(-0.5*np.pi, 0.5*np.pi, N_theta)\n",
    "kmod_tile, theta_tile = np.meshgrid(kmod,theta)\n",
    "# F_kmod = P*kmod**(-2.5)*np.exp(-0.75*(kp/kmod)**2)\n",
    "F_kmod = P*kmod**(-2.5)*np.exp(-0.75*(kp/kmod)**2)\n",
    "D_theta = np.cos(theta-thetam)**N_power\n",
    "D_theta = D_theta/np.trapz(D_theta, theta) # Normalize so the sum equals one\n",
    "F_kmod_tile, D_theta_tile = np.meshgrid(F_kmod,D_theta) # Direct metrix multiplication in python\n",
    "F_kmodtheta_tile = F_kmod_tile*D_theta_tile\n",
    "\n",
    "# Project onto kx,ky\n",
    "N_mode = 16; L =500\n",
    "kx = np.arange(0,N_mode,1)*2*np.pi/L # based on the grid, interval can't go smaller then pi/L\n",
    "ky = np.arange(-N_mode/2,N_mode/2,1)*2*np.pi/L\n",
    "dkx = kx[1]-kx[0]; dky = ky[1]-ky[0]\n",
    "kx_tile, ky_tile = np.meshgrid(kx,ky)\n",
    "kxp_tile, kyp_tile = pol2cart(kmod_tile, theta_tile)\n",
    "from scipy.interpolate import LinearNDInterpolator, griddata\n",
    "F_kxky_tile = griddata((kxp_tile.ravel(),kyp_tile.ravel()), F_kmodtheta_tile.ravel(), (kx_tile, ky_tile), \n",
    "                       method='nearest')\n",
    "# interpolator = LinearNDInterpolator((kxp_tile.ravel(),kyp_tile.ravel()), F_kmodtheta_tile.ravel())\n",
    "# F_kxky_tile = interpolator(kx_tile, ky_tile) \n",
    "plt.imshow(F_kxky_tile, extent=[kx_tile[0,0],kx_tile[-1,-1],ky_tile[0,0],ky_tile[-1,-1]])\n",
    "plt.ylabel('ky'); plt.xlabel('kx')\n",
    "# plt.plot(kmod, F_kmod, '.')\n",
    "# plt.ylabel('F(k)'); plt.xlabel('k')"
   ]
  },
  {
   "cell_type": "code",
   "execution_count": null,
   "metadata": {},
   "outputs": [],
   "source": [
    "'''\n",
    "    Add modes together to generate initial eta field. Random phase.\n",
    "'''\n",
    "N_grid = 256\n",
    "x = np.linspace(-L/2,L/2,N_grid); y = np.linspace(-L/2,L/2,N_grid)\n",
    "x_tile, y_tile = np.meshgrid(x, y)\n",
    "kmod_cart_tile, theta_cart_tile = cart2pol(kx_tile,ky_tile)\n",
    "omega_tile = (9.8*kmod_cart_tile)**0.5 # frequency based on kx or kmod\n",
    "# This is the only place that the random field is generated, everything else should agree;\n",
    "# and we want to seed the random number\n",
    "def eta_random(t):\n",
    "    global N_grid, kx_tile, ky_tile, F_kxky_tile, dkx, dky, omega_title\n",
    "    np.random.seed(3) \n",
    "    tb = 40; xb = 0; yb = 0\n",
    "    phase_tile = -kx_tile*xb-ky_tile*yb+omega_tile*tb+np.random.random_sample(kx_tile.shape)*5 # Add a random phase field\n",
    "    eta_tile = np.zeros(x_tile.shape)\n",
    "    for i1 in range(0,N_grid):\n",
    "        for i2 in range(0,N_grid):\n",
    "            ampl = (2*F_kxky_tile*dkx*dky)**0.5\n",
    "            # How to exactly represent integrate over dk_x*dk_y*eta_hat?\n",
    "            # mode = (F_kdirectional**0.5)*np.cos((kx_tile*x_tile[i1,i2]+ky_tile*y_tile[i1,i2])+\n",
    "            #                                    phase_tile)*(kmod_tile*(kmod[1]-kmod[0])*(theta[1]-theta[0])) # uniform space in k and theta\n",
    "            a = (kx_tile*x_tile[i1,i2]+ky_tile*y_tile[i1,i2])-omega_tile*t+phase_tile\n",
    "            mode = ampl*(np.cos(a)) # uniform spacing in kx and ky\n",
    "            eta_tile[i1,i2] = np.sum(mode)    \n",
    "    return eta_tile,phase_tile"
   ]
  },
  {
   "cell_type": "code",
   "execution_count": null,
   "metadata": {},
   "outputs": [],
   "source": [
    "'''\n",
    "    Add modes together to generate initial eta field.\n",
    "    Phase not random but focusing.\n",
    "'''\n",
    "# This is the only place that the random field is generated, everything else should agree;\n",
    "# and we want to seed the random number\n",
    "def eta_focusing(t):\n",
    "    global N_grid, kx_tile, ky_tile, F_kxky_tile, dkx, dky, omega_title\n",
    "    tb = 40; xb = 0; yb = 0 # travelling at group velocity?\n",
    "    phase_tile = -kx_tile*xb-ky_tile*yb+omega_tile*tb\n",
    "    # phase_tile = np.random.random_sample(kx_tile.shape)*2*np.pi # Add a random phase field\n",
    "    # x = np.linspace(-L/2,L/2+L/N_grid,N_grid+1,endpoint=False)+L/N_grid/2; y = np.linspace(-L/2,L/2,N_grid,endpoint=False)+L/N_grid/2\n",
    "    x = np.linspace(-L/2,L/2,N_grid,endpoint=False)+L/N_grid/2 # So that interpolation does not have nan\n",
    "    y = np.linspace(-L/2,L/2,N_grid,endpoint=False)+L/N_grid/2\n",
    "    x_tile, y_tile = np.meshgrid(x, y)\n",
    "    eta_tile = np.zeros(x_tile.shape)\n",
    "    t = 0\n",
    "    for i1 in range(0,N_grid):\n",
    "        for i2 in range(0,N_grid):\n",
    "            ampl = (2*F_kxky_tile*dkx*dky)**0.5\n",
    "            a = (kx_tile*x_tile[i1,i2]+ky_tile*y_tile[i1,i2])-omega_tile*t+phase_tile\n",
    "            mode = ampl*(np.cos(a)) # uniform space in kx and ky\n",
    "            eta_tile[i1,i2] = np.sum(mode)  \n",
    "    return eta_tile,phase_tile"
   ]
  },
  {
   "cell_type": "code",
   "execution_count": null,
   "metadata": {},
   "outputs": [],
   "source": [
    "# How to speed up matplotlib\n",
    "# https://stackoverflow.com/questions/8955869/why-is-plotting-with-matplotlib-so-slow\n",
    "from matplotlib import animation\n",
    "from visualization import contour\n",
    "from IPython.display import HTML\n",
    "import numpy as np\n",
    "import matplotlib as mpl\n",
    "import matplotlib.pyplot as plt\n",
    "import matplotlib.gridspec as gridspec\n",
    "import matplotlib.colors as mcolors\n",
    "import matplotlib.image as mpimg\n",
    "\n",
    "# Single animation generation function\n",
    "def plot_animation(animate_function, frame_number = 31, interval_time = 100):\n",
    "\n",
    "    # First set up the figure, the axis, and the plot element we want to animate    \n",
    "    fig,ax = contour_generator()\n",
    "    pcontour = ax[0].imshow(eta_tile*kp, vmax=0.2, vmin=-0.2)\n",
    "    ax[0].cax.colorbar(pcontour)\n",
    "\n",
    "    # animation function.  This is called sequentially\n",
    "    def animate(i):\n",
    "        t = i*2\n",
    "        imgplot = animate_function(i, ax[0])\n",
    "        return imgplot,\n",
    "\n",
    "    # call the animator.  blit=True means only re-draw the parts that have changed.\n",
    "    anim = animation.FuncAnimation(fig, animate, frames=frame_number, interval=interval_time, blit = True)  \n",
    "    return anim\n",
    "\n",
    "# Define the function called at every animation time to read in images\n",
    "def plot_func(i, ax):\n",
    "    t = i\n",
    "    eta_tile = eta_random(t)\n",
    "    image = ax.imshow(eta_tile*kp, vmax=0.2, vmin=-0.2)\n",
    "    return image\n",
    "\n",
    "anim = plot_animation(plot_func, frame_number = 100, interval_time = 100) # Specify frame number\n",
    "HTML(anim.to_html5_video())"
   ]
  },
  {
   "cell_type": "code",
   "execution_count": 63,
   "metadata": {},
   "outputs": [
    {
     "data": {
      "text/plain": [
       "<mpl_toolkits.axes_grid1.colorbar.Colorbar at 0x7f2e47cb9d30>"
      ]
     },
     "execution_count": 63,
     "metadata": {},
     "output_type": "execute_result"
    },
    {
     "data": {
      "image/png": "[encoded data removed]",
      "text/plain": [
       "<Figure size 720x288 with 2 Axes>"
      ]
     },
     "metadata": {
      "needs_background": "light"
     },
     "output_type": "display_data"
    }
   ],
   "source": [
    "fig,grid = contour_generator()\n",
    "eta_tile,phase_tile = eta_random(0)\n",
    "pcontour = grid[0].imshow(eta_tile*kp, vmax=0.2, vmin=-0.2)\n",
    "grid[0].cax.colorbar(pcontour)"
   ]
  },
  {
   "cell_type": "code",
   "execution_count": 64,
   "metadata": {},
   "outputs": [
    {
     "name": "stdout",
     "output_type": "stream",
     "text": [
      "0.005224080114053854\n",
      "0.005226775779722109\n",
      "0.045425195316719374\n",
      "-0.00012301678446438192\n"
     ]
    }
   ],
   "source": [
    "'''\n",
    "    Check that calculation of F(kmod) is consistent by comparing integration of F(kmod) and mean square\n",
    "    of the initial eta field.\n",
    "'''\n",
    "dx = L/N_grid\n",
    "F_integrated = np.sum(F_kxky_tile)*((kx[1]-kx[0])*(ky[1]-ky[0])) # Integration over kx ky is easier\n",
    "print(F_integrated)\n",
    "print(np.sum((eta_tile-np.average(eta_tile))**2)/(L**2)*dx*dx)# Notice the Delta x normalization\n",
    "print(np.std(eta_tile)*kp)\n",
    "print(np.average(eta_tile))"
   ]
  },
  {
   "cell_type": "code",
   "execution_count": null,
   "metadata": {},
   "outputs": [],
   "source": [
    "'''\n",
    "    Output eta to file\n",
    "'''\n",
    "eta_tile,phase_tile = eta_focusing(0)\n",
    "feta = open(\"/home/jiarong/research/projects/multilayer/testing/focusing2D_CFL01_layer60/pre/eta\", 'bw')\n",
    "eta_output = eta_tile.astype('float32'); eta_output.tofile(feta)"
   ]
  },
  {
   "cell_type": "code",
   "execution_count": null,
   "metadata": {},
   "outputs": [],
   "source": [
    "'''\n",
    "    Interpolate onto a higher level grid without introducing more higher wavenumber modes.\n",
    "    Output to file.\n",
    "'''\n",
    "RATIO = 8\n",
    "x_higher = np.linspace(-L/2,L/2,N_grid*RATIO,endpoint=False)+L/(N_grid*RATIO)/2;\n",
    "y_higher = np.linspace(-L/2,L/2,N_grid*RATIO,endpoint=False)+L/(N_grid*RATIO)/2;\n",
    "x_tile_higher,y_tile_higher = np.meshgrid(x_higher, y_higher)\n",
    "from scipy.interpolate import RegularGridInterpolator\n",
    "eta_tile_higher = griddata((x_tile.ravel(),y_tile.ravel()), eta_tile.ravel(), (x_tile_higher, y_tile_higher), \n",
    "                       method='linear')\n",
    "feta = open(\"/home/jiarong/research/projects/multilayer/testing/multigrid_changeheader/trial11/pre/eta\", 'bw')\n",
    "eta_output = eta_tile_higher.astype('float32'); eta_output.tofile(feta)"
   ]
  },
  {
   "cell_type": "code",
   "execution_count": null,
   "metadata": {},
   "outputs": [],
   "source": [
    "'''\n",
    "    Check that calculation of F(kmod) is consistent by comparing integration of F(kmod) and mean square\n",
    "    of the initial eta field.\n",
    "'''\n",
    "RATIO=8\n",
    "dx = L/(N_grid*RATIO)\n",
    "F_integrated = np.sum(F_kxky_tile)*((kx[1]-kx[0])*(ky[1]-ky[0])) # Integration over kx ky is easier\n",
    "print(F_integrated)\n",
    "print(np.sum((eta_tile_higher-np.average(eta_tile_higher))**2)/(L**2)*dx*dx)# Notice the Delta x normalization\n",
    "print(np.std(eta_tile_higher)*kp)\n",
    "print(np.average(eta_tile_higher))"
   ]
  },
  {
   "cell_type": "code",
   "execution_count": null,
   "metadata": {},
   "outputs": [],
   "source": [
    "'''\n",
    "    A second way of initializing velocity. Adding an actual z option. \n",
    "'''\n",
    "eta_tile, phase_tile = eta_focusing(0)\n",
    "zb = -5; z_tile = zb*np.ones(x_tile.shape) # computational domain bottom position\n",
    "N_layer = 60 # Number of layers used \n",
    "h_tile = eta_tile/N_layer # height of each layer (uniformly divided)\n",
    "g = 9.8\n",
    "u_tile = np.zeros(x_tile.shape); v_tile = np.zeros(x_tile.shape); w_tile = np.zeros(x_tile.shape)\n",
    "u_set = []; v_set = []; w_set = []; z_set=[] # For sanity checks\n",
    "kmod_cart_tile, theta_cart_tile = cart2pol(kx_tile,ky_tile) # The module of k from kx_tile and ky_tile\n",
    "for l in tqdm(range(0, N_layer)):\n",
    "    u_tile, v_tile, w_tile = np.zeros(x_tile.shape), np.zeros(x_tile.shape), np.zeros(x_tile.shape)\n",
    "    z_tile = z_tile + (eta_tile-zb)/N_layer/2\n",
    "    for i1 in range(0,N_grid):\n",
    "        for i2 in range(0,N_grid):\n",
    "            ampl = (2*F_kxky_tile*dkx*dky)**0.5\n",
    "            actual_z_tile = np.minimum(ampl, np.ones(ampl.shape)*z_tile[i1,i2]) # Element wise comparison\n",
    "            a = (kx_tile*x_tile[i1,i2]+ky_tile*y_tile[i1,i2])+phase_tile\n",
    "            mode = ampl*(np.cos(a))\n",
    "            # u = \\sqrt{gk}*A*sin(kx-wt), but also need to consider direction cos(theta)\n",
    "            u_mode = (g*kmod_cart_tile)**0.5*ampl*np.exp(kmod_cart_tile*actual_z_tile)*np.cos(a)*np.cos(theta_cart_tile)\n",
    "            v_mode = (g*kmod_cart_tile)**0.5*ampl*np.exp(kmod_cart_tile*actual_z_tile)*np.cos(a)*np.sin(theta_cart_tile)\n",
    "            w_mode = (g*kmod_cart_tile)**0.5*ampl*np.exp(kmod_cart_tile*actual_z_tile)*np.sin(a)\n",
    "            u_tile[i1,i2] = np.sum(u_mode); v_tile[i1,i2] = np.sum(v_mode); w_tile[i1,i2] = np.sum(w_mode)\n",
    "    u_set.append(u_tile); v_set.append(v_tile); w_set.append(w_tile); z_set.append(z_tile)\n",
    "    fu = open(\"/home/jiarong/research/projects/multilayer/testing/focusing2D_CFL01_layer60/pre/u_layer%g\" %l, \"bw\")\n",
    "    u_output = u_tile.astype('float32'); u_output.tofile(fu)\n",
    "    fv = open(\"/home/jiarong/research/projects/multilayer/testing/focusing2D_CFL01_layer60/pre/v_layer%g\" %l, \"bw\")\n",
    "    v_output = v_tile.astype('float32'); v_output.tofile(fv)\n",
    "    fw = open(\"/home/jiarong/research/projects/multilayer/testing/focusing2D_CFL01_layer60/pre/w_layer%g\" %l, \"bw\")\n",
    "    w_output = w_tile.astype('float32'); w_output.tofile(fw)\n",
    "    z_tile = z_tile + (eta_tile-zb)/N_layer/2"
   ]
  },
  {
   "cell_type": "code",
   "execution_count": null,
   "metadata": {},
   "outputs": [],
   "source": [
    "'''\n",
    "    A second way of initializing velocity. Adding an actual z option. \n",
    "    Interpolate onto a higher level grid without introducing more higher wavenumber modes.\n",
    "'''\n",
    "zb = -5; z_tile = zb*np.ones(x_tile.shape) # computational domain bottom position\n",
    "N_layer = 15 # Number of layers used \n",
    "h_tile = eta_tile/N_layer # height of each layer (uniformly divided)\n",
    "g = 9.8\n",
    "u_tile = np.zeros(x_tile.shape); v_tile = np.zeros(x_tile.shape); w_tile = np.zeros(x_tile.shape)\n",
    "u_set = []; v_set = []; w_set = []; z_set=[] # For sanity checks\n",
    "kmod_cart_tile, theta_cart_tile = cart2pol(kx_tile,ky_tile) # The module of k from kx_tile and ky_tile\n",
    "for l in tqdm(range(0, N_layer)):\n",
    "    u_tile, v_tile, w_tile = np.zeros(x_tile.shape), np.zeros(x_tile.shape), np.zeros(x_tile.shape)\n",
    "    z_tile = z_tile + (eta_tile-zb)/N_layer/2\n",
    "    for i1 in range(0,N_grid):\n",
    "        for i2 in range(0,N_grid):\n",
    "            ampl = (2*F_kxky_tile*dkx*dky)**0.5\n",
    "            actual_z_tile = np.minimum(ampl, np.ones(ampl.shape)*z_tile[i1,i2]) # Element wise comparison\n",
    "            a = (kx_tile*x_tile[i1,i2]+ky_tile*y_tile[i1,i2])+phase_tile\n",
    "            mode = ampl*(np.cos(a))\n",
    "            # u = \\sqrt{gk}*A*sin(kx-wt), but also need to consider direction cos(theta)\n",
    "            u_mode = (g*kmod_cart_tile)**0.5*ampl*np.exp(kmod_cart_tile*actual_z_tile)*np.cos(a)*np.cos(theta_cart_tile)\n",
    "            v_mode = (g*kmod_cart_tile)**0.5*ampl*np.exp(kmod_cart_tile*actual_z_tile)*np.cos(a)*np.sin(theta_cart_tile)\n",
    "            w_mode = (g*kmod_cart_tile)**0.5*ampl*np.exp(kmod_cart_tile*actual_z_tile)*np.sin(a)\n",
    "            u_tile[i1,i2] = np.sum(u_mode); v_tile[i1,i2] = np.sum(v_mode); w_tile[i1,i2] = np.sum(w_mode)\n",
    "    u_tile_higher = griddata((x_tile.ravel(),y_tile.ravel()), u_tile.ravel(), (x_tile_higher, y_tile_higher), method='linear')\n",
    "    v_tile_higher = griddata((x_tile.ravel(),y_tile.ravel()), v_tile.ravel(), (x_tile_higher, y_tile_higher), method='linear')\n",
    "    w_tile_higher = griddata((x_tile.ravel(),y_tile.ravel()), w_tile.ravel(), (x_tile_higher, y_tile_higher), method='linear')\n",
    "    u_set.append(u_tile_higher); v_set.append(v_tile_higher); w_set.append(w_tile_higher); z_set.append(z_tile)\n",
    "    fu = open(\"/home/jiarong/research/projects/multilayer/testing/multigrid_changeheader/trial11/pre/u_layer%g\" %l, \"bw\")\n",
    "    u_output = u_tile_higher.astype('float32'); u_output.tofile(fu)\n",
    "    fv = open(\"/home/jiarong/research/projects/multilayer/testing/multigrid_changeheader/trial11/pre/v_layer%g\" %l, \"bw\")\n",
    "    v_output = v_tile_higher.astype('float32'); v_output.tofile(fv)\n",
    "    fw = open(\"/home/jiarong/research/projects/multilayer/testing/multigrid_changeheader/trial11/pre/w_layer%g\" %l, \"bw\")\n",
    "    w_output = w_tile_higher.astype('float32'); w_output.tofile(fw)\n",
    "    z_tile = z_tile + (eta_tile-zb)/N_layer/2"
   ]
  },
  {
   "cell_type": "code",
   "execution_count": null,
   "metadata": {},
   "outputs": [],
   "source": [
    "i1 = 5; i2 = 5\n",
    "z_tile = zb*np.ones(x_tile.shape)+4.75\n",
    "ampl = (2*F_kxky_tile*dkx*dky)**0.5\n",
    "a = (kx_tile*x_tile[i1,i2]+ky_tile*y_tile[i1,i2])+phase_tile\n",
    "mode = ampl*(np.cos(a))\n",
    "u_mode = (g*kmod_cart_tile)**0.5*ampl*np.exp(kmod_cart_tile*z_tile[i1,i2])*np.cos(a)*np.cos(theta_cart_tile)\n",
    "plt.imshow(u_mode)\n",
    "print(np.sum(u_mode))"
   ]
  },
  {
   "cell_type": "code",
   "execution_count": null,
   "metadata": {},
   "outputs": [],
   "source": [
    "'''\n",
    "    Check KE and GPE equal partition.\n",
    "'''\n",
    "# To do: compute gpe from z_set\n",
    "# Energy/area\n",
    "\n",
    "gpe = 0.5*np.sum(eta_tile**2)*(1/(N_grid*RATIO))**2*9.8\n",
    "print(gpe)\n",
    "ke = 0\n",
    "gpe_int = 0\n",
    "for ilayer in range(0,N_layer):\n",
    "    # Kinetic energy is integrated along the depth thus zb/N_layer\n",
    "    ke += (np.sum(u_set[ilayer]**2)+np.sum(v_set[ilayer]**2)+np.sum(w_set[ilayer]**2))*(1/(N_grid*RATIO))**2*(0-zb)/N_layer\n",
    "    gpe_int += np.sum(z_set[ilayer])*(1/(N_grid*RATIO))**2*(0-zb)/N_layer\n",
    "ke = 0.5*ke\n",
    "print(ke)\n",
    "gpe_baseline = 0.5*zb**2\n",
    "print((gpe_int-gpe_baseline)*9.8)"
   ]
  },
  {
   "cell_type": "code",
   "execution_count": null,
   "metadata": {},
   "outputs": [],
   "source": [
    "'''\n",
    "    Check KE and GPE equal partition. For the interpolated cases.\n",
    "'''\n",
    "# To do: compute gpe from z_set\n",
    "# Energy/area\n",
    "\n",
    "gpe = 0.5*np.sum(eta_tile_higher**2)*(1/(N_grid*RATIO))**2*9.8\n",
    "print(gpe)\n",
    "ke = 0\n",
    "gpe_int = 0\n",
    "for ilayer in range(0,N_layer):\n",
    "    # Kinetic energy is integrated along the depth thus zb/N_layer\n",
    "    ke += (np.sum(u_set[ilayer]**2)+np.sum(v_set[ilayer]**2)+np.sum(w_set[ilayer]**2))*(1/(N_grid*RATIO))**2*(0-zb)/N_layer\n",
    "    gpe_int += np.sum(z_set[ilayer])*(1/(N_grid*RATIO))**2*(0-zb)/N_layer\n",
    "ke = 0.5*ke\n",
    "print(ke)"
   ]
  },
  {
   "cell_type": "code",
   "execution_count": null,
   "metadata": {},
   "outputs": [],
   "source": [
    "'''\n",
    "    Initialize the velocity field by adding modes together. The previous version.\n",
    "'''\n",
    "zb = -5; z_tile = zb*np.ones(x_tile.shape) # computational domain bottom position\n",
    "N_layer = 5 # Number of layers used \n",
    "h_tile = eta_tile/N_layer # height of each layer (uniformly divided)\n",
    "g = 9.8\n",
    "u_tile = np.zeros(x_tile.shape); v_tile = np.zeros(x_tile.shape); w_tile = np.zeros(x_tile.shape)\n",
    "u_set = []; v_set = []; w_set = []; z_set=[] # For sanity checks\n",
    "kmod_cart_tile, theta_cart_tile = cart2pol(kx_tile,ky_tile) # The module of k from kx_tile and ky_tile\n",
    "for l in tqdm(range(0, N_layer)):\n",
    "    u_tile, v_tile, w_tile = np.zeros(x_tile.shape), np.zeros(x_tile.shape), np.zeros(x_tile.shape)\n",
    "    z_tile = z_tile + (eta_tile-zb)/N_layer/2\n",
    "    for i1 in range(0,N_grid):\n",
    "        for i2 in range(0,N_grid):\n",
    "            ampl = (2*F_kxky_tile*dkx*dky)**0.5\n",
    "            a = (kx_tile*x_tile[i1,i2]+ky_tile*y_tile[i1,i2])+phase_tile\n",
    "            mode = ampl*(np.cos(a))\n",
    "            # u = \\sqrt{gk}*A*sin(kx-wt), but also need to consider direction cos(theta)\n",
    "            u_mode = (g*kmod_cart_tile)**0.5*ampl*np.exp(kmod_cart_tile*z_tile[i1,i2])*np.cos(a)*np.cos(theta_cart_tile)\n",
    "            v_mode = (g*kmod_cart_tile)**0.5*ampl*np.exp(kmod_cart_tile*z_tile[i1,i2])*np.cos(a)*np.sin(theta_cart_tile)\n",
    "            w_mode = (g*kmod_cart_tile)**0.5*ampl*np.exp(kmod_cart_tile*z_tile[i1,i2])*np.sin(a)\n",
    "            u_tile[i1,i2] = np.sum(u_mode); v_tile[i1,i2] = np.sum(v_mode); w_tile[i1,i2] = np.sum(w_mode)\n",
    "    u_set.append(u_tile); v_set.append(v_tile); w_set.append(w_tile); z_set.append(z_tile)\n",
    "    fu = open(\"/home/jiarong/research/projects/multilayer/testing/multigrid_5layer_256/pre/u_layer%g\" %l, \"bw\")\n",
    "    u_output = u_tile.astype('float32'); u_output.tofile(fu)\n",
    "    fv = open(\"/home/jiarong/research/projects/multilayer/testing/multigrid_5layer_256/pre/v_layer%g\" %l, \"bw\")\n",
    "    v_output = v_tile.astype('float32'); v_output.tofile(fv)\n",
    "    fw = open(\"/home/jiarong/research/projects/multilayer/testing/multigrid_5layer_256/pre/w_layer%g\" %l, \"bw\")\n",
    "    w_output = w_tile.astype('float32'); w_output.tofile(fw)\n",
    "    z_tile = z_tile + (eta_tile-zb)/N_layer/2"
   ]
  },
  {
   "cell_type": "code",
   "execution_count": null,
   "metadata": {},
   "outputs": [],
   "source": [
    "from mpl_toolkits.axes_grid1 import ImageGrid\n",
    "fig = plt.figure(figsize=(10,4))\n",
    "grid = ImageGrid(fig, 111,          # as in plt.subplot(111)\n",
    "                 nrows_ncols=(1,1),\n",
    "                 axes_pad=0.15,\n",
    "                 share_all=True,\n",
    "                 cbar_location=\"right\",\n",
    "                 cbar_mode=\"single\",\n",
    "                 cbar_size=\"7%\",\n",
    "                 cbar_pad=0.15,\n",
    "                 )\n",
    "z_tile = zb*np.ones(x_tile.shape)+(eta_tile-zb)/5*4.5\n",
    "pcontour = grid[0].imshow(u_set[4])\n",
    "grid[0].cax.colorbar(pcontour)"
   ]
  },
  {
   "cell_type": "code",
   "execution_count": null,
   "metadata": {},
   "outputs": [],
   "source": [
    "'''\n",
    "    Plot the initial F(kmod).\n",
    "    Check shape and peak.\n",
    "'''\n",
    "L = 50; N = 256; i=0\n",
    "spectrum = np.fft.fft2(eta_tile_higher)*(1/N)**2 # How to normalize here?!\n",
    "F = np.absolute(spectrum)\n",
    "F_center = np.fft.fftshift(F)\n",
    "wavenumber = 2*np.pi*np.fft.fftfreq(n=N,d=L/N)\n",
    "kx = np.fft.fftshift(wavenumber)\n",
    "ky = kx\n",
    "kx_tile, ky_tile = np.meshgrid(kx,ky)\n",
    "theta = np.arange(-N/4,N/4)/(N)*2*np.pi\n",
    "k = wavenumber[0:int(N/2)]\n",
    "k_tile, theta_tile = np.meshgrid(k,theta)\n",
    "kxp_tile, kyp_tile = pol2cart(k_tile, theta_tile)\n",
    "from scipy import interpolate\n",
    "f = interpolate.RectBivariateSpline(kx, ky, F_center)\n",
    "F_center_polar = f.ev(kxp_tile, kyp_tile)\n",
    "F_center_polar_integrated = np.sum(F_center_polar, axis=0)*(theta[1]-theta[0])*k\n",
    "plt.plot(k[0:int(N/2)],F_center_polar_integrated*2, color=plt.cm.get_cmap('summer')(i/18), label='t=%g' %i)"
   ]
  },
  {
   "cell_type": "code",
   "execution_count": null,
   "metadata": {},
   "outputs": [],
   "source": [
    "# Remaining problem\n",
    "# 1. \"ampl = (2*F_kxky_tile*dkx*dky)**0.5\" dxdy inside!\n",
    "# 2. When integrate to get \\eta^2. Why \"*dx/L*dy/L\"? I think I got that now!\n",
    "# 3. In the velocity initialization, some tricks.\n",
    "# Luc's code\n",
    "# wave2dint=nansum(nansum(wave2d.^2))*dx*dx./L./L\n",
    "# waveintafterfft3=nanstd(wave3).^2;\n",
    "# waveintback=nansum(S2(1:N/2))*dk1%yeah!"
   ]
  },
  {
   "cell_type": "code",
   "execution_count": null,
   "metadata": {},
   "outputs": [],
   "source": [
    "'''\n",
    "    Output eta to file\n",
    "'''\n",
    "feta = open(\"/home/jiarong/research/projects/multilayer/testing/multigrid_5layer_256/pre/eta\", 'bw')\n",
    "eta_output = eta_tile.astype('float32'); eta_output.tofile(feta)"
   ]
  },
  {
   "cell_type": "code",
   "execution_count": null,
   "metadata": {},
   "outputs": [],
   "source": [
    "# Write out a text file for Luc\n",
    "feta_text = open(\"/home/jiarong/research/projects/multilayer/testing/ftest_5layer_256/pre/eta_text.dat\", \"w\")\n",
    "feta_text.write('x y H \\n')\n",
    "for i1 in range(0,256):\n",
    "    for i2 in range(0,256):\n",
    "        feta_text.write('%g' %x_tile[i1,i2] + ' ' + '%g' %y_tile[i1, i2] + ' ' + '%g' %eta_tile[i1,i2] + '\\n')    "
   ]
  },
  {
   "cell_type": "code",
   "execution_count": null,
   "metadata": {},
   "outputs": [],
   "source": [
    "# A 3D plot\n",
    "fig = plt.figure(figsize=[20,20])\n",
    "ax = fig.gca(projection='3d')\n",
    "surf = ax.plot_surface(x_tile, y_tile, eta_tile, cmap='viridis', linewidth=0, antialiased=False)\n",
    "ax.set_zlim(-1,1)\n",
    "ax.set_xlabel('X')\n",
    "ax.set_ylabel('Y')\n",
    "ax.set_zlabel('eta')"
   ]
  },
  {
   "cell_type": "code",
   "execution_count": null,
   "metadata": {},
   "outputs": [],
   "source": [
    "(0.02/26.5)**0.5*26.5"
   ]
  },
  {
   "cell_type": "code",
   "execution_count": null,
   "metadata": {},
   "outputs": [],
   "source": []
  }
 ],
 "metadata": {
  "kernelspec": {
   "display_name": "Python 3",
   "language": "python",
   "name": "python3"
  },
  "language_info": {
   "codemirror_mode": {
    "name": "ipython",
    "version": 3
   },
   "file_extension": ".py",
   "mimetype": "text/x-python",
   "name": "python",
   "nbconvert_exporter": "python",
   "pygments_lexer": "ipython3",
   "version": "3.7.3"
  }
 },
 "nbformat": 4,
 "nbformat_minor": 2
}
