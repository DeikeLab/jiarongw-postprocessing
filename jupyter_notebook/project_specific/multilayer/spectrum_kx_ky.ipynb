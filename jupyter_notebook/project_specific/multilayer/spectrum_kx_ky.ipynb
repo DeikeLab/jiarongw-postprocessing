{
 "cells": [
  {
   "cell_type": "code",
   "execution_count": 2,
   "metadata": {},
   "outputs": [],
   "source": [
    "import pandas as pd\n",
    "import numpy as np\n",
    "import math\n",
    "from matplotlib import pyplot as plt\n",
    "import os\n",
    "import sys\n",
    "import pickle\n",
    "# Add the function directory to the path\n",
    "# sys.path.append('/home/jiarong/research/postprocessing/jupyter_notebook/functions/')\n",
    "sys.path.append('/projects/DEIKE/jiarongw/jiarongw-postprocessing/jupyter_notebook/functions/')\n",
    "from fio import readin\n",
    "from tqdm import tqdm\n",
    "from visualization import contour_generator"
   ]
  },
  {
   "cell_type": "code",
   "execution_count": 3,
   "metadata": {},
   "outputs": [],
   "source": [
    "'''\n",
    "    Initialization based on PM/JONSWAP.\n",
    "    F_kmod = P*kmod**(-2.5)*np.exp(-1.25*(kp/kmod)**2) (the exponential factor was 0.74 in original PM)\n",
    "    All identities with _tile are two-dimensional array.\n",
    "    In principle kmax = 2*np.pi/(2L/N_grid), kmin=2*np.pi/L.\n",
    "''' \n",
    "# Function to convert polar to cartesian and interpolate\n",
    "def cart2pol(x, y):\n",
    "    rho = np.sqrt(x**2 + y**2)\n",
    "    phi = np.arctan2(y, x)\n",
    "    return(rho, phi)\n",
    "def pol2cart(rho, phi):\n",
    "    x = rho * np.cos(phi)\n",
    "    y = rho * np.sin(phi)\n",
    "    return(x, y)\n",
    "\n",
    "from scipy.interpolate import LinearNDInterpolator, griddata\n",
    "def spectrum_gen(kp=2*np.pi/100, P=0.45, L=500, N_power=5):\n",
    "    thetam = 0\n",
    "    N_mode = 32; # Uniform grid in kx and ky : how many we want to put in the initialization\n",
    "    N_kmod = 64; N_theta = 64 # Uniform grid in kmod and ktheta\n",
    "    kmod = np.linspace(2*np.pi/L,1.5*N_mode*2*np.pi/L,N_kmod); theta = np.linspace(-0.5*np.pi, 0.5*np.pi, N_theta) \n",
    "    kmod_tile, theta_tile = np.meshgrid(kmod,theta)\n",
    "    \"\"\" JONSWAP without shape modification gamma \"\"\"\n",
    "    F_kmod = P*kmod**(-2.5)*np.exp(-1.25*(kp/kmod)**2)\n",
    "    D_theta = np.cos(theta-thetam)**N_power\n",
    "    dtheta = theta[1]-theta[0]\n",
    "    \"\"\" Is this necessary? Yes! \"\"\"\n",
    "    D_theta = D_theta/np.trapz(D_theta, theta)  # Normalize so the sum equals one\n",
    "    F_kmod_tile, D_theta_tile = np.meshgrid(F_kmod,D_theta) \n",
    "    F_kmodtheta_tile = F_kmod_tile*D_theta_tile/kmod_tile # Notice!! Normalize by k\n",
    "    \"\"\" Uniform grid in kx,ky \"\"\"\n",
    "    kx = np.arange(1,N_mode+1)*2*np.pi/L # based on the grid, interval can't go smaller then pi/L\n",
    "    ky = np.arange(-N_mode/2,N_mode/2+1)*2*np.pi/L\n",
    "    kx_tile, ky_tile = np.meshgrid(kx,ky)\n",
    "    kxp_tile, kyp_tile = pol2cart(kmod_tile, theta_tile)\n",
    "    \"\"\" Project from uniform k to uniform kx,ky \"\"\"\n",
    "    F_kxky_tile = griddata((kxp_tile.ravel(), kyp_tile.ravel()), F_kmodtheta_tile.ravel(), (kx_tile, ky_tile), \n",
    "                            method='linear', fill_value=0) # Interpolate from kxp,kyp (uniform in k) to kx,ky (uniform in kx,ky)\n",
    "    return kmod, F_kmod, kx, ky, F_kxky_tile"
   ]
  },
  {
   "cell_type": "code",
   "execution_count": 9,
   "metadata": {},
   "outputs": [],
   "source": [
    "def spectrum_gen_Gaussian(kp=2*np.pi/100, P=0.45, L=500, N_power=5):\n",
    "    thetam = 0\n",
    "    N_mode = 32; # Uniform grid in kx and ky : how many we want to put in the initialization\n",
    "    N_kmod = 64; N_theta = 64 # Uniform grid in kmod and ktheta\n",
    "    kmod = np.linspace(2*np.pi/L,1.5*N_mode*2*np.pi/L,N_kmod); theta = np.linspace(-0.5*np.pi, 0.5*np.pi, N_theta) \n",
    "    kmod_tile, theta_tile = np.meshgrid(kmod,theta)\n",
    "    \"\"\" JONSWAP without shape modification gamma \"\"\"\n",
    "    F_kmod = P*kmod**(-2.5)*np.exp(-1.25*(kp/kmod)**2)\n",
    "    D_theta = np.cos(theta-thetam)**N_power\n",
    "    dtheta = theta[1]-theta[0]\n",
    "    \"\"\" Is this necessary? Yes! \"\"\"\n",
    "    D_theta = D_theta/np.trapz(D_theta, theta)  # Normalize so the sum equals one\n",
    "    F_kmod_tile, D_theta_tile = np.meshgrid(F_kmod,D_theta) \n",
    "    F_kmodtheta_tile = F_kmod_tile*D_theta_tile/kmod_tile # Notice!! Normalize by k\n",
    "    \"\"\" Uniform grid in kx,ky \"\"\"\n",
    "    kx = np.arange(1,N_mode+1)*2*np.pi/L # based on the grid, interval can't go smaller then pi/L\n",
    "    ky = np.arange(-N_mode/2,N_mode/2+1)*2*np.pi/L\n",
    "    kx_tile, ky_tile = np.meshgrid(kx,ky)\n",
    "    kxp_tile, kyp_tile = pol2cart(kmod_tile, theta_tile)\n",
    "    \"\"\" Project from uniform k to uniform kx,ky \"\"\"\n",
    "    F_kxky_tile = griddata((kxp_tile.ravel(), kyp_tile.ravel()), F_kmodtheta_tile.ravel(), (kx_tile, ky_tile), \n",
    "                            method='linear', fill_value=0) # Interpolate from kxp,kyp (uniform in k) to kx,ky (uniform in kx,ky)\n",
    "    return kmod, F_kmod, kx, ky, F_kxky_tile"
   ]
  },
  {
   "cell_type": "code",
   "execution_count": 3,
   "metadata": {},
   "outputs": [],
   "source": [
    "def spectrum_gen_alter(kp=2*np.pi/100, P=0.45, L=500, N_power=5):\n",
    "    thetam = 0\n",
    "    N_mode = 32; # Uniform grid in kx and ky : how many we want to put in the initialization\n",
    "    N_kmod = 64; N_theta = 64 # Uniform grid in kmod and ktheta\n",
    "    kmod = np.linspace(2*np.pi/L,1.5*N_mode*2*np.pi/L,N_kmod); theta = np.linspace(-0.5*np.pi, 0.5*np.pi, N_theta)\n",
    "    kmod_tile, theta_tile = np.meshgrid(kmod,theta)\n",
    "    \"\"\" JONSWAP without shape modification gamma \"\"\"\n",
    "    F_kmod = P*kmod**(-6)*np.exp(-2.5*(kp/kmod)**2) + P*10*kmod**(-6)*np.exp(-2.5*(kp*2/kmod)**2) \n",
    "    D_theta = np.cos(theta-thetam)**N_power\n",
    "    dtheta = theta[1]-theta[0]\n",
    "    \"\"\" Is this necessary? Yes! \"\"\"\n",
    "    D_theta = D_theta/np.trapz(D_theta, theta)  # Normalize so the sum equals one\n",
    "    F_kmod_tile, D_theta_tile = np.meshgrid(F_kmod,D_theta) \n",
    "    F_kmodtheta_tile = F_kmod_tile*D_theta_tile/kmod_tile # Notice!! Normalize by k\n",
    "    \"\"\" Uniform grid in kx,ky \"\"\"\n",
    "    kx = np.arange(1,N_mode+1)*2*np.pi/L # based on the grid, interval can't go smaller then pi/L\n",
    "    ky = np.arange(-N_mode/2,N_mode/2+1)*2*np.pi/L\n",
    "    kx_tile, ky_tile = np.meshgrid(kx,ky)\n",
    "    kxp_tile, kyp_tile = pol2cart(kmod_tile, theta_tile)\n",
    "    \"\"\" Project from uniform k to uniform kx,ky \"\"\"\n",
    "    F_kxky_tile = griddata((kxp_tile.ravel(), kyp_tile.ravel()), F_kmodtheta_tile.ravel(), (kx_tile, ky_tile), \n",
    "                            method='linear', fill_value=0) # Interpolate from kxp,kyp (uniform in k) to kx,ky (uniform in kx,ky)\n",
    "    return kmod, F_kmod, kx, ky, F_kxky_tile"
   ]
  },
  {
   "cell_type": "code",
   "execution_count": 9,
   "metadata": {},
   "outputs": [],
   "source": [
    "''' It seems that if we simply multiply the spectrum by a factor of two and the spacing is now 2 times 2pi/L0, then \n",
    "    there will be weird periodicity effects. '''\n",
    "\n",
    "''' Do we want to extend the tail all the way? ''''\n",
    "def spectrum_gen_wider(kp=2*np.pi/100, P=0.45, L=500, N_power=5):\n",
    "    thetam = 0\n",
    "    N_mode = 32; # Uniform grid in kx and ky : how many we want to put in the initialization\n",
    "    N_kmod = 64; N_theta = 64 # Uniform grid in kmod and ktheta\n",
    "    kmod = np.linspace(2*np.pi/L,1.5*N_mode*2*np.pi/L,N_kmod); theta = np.linspace(-0.5*np.pi, 0.5*np.pi, N_theta) \n",
    "    kmod_tile, theta_tile = np.meshgrid(kmod,theta)\n",
    "    \"\"\" JONSWAP without shape modification gamma \"\"\"\n",
    "    F_kmod = P*kmod**(-2.5)*np.exp(-1.25*(kp/kmod)**2)\n",
    "    D_theta = np.cos(theta-thetam)**N_power\n",
    "    dtheta = theta[1]-theta[0]\n",
    "    \"\"\" Is this necessary? Yes! \"\"\"\n",
    "    D_theta = D_theta/np.trapz(D_theta, theta)  # Normalize so the sum equals one\n",
    "    F_kmod_tile, D_theta_tile = np.meshgrid(F_kmod,D_theta) \n",
    "    F_kmodtheta_tile = F_kmod_tile*D_theta_tile/kmod_tile # Notice!! Normalize by k\n",
    "    \"\"\" Uniform grid in kx,ky \"\"\"\n",
    "    kx = np.arange(1,N_mode+1)*2*np.pi/L*2 # based on the grid, interval can't go smaller then pi/L\n",
    "    ky = np.arange(-N_mode/2,N_mode/2+1)*2*np.pi*2/L\n",
    "    kx_tile, ky_tile = np.meshgrid(kx,ky)\n",
    "    kxp_tile, kyp_tile = pol2cart(kmod_tile, theta_tile)\n",
    "    \"\"\" Project from uniform k to uniform kx,ky \"\"\"\n",
    "    F_kxky_tile = griddata((kxp_tile.ravel(), kyp_tile.ravel()), F_kmodtheta_tile.ravel(), (kx_tile, ky_tile), \n",
    "                            method='linear', fill_value=0) # Interpolate from kxp,kyp (uniform in k) to kx,ky (uniform in kx,ky)\n",
    "    return kmod, F_kmod, kx, ky, F_kxky_tile"
   ]
  },
  {
   "cell_type": "code",
   "execution_count": 4,
   "metadata": {},
   "outputs": [],
   "source": [
    "'''\n",
    "    Add modes together to generate initial eta field. Random phase.\n",
    "'''\n",
    "\n",
    "def eta_random(t, N_grid, kx_tile, ky_tile, F_kxky_tile, dkx, dky, omega_tile):\n",
    "    # This is the only place that the random field is generated, everything else should agree;\n",
    "    # and we want to seed the random number\n",
    "    np.random.seed(0) \n",
    "    tb = 40; xb = 0; yb = 0\n",
    "    phase_tile = -kx_tile*xb-ky_tile*yb+np.random.random_sample(kx_tile.shape)*2*np.pi # Add a random phase field\n",
    "    #phase_tile = -kx_tile*xb-ky_tile*yb+omega_tile*tb+np.random.random_sample(kx_tile.shape)*5 # Add a random phase field\n",
    "    eta_tile = np.zeros(x_tile.shape)\n",
    "    for i1 in range(0,N_grid):\n",
    "        for i2 in range(0,N_grid):\n",
    "            ampl = (2*F_kxky_tile*dkx*dky)**0.5\n",
    "            # How to exactly represent integrate over dk_x*dk_y*eta_hat?\n",
    "            # mode = (F_kdirectional**0.5)*np.cos((kx_tile*x_tile[i1,i2]+ky_tile*y_tile[i1,i2])+\n",
    "            #                                    phase_tile)*(kmod_tile*(kmod[1]-kmod[0])*(theta[1]-theta[0])) # uniform space in k and theta\n",
    "            a = (kx_tile*x_tile[i1,i2]+ky_tile*y_tile[i1,i2])-omega_tile*t+phase_tile\n",
    "            mode = ampl*(np.cos(a)) # uniform spacing in kx and ky\n",
    "            eta_tile[i1,i2] = np.sum(mode)    \n",
    "    return eta_tile, phase_tile"
   ]
  },
  {
   "cell_type": "code",
   "execution_count": 8,
   "metadata": {},
   "outputs": [
    {
     "data": {
      "text/plain": [
       "Text(0.5, 0, 'kx')"
      ]
     },
     "execution_count": 8,
     "metadata": {},
     "output_type": "execute_result"
    },
    {
     "data": {
      "image/png": "[encoded data removed]",
      "text/plain": [
       "<Figure size 432x288 with 1 Axes>"
      ]
     },
     "metadata": {
      "needs_background": "light"
     },
     "output_type": "display_data"
    }
   ],
   "source": [
    "# Spectrum for L0 = 500\n",
    "kp = 2*np.pi/100 # peak at 100m\n",
    "P = 0.08 # Amplitude that needs to be tuned\n",
    "kmod, F_kmod, kx, ky, F_kxky_tile = spectrum_gen(kp, P, L=500)\n",
    "kx_tile, ky_tile = np.meshgrid(kx,ky)\n",
    "# Some visualization:\n",
    "# plt.plot(kmod, F_kmod, '.')\n",
    "# plt.ylabel('F(k)'); plt.xlabel('k')\n",
    "plt.imshow(F_kxky_tile, extent=[kx_tile[0,0],kx_tile[-1,-1],ky_tile[0,0],ky_tile[-1,-1]])\n",
    "plt.ylabel('ky'); plt.xlabel('kx')"
   ]
  },
  {
   "cell_type": "code",
   "execution_count": 16,
   "metadata": {},
   "outputs": [
    {
     "name": "stdout",
     "output_type": "stream",
     "text": [
      "kp*Hs = 0.276525\n"
     ]
    },
    {
     "data": {
      "image/png": "[encoded data removed]",
      "text/plain": [
       "<Figure size 432x288 with 1 Axes>"
      ]
     },
     "metadata": {
      "needs_background": "light"
     },
     "output_type": "display_data"
    }
   ],
   "source": [
    "# Spectrum for L0 = 20, capillary\n",
    "kp = 2*np.pi/4 # peak at 4m\n",
    "P = 0.008\n",
    "kmod, F_kmod, kx, ky, F_kxky_tile = spectrum_gen(kp, P, L=20, N_power=5)\n",
    "kx_tile, ky_tile = np.meshgrid(kx,ky)\n",
    "# Some visualization:\n",
    "# plt.plot(kmod, F_kmod, '.')\n",
    "# plt.ylabel('F(k)'); plt.xlabel('k')\n",
    "plt.imshow(F_kxky_tile, extent=[kx_tile[0,0],kx_tile[-1,-1],ky_tile[0,0],ky_tile[-1,-1]])\n",
    "plt.ylabel('ky'); plt.xlabel('kx')\n",
    "\n",
    "\n",
    "N_grid = 256; L = 200\n",
    "x = np.linspace(-L/2,L/2,N_grid); y = np.linspace(-L/2,L/2,N_grid)\n",
    "x_tile, y_tile = np.meshgrid(x, y)\n",
    "kmod_cart_tile, theta_cart_tile = cart2pol(kx_tile,ky_tile)\n",
    "omega_tile = (9.8*kmod_cart_tile)**0.5 # frequency based on kx or kmod\n",
    "dkx = kx_tile[0,1]-kx_tile[0,0]; dky = ky_tile[1,0]-ky_tile[0,0]\n",
    "eta_tile, phase_tile = eta_random(0, N_grid, kx_tile, ky_tile, F_kxky_tile, dkx, dky, omega_tile)\n",
    "kpHs = np.var(eta_tile)**0.5*kp*4\n",
    "print('kp*Hs = %g' %kpHs)\n"
   ]
  },
  {
   "cell_type": "code",
   "execution_count": 8,
   "metadata": {},
   "outputs": [
    {
     "name": "stdout",
     "output_type": "stream",
     "text": [
      "kp*Hs = 0.278693\n"
     ]
    },
    {
     "data": {
      "image/png": "[encoded data removed]",
      "text/plain": [
       "<Figure size 432x288 with 1 Axes>"
      ]
     },
     "metadata": {
      "needs_background": "light"
     },
     "output_type": "display_data"
    }
   ],
   "source": [
    "# Investigating the relation of breaking v.s. kp, use lambda_p = 50m, 40m (the old cases) and 20m\n",
    "kp = 2*np.pi/50 # peak at 50 m\n",
    "P = 0.028\n",
    "kmod, F_kmod, kx, ky, F_kxky_tile = spectrum_gen(kp, P, L=200, N_power=5)\n",
    "kx_tile, ky_tile = np.meshgrid(kx,ky)\n",
    "# Some visualization:\n",
    "# plt.plot(kmod, F_kmod, '.')\n",
    "# plt.ylabel('F(k)'); plt.xlabel('k')\n",
    "plt.imshow(F_kxky_tile, extent=[kx_tile[0,0],kx_tile[-1,-1],ky_tile[0,0],ky_tile[-1,-1]])\n",
    "plt.ylabel('ky'); plt.xlabel('kx')\n",
    "\n",
    "\n",
    "N_grid = 256; L = 200\n",
    "x = np.linspace(-L/2,L/2,N_grid); y = np.linspace(-L/2,L/2,N_grid)\n",
    "x_tile, y_tile = np.meshgrid(x, y)\n",
    "kmod_cart_tile, theta_cart_tile = cart2pol(kx_tile,ky_tile)\n",
    "omega_tile = (9.8*kmod_cart_tile)**0.5 # frequency based on kx or kmod\n",
    "dkx = kx_tile[0,1]-kx_tile[0,0]; dky = ky_tile[1,0]-ky_tile[0,0]\n",
    "eta_tile, phase_tile = eta_random(0, N_grid, kx_tile, ky_tile, F_kxky_tile, dkx, dky, omega_tile)\n",
    "kpHs = np.var(eta_tile)**0.5*kp*4\n",
    "print('kp*Hs = %g' %kpHs)\n"
   ]
  },
  {
   "cell_type": "code",
   "execution_count": null,
   "metadata": {},
   "outputs": [],
   "source": [
    "# Investigating the relation of breaking v.s. kp, use lambda_p = 50m, 40m (the old cases) and 20m\n",
    "kp = 2*np.pi/50 # peak at 50 m\n",
    "P = 0.028\n",
    "kmod, F_kmod, kx, ky, F_kxky_tile = spectrum_gen(kp, P, L=200, N_power=5)\n",
    "kx_tile, ky_tile = np.meshgrid(kx,ky)\n",
    "# Some visualization:\n",
    "# plt.plot(kmod, F_kmod, '.')\n",
    "# plt.ylabel('F(k)'); plt.xlabel('k')\n",
    "plt.imshow(F_kxky_tile, extent=[kx_tile[0,0],kx_tile[-1,-1],ky_tile[0,0],ky_tile[-1,-1]])\n",
    "plt.ylabel('ky'); plt.xlabel('kx')\n",
    "\n",
    "\n",
    "N_grid = 256; L = 200\n",
    "x = np.linspace(-L/2,L/2,N_grid); y = np.linspace(-L/2,L/2,N_grid)\n",
    "x_tile, y_tile = np.meshgrid(x, y)\n",
    "kmod_cart_tile, theta_cart_tile = cart2pol(kx_tile,ky_tile)\n",
    "omega_tile = (9.8*kmod_cart_tile)**0.5 # frequency based on kx or kmod\n",
    "dkx = kx_tile[0,1]-kx_tile[0,0]; dky = ky_tile[1,0]-ky_tile[0,0]\n",
    "eta_tile, phase_tile = eta_random(0, N_grid, kx_tile, ky_tile, F_kxky_tile, dkx, dky, omega_tile)\n",
    "kpHs = np.var(eta_tile)**0.5*kp*4\n",
    "print('kp*Hs = %g' %kpHs)\n"
   ]
  },
  {
   "cell_type": "code",
   "execution_count": 10,
   "metadata": {},
   "outputs": [],
   "source": [
    "fF1 = open(\"/projects/DEIKE/jiarongw/multilayer/spectra/kx_200m_50m\", 'bw')\n",
    "F_output = kx.astype('float32'); F_output.tofile(fF1)\n",
    "fF2 = open(\"/projects/DEIKE/jiarongw/multilayer/spectra/ky_200m_50m\", 'bw')\n",
    "F_output = ky.astype('float32'); F_output.tofile(fF2)\n",
    "fF = open(\"/projects/DEIKE/jiarongw/multilayer/spectra/F_kxky_P0.028_200m_50m\", 'bw')\n",
    "F_output = F_kxky_tile.astype('float32'); F_output.tofile(fF)"
   ]
  },
  {
   "cell_type": "code",
   "execution_count": null,
   "metadata": {},
   "outputs": [],
   "source": [
    "fF1 = open(\"/projects/DEIKE/jiarongw/multilayer/spectra/kx_20m\", 'bw')\n",
    "F_output = kx.astype('float32'); F_output.tofile(fF1)\n",
    "fF2 = open(\"/projects/DEIKE/jiarongw/multilayer/spectra/ky_20m\", 'bw')\n",
    "F_output = ky.astype('float32'); F_output.tofile(fF2)\n",
    "fF = open(\"/projects/DEIKE/jiarongw/multilayer/spectra/F_kxky_P0.008_20m_N5\", 'bw')\n",
    "F_output = F_kxky_tile.astype('float32'); F_output.tof_50mile(fF)"
   ]
  },
  {
   "cell_type": "code",
   "execution_count": 16,
   "metadata": {},
   "outputs": [
    {
     "name": "stdout",
     "output_type": "stream",
     "text": [
      "kp*Hs = 0.269492\n"
     ]
    },
    {
     "data": {
      "image/png": "[encoded data removed]",
      "text/plain": [
       "<Figure size 432x288 with 1 Axes>"
      ]
     },
     "metadata": {
      "needs_background": "light"
     },
     "output_type": "display_data"
    }
   ],
   "source": [
    "# Spectrum for L0 = 0.5, capillary\n",
    "kp = 2*np.pi/0.1 # peak at 0.1m\n",
    "P = 0.0012\n",
    "kmod, F_kmod, kx, ky, F_kxky_tile = spectrum_gen(kp, P, L=0.5, N_power=5)\n",
    "kx_tile, ky_tile = np.meshgrid(kx,ky)\n",
    "# Some visualization:\n",
    "# plt.plot(kmod, F_kmod, '.')\n",
    "# plt.ylabel('F(k)'); plt.xlabel('k')\n",
    "plt.imshow(F_kxky_tile, extent=[kx_tile[0,0],kx_tile[-1,-1],ky_tile[0,0],ky_tile[-1,-1]])\n",
    "plt.ylabel('ky'); plt.xlabel('kx')\n",
    "\n",
    "\n",
    "N_grid = 256; L = 0.5\n",
    "x = np.linspace(-L/2,L/2,N_grid); y = np.linspace(-L/2,L/2,N_grid)\n",
    "x_tile, y_tile = np.meshgrid(x, y)\n",
    "kmod_cart_tile, theta_cart_tile = cart2pol(kx_tile,ky_tile)\n",
    "omega_tile = (9.8*kmod_cart_tile)**0.5 # frequency based on kx or kmod\n",
    "dkx = kx_tile[0,1]-kx_tile[0,0]; dky = ky_tile[1,0]-ky_tile[0,0]\n",
    "eta_tile, phase_tile = eta_random(0, N_grid, kx_tile, ky_tile, F_kxky_tile, dkx, dky, omega_tile)\n",
    "kpHs = np.var(eta_tile)**0.5*kp*4\n",
    "print('kp*Hs = %g' %kpHs)\n"
   ]
  },
  {
   "cell_type": "code",
   "execution_count": 17,
   "metadata": {},
   "outputs": [],
   "source": [
    "fF1 = open(\"/projects/DEIKE/jiarongw/multilayer/spectra/kx_0.5m\", 'bw')\n",
    "F_output = kx.astype('float32'); F_output.tofile(fF1)\n",
    "fF2 = open(\"/projects/DEIKE/jiarongw/multilayer/spectra/ky_0.5m\", 'bw')\n",
    "F_output = ky.astype('float32'); F_output.tofile(fF2)\n",
    "fF = open(\"/projects/DEIKE/jiarongw/multilayer/spectra/F_kxky_P0.0012_0.5m\", 'bw')\n",
    "F_output = F_kxky_tile.astype('float32'); F_output.tofile(fF)"
   ]
  },
  {
   "cell_type": "code",
   "execution_count": 12,
   "metadata": {},
   "outputs": [
    {
     "data": {
      "text/plain": [
       "Text(0.5, 0, 'kx')"
      ]
     },
     "execution_count": 12,
     "metadata": {},
     "output_type": "execute_result"
    },
    {
     "data": {
      "image/png": "[encoded data removed]",
      "text/plain": [
       "<Figure size 432x288 with 1 Axes>"
      ]
     },
     "metadata": {
      "needs_background": "light"
     },
     "output_type": "display_data"
    }
   ],
   "source": [
    "# Spectrum for L0 = 200\n",
    "kp = 2*np.pi/40 # peak at 40m\n",
    "P = 0.02\n",
    "kmod, F_kmod, kx, ky, F_kxky_tile = spectrum_gen(kp, P, L=200, N_power=10)\n",
    "kx_tile, ky_tile = np.meshgrid(kx,ky)\n",
    "# Some visualization:\n",
    "# plt.plot(kmod, F_kmod, '.')\n",
    "# plt.ylabel('F(k)'); plt.xlabel('k')\n",
    "plt.imshow(np.log(F_kxky_tile), extent=[kx_tile[0,0],kx_tile[-1,-1],ky_tile[0,0],ky_tile[-1,-1]])\n",
    "plt.ylabel('ky'); plt.xlabel('kx')"
   ]
  },
  {
   "cell_type": "code",
   "execution_count": 14,
   "metadata": {},
   "outputs": [
    {
     "name": "stdout",
     "output_type": "stream",
     "text": [
      "kp*Hs = 0.24682\n"
     ]
    },
    {
     "data": {
      "image/png": "[encoded data removed]",
      "text/plain": [
       "<Figure size 432x288 with 1 Axes>"
      ]
     },
     "metadata": {
      "needs_background": "light"
     },
     "output_type": "display_data"
    }
   ],
   "source": [
    "# Spectrum for L0 = 200\n",
    "kp = 2*np.pi/40 # peak at 40m\n",
    "P = 0.02\n",
    "kmod, F_kmod, kx, ky, F_kxky_tile = spectrum_gen(kp, P, L=200, N_power=10)\n",
    "kx_tile, ky_tile = np.meshgrid(kx,ky)\n",
    "# Some visualization:\n",
    "# plt.plot(kmod, F_kmod, '.')\n",
    "# plt.ylabel('F(k)'); plt.xlabel('k')\n",
    "plt.imshow(np.log(F_kxky_tile), extent=[kx_tile[0,0],kx_tile[-1,-1],ky_tile[0,0],ky_tile[-1,-1]])\n",
    "plt.ylabel('ky'); plt.xlabel('kx')\n",
    "\n",
    "N_grid = 256; L = 200\n",
    "x = np.linspace(-L/2,L/2,N_grid); y = np.linspace(-L/2,L/2,N_grid)\n",
    "x_tile, y_tile = np.meshgrid(x, y)\n",
    "kmod_cart_tile, theta_cart_tile = cart2pol(kx_tile,ky_tile)\n",
    "omega_tile = (9.8*kmod_cart_tile)**0.5 # frequency based on kx or kmod\n",
    "dkx = kx_tile[0,1]-kx_tile[0,0]; dky = ky_tile[1,0]-ky_tile[0,0]\n",
    "eta_tile, phase_tile = eta_random(0, N_grid, kx_tile, ky_tile, F_kxky_tile, dkx, dky, omega_tile)\n",
    "kpHs = np.var(eta_tile)**0.5*kp*4\n",
    "print('kp*Hs = %g' %kpHs)"
   ]
  },
  {
   "cell_type": "code",
   "execution_count": null,
   "metadata": {},
   "outputs": [],
   "source": [
    "# Another spectrum for L0 = 200, not k^{-2.5}\n",
    "kp = 2*np.pi/40 # peak at 40m\n",
    "P = 0.0002\n",
    "kmod, F_kmod, kx, ky, F_kxky_tile = spectrum_gen_alter(kp, P, L=200, N_power=5)\n",
    "kx_tile, ky_tile = np.meshgrid(kx,ky)\n",
    "# Some visualization:\n",
    "# plt.plot(kmod, F_kmod, '.')\n",
    "# plt.ylabel('F(k)'); plt.xlabel('k')\n",
    "plt.imshow(F_kxky_tile, extent=[kx_tile[0,0],kx_tile[-1,-1],ky_tile[0,0],ky_tile[-1,-1]])\n",
    "plt.ylabel('ky'); plt.xlabel('kx')"
   ]
  },
  {
   "cell_type": "code",
   "execution_count": 4,
   "metadata": {},
   "outputs": [],
   "source": [
    "from scipy.interpolate import LinearNDInterpolator, griddata\n",
    "def spectrum_integration(eta, L, N, CHECK=False):\n",
    "    \"\"\" This function performs azimuthal integration of the 2D spectrum (Notice it's 2D instead of 3D with the frequency as well).\n",
    "        When in doubt, enable CHECK so that the integration is printed out at each step to make sure that \n",
    "        units are consistent and we always recover the variance of the data. \"\"\"  \n",
    "    if CHECK: print (np.var(eta))\n",
    "    spectrum = np.fft.fft2(eta) / (N*N)**0.5 # FFT normalization \n",
    "    F = np.absolute(spectrum)**2 / N**2 # Per area normalization\n",
    "    if CHECK: print (np.sum(F))\n",
    "    wavenumber = 2*np.pi*np.fft.fftfreq(n=N,d=L/N)\n",
    "    kx = np.fft.fftshift(wavenumber); ky = kx\n",
    "    kx_tile, ky_tile = np.meshgrid(kx,ky)\n",
    "    theta = np.arange(-N/2,N/2)/(N)*2*np.pi\n",
    "    k = wavenumber[0:int(N/2)]\n",
    "    dkx = kx[1] - kx[0]; dky = ky[1] - ky[0]\n",
    "    dk = k[1]-k[0]; dtheta = theta[1]-theta[0]\n",
    "    F_center = np.fft.fftshift(F)/dkx/dky # Further normalization by independent variables\n",
    "    k_tile, theta_tile = np.meshgrid(k,theta)\n",
    "    kxp_tile, kyp_tile = pol2cart(k_tile, theta_tile)\n",
    "    F_center_polar = griddata((kx_tile.ravel(),ky_tile.ravel()), F_center.ravel(), (kxp_tile, kyp_tile), method='nearest')\n",
    "    F_center_polar_integrated = np.sum(F_center_polar*k_tile, axis=0)*dtheta # Azimuthal integration\n",
    "    if CHECK: print (np.sum(F_center_polar_integrated)*dk)\n",
    "    return F_center_polar_integrated \n",
    "\n",
    "\"\"\" Compute the large scale steepness \"\"\"\n",
    "def steepness_trunc (F,k):\n",
    "    mu = np.zeros(len(k))\n",
    "    dk = k[1]-k[0]\n",
    "    for i,k_ in enumerate(k):\n",
    "        mu[i] = np.sum(k[:i]**2*F[:i]*dk)\n",
    "    return mu"
   ]
  },
  {
   "cell_type": "code",
   "execution_count": 62,
   "metadata": {},
   "outputs": [],
   "source": [
    "def spectrum_gen_alter(kp=2*np.pi/100, P=0.45, L=500, N_power=5):\n",
    "    thetam = 0\n",
    "    N_mode = 32; # Uniform grid in kx and ky : how many we want to put in the initialization\n",
    "    N_kmod = 64; N_theta = 64 # Uniform grid in kmod and ktheta\n",
    "    kmod = np.logspace(np.log(2*np.pi/L),np.log(200*2*np.pi/L),N_kmod); theta = np.linspace(-0.5*np.pi, 0.5*np.pi, N_theta)\n",
    "    kmod_tile, theta_tile = np.meshgrid(kmod,theta)\n",
    "    \"\"\" JONSWAP without shape modification gamma \"\"\"\n",
    "    F_kmod = P*kmod**(-3)*np.exp(-2.5*(kp/kmod)**2) + P*400*kmod**(-4)*np.exp(-2.5*(kp*10/kmod)**2) \n",
    "    D_theta = np.cos(theta-thetam)**N_power\n",
    "    dtheta = theta[1]-theta[0]\n",
    "    \"\"\" Is this necessary? Yes! \"\"\"\n",
    "    D_theta = D_theta/np.trapz(D_theta, theta)  # Normalize so the sum equals one\n",
    "    F_kmod_tile, D_theta_tile = np.meshgrid(F_kmod,D_theta) \n",
    "    F_kmodtheta_tile = F_kmod_tile*D_theta_tile/kmod_tile # Notice!! Normalize by k\n",
    "    \"\"\" Uniform grid in kx,ky \"\"\"\n",
    "    kx = np.arange(1,N_mode+1)*2*np.pi/L # based on the grid, interval can't go smaller then pi/L\n",
    "    ky = np.arange(-N_mode/2,N_mode/2+1)*2*np.pi/L\n",
    "    kx_tile, ky_tile = np.meshgrid(kx,ky)\n",
    "    kxp_tile, kyp_tile = pol2cart(kmod_tile, theta_tile)\n",
    "    \"\"\" Project from uniform k to uniform kx,ky \"\"\"\n",
    "    F_kxky_tile = griddata((kxp_tile.ravel(), kyp_tile.ravel()), F_kmodtheta_tile.ravel(), (kx_tile, ky_tile), \n",
    "                            method='linear', fill_value=0) # Interpolate from kxp,kyp (uniform in k) to kx,ky (uniform in kx,ky)\n",
    "    return kmod, F_kmod, kx, ky, F_kxky_tile"
   ]
  },
  {
   "cell_type": "code",
   "execution_count": 91,
   "metadata": {},
   "outputs": [],
   "source": [
    "def spectrum_gen_alter_direction(kp=2*np.pi/100, P=0.45, L=500, N_power=5):\n",
    "    N_mode = 32; # Uniform grid in kx and ky : how many we want to put in the initialization\n",
    "    N_kmod = 64; N_theta = 64 # Uniform grid in kmod and ktheta\n",
    "    kmod = np.logspace(np.log(2*np.pi/L),np.log(200*2*np.pi/L),N_kmod); theta = np.linspace(-0.5*np.pi, 0.5*np.pi, N_theta)\n",
    "    kmod_tile, theta_tile = np.meshgrid(kmod,theta)\n",
    "    \"\"\" JONSWAP without shape modification gamma \"\"\"\n",
    "    F_kmod1 = P*kmod**(-3)*np.exp(-2.5*(kp/kmod)**2)\n",
    "    thetam = 0\n",
    "    D_theta = np.cos(theta-thetam)**N_power\n",
    "    dtheta = theta[1]-theta[0]\n",
    "    \"\"\" Is this necessary? Yes! \"\"\"\n",
    "    D_theta = D_theta/np.trapz(D_theta, theta)  # Normalize so the sum equals one\n",
    "    F_kmod_tile, D_theta_tile = np.meshgrid(F_kmod1,D_theta) \n",
    "    F_kmodtheta_tile = F_kmod_tile*D_theta_tile/kmod_tile # Notice!! Normalize by k\n",
    "    \"\"\" Uniform grid in kx,ky \"\"\"\n",
    "    kx = np.logspace(np.log(2*np.pi/L),np.log(200*2*np.pi/L),N_kmod) # based on the grid, interval can't go smaller then pi/L\n",
    "    ky = np.logspace(-np.log(100*2*np.pi/L),np.log(100*2*np.pi/L),N_kmod+1)\n",
    "    kx_tile, ky_tile = np.meshgrid(kx,ky)\n",
    "    kxp_tile, kyp_tile = pol2cart(kmod_tile, theta_tile)\n",
    "    \"\"\" Project from uniform k to uniform kx,ky \"\"\"\n",
    "    F_kxky_tile1 = griddata((kxp_tile.ravel(), kyp_tile.ravel()), F_kmodtheta_tile.ravel(), (kx_tile, ky_tile), \n",
    "                            method='linear', fill_value=0) # Interpolate from kxp,kyp (uniform in k) to kx,ky (uniform in kx,ky)\n",
    "    \"\"\" Wind wave part \"\"\"\n",
    "    F_kmod2 = P*400*kmod**(-4)*np.exp(-2.5*(kp*10/kmod)**2) \n",
    "    thetam = 45\n",
    "    D_theta = np.cos(theta-thetam)**N_power\n",
    "    dtheta = theta[1]-theta[0]\n",
    "    F_kmod_tile, D_theta_tile = np.meshgrid(F_kmod2,D_theta) \n",
    "    F_kmodtheta_tile = F_kmod_tile*D_theta_tile/kmod_tile # Notice!! Normalize by k\n",
    "    kx = np.logspace(np.log(2*np.pi/L),np.log(200*2*np.pi/L),N_kmod) # based on the grid, interval can't go smaller then pi/L\n",
    "    ky = np.logspace(-np.log(100*2*np.pi/L),np.log(100*2*np.pi/L),N_kmod+1)\n",
    "    kx_tile, ky_tile = np.meshgrid(kx,ky)\n",
    "    kxp_tile, kyp_tile = pol2cart(kmod_tile, theta_tile)\n",
    "    \"\"\" Project from uniform k to uniform kx,ky \"\"\"\n",
    "    F_kxky_tile2 = griddata((kxp_tile.ravel(), kyp_tile.ravel()), F_kmodtheta_tile.ravel(), (kx_tile, ky_tile), \n",
    "                            method='linear', fill_value=0) # Interpolate from kxp,kyp (uniform in k) to kx,ky (uniform in kx,ky)\n",
    "    return kmod, F_kmod1+kmod2, kx, ky, F_kxky_tile1+F_kxky_tile2"
   ]
  },
  {
   "cell_type": "code",
   "execution_count": 12,
   "metadata": {},
   "outputs": [],
   "source": [
    "\"\"\" Compute the cumulative steepness \"\"\"\n",
    "def steepness_trunc (F,k):\n",
    "    mu = np.zeros(len(k))\n",
    "    dk = k[1]-k[0] # Uniform dk\n",
    "    for i,k_ in enumerate(k):\n",
    "        mu[i] = (np.sum(k[:i]**2*F[:i]*dk))**0.5\n",
    "    return mu"
   ]
  },
  {
   "cell_type": "code",
   "execution_count": 70,
   "metadata": {},
   "outputs": [],
   "source": [
    "\"\"\" Compute the cumulative steepness \"\"\"\n",
    "def steepness_trunc_non_uniform (F,k):\n",
    "    mu = np.zeros(len(k))\n",
    "    Hs = np.zeros(len(k))\n",
    "    dk = np.roll(k, -1) - k\n",
    "    dk = np.array(dk); dk[-1]=0\n",
    "    for i,k_ in enumerate(k):\n",
    "        mu[i] = np.sum(k[:i]**2*F[:i]*dk[:i])\n",
    "        Hs[i] = np.sum(F[:i]*dk[:i])**0.5\n",
    "    return mu, Hs"
   ]
  },
  {
   "cell_type": "code",
   "execution_count": null,
   "metadata": {},
   "outputs": [],
   "source": []
  },
  {
   "cell_type": "code",
   "execution_count": 89,
   "metadata": {},
   "outputs": [
    {
     "name": "stdout",
     "output_type": "stream",
     "text": [
      "kp*Hs = 0.175986\n",
      "mu = 1.5622\n"
     ]
    },
    {
     "data": {
      "image/png": "[encoded data removed]",
      "text/plain": [
       "<Figure size 432x288 with 1 Axes>"
      ]
     },
     "metadata": {
      "needs_background": "light"
     },
     "output_type": "display_data"
    }
   ],
   "source": [
    "''' Check kp*Hs, 200m, alter '''\n",
    "\n",
    "kp = 2*np.pi/40 # peak at 40m\n",
    "P = 0.01\n",
    "kmod, F_kmod, kx, ky, F_kxky_tile = spectrum_gen_alter(kp, P, L=200)\n",
    "kx_tile, ky_tile = np.meshgrid(kx,ky)\n",
    "\n",
    "N_grid = 256; L = 200\n",
    "x = np.linspace(-L/2,L/2,N_grid); y = np.linspace(-L/2,L/2,N_grid)\n",
    "x_tile, y_tile = np.meshgrid(x, y)\n",
    "kmod_cart_tile, theta_cart_tile = cart2pol(kx_tile,ky_tile)\n",
    "omega_tile = (9.8*kmod_cart_tile)**0.5 # frequency based on kx or kmod\n",
    "dkx = kx_tile[0,1]-kx_tile[0,0]; dky = ky_tile[1,0]-ky_tile[0,0]\n",
    "\n",
    "eta_tile, phase_tile = eta_random(0, N_grid, kx_tile, ky_tile, F_kxky_tile, dkx, dky, omega_tile)\n",
    "kpHs = np.var(eta_tile)**0.5*kp*4\n",
    "print('kp*Hs = %g' %kpHs)\n",
    "\n",
    "mu,Hs = steepness_trunc_non_uniform (F_kmod, kmod)\n",
    "print('mu = %g' %mu[-1])\n",
    "\n",
    "plt.plot(kmod[1:], F_kmod[1:], alpha = 0.7)\n",
    "\n",
    "# plt.plot(kmod, mu**0.5, '--')\n",
    "# plt.plot(kmod, kmod/kmod*0.1, ':', c='grey')\n",
    "plt.ylim([10**(-4), 10**(0)])\n",
    "plt.xlim([5*10**(-2), 10**(2)])\n",
    "# plt.ylim([10**(-6), 10**(1)])\n",
    "plt.xscale('log'); plt.yscale('log')"
   ]
  },
  {
   "cell_type": "code",
   "execution_count": null,
   "metadata": {},
   "outputs": [],
   "source": [
    "''' Check kp*Hs, 200m, alter '''\n",
    "\n",
    "kp = 2*np.pi/40 # peak at 40m\n",
    "P = 0.01\n",
    "kmod, F_kmod, kx, ky, F_kxky_tile = spectrum_gen_alter(kp, P, L=200)\n",
    "kx_tile, ky_tile = np.meshgrid(kx,ky)\n",
    "\n",
    "N_grid = 256; L = 200\n",
    "x = np.linspace(-L/2,L/2,N_grid); y = np.linspace(-L/2,L/2,N_grid)\n",
    "x_tile, y_tile = np.meshgrid(x, y)\n",
    "kmod_cart_tile, theta_cart_tile = cart2pol(kx_tile,ky_tile)\n",
    "omega_tile = (9.8*kmod_cart_tile)**0.5 # frequency based on kx or kmod\n",
    "dkx = kx_tile[0,1]-kx_tile[0,0]; dky = ky_tile[1,0]-ky_tile[0,0]\n",
    "\n",
    "eta_tile, phase_tile = eta_random(0, N_grid, kx_tile, ky_tile, F_kxky_tile, dkx, dky, omega_tile)\n",
    "kpHs = np.var(eta_tile)**0.5*kp*4\n",
    "print('kp*Hs = %g' %kpHs)\n",
    "\n",
    "mu,Hs = steepness_trunc_non_uniform (F_kmod, kmod)\n",
    "print('mu = %g' %mu[-1])\n",
    "\n",
    "plt.plot(kmod[1:], F_kmod[1:], alpha = 0.7)\n",
    "\n",
    "# plt.plot(kmod, mu**0.5, '--')\n",
    "# plt.plot(kmod, kmod/kmod*0.1, ':', c='grey')\n",
    "plt.ylim([10**(-4), 10**(0)])\n",
    "plt.xlim([5*10**(-2), 10**(2)])\n",
    "# plt.ylim([10**(-6), 10**(1)])\n",
    "plt.xscale('log'); plt.yscale('log')"
   ]
  },
  {
   "cell_type": "code",
   "execution_count": 90,
   "metadata": {},
   "outputs": [],
   "source": [
    "# Output F_kxky 200m case alter\n",
    "fF = open(\"/projects/DEIKE/jiarongw/multilayer/F_kxky_bimodal1\", 'bw')\n",
    "F_output = F_kxky_tile.astype('float32'); F_output.tofile(fF)"
   ]
  },
  {
   "cell_type": "code",
   "execution_count": 83,
   "metadata": {},
   "outputs": [],
   "source": [
    "def spectrum_gen(kp=2*np.pi/100, P=0.45, L=500, N_power=5):\n",
    "    thetam = 0\n",
    "    N_mode = 32; # Uniform grid in kx and ky : how many we want to put in the initialization\n",
    "    N_kmod = 64; N_theta = 64 # Uniform grid in kmod and ktheta\n",
    "    kmod = np.logspace(np.log(2*np.pi/L),np.log(200*2*np.pi/L),N_kmod)\n",
    "    theta = np.linspace(-0.5*np.pi, 0.5*np.pi, N_theta)\n",
    "    kmod_tile, theta_tile = np.meshgrid(kmod,theta)\n",
    "    \"\"\" JONSWAP without shape modification gamma \"\"\"\n",
    "    F_kmod = P*kmod**(-2.5)*np.exp(-1.25*(kp/kmod)**2)\n",
    "    D_theta = np.cos(theta-thetam)**N_power\n",
    "    dtheta = theta[1]-theta[0]\n",
    "    \"\"\" Is this necessary? Yes! \"\"\"\n",
    "    D_theta = D_theta/np.trapz(D_theta, theta)  # Normalize so the sum equals one\n",
    "    F_kmod_tile, D_theta_tile = np.meshgrid(F_kmod,D_theta) \n",
    "    F_kmodtheta_tile = F_kmod_tile*D_theta_tile/kmod_tile # Notice!! Normalize by k\n",
    "    \"\"\" Uniform grid in kx,ky \"\"\"\n",
    "    kx = np.arange(1,N_mode+1)*2*np.pi/L # based on the grid, interval can't go smaller then pi/L\n",
    "    ky = np.arange(-N_mode/2,N_mode/2+1)*2*np.pi/L\n",
    "    kx_tile, ky_tile = np.meshgrid(kx,ky)\n",
    "    kxp_tile, kyp_tile = pol2cart(kmod_tile, theta_tile)\n",
    "    \"\"\" Project from uniform k to uniform kx,ky \"\"\"\n",
    "    F_kxky_tile = griddata((kxp_tile.ravel(), kyp_tile.ravel()), F_kmodtheta_tile.ravel(), (kx_tile, ky_tile), \n",
    "                            method='linear', fill_value=0) # Interpolate from kxp,kyp (uniform in k) to kx,ky (uniform in kx,ky)\n",
    "    return kmod, F_kmod, kx, ky, F_kxky_tile"
   ]
  },
  {
   "cell_type": "code",
   "execution_count": 88,
   "metadata": {},
   "outputs": [
    {
     "name": "stdout",
     "output_type": "stream",
     "text": [
      "kp*Hs = 0.175223\n",
      "mu = 0.16305\n"
     ]
    },
    {
     "data": {
      "image/png": "[encoded data removed]",
      "text/plain": [
       "<Figure size 432x288 with 1 Axes>"
      ]
     },
     "metadata": {
      "needs_background": "light"
     },
     "output_type": "display_data"
    }
   ],
   "source": [
    "''' Check kp*Hs, 200m '''\n",
    "\n",
    "kp = 2*np.pi/40 # peak at 40m\n",
    "P = 0.010\n",
    "kmod, F_kmod, kx, ky, F_kxky_tile = spectrum_gen(kp, P, L=200)\n",
    "kx_tile, ky_tile = np.meshgrid(kx,ky)\n",
    "\n",
    "N_grid = 256; L = 200\n",
    "x = np.linspace(-L/2,L/2,N_grid); y = np.linspace(-L/2,L/2,N_grid)\n",
    "x_tile, y_tile = np.meshgrid(x, y)\n",
    "kmod_cart_tile, theta_cart_tile = cart2pol(kx_tile,ky_tile)\n",
    "omega_tile = (9.8*kmod_cart_tile)**0.5 # frequency based on kx or kmod\n",
    "dkx = kx_tile[0,1]-kx_tile[0,0]; dky = ky_tile[1,0]-ky_tile[0,0]\n",
    "\n",
    "eta_tile, phase_tile = eta_random(0, N_grid, kx_tile, ky_tile, F_kxky_tile, dkx, dky, omega_tile)\n",
    "kpHs = np.var(eta_tile)**0.5*kp*4\n",
    "print('kp*Hs = %g' %kpHs)\n",
    "\n",
    "mu,Hs = steepness_trunc_non_uniform (F_kmod, kmod)\n",
    "print('mu = %g' %mu[-1])\n",
    "\n",
    "plt.plot(kmod, F_kmod, alpha = 0.7)\n",
    "\n",
    "# plt.plot(kmod, mu**0.5, '--')\n",
    "# plt.plot(kmod, kmod/kmod*0.1, ':', c='grey')\n",
    "plt.ylim([10**(-6), 10**(1)])\n",
    "plt.xscale('log'); plt.yscale('log')"
   ]
  },
  {
   "cell_type": "code",
   "execution_count": 85,
   "metadata": {},
   "outputs": [
    {
     "data": {
      "text/plain": [
       "<matplotlib.image.AxesImage at 0x7f55e92f31c0>"
      ]
     },
     "execution_count": 85,
     "metadata": {},
     "output_type": "execute_result"
    },
    {
     "data": {
      "image/png": "[encoded data removed]",
      "text/plain": [
       "<Figure size 432x288 with 1 Axes>"
      ]
     },
     "metadata": {
      "needs_background": "light"
     },
     "output_type": "display_data"
    }
   ],
   "source": [
    "plt.imshow(eta_tile, vmax=0.4/kp, vmin=-0.4/kp)"
   ]
  },
  {
   "cell_type": "code",
   "execution_count": 87,
   "metadata": {},
   "outputs": [
    {
     "data": {
      "text/plain": [
       "<matplotlib.image.AxesImage at 0x7f55e90fdb10>"
      ]
     },
     "execution_count": 87,
     "metadata": {},
     "output_type": "execute_result"
    },
    {
     "data": {
      "image/png": "[encoded data removed]",
      "text/plain": [
       "<Figure size 432x288 with 1 Axes>"
      ]
     },
     "metadata": {
      "needs_background": "light"
     },
     "output_type": "display_data"
    }
   ],
   "source": [
    "plt.imshow(eta_tile, vmax=0.4/kp, vmin=-0.4/kp)"
   ]
  },
  {
   "cell_type": "code",
   "execution_count": null,
   "metadata": {},
   "outputs": [],
   "source": [
    "# Spectrum for L0 = 50\n",
    "kp = 2*np.pi/10 # peak at 10m\n",
    "P = 0.002\n",
    "kmod, F_kmod, kx, ky, F_kxky_tile = spectrum_gen(kp, P, L=50)\n",
    "kx_tile, ky_tile = np.meshgrid(kx,ky)\n",
    "# Some visualization:\n",
    "# plt.plot(kmod, F_kmod, '.')\n",
    "# plt.ylabel('F(k)'); plt.xlabel('k')\n",
    "plt.imshow(F_kxky_tile, extent=[kx_tile[0,0],kx_tile[-1,-1],ky_tile[0,0],ky_tile[-1,-1]])\n",
    "plt.ylabel('ky'); plt.xlabel('kx')"
   ]
  },
  {
   "cell_type": "code",
   "execution_count": 106,
   "metadata": {},
   "outputs": [
    {
     "data": {
      "text/plain": [
       "(33, 32)"
      ]
     },
     "execution_count": 106,
     "metadata": {},
     "output_type": "execute_result"
    }
   ],
   "source": [
    "# Output F_kxky 50m case\n",
    "fF = open(\"/projects/DEIKE/jiarongw/multilayer/F_kxky_P0.005_50m\", 'bw')\n",
    "F_output = F_kxky_tile.astype('float32'); F_output.tofile(fF)\n",
    "F_kxky_tile.shape"
   ]
  },
  {
   "cell_type": "code",
   "execution_count": 25,
   "metadata": {},
   "outputs": [],
   "source": [
    "fF1 = open(\"/projects/DEIKE/jiarongw/multilayer/kx_50m\", 'bw')\n",
    "F_output = kx.astype('float32'); F_output.tofile(fF1)\n",
    "fF2 = open(\"/projects/DEIKE/jiarongw/multilayer/ky_50m\", 'bw')\n",
    "F_output = ky.astype('float32'); F_output.tofile(fF2)"
   ]
  },
  {
   "cell_type": "code",
   "execution_count": 8,
   "metadata": {},
   "outputs": [
    {
     "data": {
      "text/plain": [
       "(33, 32)"
      ]
     },
     "execution_count": 8,
     "metadata": {},
     "output_type": "execute_result"
    }
   ],
   "source": [
    "# Output F_kxky 200m case\n",
    "fF = open(\"/projects/DEIKE/jiarongw/multilayer/F_kxky_P0.008_200m_N10\", 'bw')\n",
    "F_output = F_kxky_tile.astype('float32'); F_output.tofile(fF)\n",
    "F_kxky_tile.shape"
   ]
  },
  {
   "cell_type": "code",
   "execution_count": 19,
   "metadata": {},
   "outputs": [
    {
     "data": {
      "text/plain": [
       "(33, 32)"
      ]
     },
     "execution_count": 19,
     "metadata": {},
     "output_type": "execute_result"
    }
   ],
   "source": [
    "# Output F_kxky 200m case alter\n",
    "fF = open(\"/projects/DEIKE/jiarongw/multilayer/F_kxky_P0.02_200m_wider\", 'bw')\n",
    "F_output = F_kxky_tile.astype('float32'); F_output.tofile(fF)\n",
    "F_kxky_tile.shape"
   ]
  },
  {
   "cell_type": "code",
   "execution_count": 18,
   "metadata": {},
   "outputs": [],
   "source": [
    "fF1 = open(\"/projects/DEIKE/jiarongw/multilayer/kx_200m_wider\", 'bw')\n",
    "F_output = kx.astype('float32'); F_output.tofile(fF1)\n",
    "fF2 = open(\"/projects/DEIKE/jiarongw/multilayer/ky_200m_wider\", 'bw')\n",
    "F_output = ky.astype('float32'); F_output.tofile(fF2)"
   ]
  },
  {
   "cell_type": "code",
   "execution_count": 71,
   "metadata": {},
   "outputs": [
    {
     "data": {
      "text/plain": [
       "(33, 32)"
      ]
     },
     "execution_count": 71,
     "metadata": {},
     "output_type": "execute_result"
    }
   ],
   "source": [
    "# Output F_kxky 500m case\n",
    "fF = open(\"/projects/DEIKE/jiarongw/multilayer/F_kxky_P0.08_500m\", 'bw')\n",
    "F_output = F_kxky_tile.astype('float32'); F_output.tofile(fF)\n",
    "F_kxky_tile.shape"
   ]
  },
  {
   "cell_type": "code",
   "execution_count": 23,
   "metadata": {},
   "outputs": [],
   "source": [
    "fF1 = open(\"/projects/DEIKE/jiarongw/multilayer/kx_500m\", 'bw')\n",
    "F_output = kx.astype('float32'); F_output.tofile(fF1)\n",
    "fF2 = open(\"/projects/DEIKE/jiarongw/multilayer/ky_500m\", 'bw')\n",
    "F_output = ky.astype('float32'); F_output.tofile(fF2)"
   ]
  },
  {
   "cell_type": "code",
   "execution_count": 5,
   "metadata": {},
   "outputs": [],
   "source": [
    "'''\n",
    "    Add modes together to generate initial eta field. Random phase.\n",
    "'''\n",
    "\n",
    "def eta_random(t, N_grid, kx_tile, ky_tile, F_kxky_tile, dkx, dky, omega_tile):\n",
    "    # This is the only place that the random field is generated, everything else should agree;\n",
    "    # and we want to seed the random number\n",
    "    np.random.seed(0) \n",
    "    tb = 40; xb = 0; yb = 0\n",
    "    phase_tile = -kx_tile*xb-ky_tile*yb+np.random.random_sample(kx_tile.shape)*2*np.pi # Add a random phase field\n",
    "    #phase_tile = -kx_tile*xb-ky_tile*yb+omega_tile*tb+np.random.random_sample(kx_tile.shape)*5 # Add a random phase field\n",
    "    eta_tile = np.zeros(x_tile.shape)\n",
    "    for i1 in range(0,N_grid):\n",
    "        for i2 in range(0,N_grid):\n",
    "            ampl = (2*F_kxky_tile*dkx*dky)**0.5\n",
    "            # How to exactly represent integrate over dk_x*dk_y*eta_hat?\n",
    "            # mode = (F_kdirectional**0.5)*np.cos((kx_tile*x_tile[i1,i2]+ky_tile*y_tile[i1,i2])+\n",
    "            #                                    phase_tile)*(kmod_tile*(kmod[1]-kmod[0])*(theta[1]-theta[0])) # uniform space in k and theta\n",
    "            a = (kx_tile*x_tile[i1,i2]+ky_tile*y_tile[i1,i2])-omega_tile*t+phase_tile\n",
    "            mode = ampl*(np.cos(a)) # uniform spacing in kx and ky\n",
    "            eta_tile[i1,i2] = np.sum(mode)    \n",
    "    return eta_tile, phase_tile"
   ]
  },
  {
   "cell_type": "code",
   "execution_count": 81,
   "metadata": {},
   "outputs": [
    {
     "name": "stdout",
     "output_type": "stream",
     "text": [
      "kp*Hs = 0.301395\n"
     ]
    }
   ],
   "source": [
    "''' Check kp*Hs, 50m '''\n",
    "\n",
    "kp = 2*np.pi/10 # peak at 10m\n",
    "P = 0.015\n",
    "kmod, F_kmod, kx, ky, F_kxky_tile = spectrum_gen(kp, P, L=50)\n",
    "kx_tile, ky_tile = np.meshgrid(kx,ky)\n",
    "\n",
    "N_grid = 256; L = 50\n",
    "x = np.linspace(-L/2,L/2,N_grid); y = np.linspace(-L/2,L/2,N_grid)\n",
    "x_tile, y_tile = np.meshgrid(x, y)\n",
    "kmod_cart_tile, theta_cart_tile = cart2pol(kx_tile,ky_tile)\n",
    "omega_tile = (9.8*kmod_cart_tile)**0.5 # frequency based on kx or kmod\n",
    "dkx = kx_tile[0,1]-kx_tile[0,0]; dky = ky_tile[1,0]-ky_tile[0,0]\n",
    "\n",
    "# eta_tile is a 512 by 512 array\n",
    "eta_tile, phase_tile = eta_random(0, N_grid, kx_tile, ky_tile, F_kxky_tile, dkx, dky, omega_tile)\n",
    "kpHs = np.var(eta_tile)**0.5*kp*4\n",
    "print('kp*Hs = %g' %kpHs)\n",
    "# We don't need to output eta anymore cuz the initialization is taken care in Basilisk already\n",
    "# feta = open(\"/home/jiarong/research/projects/multilayer/testing/randfocusing_P0010_layer60_newremap/readin/pre/eta\", 'bw')\n",
    "# eta_output = eta_tile.astype('float32'); eta_output.tofile(feta)"
   ]
  },
  {
   "cell_type": "code",
   "execution_count": 15,
   "metadata": {},
   "outputs": [
    {
     "name": "stdout",
     "output_type": "stream",
     "text": [
      "kp*Hs = 0.253633\n"
     ]
    }
   ],
   "source": [
    "''' Check kp*Hs, 200m '''\n",
    "\n",
    "kp = 2*np.pi/40 # peak at 40m\n",
    "P = 0.02\n",
    "# kmod, F_kmod, kx, ky, F_kxky_tile = spectrum_gen(kp, P, L=200)\n",
    "kmod, F_kmod, kx, ky, F_kxky_tile = spectrum_gen_wider(kp, P, L=200)\n",
    "kx_tile, ky_tile = np.meshgrid(kx,ky)\n",
    "\n",
    "N_grid = 256; L = 200\n",
    "x = np.linspace(-L/2,L/2,N_grid); y = np.linspace(-L/2,L/2,N_grid)\n",
    "x_tile, y_tile = np.meshgrid(x, y)\n",
    "kmod_cart_tile, theta_cart_tile = cart2pol(kx_tile,ky_tile)\n",
    "omega_tile = (9.8*kmod_cart_tile)**0.5 # frequency based on kx or kmod\n",
    "dkx = kx_tile[0,1]-kx_tile[0,0]; dky = ky_tile[1,0]-ky_tile[0,0]\n",
    "\n",
    "eta_tile, phase_tile = eta_random(0, N_grid, kx_tile, ky_tile, F_kxky_tile, dkx, dky, omega_tile)\n",
    "kpHs = np.var(eta_tile)**0.5*kp*4\n",
    "print('kp*Hs = %g' %kpHs)\n",
    "# We don't need to output eta anymore cuz the initialization is taken care in Basilisk already\n",
    "# feta = open(\"/home/jiarong/research/projects/multilayer/testing/randfocusing_P0010_layer60_newremap/readin/pre/eta\", 'bw')\n",
    "# eta_output = eta_tile.astype('float32'); eta_output.tofile(feta)"
   ]
  },
  {
   "cell_type": "code",
   "execution_count": 10,
   "metadata": {},
   "outputs": [
    {
     "name": "stdout",
     "output_type": "stream",
     "text": [
      "kp*Hs = 0.565825\n"
     ]
    }
   ],
   "source": [
    "''' Check kp*Hs, 200m, alter '''\n",
    "\n",
    "kp = 2*np.pi/40 # peak at 40m\n",
    "P = 0.2\n",
    "kmod, F_kmod, kx, ky, F_kxky_tile = spectrum_gen_alter(kp, P, L=200)\n",
    "kx_tile, ky_tile = np.meshgrid(kx,ky)\n",
    "\n",
    "N_grid = 256; L = 200\n",
    "x = np.linspace(-L/2,L/2,N_grid); y = np.linspace(-L/2,L/2,N_grid)\n",
    "x_tile, y_tile = np.meshgrid(x, y)\n",
    "kmod_cart_tile, theta_cart_tile = cart2pol(kx_tile,ky_tile)\n",
    "omega_tile = (9.8*kmod_cart_tile)**0.5 # frequency based on kx or kmod\n",
    "dkx = kx_tile[0,1]-kx_tile[0,0]; dky = ky_tile[1,0]-ky_tile[0,0]\n",
    "\n",
    "eta_tile, phase_tile = eta_random(0, N_grid, kx_tile, ky_tile, F_kxky_tile, dkx, dky, omega_tile)\n",
    "kpHs = np.var(eta_tile)**0.5*kp*4\n",
    "print('kp*Hs = %g' %kpHs)\n",
    "# We don't need to output eta anymore cuz the initialization is taken care in Basilisk already\n",
    "# feta = open(\"/home/jiarong/research/projects/multilayer/testing/randfocusing_P0010_layer60_newremap/readin/pre/eta\", 'bw')\n",
    "# eta_output = eta_tile.astype('float32'); eta_output.tofile(feta)"
   ]
  },
  {
   "cell_type": "code",
   "execution_count": 73,
   "metadata": {},
   "outputs": [
    {
     "name": "stdout",
     "output_type": "stream",
     "text": [
      "kp*Hs = 0.391331\n"
     ]
    }
   ],
   "source": [
    "''' Check kp*Hs, 500m '''\n",
    "\n",
    "kp = 2*np.pi/100 # peak at 10m\n",
    "P = 0.08\n",
    "kmod, F_kmod, kx, ky, F_kxky_tile = spectrum_gen(kp, P, L=500)\n",
    "kx_tile, ky_tile = np.meshgrid(kx,ky)\n",
    "\n",
    "N_grid = 256; L = 500\n",
    "x = np.linspace(-L/2,L/2,N_grid); y = np.linspace(-L/2,L/2,N_grid)\n",
    "x_tile, y_tile = np.meshgrid(x, y)\n",
    "kmod_cart_tile, theta_cart_tile = cart2pol(kx_tile,ky_tile)\n",
    "omega_tile = (9.8*kmod_cart_tile)**0.5 # frequency based on kx or kmod\n",
    "dkx = kx_tile[0,1]-kx_tile[0,0]; dky = ky_tile[1,0]-ky_tile[0,0]\n",
    "\n",
    "eta_tile, phase_tile = eta_random(0, N_grid, kx_tile, ky_tile, F_kxky_tile, dkx, dky, omega_tile)\n",
    "kpHs = np.var(eta_tile)**0.5*kp*4\n",
    "print('kp*Hs = %g' %kpHs)\n",
    "# We don't need to output eta anymore cuz the initialization is taken care in Basilisk already\n",
    "# feta = open(\"/home/jiarong/research/projects/multilayer/testing/randfocusing_P0010_layer60_newremap/readin/pre/eta\", 'bw')\n",
    "# eta_output = eta_tile.astype('float32'); eta_output.tofile(feta)"
   ]
  },
  {
   "cell_type": "code",
   "execution_count": 202,
   "metadata": {},
   "outputs": [],
   "source": [
    "'''\n",
    "    Add modes together to generate initial eta field.\n",
    "    Phase not random but focusing.\n",
    "'''\n",
    "def eta_focusing(t):\n",
    "    global N_grid, kx_tile, ky_tile, F_kxky_tile, dkx, dky, omega_title\n",
    "    tb = 40; xb = 0; yb = 0 # travelling at group velocity?\n",
    "    phase_tile = -kx_tile*xb-ky_tile*yb+omega_tile*tb\n",
    "    # phase_tile = np.random.random_sample(kx_tile.shape)*2*np.pi # Add a random phase field\n",
    "    # x = np.linspace(-L/2,L/2+L/N_grid,N_grid+1,endpoint=False)+L/N_grid/2; y = np.linspace(-L/2,L/2,N_grid,endpoint=False)+L/N_grid/2\n",
    "    x = np.linspace(-L/2,L/2,N_grid,endpoint=False)+L/N_grid/2 # So that interpolation does not have nan\n",
    "    y = np.linspace(-L/2,L/2,N_grid,endpoint=False)+L/N_grid/2\n",
    "    x_tile, y_tile = np.meshgrid(x, y)\n",
    "    eta_tile = np.zeros(x_tile.shape)\n",
    "    for i1 in range(0,N_grid):\n",
    "        for i2 in range(0,N_grid):\n",
    "            ampl = (2*F_kxky_tile*dkx*dky)**0.5\n",
    "            a = (kx_tile*x_tile[i1,i2]+ky_tile*y_tile[i1,i2])-omega_tile*t+phase_tile\n",
    "            mode = ampl*(np.cos(a)) # uniform space in kx and ky\n",
    "            eta_tile[i1,i2] = np.sum(mode)  \n",
    "    return eta_tile,phase_tile"
   ]
  },
  {
   "cell_type": "code",
   "execution_count": null,
   "metadata": {},
   "outputs": [],
   "source": [
    "# How to speed up matplotlib\n",
    "# https://stackoverflow.com/questions/8955869/why-is-plotting-with-matplotlib-so-slow\n",
    "from matplotlib import animation\n",
    "from visualization import contour\n",
    "from IPython.display import HTML\n",
    "import numpy as np\n",
    "import matplotlib as mpl\n",
    "import matplotlib.pyplot as plt\n",
    "import matplotlib.gridspec as gridspec\n",
    "import matplotlib.colors as mcolors\n",
    "import matplotlib.image as mpimg\n",
    "\n",
    "# Single animation generation function\n",
    "def plot_animation(animate_function, frame_number = 31, interval_time = 100):\n",
    "\n",
    "    # First set up the figure, the axis, and the plot element we want to animate    \n",
    "    fig,ax = contour_generator()\n",
    "    pcontour = ax[0].imshow(eta_tile*kp, vmax=0.2, vmin=-0.2)\n",
    "    ax[0].cax.colorbar(pcontour)\n",
    "\n",
    "    # animation function.  This is called sequentially\n",
    "    def animate(i):\n",
    "        t = i*2\n",
    "        imgplot = animate_function(i, ax[0])\n",
    "        return imgplot,\n",
    "\n",
    "    # call the animator.  blit=True means only re-draw the parts that have changed.\n",
    "    anim = animation.FuncAnimation(fig, animate, frames=frame_number, interval=interval_time, blit = True)  \n",
    "    return anim\n",
    "\n",
    "# Define the function called at every animation time to read in images\n",
    "def plot_func(i, ax):\n",
    "    t = i\n",
    "    eta_tile = eta_random(t)\n",
    "    image = ax.imshow(eta_tile*kp, vmax=0.2, vmin=-0.2)\n",
    "    return image\n",
    "\n",
    "anim = plot_animation(plot_func, frame_number = 100, interval_time = 100) # Specify frame number\n",
    "HTML(anim.to_html5_video())"
   ]
  },
  {
   "cell_type": "code",
   "execution_count": 47,
   "metadata": {},
   "outputs": [
    {
     "data": {
      "text/plain": [
       "<mpl_toolkits.axes_grid1.colorbar.Colorbar at 0x7fcb215a5860>"
      ]
     },
     "execution_count": 47,
     "metadata": {},
     "output_type": "execute_result"
    },
    {
     "data": {
      "image/png": "[encoded data removed]",
      "text/plain": [
       "<Figure size 720x288 with 2 Axes>"
      ]
     },
     "metadata": {
      "needs_background": "light"
     },
     "output_type": "display_data"
    }
   ],
   "source": [
    "fig,grid = contour_generator()\n",
    "eta_tile,phase_tile = eta_random(0)\n",
    "pcontour = grid[0].imshow(eta_tile*kp, vmax=0.2, vmin=-0.2)\n",
    "grid[0].cax.colorbar(pcontour)"
   ]
  },
  {
   "cell_type": "code",
   "execution_count": 48,
   "metadata": {},
   "outputs": [
    {
     "name": "stdout",
     "output_type": "stream",
     "text": [
      "0.042586669600134894\n",
      "0.04253652812162283\n",
      "0.01295868365469626\n",
      "0.00047241281262012464\n",
      "0.04242064316600821\n",
      "104214.49389797593\n"
     ]
    }
   ],
   "source": [
    "'''\n",
    "    Check that calculation of F(kmod) is consistent by comparing integration of F(kmod) and mean square\n",
    "    of the initial eta field.\n",
    "'''\n",
    "dx = L/N_grid\n",
    "F_integrated = np.sum(F_kxky_tile)*((kx_tile[0,1]-kx_tile[0,0])*(ky_tile[1,0]-ky_tile[0,0])) # Integration over kx ky is easier\n",
    "print(F_integrated)\n",
    "print(np.sum((eta_tile-np.average(eta_tile))**2)/(L**2)*dx*dx)# Notice the Delta x normalization\n",
    "print(np.std(eta_tile)*kp)\n",
    "print(np.average(eta_tile))\n",
    "print(np.max(eta_tile)*kp)\n",
    "print(np.sum((eta_tile-np.average(eta_tile))**2)*dx**2*9.8)"
   ]
  },
  {
   "cell_type": "code",
   "execution_count": 139,
   "metadata": {},
   "outputs": [],
   "source": [
    "'''k\n",
    "    Output eta to file\n",
    "'''\n",
    "eta_tile,phase_tile = eta_random(0)\n",
    "feta = open(\"/home/jiarong/research/projects/multilayer/testing/randfocusing_P0010_layer60_newremap/readin/pre/eta\", 'bw')\n",
    "eta_output = eta_tile.astype('float32'); eta_output.tofile(feta)"
   ]
  },
  {
   "cell_type": "code",
   "execution_count": 138,
   "metadata": {},
   "outputs": [
    {
     "name": "stderr",
     "output_type": "stream",
     "text": [
      "100%|██████████| 60/60 [05:33<00:00,  5.59s/it]\n"
     ]
    }
   ],
   "source": [
    "'''\n",
    "    A second way of initializing velocity. Adding an actual z option. \n",
    "'''\n",
    "eta_tile, phase_tile = eta_random(0)\n",
    "zb = -5; z_tile = zb*np.ones(x_tile.shape) # computational domain bottom position\n",
    "N_layer = 60 # Number of layers used \n",
    "h_tile = eta_tile/N_layer # height of each layer (uniformly divided)\n",
    "g = 9.8\n",
    "u_tile = np.zeros(x_tile.shape); v_tile = np.zeros(x_tile.shape); w_tile = np.zeros(x_tile.shape)\n",
    "u_set = []; v_set = []; w_set = []; z_set=[] # For sanity checks\n",
    "kmod_cart_tile, theta_cart_tile = cart2pol(kx_tile,ky_tile) # The module of k from kx_tile and ky_tile\n",
    "for l in tqdm(range(0, N_layer)):\n",
    "    u_tile, v_tile, w_tile = np.zeros(x_tile.shape), np.zeros(x_tile.shape), np.zeros(x_tile.shape)\n",
    "    z_tile = z_tile + (eta_tile-zb)/N_layer/2\n",
    "    for i1 in range(0,N_grid):\n",
    "        for i2 in range(0,N_grid):\n",
    "            ampl = (2*F_kxky_tile*dkx*dky)**0.5\n",
    "            actual_z_tile = np.minimum(ampl, np.ones(ampl.shape)*z_tile[i1,i2]) # Element wise comparison\n",
    "            a = (kx_tile*x_tile[i1,i2]+ky_tile*y_tile[i1,i2])+phase_tile\n",
    "            mode = ampl*(np.cos(a))\n",
    "            # u = \\sqrt{gk}*A*sin(kx-wt), but also need to consider direction cos(theta)\n",
    "            u_mode = (g*kmod_cart_tile)**0.5*ampl*np.exp(kmod_cart_tile*actual_z_tile)*np.cos(a)*np.cos(theta_cart_tile)\n",
    "            v_mode = (g*kmod_cart_tile)**0.5*ampl*np.exp(kmod_cart_tile*actual_z_tile)*np.cos(a)*np.sin(theta_cart_tile)\n",
    "            w_mode = (g*kmod_cart_tile)**0.5*ampl*np.exp(kmod_cart_tile*actual_z_tile)*np.sin(a)\n",
    "            u_tile[i1,i2] = np.sum(u_mode); v_tile[i1,i2] = np.sum(v_mode); w_tile[i1,i2] = np.sum(w_mode)\n",
    "    u_set.append(u_tile); v_set.append(v_tile); w_set.append(w_tile); z_set.append(z_tile)\n",
    "    fu = open(\"/home/jiarong/research/projects/multilayer/testing/randfocusing_P0010_layer60_newremap/readin/pre/u_layer%g\" %l, \"bw\")\n",
    "    u_output = u_tile.astype('float32'); u_output.tofile(fu)\n",
    "    fv = open(\"/home/jiarong/research/projects/multilayer/testing/randfocusing_P0010_layer60_newremap/readin/pre/v_layer%g\" %l, \"bw\")\n",
    "    v_output = v_tile.astype('float32'); v_output.tofile(fv)\n",
    "    fw = open(\"/home/jiarong/research/projects/multilayer/testing/randfocusing_P0010_layer60_newremap/readin/pre/w_layer%g\" %l, \"bw\")\n",
    "    w_output = w_tile.astype('float32'); w_output.tofile(fw)\n",
    "    z_tile = z_tile + (eta_tile-zb)/N_layer/2"
   ]
  },
  {
   "cell_type": "code",
   "execution_count": null,
   "metadata": {},
   "outputs": [],
   "source": [
    "'''\n",
    "    Check KE and GPE equal partition.\n",
    "'''\n",
    "# To do: compute gpe from z_set\n",
    "# Energy/area\n",
    "\n",
    "gpe = 0.5*np.sum(eta_tile**2)*(1/(N_grid*RATIO))**2*9.8\n",
    "print(gpe)\n",
    "ke = 0\n",
    "gpe_int = 0\n",
    "for ilayer in range(0,N_layer):\n",
    "    # Kinetic energy is integrated along the depth thus zb/N_layer\n",
    "    ke += (np.sum(u_set[ilayer]**2)+np.sum(v_set[ilayer]**2)+np.sum(w_set[ilayer]**2))*(1/(N_grid*RATIO))**2*(0-zb)/N_layer\n",
    "    gpe_int += np.sum(z_set[ilayer])*(1/(N_grid*RATIO))**2*(0-zb)/N_layer\n",
    "ke = 0.5*ke\n",
    "print(ke)\n",
    "gpe_baseline = 0.5*zb**2\n",
    "print((gpe_int-gpe_baseline)*9.8)"
   ]
  },
  {
   "cell_type": "code",
   "execution_count": null,
   "metadata": {},
   "outputs": [],
   "source": [
    "'''\n",
    "    Plot the initial F(kmod).\n",
    "    Check shape and peak.\n",
    "'''\n",
    "L = 50; N = 256; i=0\n",
    "spectrum = np.fft.fft2(eta_tile_higher)*(1/N)**2 # How to normalize here?!\n",
    "F = np.absolute(spectrum)\n",
    "F_center = np.fft.fftshift(F)\n",
    "wavenumber = 2*np.pi*np.fft.fftfreq(n=N,d=L/N)\n",
    "kx = np.fft.fftshift(wavenumber)\n",
    "ky = kx\n",
    "kx_tile, ky_tile = np.meshgrid(kx,ky)\n",
    "theta = np.arange(-N/4,N/4)/(N)*2*np.pi\n",
    "k = wavenumber[0:int(N/2)]\n",
    "k_tile, theta_tile = np.meshgrid(k,theta)\n",
    "kxp_tile, kyp_tile = pol2cart(k_tile, theta_tile)\n",
    "from scipy import interpolate\n",
    "f = interpolate.RectBivariateSpline(kx, ky, F_center)\n",
    "F_center_polar = f.ev(kxp_tile, kyp_tile)\n",
    "F_center_polar_integrated = np.sum(F_center_polar, axis=0)*(theta[1]-theta[0])*k\n",
    "plt.plot(k[0:int(N/2)],F_center_polar_integrated*2, color=plt.cm.get_cmap('summer')(i/18), label='t=%g' %i)"
   ]
  },
  {
   "cell_type": "code",
   "execution_count": null,
   "metadata": {},
   "outputs": [],
   "source": [
    "# Remaining problem\n",
    "# 1. \"ampl = (2*F_kxky_tile*dkx*dky)**0.5\" dxdy inside!\n",
    "# 2. When integrate to get \\eta^2. Why \"*dx/L*dy/L\"? I think I got that now!\n",
    "# 3. In the velocity initialization, some tricks.\n",
    "# Luc's code\n",
    "# wave2dint=nansum(nansum(wave2d.^2))*dx*dx./L./L\n",
    "# waveintafterfft3=nanstd(wave3).^2;\n",
    "# waveintback=nansum(S2(1:N/2))*dk1%yeah!"
   ]
  }
 ],
 "metadata": {
  "kernelspec": {
   "display_name": "gp",
   "language": "python",
   "name": "gp"
  },
  "language_info": {
   "codemirror_mode": {
    "name": "ipython",
    "version": 3
   },
   "file_extension": ".py",
   "mimetype": "text/x-python",
   "name": "python",
   "nbconvert_exporter": "python",
   "pygments_lexer": "ipython3",
   "version": "3.10.4"
  }
 },
 "nbformat": 4,
 "nbformat_minor": 4
}
