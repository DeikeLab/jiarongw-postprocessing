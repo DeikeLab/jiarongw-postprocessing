{
 "cells": [
  {
   "cell_type": "code",
   "execution_count": 1,
   "metadata": {},
   "outputs": [],
   "source": [
    "import numpy as np\n",
    "import mayavi\n",
    "\n",
    "# def test_surf():\n",
    "#     \"\"\"Test surf on regularly spaced co-ordinates like MayaVi.\"\"\"\n",
    "#     def f(x, y):\n",
    "#         sin, cos = np.sin, np.cos\n",
    "#         return sin(x + y) + sin(2 * x - y) + cos(3 * x + 4 * y)\n",
    "\n",
    "#     x, y = np.mgrid[-7.:7.05:0.1, -5.:5.05:0.05]\n",
    "#     s = mlab.surf(x, y, f)\n",
    "#     #cs = contour_surf(x, y, f, contour_z=0)\n",
    "#     return s"
   ]
  },
  {
   "cell_type": "code",
   "execution_count": 1,
   "metadata": {},
   "outputs": [
    {
     "name": "stdout",
     "output_type": "stream",
     "text": [
      "<module 'vtkmodules.all' from '/home/jiarongw/anaconda3/envs/gp/lib/python3.10/site-packages/vtkmodules/all.py'>\n"
     ]
    }
   ],
   "source": [
    "import vtk,sys\n",
    "print(sys.modules['vtk'])"
   ]
  },
  {
   "cell_type": "code",
   "execution_count": null,
   "metadata": {},
   "outputs": [],
   "source": [
    "from numpy import pi, sin, cos, mgrid\n",
    "dphi, dtheta = pi/250.0, pi/250.0\n",
    "[phi,theta] = mgrid[0:pi+dphi*1.5:dphi,0:2*pi+dtheta*1.5:dtheta]\n",
    "m0 = 4; m1 = 3; m2 = 2; m3 = 3; m4 = 6; m5 = 2; m6 = 6; m7 = 4;\n",
    "r = sin(m0*phi)**m1 + cos(m2*phi)**m3 + sin(m4*theta)**m5 + cos(m6*theta)**m7\n",
    "x = r*sin(phi)*cos(theta)\n",
    "y = r*cos(phi)\n",
    "z = r*sin(phi)*sin(theta)\n",
    "\n",
    "# View it.\n",
    "from mayavi import mlab\n",
    "s = mayavi.mlab.mesh(x, y, z)\n",
    "mlab.show()"
   ]
  },
  {
   "cell_type": "code",
   "execution_count": null,
   "metadata": {},
   "outputs": [],
   "source": []
  }
 ],
 "metadata": {
  "kernelspec": {
   "display_name": "gp",
   "language": "python",
   "name": "gp"
  },
  "language_info": {
   "codemirror_mode": {
    "name": "ipython",
    "version": 3
   },
   "file_extension": ".py",
   "mimetype": "text/x-python",
   "name": "python",
   "nbconvert_exporter": "python",
   "pygments_lexer": "ipython3",
   "version": "3.10.4"
  }
 },
 "nbformat": 4,
 "nbformat_minor": 4
}
