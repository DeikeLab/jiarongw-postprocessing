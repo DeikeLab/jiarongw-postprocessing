{
 "cells": [
  {
   "cell_type": "code",
   "execution_count": 7,
   "metadata": {},
   "outputs": [],
   "source": [
    "import pandas as pd\n",
    "import numpy as np\n",
    "import math\n",
    "import os\n",
    "from matplotlib import pyplot as plt\n",
    "import sys\n",
    "from scipy.interpolate import griddata\n",
    "from tqdm import tqdm\n",
    "# sys.path.append('/Users/jiarong/Google Drive/codes/jiarongw-postprocessing/functions')\n",
    "sys.path.append('/home/jiarong/research/postprocessing/jupyter_notebook/functions/')\n",
    "from fio import readin\n",
    "from mpl_toolkits.mplot3d import Axes3D  "
   ]
  },
  {
   "cell_type": "code",
   "execution_count": 228,
   "metadata": {},
   "outputs": [
    {
     "data": {
      "text/plain": [
       "Text(0, 0.5, 'F(kx)')"
      ]
     },
     "execution_count": 228,
     "metadata": {},
     "output_type": "execute_result"
    },
    {
     "data": {
      "image/png": "[encoded data removed]",
      "text/plain": [
       "<Figure size 432x288 with 1 Axes>"
      ]
     },
     "metadata": {
      "needs_background": "light"
     },
     "output_type": "display_data"
    }
   ],
   "source": [
    "'''\n",
    "    Initialization based on PM/Jonswap.\n",
    "    All identities with _tile are two-dimensional array.\n",
    "    In principle kmax = 2*np.pi/(2L/N_grid), kmin=2*np.pi/L.\n",
    "    For focusing.\n",
    "''' \n",
    "# Spectrum in polar coordinate\n",
    "kp = 2*np.pi/10 # peak at 10m\n",
    "P = 0.018\n",
    "\n",
    "# Project onto kx,ky\n",
    "N_mode = 16; L =50\n",
    "kx = np.arange(1,N_mode+1,1)*2*np.pi/L # based on the grid, interval can't go smaller then pi/L\n",
    "                                           \n",
    "dkx = kx[1]-kx[0]; \n",
    "\n",
    "# F_kx = (P/kx)**2\n",
    "# F_kx = P*np.ones(kx.size)\n",
    "F_kx = P*kx**(-2.5)*np.exp(-0.75*(kp/kx)**2)\n",
    "# interpolator = LinearNDInterpolator((kxp_tile.ravel(),kyp_tile.ravel()), F_kmodtheta_tile.ravel())\n",
    "# F_kxky_tile = interpolator(kx_tile, ky_tile) \n",
    "# plt.imshow(F_kxky_tile, extent=[kx_tile[0,0],kx_tile[-1,-1],ky_tile[0,0],ky_tile[-1,-1]])\n",
    "# plt.ylabel('ky'); plt.xlabel('kx')\n",
    "plt.plot(kx, F_kx, '.'); plt.xlabel('kx'); plt.ylabel('F(kx)')"
   ]
  },
  {
   "cell_type": "code",
   "execution_count": 229,
   "metadata": {},
   "outputs": [],
   "source": [
    "'''\n",
    "    Add modes together to generate initial eta field.\n",
    "    Phase not random but focusing.\n",
    "    1D case\n",
    "'''\n",
    "# This is the only place that the random field is generated, everything else should agree;\n",
    "# and we want to seed the random number\n",
    "tb = 40; xb = 0;  # travelling at group velocity?\n",
    "N_grid = 256\n",
    "# phase_tile = np.random.random_sample(kx_tile.shape)*2*np.pi # Add a random phase field\n",
    "# x = np.linspace(-L/2,L/2+L/N_grid,N_grid+1,endpoint=False)+L/N_grid/2; y = np.linspace(-L/2,L/2,N_grid,endpoint=False)+L/N_grid/2\n",
    "x = np.linspace(-L/2,L/2,N_grid,endpoint=False)+L/N_grid/2 # So that interpolation does not have nan\n",
    "y = np.linspace(-L/2,L/2,N_grid,endpoint=False)+L/N_grid/2\n",
    "x_tile, y_tile = np.meshgrid(x, y)\n",
    "omega = (9.8*kx)**0.5 # frequency based on kx or kmod\n",
    "phase = -kx*xb+omega*tb\n",
    "eta_tile = np.zeros(x_tile.shape)\n",
    "t = 0\n",
    "for i1 in range(0,N_grid):\n",
    "    for i2 in range(0,N_grid):\n",
    "        ampl = (2*F_kx*dkx)**0.5 # Why is this different!!!!!!!\n",
    "        # How to exactly represent integrate over dk_x*dk_y*eta_hat?\n",
    "        # mode = (F_kdirectional**0.5)*np.cos((kx_tile*x_tile[i1,i2]+ky_tile*y_tile[i1,i2])+\n",
    "        #                                    phase_tile)*(kmod_tile*(kmod[1]-kmod[0])*(theta[1]-theta[0])) # uniform space in k and theta\n",
    "        a = (kx*x_tile[i1,i2])-omega*t+phase\n",
    "        mode = ampl*(np.cos(a)) # uniform space in kx and ky\n",
    "#         mode = 1/64*0.5*((F_kmodtheta_tile)**0.5)*np.cos((kx_tile*x_tile[i1,i2]+ky_tile*y_tile[i1,i2])+\n",
    "#                                    phase_tile)*(kx[1]-kx[0]) # uniform space in kx and ky\n",
    "        # The factor 0.5 is added so that the following check equals, not sure why yet...\n",
    "        eta_tile[i1,i2] = np.sum(mode)   "
   ]
  },
  {
   "cell_type": "code",
   "execution_count": 151,
   "metadata": {},
   "outputs": [
    {
     "name": "stdout",
     "output_type": "stream",
     "text": [
      "0.023564242475292933\n",
      "0.023564242475292943\n",
      "0.0964509722589644\n",
      "1.0408340855860843e-17\n"
     ]
    }
   ],
   "source": [
    "'''\n",
    "    Check that calculation of F(kmod) is consistent by comparing integration of F(kmod) and mean square\n",
    "    of the initial eta field.\n",
    "'''\n",
    "dx = L/N_grid\n",
    "F_integrated = np.sum(F_kx)*(kx[1]-kx[0]) # Integration over kx ky is easier\n",
    "print(F_integrated)\n",
    "print(np.sum((eta_tile-np.average(eta_tile))**2)/(L**2)*dx*dx)# Notice the Delta x normalization\n",
    "print(np.std(eta_tile)*kp)\n",
    "print(np.average(eta_tile))"
   ]
  },
  {
   "cell_type": "code",
   "execution_count": 226,
   "metadata": {},
   "outputs": [
    {
     "data": {
      "text/plain": [
       "Text(0, 0.5, 'F(kx)')"
      ]
     },
     "execution_count": 226,
     "metadata": {},
     "output_type": "execute_result"
    },
    {
     "data": {
      "image/png": "[encoded data removed]",
      "text/plain": [
       "<Figure size 432x288 with 1 Axes>"
      ]
     },
     "metadata": {
      "needs_background": "light"
     },
     "output_type": "display_data"
    }
   ],
   "source": [
    "'''\n",
    "    Check the initial spectrum.\n",
    "'''\n",
    "spectrum = np.fft.fft(eta_tile[127,:])*(1/256)\n",
    "F = np.absolute(spectrum)\n",
    "F = np.fft.fftshift(F)\n",
    "dx = 50./256.\n",
    "kx = np.linspace(-np.pi / dx, np.pi / dx, 256)\n",
    "plt.plot(kx[128:160], F[128:160])\n",
    "plt.xlabel('kx')\n",
    "plt.ylabel('F(kx)')"
   ]
  },
  {
   "cell_type": "code",
   "execution_count": 230,
   "metadata": {},
   "outputs": [
    {
     "name": "stdout",
     "output_type": "stream",
     "text": [
      "0.21902354687214023\n"
     ]
    },
    {
     "data": {
      "image/png": "[encoded data removed]",
      "text/plain": [
       "<Figure size 720x288 with 2 Axes>"
      ]
     },
     "metadata": {
      "needs_background": "light"
     },
     "output_type": "display_data"
    }
   ],
   "source": [
    "from mpl_toolkits.axes_grid1 import ImageGrid\n",
    "fig = plt.figure(figsize=(10,4))\n",
    "grid = ImageGrid(fig, 111,          # as in plt.subplot(111)\n",
    "                 nrows_ncols=(1,1),\n",
    "                 axes_pad=0.15,\n",
    "                 share_all=True,\n",
    "                 cbar_location=\"right\",\n",
    "                 cbar_mode=\"single\",\n",
    "                 cbar_size=\"7%\",\n",
    "                 cbar_pad=0.15,\n",
    "                 )\n",
    "pcontour = grid[0].imshow(eta_tile)\n",
    "# pcontour = grid[0].imshow(eta_tile_higher*kp)\n",
    "grid[0].cax.colorbar(pcontour)\n",
    "print(np.max(eta_tile*kp))"
   ]
  },
  {
   "cell_type": "code",
   "execution_count": 225,
   "metadata": {},
   "outputs": [
    {
     "data": {
      "text/plain": [
       "Text(0.5, 1.0, 'linear at t=25')"
      ]
     },
     "execution_count": 225,
     "metadata": {},
     "output_type": "execute_result"
    },
    {
     "data": {
      "image/png": "[encoded data removed]",
      "text/plain": [
       "<Figure size 432x288 with 1 Axes>"
      ]
     },
     "metadata": {
      "needs_background": "light"
     },
     "output_type": "display_data"
    }
   ],
   "source": [
    "pcontour = plt.imshow(eta_tile, vmax=0.4, vmin=-0.4)\n",
    "plt.axis('off')\n",
    "# grid[0].cax.colorbar(pcontour)\n",
    "# grid[0].axis('off')\n",
    "plt.title('linear at t=25')"
   ]
  },
  {
   "cell_type": "code",
   "execution_count": 161,
   "metadata": {},
   "outputs": [],
   "source": [
    "'''\n",
    "    Output eta to file\n",
    "'''\n",
    "feta = open(\"/home/jiarong/research/projects/multilayer/testing/multigrid_changeheader/trial24/pre/eta\", 'bw')\n",
    "eta_output = eta_tile.astype('float32'); eta_output.tofile(feta)"
   ]
  },
  {
   "cell_type": "code",
   "execution_count": 162,
   "metadata": {},
   "outputs": [
    {
     "name": "stderr",
     "output_type": "stream",
     "text": [
      "100%|██████████| 30/30 [00:59<00:00,  2.00s/it]\n"
     ]
    }
   ],
   "source": [
    "'''\n",
    "    A second way of initializing velocity. Adding an actual z option. \n",
    "    Interpolate onto a higher level grid without introducing more higher wavenumber modes.\n",
    "'''\n",
    "zb = -5; z_tile = zb*np.ones(x_tile.shape) # computational domain bottom position\n",
    "N_layer = 30 # Number of layers used \n",
    "h_tile = eta_tile/N_layer # height of each layer (uniformly divided)\n",
    "g = 9.8\n",
    "u_tile = np.zeros(x_tile.shape); v_tile = np.zeros(x_tile.shape); w_tile = np.zeros(x_tile.shape)\n",
    "u_set = []; v_set = []; w_set = []; z_set=[] # For sanity checks\n",
    "for l in tqdm(range(0, N_layer)):\n",
    "    u_tile, v_tile, w_tile = np.zeros(x_tile.shape), np.zeros(x_tile.shape), np.zeros(x_tile.shape)\n",
    "    z_tile = z_tile + (eta_tile-zb)/N_layer/2\n",
    "    for i1 in range(0,N_grid):\n",
    "        for i2 in range(0,N_grid):\n",
    "            ampl = (2*F_kx*dkx)**0.5\n",
    "            actual_z_tile = np.minimum(ampl, np.ones(ampl.shape)*z_tile[i1,i2]) # Element wise comparison\n",
    "            a = (kx*x_tile[i1,i2])+phase\n",
    "            mode = ampl*(np.cos(a))\n",
    "            # u = \\sqrt{gk}*A*sin(kx-wt), but also need to consider direction cos(theta)\n",
    "            u_mode = (g*kx)**0.5*ampl*np.exp(kx*actual_z_tile)*np.cos(a)\n",
    "            v_mode = (g*kx)**0.5*ampl*np.exp(kx*actual_z_tile)*np.cos(a)*0\n",
    "            w_mode = (g*kx)**0.5*ampl*np.exp(kx*actual_z_tile)*np.sin(a)\n",
    "            u_tile[i1,i2] = np.sum(u_mode); v_tile[i1,i2] = np.sum(v_mode); w_tile[i1,i2] = np.sum(w_mode)\n",
    "#     u_tile_higher = griddata((x_tile.ravel(),y_tile.ravel()), u_tile.ravel(), (x_tile_higher, y_tile_higher), method='linear')\n",
    "#     v_tile_higher = griddata((x_tile.ravel(),y_tile.ravel()), v_tile.ravel(), (x_tile_higher, y_tile_higher), method='linear')\n",
    "#     w_tile_higher = griddata((x_tile.ravel(),y_tile.ravel()), w_tile.ravel(), (x_tile_higher, y_tile_higher), method='linear')\n",
    "    u_set.append(u_tile); v_set.append(v_tile); w_set.append(w_tile); z_set.append(z_tile)\n",
    "    fu = open(\"/home/jiarong/research/projects/multilayer/testing/multigrid_changeheader/trial24/pre/u_layer%g\" %l, \"bw\")\n",
    "    u_output = u_tile.astype('float32'); u_output.tofile(fu)\n",
    "    fv = open(\"/home/jiarong/research/projects/multilayer/testing/multigrid_changeheader/trial24/pre/v_layer%g\" %l, \"bw\")\n",
    "    v_output = v_tile.astype('float32'); v_output.tofile(fv)\n",
    "    fw = open(\"/home/jiarong/research/projects/multilayer/testing/multigrid_changeheader/trial24/pre/w_layer%g\" %l, \"bw\")\n",
    "    w_output = w_tile.astype('float32'); w_output.tofile(fw)\n",
    "    z_tile = z_tile + (eta_tile-zb)/N_layer/2"
   ]
  },
  {
   "cell_type": "code",
   "execution_count": 232,
   "metadata": {},
   "outputs": [
    {
     "name": "stdout",
     "output_type": "stream",
     "text": [
      "0.2610234704919623\n",
      "0.2559000952425397\n",
      "-245.00000000000003\n"
     ]
    }
   ],
   "source": [
    "'''\n",
    "    Check KE and GPE equal partition.\n",
    "'''\n",
    "gpe = 0.5*np.sum(eta_tile**2)*(1/N_grid)**2*9.8\n",
    "print(gpe)\n",
    "ke = 0\n",
    "gpe_int = 0\n",
    "for ilayer in range(0,N_layer):\n",
    "    # Kinetic energy is integrated along the depth thus zb/N_layer\n",
    "    ke += (np.sum(u_set[ilayer]**2)+np.sum(v_set[ilayer]**2)+np.sum(w_set[ilayer]**2))*(1/N_grid)**2*(0-zb)/N_layer\n",
    "    gpe_int += np.sum(z_set[ilayer])*(1/N_grid)**2*(0-zb)/N_layer\n",
    "ke = 0.5*ke\n",
    "print(ke)\n",
    "gpe_baseline = 0.5*zb**2\n",
    "print((gpe_int-gpe_baseline)*9.8)"
   ]
  },
  {
   "cell_type": "code",
   "execution_count": null,
   "metadata": {},
   "outputs": [],
   "source": []
  },
  {
   "cell_type": "code",
   "execution_count": null,
   "metadata": {},
   "outputs": [],
   "source": []
  }
 ],
 "metadata": {
  "kernelspec": {
   "display_name": "Python 3",
   "language": "python",
   "name": "python3"
  },
  "language_info": {
   "codemirror_mode": {
    "name": "ipython",
    "version": 3
   },
   "file_extension": ".py",
   "mimetype": "text/x-python",
   "name": "python",
   "nbconvert_exporter": "python",
   "pygments_lexer": "ipython3",
   "version": "3.7.3"
  }
 },
 "nbformat": 4,
 "nbformat_minor": 2
}
