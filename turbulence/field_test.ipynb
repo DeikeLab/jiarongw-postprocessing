{
 "cells": [
  {
   "cell_type": "code",
   "execution_count": 1,
   "metadata": {},
   "outputs": [],
   "source": [
    "import pandas as pd\n",
    "import numpy as np\n",
    "import math\n",
    "from matplotlib import pyplot as plt\n",
    "import os\n",
    "import sys\n",
    "import pickle\n",
    "sys.path.append('/home/jiarong/research/postprocessing/functions/')\n",
    "from TurStat import TurStat"
   ]
  },
  {
   "cell_type": "code",
   "execution_count": 2,
   "metadata": {},
   "outputs": [],
   "source": [
    "# Assemble the data in the form of x, y, z, t, quantities\n",
    "os.chdir('/home/jiarong/research/projects/turbulence/preliminary_cluster/stopforcing_restore_second')\n",
    "(field, tset, ptnum) = pickle.load( open( \"ensemble\", \"rb\" ) )"
   ]
  },
  {
   "cell_type": "code",
   "execution_count": 3,
   "metadata": {},
   "outputs": [],
   "source": [
    "Stat1 = TurStat(field, tset)"
   ]
  },
  {
   "cell_type": "code",
   "execution_count": 13,
   "metadata": {},
   "outputs": [
    {
     "data": {
      "text/plain": [
       "[<matplotlib.lines.Line2D at 0x7f15b1c36c50>]"
      ]
     },
     "execution_count": 13,
     "metadata": {},
     "output_type": "execute_result"
    },
    {
     "data": {
      "image/png": "[encoded data removed]",
      "text/plain": [
       "<Figure size 432x288 with 1 Axes>"
      ]
     },
     "metadata": {
      "needs_background": "light"
     },
     "output_type": "display_data"
    }
   ],
   "source": [
    "Stat1.ensemble_aver()\n",
    "from Slicing import Slicing\n",
    "slicer_en_aver = Slicing(Stat1.field_en_aver, dimension = 3)\n",
    "\n",
    "# Still needs testing\n",
    "slicer_en_aver.get_grid_set('y')\n",
    "ux_aver = np.zeros(len(slicer_en_aver.grid_set))\n",
    "for j, y in enumerate(slicer_en_aver.grid_set):\n",
    "    ux_aver[j], fluc, number = slicer_en_aver.statistics('y', y, header = 'u.x')\n",
    "#     ux_aver[j], __, __ = filename.rpartition('.')\n",
    "plt.plot(ux_aver, slicer_en_aver.grid_set, '.')"
   ]
  },
  {
   "cell_type": "code",
   "execution_count": null,
   "metadata": {},
   "outputs": [],
   "source": [
    "# Compute fluctuation <uw>"
   ]
  },
  {
   "cell_type": "code",
   "execution_count": null,
   "metadata": {},
   "outputs": [],
   "source": []
  },
  {
   "cell_type": "markdown",
   "metadata": {},
   "source": [
    "### Fit the Law of Wall\n",
    "$\\nu_{a}$ = 16.6/RE  \n",
    "RE = 4000:  $\\nu$ = 4.1545e-4  \n",
    "RE = 40000:  $\\nu$ = 4.1545e-5  \n",
    "$u^{*2} = \\nu \\frac{\\partial U}{\\partial y}$  = 0.0113, the viscous velocity scale  \n",
    "$\\delta_{\\nu} = \\nu / u^{*}$ = 4.1545e-5/0.0113 = 0.003, the viscous length scale"
   ]
  },
  {
   "cell_type": "code",
   "execution_count": 6,
   "metadata": {},
   "outputs": [],
   "source": [
    "y = np.array(slicer_en_aver.grid_set)\n",
    "u_star = ((ux_aver[1] - ux_aver[0]) / (y[1] - y[0]) * 4.1545e-5) ** 0.5\n",
    "u_plus = ux_aver/u_star\n",
    "y_plus = y*u_star/4.1545e-5"
   ]
  },
  {
   "cell_type": "code",
   "execution_count": 11,
   "metadata": {},
   "outputs": [
    {
     "data": {
      "image/png": "[encoded data removed]",
      "text/plain": [
       "<Figure size 432x288 with 1 Axes>"
      ]
     },
     "metadata": {
      "needs_background": "light"
     },
     "output_type": "display_data"
    }
   ],
   "source": [
    "plt.plot(y_plus[0:16], u_plus[0:16], '.')\n",
    "plt.xscale('log')"
   ]
  },
  {
   "cell_type": "code",
   "execution_count": 12,
   "metadata": {},
   "outputs": [
    {
     "name": "stdout",
     "output_type": "stream",
     "text": [
      "0.045245274208655324 -48.788814158141044\n"
     ]
    },
    {
     "data": {
      "image/png": "[encoded data removed]",
      "text/plain": [
       "<Figure size 432x288 with 1 Axes>"
      ]
     },
     "metadata": {
      "needs_background": "light"
     },
     "output_type": "display_data"
    }
   ],
   "source": [
    "y = y_plus[4:10]\n",
    "u = u_plus[4:10]\n",
    "plt.plot(np.log(y), u)\n",
    "a, b = np.polyfit(np.log(y), u, 1)\n",
    "print(1/a, b)"
   ]
  },
  {
   "cell_type": "code",
   "execution_count": null,
   "metadata": {},
   "outputs": [],
   "source": []
  }
 ],
 "metadata": {
  "kernelspec": {
   "display_name": "Python 3",
   "language": "python",
   "name": "python3"
  },
  "language_info": {
   "codemirror_mode": {
    "name": "ipython",
    "version": 3
   },
   "file_extension": ".py",
   "mimetype": "text/x-python",
   "name": "python",
   "nbconvert_exporter": "python",
   "pygments_lexer": "ipython3",
   "version": "3.7.3"
  }
 },
 "nbformat": 4,
 "nbformat_minor": 2
}
