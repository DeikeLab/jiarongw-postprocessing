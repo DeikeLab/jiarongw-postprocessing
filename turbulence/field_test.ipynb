{
 "cells": [
  {
   "cell_type": "code",
   "execution_count": 2,
   "metadata": {},
   "outputs": [],
   "source": [
    "import pandas as pd\n",
    "import numpy as np\n",
    "import math\n",
    "from matplotlib import pyplot as plt\n",
    "import os\n",
    "import sys\n",
    "import pickle\n",
    "from tqdm import tqdm\n",
    "sys.path.append('/home/jiarong/research/postprocessing/functions/')\n",
    "from TurStat import TurStat"
   ]
  },
  {
   "cell_type": "code",
   "execution_count": 3,
   "metadata": {},
   "outputs": [],
   "source": [
    "# Assemble the data in the form of x, y, z, t, quantities\n",
    "os.chdir('/home/jiarong/research/projects/turbulence/preliminary_cluster/stopforcing_restore_second')\n",
    "(fieldset, tset, ptnum) = pickle.load( open( \"ensemble\", \"rb\" ) )"
   ]
  },
  {
   "cell_type": "code",
   "execution_count": 4,
   "metadata": {},
   "outputs": [],
   "source": [
    "Stat1 = TurStat(fieldset, tset)"
   ]
  },
  {
   "cell_type": "code",
   "execution_count": 5,
   "metadata": {},
   "outputs": [
    {
     "name": "stdout",
     "output_type": "stream",
     "text": [
      "not stripped: 16384\n",
      "stripped: 10404\n",
      "not stripped: 16384\n",
      "stripped: 10404\n",
      "not stripped: 16384\n",
      "stripped: 10404\n",
      "not stripped: 16384\n",
      "stripped: 10404\n",
      "not stripped: 16384\n",
      "stripped: 10404\n",
      "not stripped: 16384\n",
      "stripped: 10404\n",
      "not stripped: 16384\n",
      "stripped: 10404\n",
      "not stripped: 16384\n",
      "stripped: 10404\n",
      "not stripped: 16384\n",
      "stripped: 10404\n",
      "not stripped: 16384\n",
      "stripped: 10404\n",
      "not stripped: 16384\n",
      "stripped: 10404\n",
      "not stripped: 16384\n",
      "stripped: 10404\n",
      "not stripped: 16384\n",
      "stripped: 10404\n",
      "not stripped: 16384\n",
      "stripped: 10404\n",
      "not stripped: 16384\n",
      "stripped: 10404\n",
      "not stripped: 16384\n",
      "stripped: 10404\n",
      "not stripped: 16384\n",
      "stripped: 10404\n",
      "not stripped: 16384\n",
      "stripped: 10404\n",
      "not stripped: 16384\n",
      "stripped: 10404\n",
      "not stripped: 16384\n",
      "stripped: 10404\n",
      "not stripped: 16384\n",
      "stripped: 10404\n",
      "not stripped: 16384\n",
      "stripped: 10404\n",
      "not stripped: 16384\n",
      "stripped: 10404\n",
      "not stripped: 16384\n",
      "stripped: 10404\n",
      "not stripped: 16384\n",
      "stripped: 10404\n",
      "not stripped: 16384\n",
      "stripped: 10404\n",
      "not stripped: 16384\n",
      "stripped: 10404\n",
      "not stripped: 16384\n",
      "stripped: 10404\n",
      "not stripped: 16384\n",
      "stripped: 10404\n",
      "not stripped: 16384\n",
      "stripped: 10404\n",
      "not stripped: 16384\n",
      "stripped: 10404\n",
      "not stripped: 16384\n",
      "stripped: 10404\n",
      "not stripped: 16384\n",
      "stripped: 10404\n",
      "not stripped: 16384\n",
      "stripped: 10404\n",
      "not stripped: 16384\n",
      "stripped: 10404\n",
      "not stripped: 16384\n",
      "stripped: 10404\n",
      "not stripped: 16384\n",
      "stripped: 10404\n",
      "not stripped: 16384\n",
      "stripped: 10404\n",
      "not stripped: 16384\n",
      "stripped: 10404\n",
      "not stripped: 16384\n",
      "stripped: 10404\n",
      "not stripped: 16384\n",
      "stripped: 10404\n",
      "not stripped: 16384\n",
      "stripped: 10404\n",
      "not stripped: 16384\n",
      "stripped: 10404\n",
      "not stripped: 16384\n",
      "stripped: 10404\n",
      "not stripped: 16384\n",
      "stripped: 10404\n",
      "not stripped: 16384\n",
      "stripped: 10404\n",
      "not stripped: 16384\n",
      "stripped: 10404\n",
      "not stripped: 16384\n",
      "stripped: 10404\n",
      "not stripped: 16384\n",
      "stripped: 10404\n",
      "not stripped: 16384\n",
      "stripped: 10404\n",
      "not stripped: 16384\n",
      "stripped: 10404\n",
      "not stripped: 16384\n",
      "stripped: 10404\n",
      "not stripped: 16384\n",
      "stripped: 10404\n",
      "not stripped: 16384\n",
      "stripped: 10404\n",
      "not stripped: 16384\n",
      "stripped: 10404\n",
      "not stripped: 16384\n",
      "stripped: 10404\n",
      "not stripped: 16384\n",
      "stripped: 10404\n",
      "not stripped: 16384\n",
      "stripped: 10404\n",
      "not stripped: 16384\n",
      "stripped: 10404\n",
      "not stripped: 16384\n",
      "stripped: 10404\n",
      "not stripped: 16384\n",
      "stripped: 10404\n",
      "not stripped: 16384\n",
      "stripped: 10404\n",
      "not stripped: 16384\n",
      "stripped: 10404\n",
      "not stripped: 16384\n",
      "stripped: 10404\n"
     ]
    },
    {
     "data": {
      "text/plain": [
       "[<matplotlib.lines.Line2D at 0x7f609e6674a8>]"
      ]
     },
     "execution_count": 5,
     "metadata": {},
     "output_type": "execute_result"
    },
    {
     "data": {
      "image/png": "[encoded data removed]",
      "text/plain": [
       "<Figure size 432x288 with 1 Axes>"
      ]
     },
     "metadata": {
      "needs_background": "light"
     },
     "output_type": "display_data"
    }
   ],
   "source": [
    "Stat1.ensemble_aver()\n",
    "from Slicing import Slicing\n",
    "slicer_en_aver = Slicing(Stat1.field_en_aver, dimension = 3)\n",
    "\n",
    "# Still needs testing\n",
    "slicer_en_aver.get_grid_set('y')\n",
    "ux_aver = np.zeros(len(slicer_en_aver.grid_set))\n",
    "for j, y in enumerate(slicer_en_aver.grid_set):\n",
    "    ux_aver[j], fluc, number = slicer_en_aver.statistics('y', y, header = 'u.x')\n",
    "    print(\"not stripped: %g\" %number)\n",
    "    ux_aver[j], fluc, number = slicer_en_aver.statistics('y', y, header= 'u.x', stripping = True,\n",
    "                                                        strip_range = [[-0.8, 0.8], [-0.8, 0.8]])\n",
    "    print(\"stripped: %g\" %number)\n",
    "    \n",
    "#     ux_aver[j], __, __ = filename.rpartition('.')\n",
    "plt.plot(ux_aver, slicer_en_aver.grid_set, '.')"
   ]
  },
  {
   "cell_type": "code",
   "execution_count": 6,
   "metadata": {},
   "outputs": [],
   "source": [
    "y = np.array(slicer_en_aver.grid_set)\n",
    "u_star = ((ux_aver[1] - ux_aver[0]) / (y[1] - y[0]) * 4.1545e-5) ** 0.5\n",
    "u_plus = ux_aver/u_star\n",
    "y_plus = y*u_star/4.1545e-5"
   ]
  },
  {
   "cell_type": "code",
   "execution_count": 7,
   "metadata": {},
   "outputs": [
    {
     "name": "stderr",
     "output_type": "stream",
     "text": [
      "100%|██████████| 50/50 [00:11<00:00,  4.18it/s]\n"
     ]
    }
   ],
   "source": [
    "# Compute fluctuation <uw>\n",
    "from Slicing import Slicing\n",
    "def uv(field):\n",
    "    '''\n",
    "    One of many function that define desirable field. Use with function ensemble_aver_quantity.\n",
    "    Takes in a field. Return a quantity of that field, be it a scalar or an array.\n",
    "    In this case, returns the value of uv at different y.\n",
    "    '''\n",
    "    # Add a column of uv\n",
    "    field['uv'] = field['u.x'].multiply(field['u.y'])\n",
    "    slicer = Slicing(field, 3)\n",
    "    slicer.get_grid_set('y')\n",
    "    a = np.zeros(len(slicer.grid_set))\n",
    "    for i, y in enumerate(slicer.grid_set):\n",
    "        # Slice through y direction\n",
    "        (aver,fluc,number) = slicer.statistics('y', y, clearance = 1e-8, header = 'uv')\n",
    "        a[i] = aver\n",
    "    return a\n",
    "uv_array1 = Stat1.ensemble_aver_quantity(uv)"
   ]
  },
  {
   "cell_type": "code",
   "execution_count": 7,
   "metadata": {},
   "outputs": [
    {
     "name": "stderr",
     "output_type": "stream",
     "text": [
      "100%|██████████| 50/50 [00:16<00:00,  3.09it/s]\n"
     ]
    }
   ],
   "source": [
    "def uv_stripping(field):\n",
    "    '''\n",
    "    One of many function that define desirable field. Use with function ensemble_aver_quantity.\n",
    "    Takes in a field. Return a quantity of that field, be it a scalar or an array.\n",
    "    In this case, returns the value of uv at different y.\n",
    "    '''\n",
    "    # Add a column of uv\n",
    "    field['uv'] = field['u.x'].multiply(field['u.y'])\n",
    "    slicer = Slicing(field, 3)\n",
    "    slicer.get_grid_set('y')\n",
    "    a = np.zeros(len(slicer.grid_set))\n",
    "    area = [[-0.9, 0.9], [-0.9, 0.9]]\n",
    "    for i, y in enumerate(slicer.grid_set):\n",
    "        # Slice through y direction\n",
    "        (aver,fluc,number) = slicer.statistics('y', y, clearance = 1e-8, header = 'uv', stripping = True,\n",
    "                                                        strip_range = area)\n",
    "        a[i] = aver\n",
    "    return a\n",
    "uv_array2 = Stat1.ensemble_aver_quantity(uv_stripping)"
   ]
  },
  {
   "cell_type": "code",
   "execution_count": 8,
   "metadata": {},
   "outputs": [],
   "source": [
    "from matplotlib import rc\n",
    "# rc('font',**{'family':'sans-serif','sans-serif':['Helvetica']})\n",
    "rc('font',**{'family':'serif','serif':['Palatino']})\n",
    "rc('text', usetex=True)"
   ]
  },
  {
   "cell_type": "code",
   "execution_count": 27,
   "metadata": {},
   "outputs": [
    {
     "data": {
      "text/plain": [
       "<matplotlib.legend.Legend at 0x7ff8a863d588>"
      ]
     },
     "execution_count": 27,
     "metadata": {},
     "output_type": "execute_result"
    },
    {
     "data": {
      "image/png": "[encoded data removed]",
      "text/plain": [
       "<Figure size 432x288 with 1 Axes>"
      ]
     },
     "metadata": {
      "needs_background": "light"
     },
     "output_type": "display_data"
    }
   ],
   "source": [
    "plt.plot(uv_array1/(u_star**2), slicer_en_aver.grid_set, label = 'no stripping')\n",
    "plt.plot(uv_array2/(u_star**2), slicer_en_aver.grid_set, label = 'stripping, [-0.9, 0.9]')\n",
    "plt.xlabel(r'$<uw>/u^{*2}$', fontsize = 14)\n",
    "plt.ylabel('z', fontsize = 14)\n",
    "plt.legend(fontsize = 14)"
   ]
  },
  {
   "cell_type": "code",
   "execution_count": 13,
   "metadata": {},
   "outputs": [
    {
     "name": "stderr",
     "output_type": "stream",
     "text": [
      "100%|██████████| 50/50 [00:11<00:00,  4.76it/s]\n"
     ]
    }
   ],
   "source": [
    "def u(field):\n",
    "    '''\n",
    "    One of many function that define desirable field. Use with function ensemble_aver_quantity.\n",
    "    Takes in a field. Return a quantity of that field, be it a scalar or an array.\n",
    "    In this case, returns the value of uv at different y.\n",
    "    '''\n",
    "    slicer = Slicing(field, 3)\n",
    "    slicer.get_grid_set('y')\n",
    "    a = np.zeros(len(slicer.grid_set))\n",
    "    for i, y in enumerate(slicer.grid_set):\n",
    "        # Slice through y direction\n",
    "        (aver,fluc,number) = slicer.statistics('y', y, clearance = 1e-8, header = 'u.x')\n",
    "        a[i] = aver\n",
    "    return a\n",
    "u_array = Stat1.ensemble_aver_quantity(u)\n",
    "tau1 = np.gradient(u_array, slicer_en_aver.grid_set)"
   ]
  },
  {
   "cell_type": "code",
   "execution_count": 14,
   "metadata": {},
   "outputs": [
    {
     "name": "stderr",
     "output_type": "stream",
     "text": [
      "100%|██████████| 50/50 [00:15<00:00,  3.24it/s]\n"
     ]
    }
   ],
   "source": [
    "def u_stripping(field):\n",
    "    '''\n",
    "    One of many function that define desirable field. Use with function ensemble_aver_quantity.\n",
    "    Takes in a field. Return a quantity of that field, be it a scalar or an array.\n",
    "    In this case, returns the value of uv at different y.\n",
    "    '''\n",
    "    slicer = Slicing(field, 3)\n",
    "    slicer.get_grid_set('y')\n",
    "    a = np.zeros(len(slicer.grid_set))\n",
    "    for i, y in enumerate(slicer.grid_set):\n",
    "        # Slice through y direction\n",
    "        (aver,fluc,number) = slicer.statistics('y', y, clearance = 1e-8, header = 'u.x', stripping = True,\n",
    "                                                        strip_range = [[-0.8, 0.8], [-0.8, 0.8]])\n",
    "        a[i] = aver\n",
    "    return a\n",
    "u_array = Stat1.ensemble_aver_quantity(u_stripping)\n",
    "tau2 = np.gradient(u_array, slicer_en_aver.grid_set)"
   ]
  },
  {
   "cell_type": "code",
   "execution_count": 30,
   "metadata": {},
   "outputs": [
    {
     "data": {
      "text/plain": [
       "<matplotlib.legend.Legend at 0x7ff8a8534e10>"
      ]
     },
     "execution_count": 30,
     "metadata": {},
     "output_type": "execute_result"
    },
    {
     "data": {
      "image/png": "[encoded data removed]",
      "text/plain": [
       "<Figure size 432x288 with 1 Axes>"
      ]
     },
     "metadata": {
      "needs_background": "light"
     },
     "output_type": "display_data"
    }
   ],
   "source": [
    "plt.plot(-tau1*4.1545e-5/(u_star**2), slicer_en_aver.grid_set, label = 'no stripping')\n",
    "plt.plot(-tau2*4.1545e-5/(u_star**2), slicer_en_aver.grid_set, label = 'stripping')\n",
    "plt.xlabel(r'-$\\nu\\frac{\\partial \\bar{u}}{\\partial z} / u^{*2}$', fontsize = 14)\n",
    "plt.ylabel('z', fontsize = 14)\n",
    "plt.legend(fontsize = 14)"
   ]
  },
  {
   "cell_type": "markdown",
   "metadata": {},
   "source": [
    "### Fit the Law of Wall\n",
    "$\\nu_{a}$ = 16.6/RE  \n",
    "RE = 4000:  $\\nu$ = 4.1545e-4  \n",
    "RE = 40000:  $\\nu$ = 4.1545e-5  \n",
    "$u^{*2} = \\nu \\frac{\\partial U}{\\partial y}$  = 0.0113, the viscous velocity scale  \n",
    "$\\delta_{\\nu} = \\nu / u^{*}$ = 4.1545e-5/0.0113 = 0.003, the viscous length scale"
   ]
  },
  {
   "cell_type": "code",
   "execution_count": 8,
   "metadata": {},
   "outputs": [
    {
     "data": {
      "text/plain": [
       "2.713774028316498"
      ]
     },
     "execution_count": 8,
     "metadata": {},
     "output_type": "execute_result"
    }
   ],
   "source": [
    "(ux_aver[1] - ux_aver[0]) / (y[1] - y[0])"
   ]
  },
  {
   "cell_type": "code",
   "execution_count": 9,
   "metadata": {},
   "outputs": [],
   "source": [
    "y = np.array(slicer_en_aver.grid_set)\n",
    "u_star = ((ux_aver[1] - ux_aver[0]) / (y[1] - y[0]) * 4.1545e-5) ** 0.5\n",
    "u_plus = ux_aver/u_star\n",
    "y_plus = y*u_star/4.1545e-5"
   ]
  },
  {
   "cell_type": "code",
   "execution_count": 11,
   "metadata": {},
   "outputs": [
    {
     "data": {
      "image/png": "[encoded data removed]",
      "text/plain": [
       "<Figure size 432x288 with 1 Axes>"
      ]
     },
     "metadata": {
      "needs_background": "light"
     },
     "output_type": "display_data"
    }
   ],
   "source": [
    "plt.plot(y_plus[0:16], u_plus[0:16], '.')\n",
    "plt.xscale('log')"
   ]
  },
  {
   "cell_type": "code",
   "execution_count": 21,
   "metadata": {},
   "outputs": [
    {
     "name": "stdout",
     "output_type": "stream",
     "text": [
      "0.045543225208597195 -47.96033541035282\n"
     ]
    },
    {
     "data": {
      "image/png": "[encoded data removed]",
      "text/plain": [
       "<Figure size 432x288 with 1 Axes>"
      ]
     },
     "metadata": {
      "needs_background": "light"
     },
     "output_type": "display_data"
    }
   ],
   "source": [
    "y = y_plus[4:10]\n",
    "u = u_plus[4:10]\n",
    "plt.plot(np.log(y), u)\n",
    "a, b = np.polyfit(np.log(y), u, 1)\n",
    "print(1/a, b)"
   ]
  },
  {
   "cell_type": "code",
   "execution_count": 15,
   "metadata": {},
   "outputs": [
    {
     "name": "stdout",
     "output_type": "stream",
     "text": [
      "0.2331430319365023 0.7831900389771522\n"
     ]
    },
    {
     "data": {
      "image/png": "[encoded data removed]",
      "text/plain": [
       "<Figure size 432x288 with 1 Axes>"
      ]
     },
     "metadata": {
      "needs_background": "light"
     },
     "output_type": "display_data"
    }
   ],
   "source": [
    "plt.plot(np.log(y), ux_aver, '.')\n",
    "a, b = np.polyfit(np.log(y)[4:10], ux_aver[4:10], 1)\n",
    "print(a, b)"
   ]
  },
  {
   "cell_type": "code",
   "execution_count": null,
   "metadata": {},
   "outputs": [],
   "source": [
    "SMALL_SIZE = 8\n",
    "MEDIUM_SIZE = 10\n",
    "BIGGER_SIZE = 12\n",
    "\n",
    "plt.rc('font', size=SMALL_SIZE)          # controls default text sizes\n",
    "plt.rc('axes', titlesize=SMALL_SIZE)     # fontsize of the axes title\n",
    "plt.rc('axes', labelsize=MEDIUM_SIZE)    # fontsize of the x and y labels\n",
    "plt.rc('xtick', labelsize=SMALL_SIZE)    # fontsize of the tick labels\n",
    "plt.rc('ytick', labelsize=SMALL_SIZE)    # fontsize of the tick labels\n",
    "plt.rc('legend', fontsize=SMALL_SIZE)    # legend fontsize\n",
    "plt.rc('figure', titlesize=BIGGER_SIZE)  # fontsize of the figure title\n",
    "\n",
    "import matplotlib\n",
    "SMALL_SIZE = 8\n",
    "matplotlib.rc('font', size=SMALL_SIZE)\n",
    "matplotlib.rc('axes', titlesize=SMALL_SIZE)"
   ]
  },
  {
   "cell_type": "code",
   "execution_count": 33,
   "metadata": {},
   "outputs": [
    {
     "data": {
      "text/plain": [
       "0.8540800000000001"
      ]
     },
     "execution_count": 33,
     "metadata": {},
     "output_type": "execute_result"
    }
   ],
   "source": [
    "0.136*2*3.14"
   ]
  },
  {
   "cell_type": "code",
   "execution_count": 34,
   "metadata": {},
   "outputs": [
    {
     "data": {
      "text/plain": [
       "0.010618085609299301"
      ]
     },
     "execution_count": 34,
     "metadata": {},
     "output_type": "execute_result"
    }
   ],
   "source": [
    "u_star"
   ]
  },
  {
   "cell_type": "code",
   "execution_count": null,
   "metadata": {},
   "outputs": [],
   "source": []
  }
 ],
 "metadata": {
  "kernelspec": {
   "display_name": "Python 3",
   "language": "python",
   "name": "python3"
  },
  "language_info": {
   "codemirror_mode": {
    "name": "ipython",
    "version": 3
   },
   "file_extension": ".py",
   "mimetype": "text/x-python",
   "name": "python",
   "nbconvert_exporter": "python",
   "pygments_lexer": "ipython3",
   "version": "3.7.3"
  }
 },
 "nbformat": 4,
 "nbformat_minor": 2
}
