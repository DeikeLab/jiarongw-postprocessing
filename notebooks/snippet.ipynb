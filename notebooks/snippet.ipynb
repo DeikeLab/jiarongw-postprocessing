{
 "cells": [
  {
   "cell_type": "markdown",
   "metadata": {},
   "source": [
    "### Critical Layer Curvature and Correlation with Growth Rate"
   ]
  },
  {
   "cell_type": "code",
   "execution_count": null,
   "metadata": {},
   "outputs": [],
   "source": [
    "# Read in the field info\n",
    "field = pd.read_table('../03.25/m0.1B0Ustar0.8ak0.05Bo200Re100000./field1', delimiter = ' ')\n",
    "filename = '../03.25/m0.1B0Ustar0.8ak0.05Bo200Re100000./budgetWaterwind.dat'\n",
    "[energy, total, diss, growth_rate, growth_rate_diss] = energy_process(filename)\n",
    "# Take slices\n",
    "# The zeroth is the table header\n",
    "# If the output density is N = 512, there is 513 points per line, index 0-512 first slice, 513-(513+512) second\n",
    "# Iterate from i*(N+1) to (i+1)*(N+1) (because python doesn't include the last index)\n",
    "N = 2048\n",
    "field_slice1 = field.iloc[(N+1):2*(N+1)]"
   ]
  },
  {
   "cell_type": "code",
   "execution_count": null,
   "metadata": {},
   "outputs": [],
   "source": [
    "# An example of the noisy curvature if use directly the output\n",
    "fig, axes = plt.subplots(1, 3, sharey='row')\n",
    "plt.ylim(-0.1,0.2)\n",
    "# velocity normalized by (g/k)^0.5\n",
    "axes[0].plot(field_slice1['u.x']/(1/(2*math.pi))**0.5, field_slice1['y'])\n",
    "axes[1].plot(field_slice1['FirOrder'], field_slice1['y'])\n",
    "axes[2].plot(field_slice1['SecOrder']/field_slice1['FirOrder'], field_slice1['y'])\n",
    "axes[2].set_xlim([-100, 100])\n",
    "plt.show()"
   ]
  },
  {
   "cell_type": "code",
   "execution_count": null,
   "metadata": {},
   "outputs": [],
   "source": [
    "# Pick out some extreme points in the first order profile\n",
    "# field_slice1_part = field_slice1[abs(field_slice1['FirOrder']) < 40]\n",
    "# curvature = np.gradient(field_slice1_part['FirOrder'], field_slice1_part['y']) / (field_slice1_part['FirOrder'] \n",
    "#                                                                                   + 0.0000001)\n",
    "# fig, axes = plt.subplots(1, 3, sharey='row')\n",
    "# plt.ylim(-0.1,0.2)\n",
    "# axes[0].plot(field_slice1_part['u.x']/(1/(2*math.pi))**0.5, field_slice1_part['y'])\n",
    "# axes[1].plot(field_slice1_part['FirOrder'], field_slice1_part['y'])\n",
    "# axes[2].plot(curvature, field_slice1_part['y'])\n",
    "FirOrder_hat = savgol_filter(field_slice1['FirOrder'], 21, 3)\n",
    "curvature = np.gradient(FirOrder_hat, field_slice1['y']) / (FirOrder_hat + 0.0000001)\n",
    "fig, axes = plt.subplots(1, 3, sharey='row')\n",
    "plt.ylim(-0.1,0.2)\n",
    "axes[0].plot(field_slice1['u.x']/(1/(2*math.pi))**0.5, field_slice1['y'])\n",
    "axes[1].plot(field_slice1['FirOrder'], field_slice1['y'])\n",
    "axes[2].plot(curvature, field_slice1['y'])\n",
    "axes[2].set_xlim([-100, 100])\n",
    "axes[0].set_ylim([-0.02, 0.05])\n",
    "plt.show()"
   ]
  }
 ],
 "metadata": {
  "kernelspec": {
   "display_name": "Python 3",
   "language": "python",
   "name": "python3"
  },
  "language_info": {
   "codemirror_mode": {
    "name": "ipython",
    "version": 3
   },
   "file_extension": ".py",
   "mimetype": "text/x-python",
   "name": "python",
   "nbconvert_exporter": "python",
   "pygments_lexer": "ipython3",
   "version": "3.7.3"
  }
 },
 "nbformat": 4,
 "nbformat_minor": 2
}
