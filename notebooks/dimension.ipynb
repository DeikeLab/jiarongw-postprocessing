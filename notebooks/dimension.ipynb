{
 "cells": [
  {
   "cell_type": "markdown",
   "metadata": {},
   "source": [
    "This is for computing some of the quantities related to non-dimensionalization.\n",
    "\n",
    "$\\nu_{water} = 0.8927\\times10^{-6}$\n",
    "\n",
    "$\\frac{c\\lambda}{\\nu_{water}} = Re = \\frac{\\hat{c}\\hat{\\lambda}}{\\hat{\\nu}_{water}}$\n",
    "\n",
    "$c = \\sqrt{g/k} = \\sqrt{1/2\\pi}, \\nu_{water}=1/Re=1/40000, \\lambda=1 in simulation $\n"
   ]
  },
  {
   "cell_type": "code",
   "execution_count": 3,
   "metadata": {},
   "outputs": [],
   "source": [
    "RE = 40000\n",
    "nu_w = 0.8927*10**(-6)\n",
    "g = 9.8\n",
    "wave_len = (RE*nu_w/(g*2*3.14159)**0.5)**2"
   ]
  },
  {
   "cell_type": "code",
   "execution_count": 4,
   "metadata": {},
   "outputs": [
    {
     "data": {
      "text/plain": [
       "2.070739533880901e-05"
      ]
     },
     "execution_count": 4,
     "metadata": {},
     "output_type": "execute_result"
    }
   ],
   "source": [
    "wave_len"
   ]
  }
 ],
 "metadata": {
  "kernelspec": {
   "display_name": "Python 3",
   "language": "python",
   "name": "python3"
  },
  "language_info": {
   "codemirror_mode": {
    "name": "ipython",
    "version": 3
   },
   "file_extension": ".py",
   "mimetype": "text/x-python",
   "name": "python",
   "nbconvert_exporter": "python",
   "pygments_lexer": "ipython3",
   "version": "3.7.3"
  }
 },
 "nbformat": 4,
 "nbformat_minor": 2
}
